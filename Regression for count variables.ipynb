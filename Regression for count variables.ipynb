{
 "cells": [
  {
   "cell_type": "markdown",
   "metadata": {},
   "source": [
    "## 计数变量回归\n",
    "\n",
    "####  黄荣贵（复旦大学社会学系）"
   ]
  },
  {
   "cell_type": "code",
   "execution_count": 1,
   "metadata": {},
   "outputs": [
    {
     "data": {
      "text/html": [
       "<table>\n",
       "<thead><tr><th scope=col>art</th><th scope=col>fem</th><th scope=col>mar</th><th scope=col>kid5</th><th scope=col>phd</th><th scope=col>ment</th></tr></thead>\n",
       "<tbody>\n",
       "\t<tr><td>0      </td><td>Men    </td><td>Married</td><td>0      </td><td>2.52   </td><td> 7     </td></tr>\n",
       "\t<tr><td>0      </td><td>Women  </td><td>Single </td><td>0      </td><td>2.05   </td><td> 6     </td></tr>\n",
       "\t<tr><td>0      </td><td>Women  </td><td>Single </td><td>0      </td><td>3.75   </td><td> 6     </td></tr>\n",
       "\t<tr><td>0      </td><td>Men    </td><td>Married</td><td>1      </td><td>1.18   </td><td> 3     </td></tr>\n",
       "\t<tr><td>0      </td><td>Women  </td><td>Single </td><td>0      </td><td>3.75   </td><td>26     </td></tr>\n",
       "\t<tr><td>0      </td><td>Women  </td><td>Married</td><td>2      </td><td>3.59   </td><td> 2     </td></tr>\n",
       "</tbody>\n",
       "</table>\n"
      ],
      "text/latex": [
       "\\begin{tabular}{r|llllll}\n",
       " art & fem & mar & kid5 & phd & ment\\\\\n",
       "\\hline\n",
       "\t 0       & Men     & Married & 0       & 2.52    &  7     \\\\\n",
       "\t 0       & Women   & Single  & 0       & 2.05    &  6     \\\\\n",
       "\t 0       & Women   & Single  & 0       & 3.75    &  6     \\\\\n",
       "\t 0       & Men     & Married & 1       & 1.18    &  3     \\\\\n",
       "\t 0       & Women   & Single  & 0       & 3.75    & 26     \\\\\n",
       "\t 0       & Women   & Married & 2       & 3.59    &  2     \\\\\n",
       "\\end{tabular}\n"
      ],
      "text/markdown": [
       "\n",
       "art | fem | mar | kid5 | phd | ment | \n",
       "|---|---|---|---|---|---|\n",
       "| 0       | Men     | Married | 0       | 2.52    |  7      | \n",
       "| 0       | Women   | Single  | 0       | 2.05    |  6      | \n",
       "| 0       | Women   | Single  | 0       | 3.75    |  6      | \n",
       "| 0       | Men     | Married | 1       | 1.18    |  3      | \n",
       "| 0       | Women   | Single  | 0       | 3.75    | 26      | \n",
       "| 0       | Women   | Married | 2       | 3.59    |  2      | \n",
       "\n",
       "\n"
      ],
      "text/plain": [
       "  art fem   mar     kid5 phd  ment\n",
       "1 0   Men   Married 0    2.52  7  \n",
       "2 0   Women Single  0    2.05  6  \n",
       "3 0   Women Single  0    3.75  6  \n",
       "4 0   Men   Married 1    1.18  3  \n",
       "5 0   Women Single  0    3.75 26  \n",
       "6 0   Women Married 2    3.59  2  "
      ]
     },
     "metadata": {},
     "output_type": "display_data"
    }
   ],
   "source": [
    "library(foreign)\n",
    "couart <- read.dta(\"datasets/couart2.dta\")\n",
    "head(couart)"
   ]
  },
  {
   "cell_type": "code",
   "execution_count": 2,
   "metadata": {},
   "outputs": [
    {
     "data": {
      "text/plain": [
       "\n",
       "Call:\n",
       "glm(formula = art ~ fem + ment, family = poisson, data = couart)\n",
       "\n",
       "Deviance Residuals: \n",
       "    Min       1Q   Median       3Q      Max  \n",
       "-3.6094  -1.5746  -0.3891   0.5651   5.7868  \n",
       "\n",
       "Coefficients:\n",
       "            Estimate Std. Error z value Pr(>|z|)    \n",
       "(Intercept)  0.34909    0.04191   8.329  < 2e-16 ***\n",
       "femWomen    -0.18445    0.05235  -3.523 0.000426 ***\n",
       "ment         0.02510    0.00193  13.005  < 2e-16 ***\n",
       "---\n",
       "Signif. codes:  0 ‘***’ 0.001 ‘**’ 0.01 ‘*’ 0.05 ‘.’ 0.1 ‘ ’ 1\n",
       "\n",
       "(Dispersion parameter for poisson family taken to be 1)\n",
       "\n",
       "    Null deviance: 1817.4  on 914  degrees of freedom\n",
       "Residual deviance: 1657.0  on 912  degrees of freedom\n",
       "AIC: 3330.7\n",
       "\n",
       "Number of Fisher Scoring iterations: 5\n"
      ]
     },
     "metadata": {},
     "output_type": "display_data"
    }
   ],
   "source": [
    "m1 <- glm(art ~ fem + ment, data=couart, family=poisson)\n",
    "summary(m1)"
   ]
  },
  {
   "cell_type": "code",
   "execution_count": 3,
   "metadata": {},
   "outputs": [
    {
     "data": {
      "text/html": [
       "<dl class=dl-horizontal>\n",
       "\t<dt>(Intercept)</dt>\n",
       "\t\t<dd>1.41778152777492</dd>\n",
       "\t<dt>femWomen</dt>\n",
       "\t\t<dd>0.831560397157388</dd>\n",
       "\t<dt>ment</dt>\n",
       "\t\t<dd>1.02542007272774</dd>\n",
       "</dl>\n"
      ],
      "text/latex": [
       "\\begin{description*}\n",
       "\\item[(Intercept)] 1.41778152777492\n",
       "\\item[femWomen] 0.831560397157388\n",
       "\\item[ment] 1.02542007272774\n",
       "\\end{description*}\n"
      ],
      "text/markdown": [
       "(Intercept)\n",
       ":   1.41778152777492femWomen\n",
       ":   0.831560397157388ment\n",
       ":   1.02542007272774\n",
       "\n"
      ],
      "text/plain": [
       "(Intercept)    femWomen        ment \n",
       "  1.4177815   0.8315604   1.0254201 "
      ]
     },
     "metadata": {},
     "output_type": "display_data"
    }
   ],
   "source": [
    "exp(coef(m1))"
   ]
  },
  {
   "cell_type": "code",
   "execution_count": 4,
   "metadata": {},
   "outputs": [
    {
     "data": {
      "text/html": [
       "<table>\n",
       "<thead><tr><th scope=col>art</th><th scope=col>fem</th><th scope=col>mar</th><th scope=col>kid5</th><th scope=col>phd</th><th scope=col>ment</th><th scope=col>predArt</th></tr></thead>\n",
       "<tbody>\n",
       "\t<tr><td>0       </td><td>Men     </td><td>Married </td><td>0       </td><td>2.52    </td><td> 7      </td><td>1.690137</td></tr>\n",
       "\t<tr><td>0       </td><td>Women   </td><td>Single  </td><td>0       </td><td>2.05    </td><td> 6      </td><td>1.370610</td></tr>\n",
       "\t<tr><td>0       </td><td>Women   </td><td>Single  </td><td>0       </td><td>3.75    </td><td> 6      </td><td>1.370610</td></tr>\n",
       "\t<tr><td>0       </td><td>Men     </td><td>Married </td><td>1       </td><td>1.18    </td><td> 3      </td><td>1.528674</td></tr>\n",
       "\t<tr><td>0       </td><td>Women   </td><td>Single  </td><td>0       </td><td>3.75    </td><td>26      </td><td>2.264385</td></tr>\n",
       "\t<tr><td>0       </td><td>Women   </td><td>Married </td><td>2       </td><td>3.59    </td><td> 2      </td><td>1.239672</td></tr>\n",
       "</tbody>\n",
       "</table>\n"
      ],
      "text/latex": [
       "\\begin{tabular}{r|lllllll}\n",
       " art & fem & mar & kid5 & phd & ment & predArt\\\\\n",
       "\\hline\n",
       "\t 0        & Men      & Married  & 0        & 2.52     &  7       & 1.690137\\\\\n",
       "\t 0        & Women    & Single   & 0        & 2.05     &  6       & 1.370610\\\\\n",
       "\t 0        & Women    & Single   & 0        & 3.75     &  6       & 1.370610\\\\\n",
       "\t 0        & Men      & Married  & 1        & 1.18     &  3       & 1.528674\\\\\n",
       "\t 0        & Women    & Single   & 0        & 3.75     & 26       & 2.264385\\\\\n",
       "\t 0        & Women    & Married  & 2        & 3.59     &  2       & 1.239672\\\\\n",
       "\\end{tabular}\n"
      ],
      "text/markdown": [
       "\n",
       "art | fem | mar | kid5 | phd | ment | predArt | \n",
       "|---|---|---|---|---|---|\n",
       "| 0        | Men      | Married  | 0        | 2.52     |  7       | 1.690137 | \n",
       "| 0        | Women    | Single   | 0        | 2.05     |  6       | 1.370610 | \n",
       "| 0        | Women    | Single   | 0        | 3.75     |  6       | 1.370610 | \n",
       "| 0        | Men      | Married  | 1        | 1.18     |  3       | 1.528674 | \n",
       "| 0        | Women    | Single   | 0        | 3.75     | 26       | 2.264385 | \n",
       "| 0        | Women    | Married  | 2        | 3.59     |  2       | 1.239672 | \n",
       "\n",
       "\n"
      ],
      "text/plain": [
       "  art fem   mar     kid5 phd  ment predArt \n",
       "1 0   Men   Married 0    2.52  7   1.690137\n",
       "2 0   Women Single  0    2.05  6   1.370610\n",
       "3 0   Women Single  0    3.75  6   1.370610\n",
       "4 0   Men   Married 1    1.18  3   1.528674\n",
       "5 0   Women Single  0    3.75 26   2.264385\n",
       "6 0   Women Married 2    3.59  2   1.239672"
      ]
     },
     "metadata": {},
     "output_type": "display_data"
    }
   ],
   "source": [
    "couart$predArt = predict(m1, type=\"response\")\n",
    "head(couart)"
   ]
  },
  {
   "cell_type": "markdown",
   "metadata": {},
   "source": [
    "### 评估模型拟合度"
   ]
  },
  {
   "cell_type": "code",
   "execution_count": 5,
   "metadata": {},
   "outputs": [
    {
     "data": {
      "text/html": [
       "<ol class=list-inline>\n",
       "\t<li>0.20520277355963</li>\n",
       "\t<li>0.311420490611188</li>\n",
       "\t<li>0.24562017765537</li>\n",
       "\t<li>0.135946961391982</li>\n",
       "\t<li>0.0606643402409452</li>\n",
       "\t<li>0.0240924496610455</li>\n",
       "\t<li>0.00932383289036398</li>\n",
       "\t<li>0.00381904067291773</li>\n",
       "\t<li>0.00174422222329557</li>\n",
       "\t<li>0.000894333112689456</li>\n",
       "</ol>\n"
      ],
      "text/latex": [
       "\\begin{enumerate*}\n",
       "\\item 0.20520277355963\n",
       "\\item 0.311420490611188\n",
       "\\item 0.24562017765537\n",
       "\\item 0.135946961391982\n",
       "\\item 0.0606643402409452\n",
       "\\item 0.0240924496610455\n",
       "\\item 0.00932383289036398\n",
       "\\item 0.00381904067291773\n",
       "\\item 0.00174422222329557\n",
       "\\item 0.000894333112689456\n",
       "\\end{enumerate*}\n"
      ],
      "text/markdown": [
       "1. 0.20520277355963\n",
       "2. 0.311420490611188\n",
       "3. 0.24562017765537\n",
       "4. 0.135946961391982\n",
       "5. 0.0606643402409452\n",
       "6. 0.0240924496610455\n",
       "7. 0.00932383289036398\n",
       "8. 0.00381904067291773\n",
       "9. 0.00174422222329557\n",
       "10. 0.000894333112689456\n",
       "\n",
       "\n"
      ],
      "text/plain": [
       " [1] 0.2052027736 0.3114204906 0.2456201777 0.1359469614 0.0606643402\n",
       " [6] 0.0240924497 0.0093238329 0.0038190407 0.0017442222 0.0008943331"
      ]
     },
     "metadata": {},
     "output_type": "display_data"
    }
   ],
   "source": [
    "(meanPred = sapply(0:9, function(m) mean(dpois(m, couart$predArt))))"
   ]
  },
  {
   "cell_type": "code",
   "execution_count": 6,
   "metadata": {},
   "outputs": [
    {
     "data": {
      "text/plain": [
       "\n",
       "          0           1           2           3           4           5 \n",
       "0.300546448 0.268852459 0.194535519 0.091803279 0.073224044 0.029508197 \n",
       "          6           7           8           9          10          11 \n",
       "0.018579235 0.013114754 0.001092896 0.002185792 0.001092896 0.001092896 \n",
       "         12          16          19 \n",
       "0.002185792 0.001092896 0.001092896 "
      ]
     },
     "metadata": {},
     "output_type": "display_data"
    }
   ],
   "source": [
    "(obsPred = prop.table(table(couart$art)))"
   ]
  },
  {
   "cell_type": "code",
   "execution_count": 7,
   "metadata": {},
   "outputs": [
    {
     "data": {
      "image/png": "[encoded data removed]",
      "text/plain": [
       "plot without title"
      ]
     },
     "metadata": {},
     "output_type": "display_data"
    }
   ],
   "source": [
    "plot(0:9, meanPred, type=\"b\", xlab=\"count\", \n",
    "     ylab=\"predicted and observed prob\")\n",
    "lines(0:9, obsPred[1:10], col=\"red\", type=\"b\")"
   ]
  },
  {
   "cell_type": "markdown",
   "metadata": {},
   "source": [
    "### 负二项回归"
   ]
  },
  {
   "cell_type": "code",
   "execution_count": 8,
   "metadata": {},
   "outputs": [
    {
     "data": {
      "text/plain": [
       "\n",
       "Call:\n",
       "glm.nb(formula = art ~ fem + mar + kid5 + phd + ment, data = couart, \n",
       "    init.theta = 2.264387695, link = log)\n",
       "\n",
       "Deviance Residuals: \n",
       "    Min       1Q   Median       3Q      Max  \n",
       "-2.1678  -1.3617  -0.2806   0.4476   3.4524  \n",
       "\n",
       "Coefficients:\n",
       "             Estimate Std. Error z value Pr(>|z|)    \n",
       "(Intercept)  0.256144   0.137348   1.865 0.062191 .  \n",
       "femWomen    -0.216418   0.072636  -2.979 0.002887 ** \n",
       "marMarried   0.150489   0.082097   1.833 0.066791 .  \n",
       "kid5        -0.176415   0.052813  -3.340 0.000837 ***\n",
       "phd          0.015271   0.035873   0.426 0.670326    \n",
       "ment         0.029082   0.003214   9.048  < 2e-16 ***\n",
       "---\n",
       "Signif. codes:  0 ‘***’ 0.001 ‘**’ 0.01 ‘*’ 0.05 ‘.’ 0.1 ‘ ’ 1\n",
       "\n",
       "(Dispersion parameter for Negative Binomial(2.2644) family taken to be 1)\n",
       "\n",
       "    Null deviance: 1109.0  on 914  degrees of freedom\n",
       "Residual deviance: 1004.3  on 909  degrees of freedom\n",
       "AIC: 3135.9\n",
       "\n",
       "Number of Fisher Scoring iterations: 1\n",
       "\n",
       "\n",
       "              Theta:  2.264 \n",
       "          Std. Err.:  0.271 \n",
       "\n",
       " 2 x log-likelihood:  -3121.917 "
      ]
     },
     "metadata": {},
     "output_type": "display_data"
    }
   ],
   "source": [
    "library(MASS)\n",
    "mod_nb <- glm.nb(art ~  fem + mar + kid5 + phd + ment, data=couart)\n",
    "summary(mod_nb)"
   ]
  },
  {
   "cell_type": "code",
   "execution_count": 9,
   "metadata": {},
   "outputs": [
    {
     "name": "stderr",
     "output_type": "stream",
     "text": [
      "Classes and Methods for R developed in the\n",
      "Political Science Computational Laboratory\n",
      "Department of Political Science\n",
      "Stanford University\n",
      "Simon Jackman\n",
      "hurdle and zeroinfl functions by Achim Zeileis\n"
     ]
    }
   ],
   "source": [
    "library(pscl)\n",
    "\n",
    "# vignette(\"countreg\", package=\"pscl\")"
   ]
  },
  {
   "cell_type": "code",
   "execution_count": 10,
   "metadata": {},
   "outputs": [
    {
     "name": "stdout",
     "output_type": "stream",
     "text": [
      "Likelihood ratio test of H0: Poisson, as restricted NB model:\n",
      "n.b., the distribution of the test-statistic under H0 is non-standard\n",
      "e.g., see help(odTest) for details/references\n",
      "\n",
      "Critical value of test statistic at the alpha= 0.05 level: 2.7055 \n",
      "Chi-Square Test Statistic =  180.196 p-value = < 2.2e-16 \n"
     ]
    }
   ],
   "source": [
    "odTest(mod_nb)"
   ]
  },
  {
   "cell_type": "markdown",
   "metadata": {},
   "source": [
    "检验显著，优先选择负二项回归。"
   ]
  },
  {
   "cell_type": "markdown",
   "metadata": {},
   "source": [
    "### 零膨胀回归\n",
    "\n",
    "默认情况下是零膨胀泊松回归。具体而言，零膨胀部分使用logit回归，而计数部分使用泊松回归。"
   ]
  },
  {
   "cell_type": "code",
   "execution_count": 11,
   "metadata": {},
   "outputs": [
    {
     "data": {
      "text/plain": [
       "\n",
       "Call:\n",
       "zeroinfl(formula = art ~ fem + mar + kid5 + phd + ment | fem + mar + \n",
       "    kid5 + phd + ment, data = couart)\n",
       "\n",
       "Pearson residuals:\n",
       "    Min      1Q  Median      3Q     Max \n",
       "-2.3253 -0.8652 -0.2826  0.5404  7.2976 \n",
       "\n",
       "Count model coefficients (poisson with log link):\n",
       "             Estimate Std. Error z value Pr(>|z|)    \n",
       "(Intercept)  0.640838   0.121307   5.283 1.27e-07 ***\n",
       "femWomen    -0.209145   0.063405  -3.299 0.000972 ***\n",
       "marMarried   0.103751   0.071111   1.459 0.144565    \n",
       "kid5        -0.143320   0.047429  -3.022 0.002513 ** \n",
       "phd         -0.006166   0.031008  -0.199 0.842378    \n",
       "ment         0.018098   0.002294   7.888 3.07e-15 ***\n",
       "\n",
       "Zero-inflation model coefficients (binomial with logit link):\n",
       "             Estimate Std. Error z value Pr(>|z|)   \n",
       "(Intercept) -0.577059   0.509386  -1.133  0.25728   \n",
       "femWomen     0.109746   0.280082   0.392  0.69518   \n",
       "marMarried  -0.354014   0.317611  -1.115  0.26502   \n",
       "kid5         0.217097   0.196482   1.105  0.26919   \n",
       "phd          0.001274   0.145263   0.009  0.99300   \n",
       "ment        -0.134114   0.045243  -2.964  0.00303 **\n",
       "---\n",
       "Signif. codes:  0 '***' 0.001 '**' 0.01 '*' 0.05 '.' 0.1 ' ' 1 \n",
       "\n",
       "Number of iterations in BFGS optimization: 21 \n",
       "Log-likelihood: -1605 on 12 Df"
      ]
     },
     "metadata": {},
     "output_type": "display_data"
    }
   ],
   "source": [
    "zip = zeroinfl(art ~ fem + mar + kid5 + phd + ment | fem + mar + kid5 + phd + ment, data = couart)\n",
    "summary(zip)"
   ]
  },
  {
   "cell_type": "markdown",
   "metadata": {},
   "source": [
    "模型预测值："
   ]
  },
  {
   "cell_type": "code",
   "execution_count": 12,
   "metadata": {
    "scrolled": true
   },
   "outputs": [],
   "source": [
    "couart$predY = predict(zip)"
   ]
  },
  {
   "cell_type": "markdown",
   "metadata": {},
   "source": [
    "预测计数成分的均值（已剔除0成分）"
   ]
  },
  {
   "cell_type": "code",
   "execution_count": 13,
   "metadata": {},
   "outputs": [],
   "source": [
    "couart$predCount = predict(zip, type=\"count\")"
   ]
  },
  {
   "cell_type": "markdown",
   "metadata": {},
   "source": [
    "预测观察到零成分的概率。"
   ]
  },
  {
   "cell_type": "code",
   "execution_count": 14,
   "metadata": {},
   "outputs": [],
   "source": [
    "couart$predZ = predict(zip, type=\"zero\")"
   ]
  },
  {
   "cell_type": "code",
   "execution_count": 15,
   "metadata": {
    "scrolled": true
   },
   "outputs": [
    {
     "data": {
      "text/html": [
       "<table>\n",
       "<thead><tr><th scope=col>art</th><th scope=col>fem</th><th scope=col>mar</th><th scope=col>kid5</th><th scope=col>phd</th><th scope=col>ment</th><th scope=col>predArt</th><th scope=col>predY</th><th scope=col>predCount</th><th scope=col>predZ</th></tr></thead>\n",
       "<tbody>\n",
       "\t<tr><td>0         </td><td>Men       </td><td>Married   </td><td>0         </td><td>2.52      </td><td> 7        </td><td>1.690137  </td><td>2.037956  </td><td>2.353103  </td><td>0.13392842</td></tr>\n",
       "\t<tr><td>0         </td><td>Women     </td><td>Single    </td><td>0         </td><td>2.05      </td><td> 6        </td><td>1.370610  </td><td>1.323124  </td><td>1.694927  </td><td>0.21936229</td></tr>\n",
       "\t<tr><td>0         </td><td>Women     </td><td>Single    </td><td>0         </td><td>3.75      </td><td> 6        </td><td>1.370610  </td><td>1.308704  </td><td>1.677253  </td><td>0.21973346</td></tr>\n",
       "\t<tr><td>0         </td><td>Men       </td><td>Married   </td><td>1         </td><td>1.18      </td><td> 3        </td><td>1.528674  </td><td>1.439982  </td><td>1.912261  </td><td>0.24697429</td></tr>\n",
       "\t<tr><td>0         </td><td>Women     </td><td>Single    </td><td>0         </td><td>3.75      </td><td>26        </td><td>2.264385  </td><td>2.363233  </td><td>2.408759  </td><td>0.01890012</td></tr>\n",
       "\t<tr><td>0         </td><td>Women     </td><td>Married   </td><td>2         </td><td>3.59      </td><td> 2        </td><td>1.239672  </td><td>0.854771  </td><td>1.300650  </td><td>0.34281234</td></tr>\n",
       "</tbody>\n",
       "</table>\n"
      ],
      "text/latex": [
       "\\begin{tabular}{r|llllllllll}\n",
       " art & fem & mar & kid5 & phd & ment & predArt & predY & predCount & predZ\\\\\n",
       "\\hline\n",
       "\t 0          & Men        & Married    & 0          & 2.52       &  7         & 1.690137   & 2.037956   & 2.353103   & 0.13392842\\\\\n",
       "\t 0          & Women      & Single     & 0          & 2.05       &  6         & 1.370610   & 1.323124   & 1.694927   & 0.21936229\\\\\n",
       "\t 0          & Women      & Single     & 0          & 3.75       &  6         & 1.370610   & 1.308704   & 1.677253   & 0.21973346\\\\\n",
       "\t 0          & Men        & Married    & 1          & 1.18       &  3         & 1.528674   & 1.439982   & 1.912261   & 0.24697429\\\\\n",
       "\t 0          & Women      & Single     & 0          & 3.75       & 26         & 2.264385   & 2.363233   & 2.408759   & 0.01890012\\\\\n",
       "\t 0          & Women      & Married    & 2          & 3.59       &  2         & 1.239672   & 0.854771   & 1.300650   & 0.34281234\\\\\n",
       "\\end{tabular}\n"
      ],
      "text/markdown": [
       "\n",
       "art | fem | mar | kid5 | phd | ment | predArt | predY | predCount | predZ | \n",
       "|---|---|---|---|---|---|\n",
       "| 0          | Men        | Married    | 0          | 2.52       |  7         | 1.690137   | 2.037956   | 2.353103   | 0.13392842 | \n",
       "| 0          | Women      | Single     | 0          | 2.05       |  6         | 1.370610   | 1.323124   | 1.694927   | 0.21936229 | \n",
       "| 0          | Women      | Single     | 0          | 3.75       |  6         | 1.370610   | 1.308704   | 1.677253   | 0.21973346 | \n",
       "| 0          | Men        | Married    | 1          | 1.18       |  3         | 1.528674   | 1.439982   | 1.912261   | 0.24697429 | \n",
       "| 0          | Women      | Single     | 0          | 3.75       | 26         | 2.264385   | 2.363233   | 2.408759   | 0.01890012 | \n",
       "| 0          | Women      | Married    | 2          | 3.59       |  2         | 1.239672   | 0.854771   | 1.300650   | 0.34281234 | \n",
       "\n",
       "\n"
      ],
      "text/plain": [
       "  art fem   mar     kid5 phd  ment predArt  predY    predCount predZ     \n",
       "1 0   Men   Married 0    2.52  7   1.690137 2.037956 2.353103  0.13392842\n",
       "2 0   Women Single  0    2.05  6   1.370610 1.323124 1.694927  0.21936229\n",
       "3 0   Women Single  0    3.75  6   1.370610 1.308704 1.677253  0.21973346\n",
       "4 0   Men   Married 1    1.18  3   1.528674 1.439982 1.912261  0.24697429\n",
       "5 0   Women Single  0    3.75 26   2.264385 2.363233 2.408759  0.01890012\n",
       "6 0   Women Married 2    3.59  2   1.239672 0.854771 1.300650  0.34281234"
      ]
     },
     "metadata": {},
     "output_type": "display_data"
    }
   ],
   "source": [
    "head(couart)"
   ]
  },
  {
   "cell_type": "markdown",
   "metadata": {},
   "source": [
    "观察到该取值的概率"
   ]
  },
  {
   "cell_type": "code",
   "execution_count": 16,
   "metadata": {},
   "outputs": [
    {
     "data": {
      "text/html": [
       "<table>\n",
       "<thead><tr><th></th><th scope=col>0</th><th scope=col>1</th><th scope=col>2</th><th scope=col>3</th><th scope=col>4</th><th scope=col>5</th><th scope=col>6</th><th scope=col>7</th><th scope=col>8</th><th scope=col>9</th><th scope=col>10</th><th scope=col>11</th><th scope=col>12</th><th scope=col>13</th><th scope=col>14</th><th scope=col>15</th><th scope=col>16</th><th scope=col>17</th><th scope=col>18</th><th scope=col>19</th></tr></thead>\n",
       "<tbody>\n",
       "\t<tr><th scope=row>1</th><td>0.2162690   </td><td>0.1937560   </td><td>0.2279639   </td><td>0.17880748  </td><td>0.10518810  </td><td>0.049503684 </td><td>0.019414543 </td><td>0.006526345 </td><td>0.0019196452</td><td>5.019025e-04</td><td>1.181028e-04</td><td>2.526437e-05</td><td>4.954139e-06</td><td>8.967384e-07</td><td>1.507227e-07</td><td>2.364440e-08</td><td>3.477356e-09</td><td>4.813281e-10</td><td>6.292303e-11</td><td>7.792861e-12</td></tr>\n",
       "\t<tr><th scope=row>2</th><td>0.3626973   </td><td>0.2429423   </td><td>0.2058847   </td><td>0.11631983  </td><td>0.04928840  </td><td>0.016708046 </td><td>0.004719819 </td><td>0.001142821 </td><td>0.0002421248</td><td>4.559820e-05</td><td>7.728561e-06</td><td>1.190849e-06</td><td>1.682002e-07</td><td>2.192977e-08</td><td>2.654955e-09</td><td>2.999969e-10</td><td>3.177955e-11</td><td>3.168471e-12</td><td>2.983515e-13</td><td>2.661494e-14</td></tr>\n",
       "\t<tr><th scope=row>3</th><td>0.3655549   </td><td>0.2445794   </td><td>0.2051107   </td><td>0.11467420  </td><td>0.04808441  </td><td>0.016129943 </td><td>0.004508999 </td><td>0.001080390 </td><td>0.0002265110</td><td>4.221291e-05</td><td>7.080172e-06</td><td>1.079567e-06</td><td>1.508923e-07</td><td>1.946804e-08</td><td>2.332345e-09</td><td>2.607955e-10</td><td>2.733875e-11</td><td>2.697294e-12</td><td>2.513358e-13</td><td>2.218703e-14</td></tr>\n",
       "\t<tr><th scope=row>4</th><td>0.3582308   </td><td>0.2127514   </td><td>0.2034182   </td><td>0.12966290  </td><td>0.06198734  </td><td>0.023707199 </td><td>0.007555727 </td><td>0.002064075 </td><td>0.0004933813</td><td>1.048304e-04</td><td>2.004632e-05</td><td>3.484891e-06</td><td>5.553353e-07</td><td>8.168817e-08</td><td>1.115779e-08</td><td>1.422441e-09</td><td>1.700050e-10</td><td>1.912317e-11</td><td>2.031584e-12</td><td>2.044694e-13</td></tr>\n",
       "\t<tr><th scope=row>5</th><td>0.1071273   </td><td>0.2125181   </td><td>0.2559524   </td><td>0.20550920  </td><td>0.12375553  </td><td>0.059619449 </td><td>0.023934814 </td><td>0.008236171 </td><td>0.0024798688</td><td>6.637118e-04</td><td>1.598722e-04</td><td>3.500850e-05</td><td>7.027254e-06</td><td>1.302074e-06</td><td>2.240273e-07</td><td>3.597518e-08</td><td>5.415971e-09</td><td>7.673982e-10</td><td>1.026932e-10</td><td>1.301911e-11</td></tr>\n",
       "\t<tr><th scope=row>6</th><td>0.5218005   </td><td>0.2328010   </td><td>0.1513963   </td><td>0.06563783  </td><td>0.02134296  </td><td>0.005551943 </td><td>0.001203522 </td><td>0.000223623 </td><td>0.0000363569</td><td>5.254177e-06</td><td>6.833844e-07</td><td>8.080398e-08</td><td>8.758139e-09</td><td>8.762517e-10</td><td>8.140690e-11</td><td>7.058791e-12</td><td>5.738134e-13</td><td>4.390178e-14</td><td>3.172269e-15</td><td>2.171585e-16</td></tr>\n",
       "</tbody>\n",
       "</table>\n"
      ],
      "text/latex": [
       "\\begin{tabular}{r|llllllllllllllllllll}\n",
       "  & 0 & 1 & 2 & 3 & 4 & 5 & 6 & 7 & 8 & 9 & 10 & 11 & 12 & 13 & 14 & 15 & 16 & 17 & 18 & 19\\\\\n",
       "\\hline\n",
       "\t1 & 0.2162690    & 0.1937560    & 0.2279639    & 0.17880748   & 0.10518810   & 0.049503684  & 0.019414543  & 0.006526345  & 0.0019196452 & 5.019025e-04 & 1.181028e-04 & 2.526437e-05 & 4.954139e-06 & 8.967384e-07 & 1.507227e-07 & 2.364440e-08 & 3.477356e-09 & 4.813281e-10 & 6.292303e-11 & 7.792861e-12\\\\\n",
       "\t2 & 0.3626973    & 0.2429423    & 0.2058847    & 0.11631983   & 0.04928840   & 0.016708046  & 0.004719819  & 0.001142821  & 0.0002421248 & 4.559820e-05 & 7.728561e-06 & 1.190849e-06 & 1.682002e-07 & 2.192977e-08 & 2.654955e-09 & 2.999969e-10 & 3.177955e-11 & 3.168471e-12 & 2.983515e-13 & 2.661494e-14\\\\\n",
       "\t3 & 0.3655549    & 0.2445794    & 0.2051107    & 0.11467420   & 0.04808441   & 0.016129943  & 0.004508999  & 0.001080390  & 0.0002265110 & 4.221291e-05 & 7.080172e-06 & 1.079567e-06 & 1.508923e-07 & 1.946804e-08 & 2.332345e-09 & 2.607955e-10 & 2.733875e-11 & 2.697294e-12 & 2.513358e-13 & 2.218703e-14\\\\\n",
       "\t4 & 0.3582308    & 0.2127514    & 0.2034182    & 0.12966290   & 0.06198734   & 0.023707199  & 0.007555727  & 0.002064075  & 0.0004933813 & 1.048304e-04 & 2.004632e-05 & 3.484891e-06 & 5.553353e-07 & 8.168817e-08 & 1.115779e-08 & 1.422441e-09 & 1.700050e-10 & 1.912317e-11 & 2.031584e-12 & 2.044694e-13\\\\\n",
       "\t5 & 0.1071273    & 0.2125181    & 0.2559524    & 0.20550920   & 0.12375553   & 0.059619449  & 0.023934814  & 0.008236171  & 0.0024798688 & 6.637118e-04 & 1.598722e-04 & 3.500850e-05 & 7.027254e-06 & 1.302074e-06 & 2.240273e-07 & 3.597518e-08 & 5.415971e-09 & 7.673982e-10 & 1.026932e-10 & 1.301911e-11\\\\\n",
       "\t6 & 0.5218005    & 0.2328010    & 0.1513963    & 0.06563783   & 0.02134296   & 0.005551943  & 0.001203522  & 0.000223623  & 0.0000363569 & 5.254177e-06 & 6.833844e-07 & 8.080398e-08 & 8.758139e-09 & 8.762517e-10 & 8.140690e-11 & 7.058791e-12 & 5.738134e-13 & 4.390178e-14 & 3.172269e-15 & 2.171585e-16\\\\\n",
       "\\end{tabular}\n"
      ],
      "text/markdown": [
       "\n",
       "| <!--/--> | 0 | 1 | 2 | 3 | 4 | 5 | 6 | 7 | 8 | 9 | 10 | 11 | 12 | 13 | 14 | 15 | 16 | 17 | 18 | 19 | \n",
       "|---|---|---|---|---|---|\n",
       "| 1 | 0.2162690    | 0.1937560    | 0.2279639    | 0.17880748   | 0.10518810   | 0.049503684  | 0.019414543  | 0.006526345  | 0.0019196452 | 5.019025e-04 | 1.181028e-04 | 2.526437e-05 | 4.954139e-06 | 8.967384e-07 | 1.507227e-07 | 2.364440e-08 | 3.477356e-09 | 4.813281e-10 | 6.292303e-11 | 7.792861e-12 | \n",
       "| 2 | 0.3626973    | 0.2429423    | 0.2058847    | 0.11631983   | 0.04928840   | 0.016708046  | 0.004719819  | 0.001142821  | 0.0002421248 | 4.559820e-05 | 7.728561e-06 | 1.190849e-06 | 1.682002e-07 | 2.192977e-08 | 2.654955e-09 | 2.999969e-10 | 3.177955e-11 | 3.168471e-12 | 2.983515e-13 | 2.661494e-14 | \n",
       "| 3 | 0.3655549    | 0.2445794    | 0.2051107    | 0.11467420   | 0.04808441   | 0.016129943  | 0.004508999  | 0.001080390  | 0.0002265110 | 4.221291e-05 | 7.080172e-06 | 1.079567e-06 | 1.508923e-07 | 1.946804e-08 | 2.332345e-09 | 2.607955e-10 | 2.733875e-11 | 2.697294e-12 | 2.513358e-13 | 2.218703e-14 | \n",
       "| 4 | 0.3582308    | 0.2127514    | 0.2034182    | 0.12966290   | 0.06198734   | 0.023707199  | 0.007555727  | 0.002064075  | 0.0004933813 | 1.048304e-04 | 2.004632e-05 | 3.484891e-06 | 5.553353e-07 | 8.168817e-08 | 1.115779e-08 | 1.422441e-09 | 1.700050e-10 | 1.912317e-11 | 2.031584e-12 | 2.044694e-13 | \n",
       "| 5 | 0.1071273    | 0.2125181    | 0.2559524    | 0.20550920   | 0.12375553   | 0.059619449  | 0.023934814  | 0.008236171  | 0.0024798688 | 6.637118e-04 | 1.598722e-04 | 3.500850e-05 | 7.027254e-06 | 1.302074e-06 | 2.240273e-07 | 3.597518e-08 | 5.415971e-09 | 7.673982e-10 | 1.026932e-10 | 1.301911e-11 | \n",
       "| 6 | 0.5218005    | 0.2328010    | 0.1513963    | 0.06563783   | 0.02134296   | 0.005551943  | 0.001203522  | 0.000223623  | 0.0000363569 | 5.254177e-06 | 6.833844e-07 | 8.080398e-08 | 8.758139e-09 | 8.762517e-10 | 8.140690e-11 | 7.058791e-12 | 5.738134e-13 | 4.390178e-14 | 3.172269e-15 | 2.171585e-16 | \n",
       "\n",
       "\n"
      ],
      "text/plain": [
       "  0         1         2         3          4          5           6          \n",
       "1 0.2162690 0.1937560 0.2279639 0.17880748 0.10518810 0.049503684 0.019414543\n",
       "2 0.3626973 0.2429423 0.2058847 0.11631983 0.04928840 0.016708046 0.004719819\n",
       "3 0.3655549 0.2445794 0.2051107 0.11467420 0.04808441 0.016129943 0.004508999\n",
       "4 0.3582308 0.2127514 0.2034182 0.12966290 0.06198734 0.023707199 0.007555727\n",
       "5 0.1071273 0.2125181 0.2559524 0.20550920 0.12375553 0.059619449 0.023934814\n",
       "6 0.5218005 0.2328010 0.1513963 0.06563783 0.02134296 0.005551943 0.001203522\n",
       "  7           8            9            10           11           12          \n",
       "1 0.006526345 0.0019196452 5.019025e-04 1.181028e-04 2.526437e-05 4.954139e-06\n",
       "2 0.001142821 0.0002421248 4.559820e-05 7.728561e-06 1.190849e-06 1.682002e-07\n",
       "3 0.001080390 0.0002265110 4.221291e-05 7.080172e-06 1.079567e-06 1.508923e-07\n",
       "4 0.002064075 0.0004933813 1.048304e-04 2.004632e-05 3.484891e-06 5.553353e-07\n",
       "5 0.008236171 0.0024798688 6.637118e-04 1.598722e-04 3.500850e-05 7.027254e-06\n",
       "6 0.000223623 0.0000363569 5.254177e-06 6.833844e-07 8.080398e-08 8.758139e-09\n",
       "  13           14           15           16           17           18          \n",
       "1 8.967384e-07 1.507227e-07 2.364440e-08 3.477356e-09 4.813281e-10 6.292303e-11\n",
       "2 2.192977e-08 2.654955e-09 2.999969e-10 3.177955e-11 3.168471e-12 2.983515e-13\n",
       "3 1.946804e-08 2.332345e-09 2.607955e-10 2.733875e-11 2.697294e-12 2.513358e-13\n",
       "4 8.168817e-08 1.115779e-08 1.422441e-09 1.700050e-10 1.912317e-11 2.031584e-12\n",
       "5 1.302074e-06 2.240273e-07 3.597518e-08 5.415971e-09 7.673982e-10 1.026932e-10\n",
       "6 8.762517e-10 8.140690e-11 7.058791e-12 5.738134e-13 4.390178e-14 3.172269e-15\n",
       "  19          \n",
       "1 7.792861e-12\n",
       "2 2.661494e-14\n",
       "3 2.218703e-14\n",
       "4 2.044694e-13\n",
       "5 1.301911e-11\n",
       "6 2.171585e-16"
      ]
     },
     "metadata": {},
     "output_type": "display_data"
    }
   ],
   "source": [
    "predP = predict(zip, type=\"prob\")\n",
    "head(predP)"
   ]
  },
  {
   "cell_type": "markdown",
   "metadata": {},
   "source": [
    "#### 将dist参数设置为\"negbin\"则可以得到零膨胀负二项回归。"
   ]
  },
  {
   "cell_type": "code",
   "execution_count": 17,
   "metadata": {},
   "outputs": [
    {
     "data": {
      "text/plain": [
       "\n",
       "Call:\n",
       "zeroinfl(formula = art ~ fem + mar + kid5 + phd + ment | fem + mar + \n",
       "    kid5 + phd + ment, data = couart, dist = \"negbin\")\n",
       "\n",
       "Pearson residuals:\n",
       "    Min      1Q  Median      3Q     Max \n",
       "-1.2942 -0.7601 -0.2909  0.4448  6.4155 \n",
       "\n",
       "Count model coefficients (negbin with log link):\n",
       "              Estimate Std. Error z value Pr(>|z|)    \n",
       "(Intercept)  0.4167465  0.1435966   2.902  0.00371 ** \n",
       "femWomen    -0.1955068  0.0755926  -2.586  0.00970 ** \n",
       "marMarried   0.0975826  0.0844520   1.155  0.24789    \n",
       "kid5        -0.1517325  0.0542061  -2.799  0.00512 ** \n",
       "phd         -0.0007001  0.0362697  -0.019  0.98460    \n",
       "ment         0.0247862  0.0034927   7.097 1.28e-12 ***\n",
       "Log(theta)   0.9763565  0.1354695   7.207 5.71e-13 ***\n",
       "\n",
       "Zero-inflation model coefficients (binomial with logit link):\n",
       "            Estimate Std. Error z value Pr(>|z|)   \n",
       "(Intercept) -0.19169    1.32282  -0.145  0.88478   \n",
       "femWomen     0.63593    0.84892   0.749  0.45379   \n",
       "marMarried  -1.49947    0.93867  -1.597  0.11017   \n",
       "kid5         0.62843    0.44278   1.419  0.15582   \n",
       "phd         -0.03771    0.30801  -0.122  0.90254   \n",
       "ment        -0.88229    0.31623  -2.790  0.00527 **\n",
       "---\n",
       "Signif. codes:  0 '***' 0.001 '**' 0.01 '*' 0.05 '.' 0.1 ' ' 1 \n",
       "\n",
       "Theta = 2.6548 \n",
       "Number of iterations in BFGS optimization: 43 \n",
       "Log-likelihood: -1550 on 13 Df"
      ]
     },
     "metadata": {},
     "output_type": "display_data"
    }
   ],
   "source": [
    "zinb = zeroinfl(art ~ fem + mar + kid5 + phd + ment | fem + mar + kid5 + phd + ment, data = couart, dist=\"negbin\")\n",
    "summary(zinb)"
   ]
  },
  {
   "cell_type": "markdown",
   "metadata": {},
   "source": [
    "使用vuong函数可以检验两个非嵌套模型的拟合度。其原假设是两个模型不具有区分度（拟合度相似）。"
   ]
  },
  {
   "cell_type": "code",
   "execution_count": 18,
   "metadata": {},
   "outputs": [
    {
     "name": "stdout",
     "output_type": "stream",
     "text": [
      "Vuong Non-Nested Hypothesis Test-Statistic: \n",
      "(test-statistic is asymptotically distributed N(0,1) under the\n",
      " null that the models are indistinguishible)\n",
      "-------------------------------------------------------------\n",
      "              Vuong z-statistic             H_A  p-value\n",
      "Raw                   -2.241831 model2 > model1 0.012486\n",
      "AIC-corrected         -1.015385 model2 > model1 0.154961\n",
      "BIC-corrected          1.939690 model1 > model2 0.026209\n"
     ]
    }
   ],
   "source": [
    "vuong(mod_nb, zinb)"
   ]
  }
 ],
 "metadata": {
  "kernelspec": {
   "display_name": "R",
   "language": "R",
   "name": "r"
  },
  "language_info": {
   "codemirror_mode": "r",
   "file_extension": ".r",
   "mimetype": "text/x-r-source",
   "name": "R",
   "pygments_lexer": "r",
   "version": "3.4.3"
  }
 },
 "nbformat": 4,
 "nbformat_minor": 1
}
