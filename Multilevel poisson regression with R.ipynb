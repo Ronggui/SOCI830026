{
 "cells": [
  {
   "cell_type": "markdown",
   "metadata": {},
   "source": [
    "# 多层次泊松回归\n",
    "\n",
    "#### 黄荣贵（复旦大学社会学系）\n",
    "\n",
    "## 数据"
   ]
  },
  {
   "cell_type": "code",
   "execution_count": 1,
   "metadata": {
    "scrolled": true
   },
   "outputs": [
    {
     "name": "stderr",
     "output_type": "stream",
     "text": [
      "Loading required package: lme4\n",
      "Loading required package: Matrix\n"
     ]
    },
    {
     "data": {
      "text/html": [
       "<table>\n",
       "<thead><tr><th scope=col>nation</th><th scope=col>region</th><th scope=col>county</th><th scope=col>deaths</th><th scope=col>expected</th><th scope=col>uvb</th></tr></thead>\n",
       "<tbody>\n",
       "\t<tr><td>Belgium</td><td>1      </td><td>1      </td><td>79     </td><td>51.2220</td><td>-2.9057</td></tr>\n",
       "\t<tr><td>Belgium</td><td>2      </td><td>2      </td><td>80     </td><td>79.9560</td><td>-3.2075</td></tr>\n",
       "\t<tr><td>Belgium</td><td>2      </td><td>3      </td><td>51     </td><td>46.5169</td><td>-2.8038</td></tr>\n",
       "\t<tr><td>Belgium</td><td>2      </td><td>4      </td><td>43     </td><td>55.0530</td><td>-3.0069</td></tr>\n",
       "\t<tr><td>Belgium</td><td>2      </td><td>5      </td><td>89     </td><td>67.7580</td><td>-3.0069</td></tr>\n",
       "\t<tr><td>Belgium</td><td>2      </td><td>6      </td><td>19     </td><td>35.9760</td><td>-3.4175</td></tr>\n",
       "</tbody>\n",
       "</table>\n"
      ],
      "text/latex": [
       "\\begin{tabular}{r|llllll}\n",
       " nation & region & county & deaths & expected & uvb\\\\\n",
       "\\hline\n",
       "\t Belgium & 1       & 1       & 79      & 51.2220 & -2.9057\\\\\n",
       "\t Belgium & 2       & 2       & 80      & 79.9560 & -3.2075\\\\\n",
       "\t Belgium & 2       & 3       & 51      & 46.5169 & -2.8038\\\\\n",
       "\t Belgium & 2       & 4       & 43      & 55.0530 & -3.0069\\\\\n",
       "\t Belgium & 2       & 5       & 89      & 67.7580 & -3.0069\\\\\n",
       "\t Belgium & 2       & 6       & 19      & 35.9760 & -3.4175\\\\\n",
       "\\end{tabular}\n"
      ],
      "text/markdown": [
       "\n",
       "nation | region | county | deaths | expected | uvb | \n",
       "|---|---|---|---|---|---|\n",
       "| Belgium | 1       | 1       | 79      | 51.2220 | -2.9057 | \n",
       "| Belgium | 2       | 2       | 80      | 79.9560 | -3.2075 | \n",
       "| Belgium | 2       | 3       | 51      | 46.5169 | -2.8038 | \n",
       "| Belgium | 2       | 4       | 43      | 55.0530 | -3.0069 | \n",
       "| Belgium | 2       | 5       | 89      | 67.7580 | -3.0069 | \n",
       "| Belgium | 2       | 6       | 19      | 35.9760 | -3.4175 | \n",
       "\n",
       "\n"
      ],
      "text/plain": [
       "  nation  region county deaths expected uvb    \n",
       "1 Belgium 1      1      79     51.2220  -2.9057\n",
       "2 Belgium 2      2      80     79.9560  -3.2075\n",
       "3 Belgium 2      3      51     46.5169  -2.8038\n",
       "4 Belgium 2      4      43     55.0530  -3.0069\n",
       "5 Belgium 2      5      89     67.7580  -3.0069\n",
       "6 Belgium 2      6      19     35.9760  -3.4175"
      ]
     },
     "metadata": {},
     "output_type": "display_data"
    }
   ],
   "source": [
    "library(mlmRev)\n",
    "\n",
    "head(Mmmec)"
   ]
  },
  {
   "cell_type": "markdown",
   "metadata": {},
   "source": [
    "## 随机截距模型"
   ]
  },
  {
   "cell_type": "code",
   "execution_count": 14,
   "metadata": {},
   "outputs": [
    {
     "data": {
      "text/plain": [
       "Generalized linear mixed model fit by maximum likelihood (Laplace\n",
       "  Approximation) [glmerMod]\n",
       " Family: poisson  ( log )\n",
       "Formula: deaths ~ uvb + (1 | region)\n",
       "   Data: Mmmec\n",
       " Offset: log(expected)\n",
       "\n",
       "     AIC      BIC   logLik deviance df.resid \n",
       "  2256.4   2268.0  -1125.2   2250.4      351 \n",
       "\n",
       "Scaled residuals: \n",
       "    Min      1Q  Median      3Q     Max \n",
       "-3.6593 -0.7340 -0.0528  0.6122  4.2276 \n",
       "\n",
       "Random effects:\n",
       " Groups Name        Variance Std.Dev.\n",
       " region (Intercept) 0.1697   0.4119  \n",
       "Number of obs: 354, groups:  region, 78\n",
       "\n",
       "Fixed effects:\n",
       "            Estimate Std. Error z value Pr(>|z|)    \n",
       "(Intercept) -0.13859    0.04934  -2.809 0.004971 ** \n",
       "uvb         -0.03443    0.01002  -3.435 0.000593 ***\n",
       "---\n",
       "Signif. codes:  0 ‘***’ 0.001 ‘**’ 0.01 ‘*’ 0.05 ‘.’ 0.1 ‘ ’ 1\n",
       "\n",
       "Correlation of Fixed Effects:\n",
       "    (Intr)\n",
       "uvb 0.047 "
      ]
     },
     "metadata": {},
     "output_type": "display_data"
    }
   ],
   "source": [
    "library(lme4)\n",
    "\n",
    "m1= glmer(deaths ~ uvb + (1|region), data=Mmmec, \n",
    "          family=poisson, offset=log(expected))\n",
    "\n",
    "summary(m1)"
   ]
  },
  {
   "cell_type": "markdown",
   "metadata": {},
   "source": [
    "## 随机系数模型"
   ]
  },
  {
   "cell_type": "code",
   "execution_count": 20,
   "metadata": {},
   "outputs": [
    {
     "data": {
      "text/plain": [
       "Generalized linear mixed model fit by maximum likelihood (Laplace\n",
       "  Approximation) [glmerMod]\n",
       " Family: poisson  ( log )\n",
       "Formula: deaths ~ uvb + (uvb + 1 | region)\n",
       "   Data: Mmmec\n",
       " Offset: log(expected)\n",
       "\n",
       "     AIC      BIC   logLik deviance df.resid \n",
       "  2257.4   2276.7  -1123.7   2247.4      349 \n",
       "\n",
       "Scaled residuals: \n",
       "    Min      1Q  Median      3Q     Max \n",
       "-3.6536 -0.7579 -0.0382  0.6025  4.2340 \n",
       "\n",
       "Random effects:\n",
       " Groups Name        Variance  Std.Dev. Corr \n",
       " region (Intercept) 0.1558804 0.39482       \n",
       "        uvb         0.0002171 0.01473  -1.00\n",
       "Number of obs: 354, groups:  region, 78\n",
       "\n",
       "Fixed effects:\n",
       "             Estimate Std. Error z value Pr(>|z|)    \n",
       "(Intercept) -0.149307   0.048105  -3.104  0.00191 ** \n",
       "uvb         -0.037124   0.008658  -4.288 1.81e-05 ***\n",
       "---\n",
       "Signif. codes:  0 ‘***’ 0.001 ‘**’ 0.01 ‘*’ 0.05 ‘.’ 0.1 ‘ ’ 1\n",
       "\n",
       "Correlation of Fixed Effects:\n",
       "    (Intr)\n",
       "uvb -0.253"
      ]
     },
     "metadata": {},
     "output_type": "display_data"
    }
   ],
   "source": [
    "m2= glmer(deaths ~ uvb + (uvb + 1|region), data=Mmmec, \n",
    "          family=poisson, offset=log(expected))\n",
    "\n",
    "summary(m2)"
   ]
  },
  {
   "cell_type": "code",
   "execution_count": 2,
   "metadata": {},
   "outputs": [
    {
     "data": {
      "text/plain": [
       "Generalized linear mixed model fit by maximum likelihood (Laplace\n",
       "  Approximation) [glmerMod]\n",
       " Family: poisson  ( log )\n",
       "Formula: deaths ~ uvb + (uvb + 1 || region)\n",
       "   Data: Mmmec\n",
       " Offset: log(expected)\n",
       "\n",
       "     AIC      BIC   logLik deviance df.resid \n",
       "  2258.4   2273.9  -1125.2   2250.4      350 \n",
       "\n",
       "Scaled residuals: \n",
       "    Min      1Q  Median      3Q     Max \n",
       "-3.6593 -0.7340 -0.0528  0.6122  4.2276 \n",
       "\n",
       "Random effects:\n",
       " Groups   Name        Variance Std.Dev.\n",
       " region   (Intercept) 0.1697   0.4119  \n",
       " region.1 uvb         0.0000   0.0000  \n",
       "Number of obs: 354, groups:  region, 78\n",
       "\n",
       "Fixed effects:\n",
       "            Estimate Std. Error z value Pr(>|z|)    \n",
       "(Intercept) -0.13859    0.04934  -2.809 0.004971 ** \n",
       "uvb         -0.03443    0.01002  -3.435 0.000592 ***\n",
       "---\n",
       "Signif. codes:  0 ‘***’ 0.001 ‘**’ 0.01 ‘*’ 0.05 ‘.’ 0.1 ‘ ’ 1\n",
       "\n",
       "Correlation of Fixed Effects:\n",
       "    (Intr)\n",
       "uvb 0.047 "
      ]
     },
     "metadata": {},
     "output_type": "display_data"
    }
   ],
   "source": [
    "m3 = glmer(deaths ~ uvb + (uvb + 1||region), data=Mmmec, \n",
    "          family=poisson, offset=log(expected))\n",
    "\n",
    "summary(m3)"
   ]
  },
  {
   "cell_type": "markdown",
   "metadata": {},
   "source": [
    "更多相关信息，请查看glmer的帮助文件：\n",
    "```R\n",
    "help(glmer)\n",
    "```"
   ]
  }
 ],
 "metadata": {
  "kernelspec": {
   "display_name": "R",
   "language": "R",
   "name": "ir"
  },
  "language_info": {
   "codemirror_mode": "r",
   "file_extension": ".r",
   "mimetype": "text/x-r-source",
   "name": "R",
   "pygments_lexer": "r",
   "version": "3.4.3"
  }
 },
 "nbformat": 4,
 "nbformat_minor": 1
}
