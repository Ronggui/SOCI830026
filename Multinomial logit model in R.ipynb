{
 "cells": [
  {
   "cell_type": "markdown",
   "metadata": {},
   "source": [
    "### 多项逻辑斯蒂回归\n",
    "\n",
    "黄荣贵（复旦大学社会学系）"
   ]
  },
  {
   "cell_type": "code",
   "execution_count": 1,
   "metadata": {
    "scrolled": true
   },
   "outputs": [
    {
     "data": {
      "text/html": [
       "<table>\n",
       "<thead><tr><th scope=col>occ</th><th scope=col>white</th><th scope=col>ed</th><th scope=col>exper</th></tr></thead>\n",
       "<tbody>\n",
       "\t<tr><td>Menial</td><td>1     </td><td>11    </td><td> 3    </td></tr>\n",
       "\t<tr><td>Menial</td><td>1     </td><td>12    </td><td>14    </td></tr>\n",
       "\t<tr><td>Menial</td><td>1     </td><td>12    </td><td>44    </td></tr>\n",
       "\t<tr><td>Menial</td><td>1     </td><td>12    </td><td>18    </td></tr>\n",
       "\t<tr><td>Menial</td><td>0     </td><td>14    </td><td>24    </td></tr>\n",
       "\t<tr><td>Menial</td><td>1     </td><td>13    </td><td>38    </td></tr>\n",
       "</tbody>\n",
       "</table>\n"
      ],
      "text/latex": [
       "\\begin{tabular}{r|llll}\n",
       " occ & white & ed & exper\\\\\n",
       "\\hline\n",
       "\t Menial & 1      & 11     &  3    \\\\\n",
       "\t Menial & 1      & 12     & 14    \\\\\n",
       "\t Menial & 1      & 12     & 44    \\\\\n",
       "\t Menial & 1      & 12     & 18    \\\\\n",
       "\t Menial & 0      & 14     & 24    \\\\\n",
       "\t Menial & 1      & 13     & 38    \\\\\n",
       "\\end{tabular}\n"
      ],
      "text/markdown": [
       "\n",
       "occ | white | ed | exper | \n",
       "|---|---|---|---|---|---|\n",
       "| Menial | 1      | 11     |  3     | \n",
       "| Menial | 1      | 12     | 14     | \n",
       "| Menial | 1      | 12     | 44     | \n",
       "| Menial | 1      | 12     | 18     | \n",
       "| Menial | 0      | 14     | 24     | \n",
       "| Menial | 1      | 13     | 38     | \n",
       "\n",
       "\n"
      ],
      "text/plain": [
       "  occ    white ed exper\n",
       "1 Menial 1     11  3   \n",
       "2 Menial 1     12 14   \n",
       "3 Menial 1     12 44   \n",
       "4 Menial 1     12 18   \n",
       "5 Menial 0     14 24   \n",
       "6 Menial 1     13 38   "
      ]
     },
     "metadata": {},
     "output_type": "display_data"
    }
   ],
   "source": [
    "library(foreign)\n",
    "occD <- read.dta(\"datasets//nomocc2.dta\")\n",
    "\n",
    "head(occD)"
   ]
  },
  {
   "cell_type": "markdown",
   "metadata": {},
   "source": [
    "#### 使用nnet程序包"
   ]
  },
  {
   "cell_type": "code",
   "execution_count": 2,
   "metadata": {},
   "outputs": [
    {
     "name": "stdout",
     "output_type": "stream",
     "text": [
      "# weights:  25 (16 variable)\n",
      "initial  value 542.380576 \n",
      "iter  10 value 472.154249\n",
      "iter  20 value 426.809681\n",
      "final  value 426.800478 \n",
      "converged\n"
     ]
    },
    {
     "data": {
      "text/plain": [
       "Call:\n",
       "multinom(formula = occ ~ white + ed + exper, data = occD)\n",
       "\n",
       "Coefficients:\n",
       "         (Intercept)    white          ed       exper\n",
       "BlueCol    0.7412827 1.236558 -0.09943147 0.004719346\n",
       "Craft     -1.0910811 0.472306  0.09379499 0.027682191\n",
       "WhiteCol  -6.2384895 1.571375  0.35314716 0.034594267\n",
       "Prof     -11.5181636 1.774363  0.77883489 0.035648251\n",
       "\n",
       "Std. Errors:\n",
       "         (Intercept)     white         ed      exper\n",
       "BlueCol     1.519529 0.7244381 0.10227986 0.01739809\n",
       "Craft       1.450197 0.6042998 0.09755328 0.01667341\n",
       "WhiteCol    1.899080 0.9027137 0.11727718 0.01882913\n",
       "Prof        1.849340 0.7550515 0.11462750 0.01803671\n",
       "\n",
       "Value/SE (Wald statistics):\n",
       "         (Intercept)     white         ed     exper\n",
       "BlueCol    0.4878370 1.7069200 -0.9721511 0.2712565\n",
       "Craft     -0.7523678 0.7815757  0.9614745 1.6602599\n",
       "WhiteCol  -3.2850055 1.7407236  3.0112179 1.8372742\n",
       "Prof      -6.2282575 2.3499897  6.7944853 1.9764280\n",
       "\n",
       "Residual Deviance: 853.601 \n",
       "AIC: 885.601 "
      ]
     },
     "metadata": {},
     "output_type": "display_data"
    }
   ],
   "source": [
    "## use nnet package\n",
    "library(nnet)\n",
    "m <- multinom(occ ~ white + ed + exper, data = occD)\n",
    "summary(m, Wald=TRUE)"
   ]
  },
  {
   "cell_type": "markdown",
   "metadata": {},
   "source": [
    "#### 使用VGAM程序包"
   ]
  },
  {
   "cell_type": "code",
   "execution_count": 3,
   "metadata": {},
   "outputs": [
    {
     "name": "stderr",
     "output_type": "stream",
     "text": [
      "Loading required package: stats4\n",
      "Loading required package: splines\n"
     ]
    },
    {
     "data": {
      "text/plain": [
       "\n",
       "Call:\n",
       "vglm(formula = occ ~ white + ed + exper, family = multinomial, \n",
       "    data = occD)\n",
       "\n",
       "\n",
       "Pearson residuals:\n",
       "                      Min      1Q  Median       3Q   Max\n",
       "log(mu[,1]/mu[,5]) -6.101 -0.2636 -0.2055 -0.10910 6.221\n",
       "log(mu[,2]/mu[,5]) -6.848 -0.4473 -0.2719 -0.06829 4.976\n",
       "log(mu[,3]/mu[,5]) -6.663 -0.4976 -0.3694 -0.06182 2.912\n",
       "log(mu[,4]/mu[,5]) -5.657 -0.3991 -0.2312 -0.18398 3.800\n",
       "\n",
       "Coefficients: \n",
       "               Estimate Std. Error z value Pr(>|z|)    \n",
       "(Intercept):1 11.518331   1.849347   6.228 4.71e-10 ***\n",
       "(Intercept):2 12.259564   1.668134   7.349 1.99e-13 ***\n",
       "(Intercept):3 10.426978   1.517933   6.869 6.46e-12 ***\n",
       "(Intercept):4  5.279722   1.683988   3.135  0.00172 ** \n",
       "white:1       -1.774306   0.755052  -2.350  0.01878 *  \n",
       "white:2       -0.537803   0.799601  -0.673  0.50121    \n",
       "white:3       -1.301963   0.647414  -2.011  0.04432 *  \n",
       "white:4       -0.202921   0.869302  -0.233  0.81543    \n",
       "ed:1          -0.778852   0.114629  -6.795 1.09e-11 ***\n",
       "ed:2          -0.878277   0.100544  -8.735  < 2e-16 ***\n",
       "ed:3          -0.685037   0.089299  -7.671 1.70e-14 ***\n",
       "ed:4          -0.425694   0.092218  -4.616 3.91e-06 ***\n",
       "exper:1       -0.035651   0.018037  -1.977  0.04809 *  \n",
       "exper:2       -0.030930   0.014409  -2.147  0.03182 *  \n",
       "exper:3       -0.007967   0.012705  -0.627  0.53062    \n",
       "exper:4       -0.001055   0.014358  -0.073  0.94142    \n",
       "---\n",
       "Signif. codes:  0 ‘***’ 0.001 ‘**’ 0.01 ‘*’ 0.05 ‘.’ 0.1 ‘ ’ 1\n",
       "\n",
       "Number of linear predictors:  4 \n",
       "\n",
       "Names of linear predictors: \n",
       "log(mu[,1]/mu[,5]), log(mu[,2]/mu[,5]), log(mu[,3]/mu[,5]), log(mu[,4]/mu[,5])\n",
       "\n",
       "Residual deviance: 853.601 on 1332 degrees of freedom\n",
       "\n",
       "Log-likelihood: -426.8005 on 1332 degrees of freedom\n",
       "\n",
       "Number of iterations: 5 \n",
       "\n",
       "Warning: Hauck-Donner effect detected in the following estimate(s):\n",
       "'ed:1', 'ed:2', 'ed:3', 'ed:4'\n",
       "\n",
       "Reference group is level  5  of the response"
      ]
     },
     "metadata": {},
     "output_type": "display_data"
    }
   ],
   "source": [
    "library(VGAM)\n",
    "mlogit_mod <- vglm(occ ~ white + ed + exper, family=multinomial, data = occD)\n",
    "summary(mlogit_mod)"
   ]
  },
  {
   "cell_type": "code",
   "execution_count": 4,
   "metadata": {},
   "outputs": [
    {
     "data": {
      "text/html": [
       "<table>\n",
       "<thead><tr><th></th><th scope=col>Menial</th><th scope=col>BlueCol</th><th scope=col>Craft</th><th scope=col>WhiteCol</th><th scope=col>Prof</th></tr></thead>\n",
       "<tbody>\n",
       "\t<tr><th scope=row>1</th><td>0.16812947</td><td>0.41280019</td><td>0.2760953 </td><td>0.08528796</td><td>0.05768713</td></tr>\n",
       "\t<tr><th scope=row>2</th><td>0.12578155</td><td>0.29450178</td><td>0.3076293 </td><td>0.13289479</td><td>0.13919256</td></tr>\n",
       "\t<tr><th scope=row>3</th><td>0.06444563</td><td>0.17385084</td><td>0.3616529 </td><td>0.19223310</td><td>0.20781752</td></tr>\n",
       "\t<tr><th scope=row>4</th><td>0.11617443</td><td>0.27719357</td><td>0.3174044 </td><td>0.14096156</td><td>0.14826600</td></tr>\n",
       "\t<tr><th scope=row>5</th><td>0.16913829</td><td>0.09882141</td><td>0.4104240 </td><td>0.10633733</td><td>0.21527896</td></tr>\n",
       "\t<tr><th scope=row>6</th><td>0.05643905</td><td>0.13399265</td><td>0.2946349 </td><td>0.19473324</td><td>0.32020018</td></tr>\n",
       "</tbody>\n",
       "</table>\n"
      ],
      "text/latex": [
       "\\begin{tabular}{r|lllll}\n",
       "  & Menial & BlueCol & Craft & WhiteCol & Prof\\\\\n",
       "\\hline\n",
       "\t1 & 0.16812947 & 0.41280019 & 0.2760953  & 0.08528796 & 0.05768713\\\\\n",
       "\t2 & 0.12578155 & 0.29450178 & 0.3076293  & 0.13289479 & 0.13919256\\\\\n",
       "\t3 & 0.06444563 & 0.17385084 & 0.3616529  & 0.19223310 & 0.20781752\\\\\n",
       "\t4 & 0.11617443 & 0.27719357 & 0.3174044  & 0.14096156 & 0.14826600\\\\\n",
       "\t5 & 0.16913829 & 0.09882141 & 0.4104240  & 0.10633733 & 0.21527896\\\\\n",
       "\t6 & 0.05643905 & 0.13399265 & 0.2946349  & 0.19473324 & 0.32020018\\\\\n",
       "\\end{tabular}\n"
      ],
      "text/markdown": [
       "\n",
       "| <!--/--> | Menial | BlueCol | Craft | WhiteCol | Prof | \n",
       "|---|---|---|---|---|---|\n",
       "| 1 | 0.16812947 | 0.41280019 | 0.2760953  | 0.08528796 | 0.05768713 | \n",
       "| 2 | 0.12578155 | 0.29450178 | 0.3076293  | 0.13289479 | 0.13919256 | \n",
       "| 3 | 0.06444563 | 0.17385084 | 0.3616529  | 0.19223310 | 0.20781752 | \n",
       "| 4 | 0.11617443 | 0.27719357 | 0.3174044  | 0.14096156 | 0.14826600 | \n",
       "| 5 | 0.16913829 | 0.09882141 | 0.4104240  | 0.10633733 | 0.21527896 | \n",
       "| 6 | 0.05643905 | 0.13399265 | 0.2946349  | 0.19473324 | 0.32020018 | \n",
       "\n",
       "\n"
      ],
      "text/plain": [
       "  Menial     BlueCol    Craft     WhiteCol   Prof      \n",
       "1 0.16812947 0.41280019 0.2760953 0.08528796 0.05768713\n",
       "2 0.12578155 0.29450178 0.3076293 0.13289479 0.13919256\n",
       "3 0.06444563 0.17385084 0.3616529 0.19223310 0.20781752\n",
       "4 0.11617443 0.27719357 0.3174044 0.14096156 0.14826600\n",
       "5 0.16913829 0.09882141 0.4104240 0.10633733 0.21527896\n",
       "6 0.05643905 0.13399265 0.2946349 0.19473324 0.32020018"
      ]
     },
     "metadata": {},
     "output_type": "display_data"
    }
   ],
   "source": [
    "predProb = predict(mlogit_mod, type=\"response\")\n",
    "head(predProb)"
   ]
  },
  {
   "cell_type": "code",
   "execution_count": 5,
   "metadata": {},
   "outputs": [
    {
     "data": {
      "text/html": [
       "<table>\n",
       "<thead><tr><th scope=col>occ</th><th scope=col>white</th><th scope=col>ed</th><th scope=col>exper</th></tr></thead>\n",
       "<tbody>\n",
       "\t<tr><td>Menial</td><td>1     </td><td>11    </td><td> 3    </td></tr>\n",
       "\t<tr><td>Menial</td><td>1     </td><td>12    </td><td>14    </td></tr>\n",
       "\t<tr><td>Menial</td><td>1     </td><td>12    </td><td>44    </td></tr>\n",
       "\t<tr><td>Menial</td><td>1     </td><td>12    </td><td>18    </td></tr>\n",
       "\t<tr><td>Menial</td><td>0     </td><td>14    </td><td>24    </td></tr>\n",
       "\t<tr><td>Menial</td><td>1     </td><td>13    </td><td>38    </td></tr>\n",
       "</tbody>\n",
       "</table>\n"
      ],
      "text/latex": [
       "\\begin{tabular}{r|llll}\n",
       " occ & white & ed & exper\\\\\n",
       "\\hline\n",
       "\t Menial & 1      & 11     &  3    \\\\\n",
       "\t Menial & 1      & 12     & 14    \\\\\n",
       "\t Menial & 1      & 12     & 44    \\\\\n",
       "\t Menial & 1      & 12     & 18    \\\\\n",
       "\t Menial & 0      & 14     & 24    \\\\\n",
       "\t Menial & 1      & 13     & 38    \\\\\n",
       "\\end{tabular}\n"
      ],
      "text/markdown": [
       "\n",
       "occ | white | ed | exper | \n",
       "|---|---|---|---|---|---|\n",
       "| Menial | 1      | 11     |  3     | \n",
       "| Menial | 1      | 12     | 14     | \n",
       "| Menial | 1      | 12     | 44     | \n",
       "| Menial | 1      | 12     | 18     | \n",
       "| Menial | 0      | 14     | 24     | \n",
       "| Menial | 1      | 13     | 38     | \n",
       "\n",
       "\n"
      ],
      "text/plain": [
       "  occ    white ed exper\n",
       "1 Menial 1     11  3   \n",
       "2 Menial 1     12 14   \n",
       "3 Menial 1     12 44   \n",
       "4 Menial 1     12 18   \n",
       "5 Menial 0     14 24   \n",
       "6 Menial 1     13 38   "
      ]
     },
     "metadata": {},
     "output_type": "display_data"
    }
   ],
   "source": [
    "mf = model.frame(mlogit_mod)\n",
    "head(mf)"
   ]
  },
  {
   "cell_type": "code",
   "execution_count": 6,
   "metadata": {},
   "outputs": [
    {
     "data": {
      "text/plain": [
       "       occ          white              ed            exper     \n",
       " Menial  : 31   Min.   :0.0000   Min.   : 3.00   Min.   : 2.0  \n",
       " BlueCol : 69   1st Qu.:1.0000   1st Qu.:12.00   1st Qu.: 9.0  \n",
       " Craft   : 84   Median :1.0000   Median :12.00   Median :17.0  \n",
       " WhiteCol: 41   Mean   :0.9169   Mean   :13.09   Mean   :20.5  \n",
       " Prof    :112   3rd Qu.:1.0000   3rd Qu.:15.00   3rd Qu.:31.0  \n",
       "                Max.   :1.0000   Max.   :20.00   Max.   :66.0  "
      ]
     },
     "metadata": {},
     "output_type": "display_data"
    }
   ],
   "source": [
    "summary(mf)"
   ]
  },
  {
   "cell_type": "code",
   "execution_count": 7,
   "metadata": {},
   "outputs": [
    {
     "data": {
      "text/plain": [
       "       occ          white              ed            exper     \n",
       " Menial  : 31   Min.   :0.0000   Min.   : 3.00   Min.   : 2.0  \n",
       " BlueCol : 69   1st Qu.:1.0000   1st Qu.:12.00   1st Qu.: 9.0  \n",
       " Craft   : 84   Median :1.0000   Median :12.00   Median :17.0  \n",
       " WhiteCol: 41   Mean   :0.9169   Mean   :13.09   Mean   :20.5  \n",
       " Prof    :112   3rd Qu.:1.0000   3rd Qu.:15.00   3rd Qu.:31.0  \n",
       "                Max.   :1.0000   Max.   :20.00   Max.   :66.0  "
      ]
     },
     "metadata": {},
     "output_type": "display_data"
    }
   ],
   "source": [
    "summary(occD)"
   ]
  },
  {
   "cell_type": "code",
   "execution_count": 8,
   "metadata": {},
   "outputs": [
    {
     "data": {
      "text/html": [
       "<table>\n",
       "<thead><tr><th scope=col>white</th><th scope=col>ed</th><th scope=col>exper</th></tr></thead>\n",
       "<tbody>\n",
       "\t<tr><td>0.917</td><td> 3   </td><td>20.5 </td></tr>\n",
       "\t<tr><td>0.917</td><td> 4   </td><td>20.5 </td></tr>\n",
       "\t<tr><td>0.917</td><td> 5   </td><td>20.5 </td></tr>\n",
       "\t<tr><td>0.917</td><td> 6   </td><td>20.5 </td></tr>\n",
       "\t<tr><td>0.917</td><td> 7   </td><td>20.5 </td></tr>\n",
       "\t<tr><td>0.917</td><td> 8   </td><td>20.5 </td></tr>\n",
       "\t<tr><td>0.917</td><td> 9   </td><td>20.5 </td></tr>\n",
       "\t<tr><td>0.917</td><td>10   </td><td>20.5 </td></tr>\n",
       "\t<tr><td>0.917</td><td>11   </td><td>20.5 </td></tr>\n",
       "\t<tr><td>0.917</td><td>12   </td><td>20.5 </td></tr>\n",
       "</tbody>\n",
       "</table>\n"
      ],
      "text/latex": [
       "\\begin{tabular}{r|lll}\n",
       " white & ed & exper\\\\\n",
       "\\hline\n",
       "\t 0.917 &  3    & 20.5 \\\\\n",
       "\t 0.917 &  4    & 20.5 \\\\\n",
       "\t 0.917 &  5    & 20.5 \\\\\n",
       "\t 0.917 &  6    & 20.5 \\\\\n",
       "\t 0.917 &  7    & 20.5 \\\\\n",
       "\t 0.917 &  8    & 20.5 \\\\\n",
       "\t 0.917 &  9    & 20.5 \\\\\n",
       "\t 0.917 & 10    & 20.5 \\\\\n",
       "\t 0.917 & 11    & 20.5 \\\\\n",
       "\t 0.917 & 12    & 20.5 \\\\\n",
       "\\end{tabular}\n"
      ],
      "text/markdown": [
       "\n",
       "white | ed | exper | \n",
       "|---|---|---|---|---|---|---|---|---|---|\n",
       "| 0.917 |  3    | 20.5  | \n",
       "| 0.917 |  4    | 20.5  | \n",
       "| 0.917 |  5    | 20.5  | \n",
       "| 0.917 |  6    | 20.5  | \n",
       "| 0.917 |  7    | 20.5  | \n",
       "| 0.917 |  8    | 20.5  | \n",
       "| 0.917 |  9    | 20.5  | \n",
       "| 0.917 | 10    | 20.5  | \n",
       "| 0.917 | 11    | 20.5  | \n",
       "| 0.917 | 12    | 20.5  | \n",
       "\n",
       "\n"
      ],
      "text/plain": [
       "   white ed exper\n",
       "1  0.917  3 20.5 \n",
       "2  0.917  4 20.5 \n",
       "3  0.917  5 20.5 \n",
       "4  0.917  6 20.5 \n",
       "5  0.917  7 20.5 \n",
       "6  0.917  8 20.5 \n",
       "7  0.917  9 20.5 \n",
       "8  0.917 10 20.5 \n",
       "9  0.917 11 20.5 \n",
       "10 0.917 12 20.5 "
      ]
     },
     "metadata": {},
     "output_type": "display_data"
    }
   ],
   "source": [
    "newData= data.frame(white=0.917, ed=3:20, exper=20.5)\n",
    "head(newData, 10)"
   ]
  },
  {
   "cell_type": "code",
   "execution_count": 9,
   "metadata": {
    "scrolled": true
   },
   "outputs": [
    {
     "data": {
      "text/html": [
       "<table>\n",
       "<thead><tr><th></th><th scope=col>Menial</th><th scope=col>BlueCol</th><th scope=col>Craft</th><th scope=col>WhiteCol</th><th scope=col>Prof</th></tr></thead>\n",
       "<tbody>\n",
       "\t<tr><th scope=row>1</th><td>0.1317343   </td><td>0.7023318   </td><td>0.1594192   </td><td>0.006371450 </td><td>0.0001432584</td></tr>\n",
       "\t<tr><th scope=row>2</th><td>0.1383651   </td><td>0.6678676   </td><td>0.1839128   </td><td>0.009526653 </td><td>0.0003278678</td></tr>\n",
       "\t<tr><th scope=row>3</th><td>0.1442351   </td><td>0.6303115   </td><td>0.2105716   </td><td>0.014137064 </td><td>0.0007447222</td></tr>\n",
       "</tbody>\n",
       "</table>\n"
      ],
      "text/latex": [
       "\\begin{tabular}{r|lllll}\n",
       "  & Menial & BlueCol & Craft & WhiteCol & Prof\\\\\n",
       "\\hline\n",
       "\t1 & 0.1317343    & 0.7023318    & 0.1594192    & 0.006371450  & 0.0001432584\\\\\n",
       "\t2 & 0.1383651    & 0.6678676    & 0.1839128    & 0.009526653  & 0.0003278678\\\\\n",
       "\t3 & 0.1442351    & 0.6303115    & 0.2105716    & 0.014137064  & 0.0007447222\\\\\n",
       "\\end{tabular}\n"
      ],
      "text/markdown": [
       "\n",
       "| <!--/--> | Menial | BlueCol | Craft | WhiteCol | Prof | \n",
       "|---|---|---|\n",
       "| 1 | 0.1317343    | 0.7023318    | 0.1594192    | 0.006371450  | 0.0001432584 | \n",
       "| 2 | 0.1383651    | 0.6678676    | 0.1839128    | 0.009526653  | 0.0003278678 | \n",
       "| 3 | 0.1442351    | 0.6303115    | 0.2105716    | 0.014137064  | 0.0007447222 | \n",
       "\n",
       "\n"
      ],
      "text/plain": [
       "  Menial    BlueCol   Craft     WhiteCol    Prof        \n",
       "1 0.1317343 0.7023318 0.1594192 0.006371450 0.0001432584\n",
       "2 0.1383651 0.6678676 0.1839128 0.009526653 0.0003278678\n",
       "3 0.1442351 0.6303115 0.2105716 0.014137064 0.0007447222"
      ]
     },
     "metadata": {},
     "output_type": "display_data"
    }
   ],
   "source": [
    "predProb = predict(mlogit_mod, newData, type=\"response\")\n",
    "head(predProb, 3)"
   ]
  },
  {
   "cell_type": "code",
   "execution_count": 10,
   "metadata": {
    "scrolled": true
   },
   "outputs": [
    {
     "data": {
      "image/png": "[encoded data removed]",
      "text/plain": [
       "plot without title"
      ]
     },
     "metadata": {},
     "output_type": "display_data"
    }
   ],
   "source": [
    "plot(x=3:20, y=predProb[,1], type=\"l\", ylim=c(0,1) , ylab=\"predicted prob\", xlab=\"education\")\n",
    "lines(x=3:20, y=predProb[,2], col=\"blue\", lty=5)\n",
    "lines(x=3:20, y=predProb[,3], col=\"red\", lty=4)\n",
    "lines(x=3:20, y=predProb[,4], col=\"green\", lty=3)\n",
    "lines(x=3:20, y=predProb[,5], lty=2, lwd=2)\n",
    "\n",
    "legend(x=4, y=0.95, legend=c('Menial', 'BlueCol', 'Craft', 'WhiteCol','Prof'), \n",
    "       col=c(\"black\", \"blue\", \"red\", \"green\", \"black\"), lty=c(1, 5, 4, 3, 2), lwd=c(1, 1, 1, 1, 2))"
   ]
  },
  {
   "cell_type": "markdown",
   "metadata": {},
   "source": [
    "关于图例的制作，参见 help(legend)"
   ]
  },
  {
   "cell_type": "markdown",
   "metadata": {},
   "source": [
    "#### 使用mlogit程序包"
   ]
  },
  {
   "cell_type": "code",
   "execution_count": 11,
   "metadata": {},
   "outputs": [
    {
     "name": "stderr",
     "output_type": "stream",
     "text": [
      "Loading required package: Formula\n",
      "Loading required package: maxLik\n",
      "Loading required package: miscTools\n",
      "\n",
      "Please cite the 'maxLik' package as:\n",
      "Henningsen, Arne and Toomet, Ott (2011). maxLik: A package for maximum likelihood estimation in R. Computational Statistics 26(3), 443-458. DOI 10.1007/s00180-010-0217-1.\n",
      "\n",
      "If you have questions, suggestions, or comments regarding the 'maxLik' package, please use a forum or 'tracker' at maxLik's R-Forge site:\n",
      "https://r-forge.r-project.org/projects/maxlik/\n",
      "\n",
      "Attaching package: ‘mlogit’\n",
      "\n",
      "The following object is masked from ‘package:VGAM’:\n",
      "\n",
      "    lrtest\n",
      "\n"
     ]
    },
    {
     "data": {
      "text/html": [
       "<table>\n",
       "<thead><tr><th></th><th scope=col>occ</th><th scope=col>white</th><th scope=col>ed</th><th scope=col>exper</th><th scope=col>chid</th><th scope=col>alt</th></tr></thead>\n",
       "<tbody>\n",
       "\t<tr><th scope=row>1.BlueCol</th><td>FALSE   </td><td>1       </td><td>11      </td><td> 3      </td><td>1       </td><td>BlueCol </td></tr>\n",
       "\t<tr><th scope=row>1.Craft</th><td>FALSE   </td><td>1       </td><td>11      </td><td> 3      </td><td>1       </td><td>Craft   </td></tr>\n",
       "\t<tr><th scope=row>1.Menial</th><td> TRUE   </td><td>1       </td><td>11      </td><td> 3      </td><td>1       </td><td>Menial  </td></tr>\n",
       "\t<tr><th scope=row>1.Prof</th><td>FALSE   </td><td>1       </td><td>11      </td><td> 3      </td><td>1       </td><td>Prof    </td></tr>\n",
       "\t<tr><th scope=row>1.WhiteCol</th><td>FALSE   </td><td>1       </td><td>11      </td><td> 3      </td><td>1       </td><td>WhiteCol</td></tr>\n",
       "\t<tr><th scope=row>2.BlueCol</th><td>FALSE   </td><td>1       </td><td>12      </td><td>14      </td><td>2       </td><td>BlueCol </td></tr>\n",
       "</tbody>\n",
       "</table>\n"
      ],
      "text/latex": [
       "\\begin{tabular}{r|llllll}\n",
       "  & occ & white & ed & exper & chid & alt\\\\\n",
       "\\hline\n",
       "\t1.BlueCol & FALSE    & 1        & 11       &  3       & 1        & BlueCol \\\\\n",
       "\t1.Craft & FALSE    & 1        & 11       &  3       & 1        & Craft   \\\\\n",
       "\t1.Menial &  TRUE    & 1        & 11       &  3       & 1        & Menial  \\\\\n",
       "\t1.Prof & FALSE    & 1        & 11       &  3       & 1        & Prof    \\\\\n",
       "\t1.WhiteCol & FALSE    & 1        & 11       &  3       & 1        & WhiteCol\\\\\n",
       "\t2.BlueCol & FALSE    & 1        & 12       & 14       & 2        & BlueCol \\\\\n",
       "\\end{tabular}\n"
      ],
      "text/markdown": [
       "\n",
       "| <!--/--> | occ | white | ed | exper | chid | alt | \n",
       "|---|---|---|---|---|---|\n",
       "| 1.BlueCol | FALSE    | 1        | 11       |  3       | 1        | BlueCol  | \n",
       "| 1.Craft | FALSE    | 1        | 11       |  3       | 1        | Craft    | \n",
       "| 1.Menial |  TRUE    | 1        | 11       |  3       | 1        | Menial   | \n",
       "| 1.Prof | FALSE    | 1        | 11       |  3       | 1        | Prof     | \n",
       "| 1.WhiteCol | FALSE    | 1        | 11       |  3       | 1        | WhiteCol | \n",
       "| 2.BlueCol | FALSE    | 1        | 12       | 14       | 2        | BlueCol  | \n",
       "\n",
       "\n"
      ],
      "text/plain": [
       "           occ   white ed exper chid alt     \n",
       "1.BlueCol  FALSE 1     11  3    1    BlueCol \n",
       "1.Craft    FALSE 1     11  3    1    Craft   \n",
       "1.Menial    TRUE 1     11  3    1    Menial  \n",
       "1.Prof     FALSE 1     11  3    1    Prof    \n",
       "1.WhiteCol FALSE 1     11  3    1    WhiteCol\n",
       "2.BlueCol  FALSE 1     12 14    2    BlueCol "
      ]
     },
     "metadata": {},
     "output_type": "display_data"
    }
   ],
   "source": [
    "## use mlogit package as well\n",
    "library(mlogit)\n",
    "occ_long <- mlogit.data(occD, choice=\"occ\", shape=\"wide\")\n",
    "head(occ_long)"
   ]
  },
  {
   "cell_type": "code",
   "execution_count": 12,
   "metadata": {
    "scrolled": true
   },
   "outputs": [
    {
     "data": {
      "text/plain": [
       "\n",
       "Call:\n",
       "mlogit(formula = occ ~ 0 | white + ed + exper, data = occ_long, \n",
       "    method = \"nr\", print.level = 0)\n",
       "\n",
       "Frequencies of alternatives:\n",
       " BlueCol    Craft   Menial     Prof WhiteCol \n",
       "0.204748 0.249258 0.091988 0.332344 0.121662 \n",
       "\n",
       "nr method\n",
       "5 iterations, 0h:0m:0s \n",
       "g'(-H)^-1g = 3.46E-08 \n",
       "gradient close to zero \n",
       "\n",
       "Coefficients :\n",
       "                        Estimate  Std. Error t-value  Pr(>|t|)    \n",
       "Craft:(intercept)     -1.8325864   1.1861143 -1.5450   0.12234    \n",
       "Menial:(intercept)    -0.7412336   1.5195399 -0.4878   0.62569    \n",
       "Prof:(intercept)     -12.2595643   1.6681445 -7.3492 1.994e-13 ***\n",
       "WhiteCol:(intercept)  -6.9798418   1.7143948 -4.0713 4.675e-05 ***\n",
       "Craft:white           -0.7641602   0.6324189 -1.2083   0.22693    \n",
       "Menial:white          -1.2365038   0.7244352 -1.7069   0.08785 .  \n",
       "Prof:white             0.5378027   0.7996033  0.6726   0.50121    \n",
       "WhiteCol:white         0.3348815   0.9340055  0.3585   0.71994    \n",
       "Craft:ed               0.1932401   0.0774975  2.4935   0.01265 *  \n",
       "Menial:ed              0.0994247   0.1022812  0.9721   0.33101    \n",
       "Prof:ed                0.8782767   0.1005446  8.7352 < 2.2e-16 ***\n",
       "WhiteCol:ed            0.4525824   0.1022678  4.4255 9.624e-06 ***\n",
       "Craft:exper            0.0229626   0.0125524  1.8293   0.06735 .  \n",
       "Menial:exper          -0.0047212   0.0173984 -0.2714   0.78611    \n",
       "Prof:exper             0.0309296   0.0144086  2.1466   0.03182 *  \n",
       "WhiteCol:exper         0.0298746   0.0152926  1.9535   0.05076 .  \n",
       "---\n",
       "Signif. codes:  0 ‘***’ 0.001 ‘**’ 0.01 ‘*’ 0.05 ‘.’ 0.1 ‘ ’ 1\n",
       "\n",
       "Log-Likelihood: -426.8\n",
       "McFadden R^2:  0.16288 \n",
       "Likelihood ratio test : chisq = 166.09 (p.value = < 2.22e-16)"
      ]
     },
     "metadata": {},
     "output_type": "display_data"
    }
   ],
   "source": [
    "## two new variables are created (chid and alt)\n",
    "m1 <- mlogit(occ~0|white+ed+exper, data=occ_long)\n",
    "summary(m1)"
   ]
  },
  {
   "cell_type": "code",
   "execution_count": 13,
   "metadata": {},
   "outputs": [
    {
     "data": {
      "text/plain": [
       "\n",
       "Call:\n",
       "mlogit(formula = occ ~ 0 | white + ed + exper, data = occ_long, \n",
       "    reflevel = \"Prof\", method = \"nr\", print.level = 0)\n",
       "\n",
       "Frequencies of alternatives:\n",
       "    Prof  BlueCol    Craft   Menial WhiteCol \n",
       "0.332344 0.204748 0.249258 0.091988 0.121662 \n",
       "\n",
       "nr method\n",
       "5 iterations, 0h:0m:0s \n",
       "g'(-H)^-1g = 3.46E-08 \n",
       "gradient close to zero \n",
       "\n",
       "Coefficients :\n",
       "                       Estimate Std. Error t-value  Pr(>|t|)    \n",
       "BlueCol:(intercept)  12.2595643  1.6681445  7.3492 1.994e-13 ***\n",
       "Craft:(intercept)    10.4269779  1.5179434  6.8691 6.459e-12 ***\n",
       "Menial:(intercept)   11.5183308  1.8493561  6.2283 4.715e-10 ***\n",
       "WhiteCol:(intercept)  5.2797225  1.6840058  3.1352  0.001717 ** \n",
       "BlueCol:white        -0.5378027  0.7996033 -0.6726  0.501210    \n",
       "Craft:white          -1.3019629  0.6474160 -2.0110  0.044324 *  \n",
       "Menial:white         -1.7743065  0.7550543 -2.3499  0.018778 *  \n",
       "WhiteCol:white       -0.2029212  0.8693072 -0.2334  0.815429    \n",
       "BlueCol:ed           -0.8782767  0.1005446 -8.7352 < 2.2e-16 ***\n",
       "Craft:ed             -0.6850365  0.0892996 -7.6712 1.710e-14 ***\n",
       "Menial:ed            -0.7788519  0.1146293 -6.7945 1.087e-11 ***\n",
       "WhiteCol:ed          -0.4256943  0.0922192 -4.6161 3.910e-06 ***\n",
       "BlueCol:exper        -0.0309296  0.0144086 -2.1466  0.031824 *  \n",
       "Craft:exper          -0.0079671  0.0127055 -0.6271  0.530620    \n",
       "Menial:exper         -0.0356509  0.0180370 -1.9765  0.048093 *  \n",
       "WhiteCol:exper       -0.0010550  0.0143582 -0.0735  0.941424    \n",
       "---\n",
       "Signif. codes:  0 ‘***’ 0.001 ‘**’ 0.01 ‘*’ 0.05 ‘.’ 0.1 ‘ ’ 1\n",
       "\n",
       "Log-Likelihood: -426.8\n",
       "McFadden R^2:  0.16288 \n",
       "Likelihood ratio test : chisq = 166.09 (p.value = < 2.22e-16)"
      ]
     },
     "metadata": {},
     "output_type": "display_data"
    }
   ],
   "source": [
    "## change the baseline\n",
    "m2 <- mlogit(occ~0 | white+ed+exper, data=occ_long, reflevel=\"Prof\")\n",
    "summary(m2)"
   ]
  },
  {
   "cell_type": "markdown",
   "metadata": {},
   "source": [
    "### 统计检验"
   ]
  },
  {
   "cell_type": "code",
   "execution_count": 14,
   "metadata": {},
   "outputs": [
    {
     "data": {
      "text/html": [
       "<table>\n",
       "<thead><tr><th scope=col>Res.Df</th><th scope=col>Df</th><th scope=col>Chisq</th><th scope=col>Pr(&gt;Chisq)</th></tr></thead>\n",
       "<tbody>\n",
       "\t<tr><td>321       </td><td>NA        </td><td>      NA  </td><td>        NA</td></tr>\n",
       "\t<tr><td>325       </td><td>-4        </td><td>8.149203  </td><td>0.08626308</td></tr>\n",
       "</tbody>\n",
       "</table>\n"
      ],
      "text/latex": [
       "\\begin{tabular}{r|llll}\n",
       " Res.Df & Df & Chisq & Pr(>Chisq)\\\\\n",
       "\\hline\n",
       "\t 321        & NA         &       NA   &         NA\\\\\n",
       "\t 325        & -4         & 8.149203   & 0.08626308\\\\\n",
       "\\end{tabular}\n"
      ],
      "text/markdown": [
       "\n",
       "Res.Df | Df | Chisq | Pr(>Chisq) | \n",
       "|---|---|\n",
       "| 321        | NA         |       NA   |         NA | \n",
       "| 325        | -4         | 8.149203   | 0.08626308 | \n",
       "\n",
       "\n"
      ],
      "text/plain": [
       "  Res.Df Df Chisq    Pr(>Chisq)\n",
       "1 321    NA       NA         NA\n",
       "2 325    -4 8.149203 0.08626308"
      ]
     },
     "metadata": {},
     "output_type": "display_data"
    }
   ],
   "source": [
    "waldtest(m2, .~.|.-white)"
   ]
  },
  {
   "cell_type": "code",
   "execution_count": 15,
   "metadata": {},
   "outputs": [
    {
     "data": {
      "text/html": [
       "<table>\n",
       "<thead><tr><th scope=col>Res.Df</th><th scope=col>Df</th><th scope=col>Chisq</th><th scope=col>Pr(&gt;Chisq)</th></tr></thead>\n",
       "<tbody>\n",
       "\t<tr><td>321         </td><td>NA          </td><td>      NA    </td><td>          NA</td></tr>\n",
       "\t<tr><td>325         </td><td>-4          </td><td>84.96817    </td><td>1.540732e-17</td></tr>\n",
       "</tbody>\n",
       "</table>\n"
      ],
      "text/latex": [
       "\\begin{tabular}{r|llll}\n",
       " Res.Df & Df & Chisq & Pr(>Chisq)\\\\\n",
       "\\hline\n",
       "\t 321          & NA           &       NA     &           NA\\\\\n",
       "\t 325          & -4           & 84.96817     & 1.540732e-17\\\\\n",
       "\\end{tabular}\n"
      ],
      "text/markdown": [
       "\n",
       "Res.Df | Df | Chisq | Pr(>Chisq) | \n",
       "|---|---|\n",
       "| 321          | NA           |       NA     |           NA | \n",
       "| 325          | -4           | 84.96817     | 1.540732e-17 | \n",
       "\n",
       "\n"
      ],
      "text/plain": [
       "  Res.Df Df Chisq    Pr(>Chisq)  \n",
       "1 321    NA       NA           NA\n",
       "2 325    -4 84.96817 1.540732e-17"
      ]
     },
     "metadata": {},
     "output_type": "display_data"
    }
   ],
   "source": [
    "waldtest(m2,.~.|.-ed)"
   ]
  },
  {
   "cell_type": "code",
   "execution_count": 16,
   "metadata": {},
   "outputs": [
    {
     "data": {
      "text/html": [
       "<table>\n",
       "<thead><tr><th scope=col>Res.Df</th><th scope=col>Df</th><th scope=col>Chisq</th><th scope=col>Pr(&gt;Chisq)</th></tr></thead>\n",
       "<tbody>\n",
       "\t<tr><td>321       </td><td>NA        </td><td>      NA  </td><td>        NA</td></tr>\n",
       "\t<tr><td>325       </td><td>-4        </td><td>7.994939  </td><td>0.09176376</td></tr>\n",
       "</tbody>\n",
       "</table>\n"
      ],
      "text/latex": [
       "\\begin{tabular}{r|llll}\n",
       " Res.Df & Df & Chisq & Pr(>Chisq)\\\\\n",
       "\\hline\n",
       "\t 321        & NA         &       NA   &         NA\\\\\n",
       "\t 325        & -4         & 7.994939   & 0.09176376\\\\\n",
       "\\end{tabular}\n"
      ],
      "text/markdown": [
       "\n",
       "Res.Df | Df | Chisq | Pr(>Chisq) | \n",
       "|---|---|\n",
       "| 321        | NA         |       NA   |         NA | \n",
       "| 325        | -4         | 7.994939   | 0.09176376 | \n",
       "\n",
       "\n"
      ],
      "text/plain": [
       "  Res.Df Df Chisq    Pr(>Chisq)\n",
       "1 321    NA       NA         NA\n",
       "2 325    -4 7.994939 0.09176376"
      ]
     },
     "metadata": {},
     "output_type": "display_data"
    }
   ],
   "source": [
    "waldtest(m2,.~.|.-exper)"
   ]
  },
  {
   "cell_type": "code",
   "execution_count": 17,
   "metadata": {},
   "outputs": [
    {
     "data": {
      "text/html": [
       "<table>\n",
       "<thead><tr><th scope=col>Res.Df</th><th scope=col>Df</th><th scope=col>Chisq</th><th scope=col>Pr(&gt;Chisq)</th></tr></thead>\n",
       "<tbody>\n",
       "\t<tr><td>321         </td><td>NA          </td><td>      NA    </td><td>          NA</td></tr>\n",
       "\t<tr><td>329         </td><td>-8          </td><td>88.73308    </td><td>8.405312e-16</td></tr>\n",
       "</tbody>\n",
       "</table>\n"
      ],
      "text/latex": [
       "\\begin{tabular}{r|llll}\n",
       " Res.Df & Df & Chisq & Pr(>Chisq)\\\\\n",
       "\\hline\n",
       "\t 321          & NA           &       NA     &           NA\\\\\n",
       "\t 329          & -8           & 88.73308     & 8.405312e-16\\\\\n",
       "\\end{tabular}\n"
      ],
      "text/markdown": [
       "\n",
       "Res.Df | Df | Chisq | Pr(>Chisq) | \n",
       "|---|---|\n",
       "| 321          | NA           |       NA     |           NA | \n",
       "| 329          | -8           | 88.73308     | 8.405312e-16 | \n",
       "\n",
       "\n"
      ],
      "text/plain": [
       "  Res.Df Df Chisq    Pr(>Chisq)  \n",
       "1 321    NA       NA           NA\n",
       "2 329    -8 88.73308 8.405312e-16"
      ]
     },
     "metadata": {},
     "output_type": "display_data"
    }
   ],
   "source": [
    "waldtest(m2,.~.|.-white -ed)"
   ]
  },
  {
   "cell_type": "code",
   "execution_count": 18,
   "metadata": {},
   "outputs": [
    {
     "data": {
      "text/html": [
       "<table>\n",
       "<thead><tr><th scope=col>#Df</th><th scope=col>LogLik</th><th scope=col>Df</th><th scope=col>Chisq</th><th scope=col>Pr(&gt;Chisq)</th></tr></thead>\n",
       "<tbody>\n",
       "\t<tr><td>16        </td><td>-426.8005 </td><td>NA        </td><td>      NA  </td><td>        NA</td></tr>\n",
       "\t<tr><td>12        </td><td>-430.8482 </td><td>-4        </td><td>8.095408  </td><td>0.08814514</td></tr>\n",
       "</tbody>\n",
       "</table>\n"
      ],
      "text/latex": [
       "\\begin{tabular}{r|lllll}\n",
       " \\#Df & LogLik & Df & Chisq & Pr(>Chisq)\\\\\n",
       "\\hline\n",
       "\t 16         & -426.8005  & NA         &       NA   &         NA\\\\\n",
       "\t 12         & -430.8482  & -4         & 8.095408   & 0.08814514\\\\\n",
       "\\end{tabular}\n"
      ],
      "text/markdown": [
       "\n",
       "#Df | LogLik | Df | Chisq | Pr(>Chisq) | \n",
       "|---|---|\n",
       "| 16         | -426.8005  | NA         |       NA   |         NA | \n",
       "| 12         | -430.8482  | -4         | 8.095408   | 0.08814514 | \n",
       "\n",
       "\n"
      ],
      "text/plain": [
       "  #Df LogLik    Df Chisq    Pr(>Chisq)\n",
       "1 16  -426.8005 NA       NA         NA\n",
       "2 12  -430.8482 -4 8.095408 0.08814514"
      ]
     },
     "metadata": {},
     "output_type": "display_data"
    }
   ],
   "source": [
    "lrtest(m2,.~.|.-white)"
   ]
  },
  {
   "cell_type": "code",
   "execution_count": 19,
   "metadata": {},
   "outputs": [
    {
     "data": {
      "text/html": [
       "<table>\n",
       "<thead><tr><th scope=col>#Df</th><th scope=col>LogLik</th><th scope=col>Df</th><th scope=col>Chisq</th><th scope=col>Pr(&gt;Chisq)</th></tr></thead>\n",
       "<tbody>\n",
       "\t<tr><td>16          </td><td>-426.8005   </td><td>NA          </td><td>      NA    </td><td>          NA</td></tr>\n",
       "\t<tr><td>12          </td><td>-505.2691   </td><td>-4          </td><td>156.9372    </td><td>6.633083e-33</td></tr>\n",
       "</tbody>\n",
       "</table>\n"
      ],
      "text/latex": [
       "\\begin{tabular}{r|lllll}\n",
       " \\#Df & LogLik & Df & Chisq & Pr(>Chisq)\\\\\n",
       "\\hline\n",
       "\t 16           & -426.8005    & NA           &       NA     &           NA\\\\\n",
       "\t 12           & -505.2691    & -4           & 156.9372     & 6.633083e-33\\\\\n",
       "\\end{tabular}\n"
      ],
      "text/markdown": [
       "\n",
       "#Df | LogLik | Df | Chisq | Pr(>Chisq) | \n",
       "|---|---|\n",
       "| 16           | -426.8005    | NA           |       NA     |           NA | \n",
       "| 12           | -505.2691    | -4           | 156.9372     | 6.633083e-33 | \n",
       "\n",
       "\n"
      ],
      "text/plain": [
       "  #Df LogLik    Df Chisq    Pr(>Chisq)  \n",
       "1 16  -426.8005 NA       NA           NA\n",
       "2 12  -505.2691 -4 156.9372 6.633083e-33"
      ]
     },
     "metadata": {},
     "output_type": "display_data"
    }
   ],
   "source": [
    "lrtest(m2,.~.|.-ed)"
   ]
  },
  {
   "cell_type": "code",
   "execution_count": 20,
   "metadata": {},
   "outputs": [
    {
     "data": {
      "text/html": [
       "<table>\n",
       "<thead><tr><th scope=col>#Df</th><th scope=col>LogLik</th><th scope=col>Df</th><th scope=col>Chisq</th><th scope=col>Pr(&gt;Chisq)</th></tr></thead>\n",
       "<tbody>\n",
       "\t<tr><td>16        </td><td>-426.8005 </td><td>NA        </td><td>      NA  </td><td>        NA</td></tr>\n",
       "\t<tr><td>12        </td><td>-431.0810 </td><td>-4        </td><td>8.560953  </td><td>0.07306102</td></tr>\n",
       "</tbody>\n",
       "</table>\n"
      ],
      "text/latex": [
       "\\begin{tabular}{r|lllll}\n",
       " \\#Df & LogLik & Df & Chisq & Pr(>Chisq)\\\\\n",
       "\\hline\n",
       "\t 16         & -426.8005  & NA         &       NA   &         NA\\\\\n",
       "\t 12         & -431.0810  & -4         & 8.560953   & 0.07306102\\\\\n",
       "\\end{tabular}\n"
      ],
      "text/markdown": [
       "\n",
       "#Df | LogLik | Df | Chisq | Pr(>Chisq) | \n",
       "|---|---|\n",
       "| 16         | -426.8005  | NA         |       NA   |         NA | \n",
       "| 12         | -431.0810  | -4         | 8.560953   | 0.07306102 | \n",
       "\n",
       "\n"
      ],
      "text/plain": [
       "  #Df LogLik    Df Chisq    Pr(>Chisq)\n",
       "1 16  -426.8005 NA       NA         NA\n",
       "2 12  -431.0810 -4 8.560953 0.07306102"
      ]
     },
     "metadata": {},
     "output_type": "display_data"
    }
   ],
   "source": [
    "lrtest(m2, .~.|.-exper)"
   ]
  },
  {
   "cell_type": "code",
   "execution_count": 21,
   "metadata": {},
   "outputs": [],
   "source": [
    "## constrained models must be fitted for score test\n",
    "m2cwhite <- update(m2, .~.|.-white)\n",
    "m2cexper <- update(m2,.~.|.-exper)\n",
    "m2ced <- update(m2,.~.|.-ed)"
   ]
  },
  {
   "cell_type": "code",
   "execution_count": 22,
   "metadata": {},
   "outputs": [
    {
     "data": {
      "text/plain": [
       "\n",
       "\tscore test\n",
       "\n",
       "data:  occ ~ 1 - 1 | white + ed + exper\n",
       "chisq = 8.8204, df = 4, p-value = 0.06575\n",
       "alternative hypothesis: unconstrained model\n"
      ]
     },
     "metadata": {},
     "output_type": "display_data"
    }
   ],
   "source": [
    "## the first argument must be the constrained model\n",
    "scoretest(m2cwhite, m2)"
   ]
  },
  {
   "cell_type": "code",
   "execution_count": 23,
   "metadata": {},
   "outputs": [
    {
     "data": {
      "text/plain": [
       "\n",
       "\tscore test\n",
       "\n",
       "data:  occ ~ 1 - 1 | white + ed + exper\n",
       "chisq = 124.55, df = 4, p-value < 2.2e-16\n",
       "alternative hypothesis: unconstrained model\n"
      ]
     },
     "metadata": {},
     "output_type": "display_data"
    }
   ],
   "source": [
    "scoretest(m2ced, m2)"
   ]
  },
  {
   "cell_type": "code",
   "execution_count": 24,
   "metadata": {},
   "outputs": [
    {
     "data": {
      "text/plain": [
       "\n",
       "\tscore test\n",
       "\n",
       "data:  occ ~ 1 - 1 | white + ed + exper\n",
       "chisq = 8.2114, df = 4, p-value = 0.08413\n",
       "alternative hypothesis: unconstrained model\n"
      ]
     },
     "metadata": {},
     "output_type": "display_data"
    }
   ],
   "source": [
    "scoretest(m2cexper,m2)"
   ]
  },
  {
   "cell_type": "code",
   "execution_count": 25,
   "metadata": {},
   "outputs": [
    {
     "data": {
      "text/plain": [
       "\n",
       "\tHausman-McFadden test\n",
       "\n",
       "data:  occ_long\n",
       "chisq = 7.3258, df = 12, p-value = 0.8354\n",
       "alternative hypothesis: IIA is rejected\n"
      ]
     },
     "metadata": {},
     "output_type": "display_data"
    }
   ],
   "source": [
    "## IIA test: Hausman-style test\n",
    "m3 <- update(m2, alt.subset=c(\"BlueCol\", \"Craft\", \"WhiteCol\", \"Prof\"))\n",
    "## Menial is excluded\n",
    "hmftest(m2,m3)"
   ]
  },
  {
   "cell_type": "code",
   "execution_count": 26,
   "metadata": {},
   "outputs": [
    {
     "data": {
      "text/plain": [
       "\n",
       "\tHausman-McFadden test\n",
       "\n",
       "data:  occ_long\n",
       "chisq = -14.438, df = 12, p-value = 1\n",
       "alternative hypothesis: IIA is rejected\n"
      ]
     },
     "metadata": {},
     "output_type": "display_data"
    }
   ],
   "source": [
    "m3 <- update(m2, alt.subset=c(\"BlueCol\",\"Menial\",\"WhiteCol\",\"Prof\"))\n",
    "## Craft is excluded\n",
    "hmftest(m2,m3) ## negative -> IIA holds"
   ]
  },
  {
   "cell_type": "code",
   "execution_count": 27,
   "metadata": {},
   "outputs": [],
   "source": [
    "?hmftest"
   ]
  }
 ],
 "metadata": {
  "kernelspec": {
   "display_name": "R",
   "language": "R",
   "name": "ir"
  },
  "language_info": {
   "codemirror_mode": "r",
   "file_extension": ".r",
   "mimetype": "text/x-r-source",
   "name": "R",
   "pygments_lexer": "r",
   "version": "3.4.3"
  }
 },
 "nbformat": 4,
 "nbformat_minor": 1
}
