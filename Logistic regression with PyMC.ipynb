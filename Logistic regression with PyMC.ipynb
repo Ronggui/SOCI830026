{
 "cells": [
  {
   "cell_type": "code",
   "execution_count": 1,
   "metadata": {
    "collapsed": true
   },
   "outputs": [],
   "source": [
    "import pymc\n",
    "import pandas as pd"
   ]
  },
  {
   "cell_type": "code",
   "execution_count": 2,
   "metadata": {
    "collapsed": false
   },
   "outputs": [
    {
     "data": {
      "text/html": [
       "<div>\n",
       "<table border=\"1\" class=\"dataframe\">\n",
       "  <thead>\n",
       "    <tr style=\"text-align: right;\">\n",
       "      <th></th>\n",
       "      <th>lfp</th>\n",
       "      <th>k5</th>\n",
       "      <th>k618</th>\n",
       "      <th>age</th>\n",
       "      <th>wc</th>\n",
       "      <th>hc</th>\n",
       "      <th>lwg</th>\n",
       "      <th>inc</th>\n",
       "    </tr>\n",
       "  </thead>\n",
       "  <tbody>\n",
       "    <tr>\n",
       "      <th>0</th>\n",
       "      <td>yes</td>\n",
       "      <td>1</td>\n",
       "      <td>0</td>\n",
       "      <td>32</td>\n",
       "      <td>no</td>\n",
       "      <td>no</td>\n",
       "      <td>1.210165</td>\n",
       "      <td>10.910001</td>\n",
       "    </tr>\n",
       "    <tr>\n",
       "      <th>1</th>\n",
       "      <td>yes</td>\n",
       "      <td>0</td>\n",
       "      <td>2</td>\n",
       "      <td>30</td>\n",
       "      <td>no</td>\n",
       "      <td>no</td>\n",
       "      <td>0.328504</td>\n",
       "      <td>19.500000</td>\n",
       "    </tr>\n",
       "    <tr>\n",
       "      <th>2</th>\n",
       "      <td>yes</td>\n",
       "      <td>1</td>\n",
       "      <td>3</td>\n",
       "      <td>35</td>\n",
       "      <td>no</td>\n",
       "      <td>no</td>\n",
       "      <td>1.514128</td>\n",
       "      <td>12.039999</td>\n",
       "    </tr>\n",
       "    <tr>\n",
       "      <th>3</th>\n",
       "      <td>yes</td>\n",
       "      <td>0</td>\n",
       "      <td>3</td>\n",
       "      <td>34</td>\n",
       "      <td>no</td>\n",
       "      <td>no</td>\n",
       "      <td>0.092115</td>\n",
       "      <td>6.800000</td>\n",
       "    </tr>\n",
       "    <tr>\n",
       "      <th>4</th>\n",
       "      <td>yes</td>\n",
       "      <td>1</td>\n",
       "      <td>2</td>\n",
       "      <td>31</td>\n",
       "      <td>yes</td>\n",
       "      <td>no</td>\n",
       "      <td>1.524280</td>\n",
       "      <td>20.100000</td>\n",
       "    </tr>\n",
       "  </tbody>\n",
       "</table>\n",
       "</div>"
      ],
      "text/plain": [
       "   lfp  k5  k618  age   wc  hc       lwg        inc\n",
       "0  yes   1     0   32   no  no  1.210165  10.910001\n",
       "1  yes   0     2   30   no  no  0.328504  19.500000\n",
       "2  yes   1     3   35   no  no  1.514128  12.039999\n",
       "3  yes   0     3   34   no  no  0.092115   6.800000\n",
       "4  yes   1     2   31  yes  no  1.524280  20.100000"
      ]
     },
     "execution_count": 2,
     "metadata": {},
     "output_type": "execute_result"
    }
   ],
   "source": [
    "mroz = pd.read_stata(\"datasets//Mroz.dta\")\n",
    "\n",
    "mroz.head()"
   ]
  },
  {
   "cell_type": "code",
   "execution_count": 3,
   "metadata": {
    "collapsed": false
   },
   "outputs": [
    {
     "data": {
      "text/html": [
       "<div>\n",
       "<table border=\"1\" class=\"dataframe\">\n",
       "  <thead>\n",
       "    <tr style=\"text-align: right;\">\n",
       "      <th></th>\n",
       "      <th>lfp</th>\n",
       "      <th>k5</th>\n",
       "      <th>k618</th>\n",
       "      <th>age</th>\n",
       "      <th>wc</th>\n",
       "      <th>hc</th>\n",
       "      <th>lwg</th>\n",
       "      <th>inc</th>\n",
       "    </tr>\n",
       "  </thead>\n",
       "  <tbody>\n",
       "    <tr>\n",
       "      <th>0</th>\n",
       "      <td>1</td>\n",
       "      <td>1</td>\n",
       "      <td>0</td>\n",
       "      <td>32</td>\n",
       "      <td>0</td>\n",
       "      <td>0</td>\n",
       "      <td>1.210165</td>\n",
       "      <td>10.910001</td>\n",
       "    </tr>\n",
       "    <tr>\n",
       "      <th>1</th>\n",
       "      <td>1</td>\n",
       "      <td>0</td>\n",
       "      <td>2</td>\n",
       "      <td>30</td>\n",
       "      <td>0</td>\n",
       "      <td>0</td>\n",
       "      <td>0.328504</td>\n",
       "      <td>19.500000</td>\n",
       "    </tr>\n",
       "    <tr>\n",
       "      <th>2</th>\n",
       "      <td>1</td>\n",
       "      <td>1</td>\n",
       "      <td>3</td>\n",
       "      <td>35</td>\n",
       "      <td>0</td>\n",
       "      <td>0</td>\n",
       "      <td>1.514128</td>\n",
       "      <td>12.039999</td>\n",
       "    </tr>\n",
       "    <tr>\n",
       "      <th>3</th>\n",
       "      <td>1</td>\n",
       "      <td>0</td>\n",
       "      <td>3</td>\n",
       "      <td>34</td>\n",
       "      <td>0</td>\n",
       "      <td>0</td>\n",
       "      <td>0.092115</td>\n",
       "      <td>6.800000</td>\n",
       "    </tr>\n",
       "    <tr>\n",
       "      <th>4</th>\n",
       "      <td>1</td>\n",
       "      <td>1</td>\n",
       "      <td>2</td>\n",
       "      <td>31</td>\n",
       "      <td>1</td>\n",
       "      <td>0</td>\n",
       "      <td>1.524280</td>\n",
       "      <td>20.100000</td>\n",
       "    </tr>\n",
       "  </tbody>\n",
       "</table>\n",
       "</div>"
      ],
      "text/plain": [
       "   lfp  k5  k618  age  wc  hc       lwg        inc\n",
       "0    1   1     0   32   0   0  1.210165  10.910001\n",
       "1    1   0     2   30   0   0  0.328504  19.500000\n",
       "2    1   1     3   35   0   0  1.514128  12.039999\n",
       "3    1   0     3   34   0   0  0.092115   6.800000\n",
       "4    1   1     2   31   1   0  1.524280  20.100000"
      ]
     },
     "execution_count": 3,
     "metadata": {},
     "output_type": "execute_result"
    }
   ],
   "source": [
    "mroz['wc'] = mroz.wc.map({'yes':1, 'no':0})\n",
    "mroz['hc'] = mroz.hc.map({'yes':1, 'no':0})\n",
    "mroz['lfp'] = mroz.lfp.map({'yes':1, 'no':0})\n",
    "mroz.head()"
   ]
  },
  {
   "cell_type": "code",
   "execution_count": 64,
   "metadata": {
    "collapsed": false
   },
   "outputs": [],
   "source": [
    "X = mroz\n",
    "\n",
    "b0 = pymc.Normal('b0', mu=0, tau=1e-12, value= 0)\n",
    "b_k5 = pymc.Normal('b_k5', mu=0, tau=1e-12, value= 0)\n",
    "b_k618 = pymc.Normal('b_k618', mu=0, tau=1e-12, value= 0)\n",
    "b_age = pymc.Normal('b_age', mu=0, tau=1e-12, value= 0)\n",
    "b_wc = pymc.Normal('b_wc', mu=0, tau=1e-12, value= 0)\n",
    "b_hc = pymc.Normal('b_hc', mu=0, tau=1e-12, value= 0)\n",
    "b_lwg = pymc.Normal('b_lwg', mu=0, tau=1e-12, value= 0)\n",
    "b_inc = pymc.Normal('b_inc', mu=0, tau=1e-12, value= 0)\n",
    "\n",
    "p = pymc.InvLogit(\"p\", b0 + b_k5 * X['k5'] +  b_k618 * X['k618'] +  b_age * X['age'] +  b_wc * X['wc'] +  b_hc * X['hc'] + b_lwg * X['lwg'] + b_inc * X['inc'])\n",
    "\n",
    "y_obs = pymc.Bernoulli(\"y_obs\", p=p, value=mroz.lfp, observed=True)"
   ]
  },
  {
   "cell_type": "code",
   "execution_count": 67,
   "metadata": {
    "collapsed": false
   },
   "outputs": [
    {
     "name": "stdout",
     "output_type": "stream",
     "text": [
      " [-----------------100%-----------------] 50000 of 50000 complete in 309.5 sec"
     ]
    }
   ],
   "source": [
    "model = pymc.Model([b0, b_k5, b_k618, b_age, b_wc, b_hc, b_lwg, b_inc, X, y_obs])\n",
    "M = pymc.MCMC(model)\n",
    "M.sample(iter=50000)"
   ]
  },
  {
   "cell_type": "code",
   "execution_count": 70,
   "metadata": {
    "collapsed": false,
    "scrolled": true
   },
   "outputs": [
    {
     "name": "stdout",
     "output_type": "stream",
     "text": [
      "\n",
      "b_hc:\n",
      " \n",
      "\tMean             SD               MC Error        95% HPD interval\n",
      "\t------------------------------------------------------------------\n",
      "\t0.112            0.205            0.004              [-0.28  0.52]\n",
      "\t\n",
      "\t\n",
      "\tPosterior quantiles:\n",
      "\t\n",
      "\t2.5             25              50              75             97.5\n",
      "\t |---------------|===============|===============|---------------|\n",
      "\t-0.293           -0.024          0.112          0.248         0.511\n",
      "\t\n",
      "\n",
      "b_k5:\n",
      " \n",
      "\tMean             SD               MC Error        95% HPD interval\n",
      "\t------------------------------------------------------------------\n",
      "\t-1.509           0.202            0.009            [-1.915 -1.124]\n",
      "\t\n",
      "\t\n",
      "\tPosterior quantiles:\n",
      "\t\n",
      "\t2.5             25              50              75             97.5\n",
      "\t |---------------|===============|===============|---------------|\n",
      "\t-1.915           -1.646          -1.5           -1.374        -1.122\n",
      "\t\n",
      "\n",
      "b_lwg:\n",
      " \n",
      "\tMean             SD               MC Error        95% HPD interval\n",
      "\t------------------------------------------------------------------\n",
      "\t0.614            0.151            0.004            [ 0.303  0.896]\n",
      "\t\n",
      "\t\n",
      "\tPosterior quantiles:\n",
      "\t\n",
      "\t2.5             25              50              75             97.5\n",
      "\t |---------------|===============|===============|---------------|\n",
      "\t0.318            0.511           0.614          0.718         0.913\n",
      "\t\n",
      "\n",
      "b_k618:\n",
      " \n",
      "\tMean             SD               MC Error        95% HPD interval\n",
      "\t------------------------------------------------------------------\n",
      "\t-0.073           0.07             0.003            [-0.212  0.063]\n",
      "\t\n",
      "\t\n",
      "\tPosterior quantiles:\n",
      "\t\n",
      "\t2.5             25              50              75             97.5\n",
      "\t |---------------|===============|===============|---------------|\n",
      "\t-0.211           -0.121          -0.072         -0.026        0.065\n",
      "\t\n",
      "\n",
      "b0:\n",
      " \n",
      "\tMean             SD               MC Error        95% HPD interval\n",
      "\t------------------------------------------------------------------\n",
      "\t3.368            0.691            0.058            [ 2.04   4.683]\n",
      "\t\n",
      "\t\n",
      "\tPosterior quantiles:\n",
      "\t\n",
      "\t2.5             25              50              75             97.5\n",
      "\t |---------------|===============|===============|---------------|\n",
      "\t2.057            2.88            3.359          3.841         4.72\n",
      "\t\n",
      "\n",
      "b_inc:\n",
      " \n",
      "\tMean             SD               MC Error        95% HPD interval\n",
      "\t------------------------------------------------------------------\n",
      "\t-0.035           0.008            0.0              [-0.052 -0.019]\n",
      "\t\n",
      "\t\n",
      "\tPosterior quantiles:\n",
      "\t\n",
      "\t2.5             25              50              75             97.5\n",
      "\t |---------------|===============|===============|---------------|\n",
      "\t-0.052           -0.041          -0.035         -0.029        -0.019\n",
      "\t\n",
      "\n",
      "b_age:\n",
      " \n",
      "\tMean             SD               MC Error        95% HPD interval\n",
      "\t------------------------------------------------------------------\n",
      "\t-0.067           0.013            0.001            [-0.093 -0.041]\n",
      "\t\n",
      "\t\n",
      "\tPosterior quantiles:\n",
      "\t\n",
      "\t2.5             25              50              75             97.5\n",
      "\t |---------------|===============|===============|---------------|\n",
      "\t-0.093           -0.076          -0.066         -0.057        -0.042\n",
      "\t\n",
      "\n",
      "b_wc:\n",
      " \n",
      "\tMean             SD               MC Error        95% HPD interval\n",
      "\t------------------------------------------------------------------\n",
      "\t0.82             0.229            0.005            [ 0.369  1.263]\n",
      "\t\n",
      "\t\n",
      "\tPosterior quantiles:\n",
      "\t\n",
      "\t2.5             25              50              75             97.5\n",
      "\t |---------------|===============|===============|---------------|\n",
      "\t0.372            0.668           0.82           0.971         1.269\n",
      "\t\n"
     ]
    },
    {
     "name": "stderr",
     "output_type": "stream",
     "text": [
      "E:\\C_ext\\Python\\WinPython-32bit-3.4.4.1\\python-3.4.4\\lib\\site-packages\\numpy\\core\\fromnumeric.py:225: VisibleDeprecationWarning: using a non-integer number instead of an integer will result in an error in the future\n",
      "  return reshape(newshape, order=order)\n"
     ]
    }
   ],
   "source": [
    "M.summary()"
   ]
  },
  {
   "cell_type": "code",
   "execution_count": 71,
   "metadata": {
    "collapsed": false
   },
   "outputs": [
    {
     "name": "stderr",
     "output_type": "stream",
     "text": [
      "E:\\C_ext\\Python\\WinPython-32bit-3.4.4.1\\python-3.4.4\\lib\\site-packages\\numpy\\core\\fromnumeric.py:225: VisibleDeprecationWarning: using a non-integer number instead of an integer will result in an error in the future\n",
      "  return reshape(newshape, order=order)\n"
     ]
    },
    {
     "data": {
      "text/plain": [
       "-1.509071053931337"
      ]
     },
     "execution_count": 71,
     "metadata": {},
     "output_type": "execute_result"
    }
   ],
   "source": [
    "b_k5.stats()['mean']"
   ]
  }
 ],
 "metadata": {
  "kernelspec": {
   "display_name": "Python 3",
   "language": "python",
   "name": "python3"
  },
  "language_info": {
   "codemirror_mode": {
    "name": "ipython",
    "version": 3
   },
   "file_extension": ".py",
   "mimetype": "text/x-python",
   "name": "python",
   "nbconvert_exporter": "python",
   "pygments_lexer": "ipython3",
   "version": "3.4.4"
  }
 },
 "nbformat": 4,
 "nbformat_minor": 0
}
