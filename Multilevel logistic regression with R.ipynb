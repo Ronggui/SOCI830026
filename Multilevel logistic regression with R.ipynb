{
 "cells": [
  {
   "cell_type": "markdown",
   "metadata": {},
   "source": [
    "## 多层次/多水平逻辑斯蒂回归\n",
    "\n",
    "##### 黄荣贵（复旦大学社会学系）"
   ]
  },
  {
   "cell_type": "code",
   "execution_count": 1,
   "metadata": {},
   "outputs": [
    {
     "data": {
      "text/html": [
       "<table>\n",
       "<thead><tr><th scope=col>woman</th><th scope=col>district</th><th scope=col>use</th><th scope=col>livch</th><th scope=col>age</th><th scope=col>urban</th></tr></thead>\n",
       "<tbody>\n",
       "\t<tr><td>1       </td><td>1       </td><td>N       </td><td>3+      </td><td> 18.4400</td><td>Y       </td></tr>\n",
       "\t<tr><td>2       </td><td>1       </td><td>N       </td><td>0       </td><td> -5.5599</td><td>Y       </td></tr>\n",
       "\t<tr><td>3       </td><td>1       </td><td>N       </td><td>2       </td><td>  1.4400</td><td>Y       </td></tr>\n",
       "\t<tr><td>4       </td><td>1       </td><td>N       </td><td>3+      </td><td>  8.4400</td><td>Y       </td></tr>\n",
       "\t<tr><td>5       </td><td>1       </td><td>N       </td><td>0       </td><td>-13.5590</td><td>Y       </td></tr>\n",
       "\t<tr><td>6       </td><td>1       </td><td>N       </td><td>0       </td><td>-11.5600</td><td>Y       </td></tr>\n",
       "</tbody>\n",
       "</table>\n"
      ],
      "text/latex": [
       "\\begin{tabular}{r|llllll}\n",
       " woman & district & use & livch & age & urban\\\\\n",
       "\\hline\n",
       "\t 1        & 1        & N        & 3+       &  18.4400 & Y       \\\\\n",
       "\t 2        & 1        & N        & 0        &  -5.5599 & Y       \\\\\n",
       "\t 3        & 1        & N        & 2        &   1.4400 & Y       \\\\\n",
       "\t 4        & 1        & N        & 3+       &   8.4400 & Y       \\\\\n",
       "\t 5        & 1        & N        & 0        & -13.5590 & Y       \\\\\n",
       "\t 6        & 1        & N        & 0        & -11.5600 & Y       \\\\\n",
       "\\end{tabular}\n"
      ],
      "text/markdown": [
       "\n",
       "woman | district | use | livch | age | urban | \n",
       "|---|---|---|---|---|---|\n",
       "| 1        | 1        | N        | 3+       |  18.4400 | Y        | \n",
       "| 2        | 1        | N        | 0        |  -5.5599 | Y        | \n",
       "| 3        | 1        | N        | 2        |   1.4400 | Y        | \n",
       "| 4        | 1        | N        | 3+       |   8.4400 | Y        | \n",
       "| 5        | 1        | N        | 0        | -13.5590 | Y        | \n",
       "| 6        | 1        | N        | 0        | -11.5600 | Y        | \n",
       "\n",
       "\n"
      ],
      "text/plain": [
       "  woman district use livch age      urban\n",
       "1 1     1        N   3+     18.4400 Y    \n",
       "2 2     1        N   0      -5.5599 Y    \n",
       "3 3     1        N   2       1.4400 Y    \n",
       "4 4     1        N   3+      8.4400 Y    \n",
       "5 5     1        N   0     -13.5590 Y    \n",
       "6 6     1        N   0     -11.5600 Y    "
      ]
     },
     "metadata": {},
     "output_type": "display_data"
    }
   ],
   "source": [
    "library(foreign)\n",
    "\n",
    "contraception = read.dta(\"datasets//Contraception.dta\")\n",
    "\n",
    "head(contraception)"
   ]
  },
  {
   "cell_type": "markdown",
   "metadata": {},
   "source": [
    "检查因变量的分布"
   ]
  },
  {
   "cell_type": "code",
   "execution_count": 2,
   "metadata": {},
   "outputs": [
    {
     "data": {
      "text/plain": [
       "\n",
       "   N    Y \n",
       "1175  759 "
      ]
     },
     "metadata": {},
     "output_type": "display_data"
    }
   ],
   "source": [
    "table(contraception$use)"
   ]
  },
  {
   "cell_type": "markdown",
   "metadata": {},
   "source": [
    "## 随机截距模型"
   ]
  },
  {
   "cell_type": "code",
   "execution_count": 3,
   "metadata": {},
   "outputs": [
    {
     "name": "stderr",
     "output_type": "stream",
     "text": [
      "Warning message:\n",
      "“package ‘lme4’ was built under R version 3.4.4”Loading required package: Matrix\n",
      "Warning message:\n",
      "“package ‘Matrix’ was built under R version 3.4.4”"
     ]
    }
   ],
   "source": [
    "library(lme4)"
   ]
  },
  {
   "cell_type": "code",
   "execution_count": 4,
   "metadata": {},
   "outputs": [
    {
     "data": {
      "text/plain": [
       "Generalized linear mixed model fit by maximum likelihood (Laplace\n",
       "  Approximation) [glmerMod]\n",
       " Family: binomial  ( logit )\n",
       "Formula: use ~ urban + age + livch + (1 | district)\n",
       "   Data: contraception\n",
       "\n",
       "     AIC      BIC   logLik deviance df.resid \n",
       "  2427.6   2466.6  -1206.8   2413.6     1927 \n",
       "\n",
       "Scaled residuals: \n",
       "    Min      1Q  Median      3Q     Max \n",
       "-1.8225 -0.7659 -0.5085  0.9983  2.7200 \n",
       "\n",
       "Random effects:\n",
       " Groups   Name        Variance Std.Dev.\n",
       " district (Intercept) 0.2124   0.4608  \n",
       "Number of obs: 1934, groups:  district, 60\n",
       "\n",
       "Fixed effects:\n",
       "             Estimate Std. Error z value Pr(>|z|)    \n",
       "(Intercept) -1.689648   0.147334 -11.468  < 2e-16 ***\n",
       "urbanY       0.732979   0.119387   6.140 8.28e-10 ***\n",
       "age         -0.026594   0.007879  -3.375 0.000738 ***\n",
       "livch1       1.109125   0.157852   7.026 2.12e-12 ***\n",
       "livch2       1.376341   0.174641   7.881 3.25e-15 ***\n",
       "livch3+      1.345184   0.179411   7.498 6.49e-14 ***\n",
       "---\n",
       "Signif. codes:  0 ‘***’ 0.001 ‘**’ 0.01 ‘*’ 0.05 ‘.’ 0.1 ‘ ’ 1\n",
       "\n",
       "Correlation of Fixed Effects:\n",
       "        (Intr) urbanY age    livch1 livch2\n",
       "urbanY  -0.289                            \n",
       "age      0.449 -0.044                     \n",
       "livch1  -0.590  0.055 -0.213              \n",
       "livch2  -0.633  0.089 -0.380  0.489       \n",
       "livch3+ -0.752  0.092 -0.675  0.540  0.620"
      ]
     },
     "metadata": {},
     "output_type": "display_data"
    }
   ],
   "source": [
    "m_random = glmer(use ~ urban + age + livch + (1|district), \n",
    "                 data=contraception, family=binomial)\n",
    "\n",
    "summary(m_random)"
   ]
  },
  {
   "cell_type": "markdown",
   "metadata": {},
   "source": [
    "### ICC"
   ]
  },
  {
   "cell_type": "code",
   "execution_count": 5,
   "metadata": {},
   "outputs": [
    {
     "data": {
      "text/html": [
       "0.0606464130933982"
      ],
      "text/latex": [
       "0.0606464130933982"
      ],
      "text/markdown": [
       "0.0606464130933982"
      ],
      "text/plain": [
       "[1] 0.06064641"
      ]
     },
     "metadata": {},
     "output_type": "display_data"
    }
   ],
   "source": [
    "0.2124 / (0.2124 + pi^2/3)"
   ]
  },
  {
   "cell_type": "markdown",
   "metadata": {},
   "source": [
    "### 对固定效应的解释\n",
    "\n",
    "中位OR（不是平均的OR）"
   ]
  },
  {
   "cell_type": "code",
   "execution_count": 6,
   "metadata": {},
   "outputs": [
    {
     "data": {
      "text/html": [
       "<dl class=dl-horizontal>\n",
       "\t<dt>(Intercept)</dt>\n",
       "\t\t<dd>0.184584396333327</dd>\n",
       "\t<dt>urbanY</dt>\n",
       "\t\t<dd>2.08127048602554</dd>\n",
       "\t<dt>age</dt>\n",
       "\t\t<dd>0.973756527627297</dd>\n",
       "\t<dt>livch1</dt>\n",
       "\t\t<dd>3.03170559024408</dd>\n",
       "\t<dt>livch2</dt>\n",
       "\t\t<dd>3.96038218865446</dd>\n",
       "\t<dt>livch3+</dt>\n",
       "\t\t<dd>3.83889426680109</dd>\n",
       "</dl>\n"
      ],
      "text/latex": [
       "\\begin{description*}\n",
       "\\item[(Intercept)] 0.184584396333327\n",
       "\\item[urbanY] 2.08127048602554\n",
       "\\item[age] 0.973756527627297\n",
       "\\item[livch1] 3.03170559024408\n",
       "\\item[livch2] 3.96038218865446\n",
       "\\item[livch3+] 3.83889426680109\n",
       "\\end{description*}\n"
      ],
      "text/markdown": [
       "(Intercept)\n",
       ":   0.184584396333327urbanY\n",
       ":   2.08127048602554age\n",
       ":   0.973756527627297livch1\n",
       ":   3.03170559024408livch2\n",
       ":   3.96038218865446livch3+\n",
       ":   3.83889426680109\n",
       "\n"
      ],
      "text/plain": [
       "(Intercept)      urbanY         age      livch1      livch2     livch3+ \n",
       "  0.1845844   2.0812705   0.9737565   3.0317056   3.9603822   3.8388943 "
      ]
     },
     "metadata": {},
     "output_type": "display_data"
    }
   ],
   "source": [
    "exp(fixef(m_random))"
   ]
  },
  {
   "cell_type": "markdown",
   "metadata": {},
   "source": [
    "Odds Ratio的80%置信区间：以urban变量为例"
   ]
  },
  {
   "cell_type": "code",
   "execution_count": 7,
   "metadata": {},
   "outputs": [
    {
     "data": {
      "text/html": [
       "4.79825255543371"
      ],
      "text/latex": [
       "4.79825255543371"
      ],
      "text/markdown": [
       "4.79825255543371"
      ],
      "text/plain": [
       "[1] 4.798253"
      ]
     },
     "metadata": {},
     "output_type": "display_data"
    }
   ],
   "source": [
    "exp(0.732979 + sqrt(2 * 0.2124) * qnorm(0.9))"
   ]
  },
  {
   "cell_type": "code",
   "execution_count": 8,
   "metadata": {},
   "outputs": [
    {
     "data": {
      "text/html": [
       "0.902764279943042"
      ],
      "text/latex": [
       "0.902764279943042"
      ],
      "text/markdown": [
       "0.902764279943042"
      ],
      "text/plain": [
       "[1] 0.9027643"
      ]
     },
     "metadata": {},
     "output_type": "display_data"
    }
   ],
   "source": [
    "exp(0.732979+ sqrt(2 * 0.2124) * qnorm(0.1))"
   ]
  },
  {
   "cell_type": "markdown",
   "metadata": {},
   "source": [
    "在上述计算中，0.732979是urban的系数，.2154977是随机截距的方差，0.9和0.1对应80%置信水平的两个端点。"
   ]
  },
  {
   "cell_type": "markdown",
   "metadata": {},
   "source": [
    "### 对随机效应的中位比数（median odds ratio）解读\n",
    "\n",
    "下面的计算中，0.2124是随机截距的方差"
   ]
  },
  {
   "cell_type": "code",
   "execution_count": 9,
   "metadata": {},
   "outputs": [
    {
     "data": {
      "text/html": [
       "1.55210185215567"
      ],
      "text/latex": [
       "1.55210185215567"
      ],
      "text/markdown": [
       "1.55210185215567"
      ],
      "text/plain": [
       "[1] 1.552102"
      ]
     },
     "metadata": {},
     "output_type": "display_data"
    }
   ],
   "source": [
    "exp(abs(sqrt(2 * 0.2124) * qnorm(0.75)))"
   ]
  },
  {
   "cell_type": "markdown",
   "metadata": {},
   "source": [
    "详细的解释和计算公式可参见： Larsen, Petersen, & Budtz-Joergensen et al. (2000), Interpreting Parameters in the Logistic Regression Model with Random Effects."
   ]
  },
  {
   "cell_type": "markdown",
   "metadata": {},
   "source": [
    "## 随机系数模型\n",
    "\n",
    "在下面的模型中，截距和年龄变量的系数均设为随机，并且截距随机效应与年龄随机效应之间的协方差不等于零（由软件所估计）。"
   ]
  },
  {
   "cell_type": "code",
   "execution_count": 10,
   "metadata": {},
   "outputs": [
    {
     "data": {
      "text/plain": [
       "Generalized linear mixed model fit by maximum likelihood (Laplace\n",
       "  Approximation) [glmerMod]\n",
       " Family: binomial  ( logit )\n",
       "Formula: use ~ urban + age + livch + (1 + age | district)\n",
       "   Data: contraception\n",
       "\n",
       "     AIC      BIC   logLik deviance df.resid \n",
       "  2430.3   2480.4  -1206.1   2412.3     1925 \n",
       "\n",
       "Scaled residuals: \n",
       "    Min      1Q  Median      3Q     Max \n",
       "-1.7852 -0.7662 -0.5023  0.9968  2.6328 \n",
       "\n",
       "Random effects:\n",
       " Groups   Name        Variance  Std.Dev. Corr\n",
       " district (Intercept) 0.2107677 0.45909      \n",
       "          age         0.0002152 0.01467  0.47\n",
       "Number of obs: 1934, groups:  district, 60\n",
       "\n",
       "Fixed effects:\n",
       "             Estimate Std. Error z value Pr(>|z|)    \n",
       "(Intercept) -1.685832   0.148172 -11.378  < 2e-16 ***\n",
       "urbanY       0.737297   0.119705   6.159 7.31e-10 ***\n",
       "age         -0.027909   0.008341  -3.346  0.00082 ***\n",
       "livch1       1.100209   0.159024   6.919 4.56e-12 ***\n",
       "livch2       1.368708   0.175136   7.815 5.49e-15 ***\n",
       "livch3+      1.340654   0.180045   7.446 9.61e-14 ***\n",
       "---\n",
       "Signif. codes:  0 ‘***’ 0.001 ‘**’ 0.01 ‘*’ 0.05 ‘.’ 0.1 ‘ ’ 1\n",
       "\n",
       "Correlation of Fixed Effects:\n",
       "        (Intr) urbanY age    livch1 livch2\n",
       "urbanY  -0.293                            \n",
       "age      0.466 -0.038                     \n",
       "livch1  -0.596  0.060 -0.182              \n",
       "livch2  -0.635  0.093 -0.347  0.493       \n",
       "livch3+ -0.753  0.096 -0.631  0.541  0.619"
      ]
     },
     "metadata": {},
     "output_type": "display_data"
    }
   ],
   "source": [
    "m_random_coef = glmer(use ~ urban + age + livch + (1 + age|district), \n",
    "                      data=contraception, family=binomial)\n",
    "\n",
    "summary(m_random_coef)"
   ]
  },
  {
   "cell_type": "markdown",
   "metadata": {},
   "source": [
    "下面的模型中，截距和年龄变量的系数均设为随机，但是截距随机效应与年龄随机效应之间的协方差等于零。"
   ]
  },
  {
   "cell_type": "code",
   "execution_count": 11,
   "metadata": {},
   "outputs": [
    {
     "data": {
      "text/plain": [
       "Generalized linear mixed model fit by maximum likelihood (Laplace\n",
       "  Approximation) [glmerMod]\n",
       " Family: binomial  ( logit )\n",
       "Formula: use ~ urban + age + livch + (age - 1 | district) + (1 | district)\n",
       "   Data: contraception\n",
       "\n",
       "     AIC      BIC   logLik deviance df.resid \n",
       "  2429.1   2473.6  -1206.5   2413.1     1926 \n",
       "\n",
       "Scaled residuals: \n",
       "    Min      1Q  Median      3Q     Max \n",
       "-1.8223 -0.7649 -0.5027  1.0001  2.6978 \n",
       "\n",
       "Random effects:\n",
       " Groups     Name        Variance  Std.Dev.\n",
       " district   age         0.0002211 0.01487 \n",
       " district.1 (Intercept) 0.2144070 0.46304 \n",
       "Number of obs: 1934, groups:  district, 60\n",
       "\n",
       "Fixed effects:\n",
       "             Estimate Std. Error z value Pr(>|z|)    \n",
       "(Intercept) -1.697480   0.148348 -11.443  < 2e-16 ***\n",
       "urbanY       0.738003   0.120063   6.147 7.91e-10 ***\n",
       "age         -0.026734   0.008227  -3.250  0.00116 ** \n",
       "livch1       1.117605   0.158764   7.039 1.93e-12 ***\n",
       "livch2       1.381579   0.175262   7.883 3.20e-15 ***\n",
       "livch3+      1.350785   0.180037   7.503 6.25e-14 ***\n",
       "---\n",
       "Signif. codes:  0 ‘***’ 0.001 ‘**’ 0.01 ‘*’ 0.05 ‘.’ 0.1 ‘ ’ 1\n",
       "\n",
       "Correlation of Fixed Effects:\n",
       "        (Intr) urbanY age    livch1 livch2\n",
       "urbanY  -0.292                            \n",
       "age      0.431 -0.045                     \n",
       "livch1  -0.593  0.060 -0.205              \n",
       "livch2  -0.634  0.092 -0.364  0.491       \n",
       "livch3+ -0.752  0.095 -0.646  0.542  0.621"
      ]
     },
     "metadata": {},
     "output_type": "display_data"
    }
   ],
   "source": [
    "m_random_coef_ind = glmer(use ~ urban + age + livch + (age-1|district) + (1|district),\n",
    "                          data=contraception, family=binomial)\n",
    "\n",
    "summary(m_random_coef_ind)"
   ]
  },
  {
   "cell_type": "markdown",
   "metadata": {},
   "source": [
    "与上述模型等价的表述方式为(age || district)"
   ]
  },
  {
   "cell_type": "code",
   "execution_count": 12,
   "metadata": {},
   "outputs": [
    {
     "data": {
      "text/plain": [
       "Generalized linear mixed model fit by maximum likelihood (Laplace\n",
       "  Approximation) [glmerMod]\n",
       " Family: binomial  ( logit )\n",
       "Formula: use ~ urban + age + livch + (age + 1 || district)\n",
       "   Data: contraception\n",
       "\n",
       "     AIC      BIC   logLik deviance df.resid \n",
       "  2429.1   2473.6  -1206.5   2413.1     1926 \n",
       "\n",
       "Scaled residuals: \n",
       "    Min      1Q  Median      3Q     Max \n",
       "-1.8223 -0.7649 -0.5027  1.0000  2.6978 \n",
       "\n",
       "Random effects:\n",
       " Groups     Name        Variance  Std.Dev.\n",
       " district   (Intercept) 0.2144236 0.46306 \n",
       " district.1 age         0.0002211 0.01487 \n",
       "Number of obs: 1934, groups:  district, 60\n",
       "\n",
       "Fixed effects:\n",
       "             Estimate Std. Error z value Pr(>|z|)    \n",
       "(Intercept) -1.697492   0.148348 -11.443  < 2e-16 ***\n",
       "urbanY       0.737983   0.120063   6.147 7.91e-10 ***\n",
       "age         -0.026734   0.008227  -3.250  0.00116 ** \n",
       "livch1       1.117628   0.158763   7.040 1.93e-12 ***\n",
       "livch2       1.381571   0.175261   7.883 3.20e-15 ***\n",
       "livch3+      1.350814   0.180037   7.503 6.24e-14 ***\n",
       "---\n",
       "Signif. codes:  0 ‘***’ 0.001 ‘**’ 0.01 ‘*’ 0.05 ‘.’ 0.1 ‘ ’ 1\n",
       "\n",
       "Correlation of Fixed Effects:\n",
       "        (Intr) urbanY age    livch1 livch2\n",
       "urbanY  -0.292                            \n",
       "age      0.431 -0.045                     \n",
       "livch1  -0.593  0.060 -0.205              \n",
       "livch2  -0.634  0.092 -0.364  0.491       \n",
       "livch3+ -0.752  0.095 -0.646  0.542  0.621"
      ]
     },
     "metadata": {},
     "output_type": "display_data"
    }
   ],
   "source": [
    "summary(glmer(use ~ urban + age + livch + (age + 1 || district), data=contraception, family=binomial))"
   ]
  },
  {
   "cell_type": "markdown",
   "metadata": {},
   "source": [
    "### 城市变量设置为随机效应"
   ]
  },
  {
   "cell_type": "code",
   "execution_count": 13,
   "metadata": {},
   "outputs": [],
   "source": [
    "contraception$urbanBin = car::recode(contraception$urban, \"'Y'=1;'N'=0\", as.factor = F)"
   ]
  },
  {
   "cell_type": "markdown",
   "metadata": {},
   "source": [
    "下面的模型将截距和urbanBin这两个变量的随机效应设置为相互独立"
   ]
  },
  {
   "cell_type": "code",
   "execution_count": 14,
   "metadata": {},
   "outputs": [
    {
     "data": {
      "text/plain": [
       "Generalized linear mixed model fit by maximum likelihood (Laplace\n",
       "  Approximation) [glmerMod]\n",
       " Family: binomial  ( logit )\n",
       "Formula: use ~ urbanBin + age + livch + (1 + urbanBin || district)\n",
       "   Data: contraception\n",
       "\n",
       "     AIC      BIC   logLik deviance df.resid \n",
       "  2426.3   2470.8  -1205.1   2410.3     1926 \n",
       "\n",
       "Scaled residuals: \n",
       "    Min      1Q  Median      3Q     Max \n",
       "-1.9507 -0.7583 -0.5029  0.9838  2.7579 \n",
       "\n",
       "Random effects:\n",
       " Groups     Name        Variance Std.Dev.\n",
       " district   (Intercept) 0.2322   0.4818  \n",
       " district.1 urbanBin    0.2475   0.4975  \n",
       "Number of obs: 1934, groups:  district, 60\n",
       "\n",
       "Fixed effects:\n",
       "             Estimate Std. Error z value Pr(>|z|)    \n",
       "(Intercept) -1.698012   0.149735 -11.340  < 2e-16 ***\n",
       "urbanBin     0.715423   0.148722   4.810 1.51e-06 ***\n",
       "age         -0.026349   0.007946  -3.316 0.000913 ***\n",
       "livch1       1.121495   0.159540   7.030 2.07e-12 ***\n",
       "livch2       1.374286   0.176013   7.808 5.82e-15 ***\n",
       "livch3+      1.353120   0.181149   7.470 8.04e-14 ***\n",
       "---\n",
       "Signif. codes:  0 ‘***’ 0.001 ‘**’ 0.01 ‘*’ 0.05 ‘.’ 0.1 ‘ ’ 1\n",
       "\n",
       "Correlation of Fixed Effects:\n",
       "         (Intr) urbnBn age    livch1 livch2\n",
       "urbanBin -0.235                            \n",
       "age       0.444 -0.037                     \n",
       "livch1   -0.588  0.047 -0.212              \n",
       "livch2   -0.628  0.075 -0.379  0.489       \n",
       "livch3+  -0.747  0.070 -0.673  0.541  0.620"
      ]
     },
     "metadata": {},
     "output_type": "display_data"
    }
   ],
   "source": [
    "summary(glmer(use ~ urbanBin + age + livch + (1 + urbanBin || district), data=contraception, family=binomial))"
   ]
  }
 ],
 "metadata": {
  "kernelspec": {
   "display_name": "R",
   "language": "R",
   "name": "ir"
  },
  "language_info": {
   "codemirror_mode": "r",
   "file_extension": ".r",
   "mimetype": "text/x-r-source",
   "name": "R",
   "pygments_lexer": "r",
   "version": "3.4.3"
  }
 },
 "nbformat": 4,
 "nbformat_minor": 1
}
