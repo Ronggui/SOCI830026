{
 "cells": [
  {
   "cell_type": "markdown",
   "metadata": {},
   "source": [
    "# 离散时间模型\n",
    "\n",
    "#### 黄荣贵（复旦大学）\n",
    "\n",
    "## 读入数据"
   ]
  },
  {
   "cell_type": "code",
   "execution_count": 1,
   "metadata": {
    "scrolled": true
   },
   "outputs": [
    {
     "data": {
      "text/html": [
       "<table>\n",
       "<thead><tr><th scope=col>dur</th><th scope=col>event</th><th scope=col>undgrad</th><th scope=col>phdmed</th><th scope=col>phdprest</th><th scope=col>art1</th><th scope=col>art2</th><th scope=col>art3</th><th scope=col>art4</th><th scope=col>art5</th><th scope=col>⋯</th><th scope=col>cit5</th><th scope=col>cit6</th><th scope=col>cit7</th><th scope=col>cit8</th><th scope=col>cit9</th><th scope=col>cit10</th><th scope=col>prest1</th><th scope=col>prest2</th><th scope=col>jobtime</th><th scope=col>id</th></tr></thead>\n",
       "<tbody>\n",
       "\t<tr><td>10  </td><td>0   </td><td>7.00</td><td>0   </td><td>2.21</td><td>0   </td><td> 0  </td><td> 2  </td><td> 2  </td><td> 2  </td><td>⋯   </td><td> 1  </td><td> 1  </td><td> 1  </td><td> 1  </td><td> 1  </td><td> 1  </td><td>2.36</td><td>2.36</td><td>NA  </td><td>1   </td></tr>\n",
       "\t<tr><td> 4  </td><td>1   </td><td>6.00</td><td>0   </td><td>2.21</td><td>8   </td><td>10  </td><td>14  </td><td>18  </td><td>NA  </td><td>⋯   </td><td>NA  </td><td>NA  </td><td>NA  </td><td>NA  </td><td>NA  </td><td>NA  </td><td>1.84</td><td>2.88</td><td> 3  </td><td>2   </td></tr>\n",
       "\t<tr><td> 4  </td><td>0   </td><td>4.95</td><td>0   </td><td>2.21</td><td>0   </td><td> 0  </td><td> 0  </td><td> 2  </td><td>NA  </td><td>⋯   </td><td>NA  </td><td>NA  </td><td>NA  </td><td>NA  </td><td>NA  </td><td>NA  </td><td>2.40</td><td>2.40</td><td>NA  </td><td>3   </td></tr>\n",
       "\t<tr><td>10  </td><td>0   </td><td>2.00</td><td>1   </td><td>4.54</td><td>2   </td><td> 3  </td><td> 3  </td><td> 3  </td><td> 3  </td><td>⋯   </td><td>17  </td><td>20  </td><td>24  </td><td>24  </td><td>24  </td><td>24  </td><td>2.56</td><td>2.56</td><td>NA  </td><td>4   </td></tr>\n",
       "\t<tr><td> 7  </td><td>1   </td><td>5.00</td><td>1   </td><td>2.15</td><td>1   </td><td> 1  </td><td> 1  </td><td> 2  </td><td> 2  </td><td>⋯   </td><td>19  </td><td>20  </td><td>23  </td><td>NA  </td><td>NA  </td><td>NA  </td><td>2.40</td><td>2.40</td><td>NA  </td><td>5   </td></tr>\n",
       "\t<tr><td> 6  </td><td>1   </td><td>4.95</td><td>0   </td><td>4.54</td><td>0   </td><td> 2  </td><td> 3  </td><td> 5  </td><td> 5  </td><td>⋯   </td><td> 6  </td><td>11  </td><td>NA  </td><td>NA  </td><td>NA  </td><td>NA  </td><td>3.36</td><td>3.36</td><td>NA  </td><td>6   </td></tr>\n",
       "</tbody>\n",
       "</table>\n"
      ],
      "text/latex": [
       "\\begin{tabular}{r|lllllllllllllllllllllllllllll}\n",
       " dur & event & undgrad & phdmed & phdprest & art1 & art2 & art3 & art4 & art5 & ⋯ & cit5 & cit6 & cit7 & cit8 & cit9 & cit10 & prest1 & prest2 & jobtime & id\\\\\n",
       "\\hline\n",
       "\t 10   & 0    & 7.00 & 0    & 2.21 & 0    &  0   &  2   &  2   &  2   & ⋯    &  1   &  1   &  1   &  1   &  1   &  1   & 2.36 & 2.36 & NA   & 1   \\\\\n",
       "\t  4   & 1    & 6.00 & 0    & 2.21 & 8    & 10   & 14   & 18   & NA   & ⋯    & NA   & NA   & NA   & NA   & NA   & NA   & 1.84 & 2.88 &  3   & 2   \\\\\n",
       "\t  4   & 0    & 4.95 & 0    & 2.21 & 0    &  0   &  0   &  2   & NA   & ⋯    & NA   & NA   & NA   & NA   & NA   & NA   & 2.40 & 2.40 & NA   & 3   \\\\\n",
       "\t 10   & 0    & 2.00 & 1    & 4.54 & 2    &  3   &  3   &  3   &  3   & ⋯    & 17   & 20   & 24   & 24   & 24   & 24   & 2.56 & 2.56 & NA   & 4   \\\\\n",
       "\t  7   & 1    & 5.00 & 1    & 2.15 & 1    &  1   &  1   &  2   &  2   & ⋯    & 19   & 20   & 23   & NA   & NA   & NA   & 2.40 & 2.40 & NA   & 5   \\\\\n",
       "\t  6   & 1    & 4.95 & 0    & 4.54 & 0    &  2   &  3   &  5   &  5   & ⋯    &  6   & 11   & NA   & NA   & NA   & NA   & 3.36 & 3.36 & NA   & 6   \\\\\n",
       "\\end{tabular}\n"
      ],
      "text/markdown": [
       "\n",
       "dur | event | undgrad | phdmed | phdprest | art1 | art2 | art3 | art4 | art5 | ⋯ | cit5 | cit6 | cit7 | cit8 | cit9 | cit10 | prest1 | prest2 | jobtime | id | \n",
       "|---|---|---|---|---|---|\n",
       "| 10   | 0    | 7.00 | 0    | 2.21 | 0    |  0   |  2   |  2   |  2   | ⋯    |  1   |  1   |  1   |  1   |  1   |  1   | 2.36 | 2.36 | NA   | 1    | \n",
       "|  4   | 1    | 6.00 | 0    | 2.21 | 8    | 10   | 14   | 18   | NA   | ⋯    | NA   | NA   | NA   | NA   | NA   | NA   | 1.84 | 2.88 |  3   | 2    | \n",
       "|  4   | 0    | 4.95 | 0    | 2.21 | 0    |  0   |  0   |  2   | NA   | ⋯    | NA   | NA   | NA   | NA   | NA   | NA   | 2.40 | 2.40 | NA   | 3    | \n",
       "| 10   | 0    | 2.00 | 1    | 4.54 | 2    |  3   |  3   |  3   |  3   | ⋯    | 17   | 20   | 24   | 24   | 24   | 24   | 2.56 | 2.56 | NA   | 4    | \n",
       "|  7   | 1    | 5.00 | 1    | 2.15 | 1    |  1   |  1   |  2   |  2   | ⋯    | 19   | 20   | 23   | NA   | NA   | NA   | 2.40 | 2.40 | NA   | 5    | \n",
       "|  6   | 1    | 4.95 | 0    | 4.54 | 0    |  2   |  3   |  5   |  5   | ⋯    |  6   | 11   | NA   | NA   | NA   | NA   | 3.36 | 3.36 | NA   | 6    | \n",
       "\n",
       "\n"
      ],
      "text/plain": [
       "  dur event undgrad phdmed phdprest art1 art2 art3 art4 art5 ⋯ cit5 cit6 cit7\n",
       "1 10  0     7.00    0      2.21     0     0    2    2    2   ⋯  1    1    1  \n",
       "2  4  1     6.00    0      2.21     8    10   14   18   NA   ⋯ NA   NA   NA  \n",
       "3  4  0     4.95    0      2.21     0     0    0    2   NA   ⋯ NA   NA   NA  \n",
       "4 10  0     2.00    1      4.54     2     3    3    3    3   ⋯ 17   20   24  \n",
       "5  7  1     5.00    1      2.15     1     1    1    2    2   ⋯ 19   20   23  \n",
       "6  6  1     4.95    0      4.54     0     2    3    5    5   ⋯  6   11   NA  \n",
       "  cit8 cit9 cit10 prest1 prest2 jobtime id\n",
       "1  1    1    1    2.36   2.36   NA      1 \n",
       "2 NA   NA   NA    1.84   2.88    3      2 \n",
       "3 NA   NA   NA    2.40   2.40   NA      3 \n",
       "4 24   24   24    2.56   2.56   NA      4 \n",
       "5 NA   NA   NA    2.40   2.40   NA      5 \n",
       "6 NA   NA   NA    3.36   3.36   NA      6 "
      ]
     },
     "metadata": {},
     "output_type": "display_data"
    }
   ],
   "source": [
    "library(foreign)\n",
    "\n",
    "promoption = read.dta(\"datasets/promotion.dta\")\n",
    "\n",
    "head(promoption)"
   ]
  },
  {
   "cell_type": "markdown",
   "metadata": {},
   "source": [
    "## 生存对象的表示"
   ]
  },
  {
   "cell_type": "code",
   "execution_count": 2,
   "metadata": {},
   "outputs": [
    {
     "name": "stderr",
     "output_type": "stream",
     "text": [
      "Warning message:\n",
      "“package ‘survival’ was built under R version 3.4.4”"
     ]
    },
    {
     "data": {
      "text/plain": [
       "  [1] 10+  4   4+ 10+  7   6  10+  6   4+  5   6   6+  7   6   5   4   7+  7 \n",
       " [19]  5   5   3  10+  6  10+  7   4   9+  5   5   8   5   8   4   4   4   4+\n",
       " [37]  4   8  10+  4   5+  9   6   5   3+  5   8   5+  3+  5   4+  6   4   3+\n",
       " [55]  4   4   6   5  10+  4   4   7  10+  5   9+  7   4  10   6   6   3   6 \n",
       " [73]  9   8   7+  4   5   3+  9+  9+  9   7+  4   8   6+  5  10   5   6   7 \n",
       " [91]  7+  3   5   5   5   4   4   3   7   2+  8  10+  7   6   6   5+  7   6 \n",
       "[109]  8   3   4   6   5   8   8+ 10+  7   6   5   4   7   9+  3+  4+  6   6+\n",
       "[127]  5   3   5   3+  8   2+ 10+  5   5   7  10   6+  5   4   3   6   7   4 \n",
       "[145]  4   6   4+ 10+  4  10+  3   4   5+  5   6   3   3   5   5   6   2   6 \n",
       "[163]  5   7   9   6   6   5   5   6   9   7   4  10+  6+  4+  6+  7   6   4 \n",
       "[181]  5   6+  5   9+  7  10+  4   3+  4+  3+  3+  6   2+  3   4   7   6   7+\n",
       "[199]  2+  7   5   7   4   5   4+  7   5+  4   7   6   3   5   6   6   7   3 \n",
       "[217]  1+  4   5+ 10+  2+  6   7   7  10+  4  10+  3+  6   5   5+  5+ 10+ 10+\n",
       "[235]  4   7+  8  10+  5   6   5   6   6   7   7   7  10   5   6   2+  1  10+\n",
       "[253]  5   9   5   6   6   8   3   6   8   5   6   5   8   9   5   4   5   3 \n",
       "[271]  6   3+  4   7   5  10+  5   5   6   4   4   5+  3  10+  3   8+  4   5 \n",
       "[289]  4   7   5   5  10+  4   4+  6   6   4   8   5   3+"
      ]
     },
     "metadata": {},
     "output_type": "display_data"
    }
   ],
   "source": [
    "library(survival)\n",
    "\n",
    "with(promoption, Surv(time=dur, event=event))"
   ]
  },
  {
   "cell_type": "code",
   "execution_count": 3,
   "metadata": {},
   "outputs": [],
   "source": [
    "promoption$surv = with(promoption, Surv(time=dur, event=event))"
   ]
  },
  {
   "cell_type": "markdown",
   "metadata": {},
   "source": [
    "## 生存分析"
   ]
  },
  {
   "cell_type": "code",
   "execution_count": 4,
   "metadata": {},
   "outputs": [
    {
     "data": {
      "text/plain": [
       "Call: survfit(formula = surv ~ 1, data = promoption)\n",
       "\n",
       " time n.risk n.event survival std.err lower 95% CI upper 95% CI\n",
       "    1    301       1    0.997 0.00332        0.990        1.000\n",
       "    2    299       1    0.993 0.00469        0.984        1.000\n",
       "    3    292      17    0.936 0.01431        0.908        0.964\n",
       "    4    263      42    0.786 0.02431        0.740        0.835\n",
       "    5    211      53    0.589 0.02970        0.533        0.650\n",
       "    6    149      46    0.407 0.03030        0.352        0.471\n",
       "    7     96      31    0.276 0.02825        0.225        0.337\n",
       "    8     59      15    0.205 0.02622        0.160        0.264\n",
       "    9     42       7    0.171 0.02484        0.129        0.228\n",
       "   10     29       4    0.148 0.02406        0.107        0.203"
      ]
     },
     "metadata": {},
     "output_type": "display_data"
    }
   ],
   "source": [
    "summary(survfit(surv~1, data=promoption))"
   ]
  },
  {
   "cell_type": "code",
   "execution_count": 5,
   "metadata": {},
   "outputs": [
    {
     "data": {
      "text/plain": [
       "Call: survfit(formula = Surv(time = dur, event = event) ~ 1, data = promoption)\n",
       "\n",
       " time n.risk n.event survival std.err lower 95% CI upper 95% CI\n",
       "    1    301       1    0.997 0.00332        0.990        1.000\n",
       "    2    299       1    0.993 0.00469        0.984        1.000\n",
       "    3    292      17    0.936 0.01431        0.908        0.964\n",
       "    4    263      42    0.786 0.02431        0.740        0.835\n",
       "    5    211      53    0.589 0.02970        0.533        0.650\n",
       "    6    149      46    0.407 0.03030        0.352        0.471\n",
       "    7     96      31    0.276 0.02825        0.225        0.337\n",
       "    8     59      15    0.205 0.02622        0.160        0.264\n",
       "    9     42       7    0.171 0.02484        0.129        0.228\n",
       "   10     29       4    0.148 0.02406        0.107        0.203"
      ]
     },
     "metadata": {},
     "output_type": "display_data"
    }
   ],
   "source": [
    "summary(survfit(Surv(time=dur, event=event)~1, data=promoption))"
   ]
  },
  {
   "cell_type": "code",
   "execution_count": 6,
   "metadata": {
    "scrolled": true
   },
   "outputs": [
    {
     "data": {
      "image/png": "[encoded data removed]",
      "text/plain": [
       "plot without title"
      ]
     },
     "metadata": {},
     "output_type": "display_data"
    }
   ],
   "source": [
    "plot(survfit(Surv(time=dur, event=event)~1, data=promoption))"
   ]
  },
  {
   "cell_type": "markdown",
   "metadata": {},
   "source": [
    "## 生成“人-时期”数据"
   ]
  },
  {
   "cell_type": "code",
   "execution_count": 7,
   "metadata": {},
   "outputs": [
    {
     "data": {
      "text/plain": [
       "   Min. 1st Qu.  Median    Mean 3rd Qu.    Max. \n",
       "  1.000   4.000   5.000   5.784   7.000  10.000 "
      ]
     },
     "metadata": {},
     "output_type": "display_data"
    }
   ],
   "source": [
    "summary(promoption$dur)"
   ]
  },
  {
   "cell_type": "code",
   "execution_count": 8,
   "metadata": {},
   "outputs": [
    {
     "name": "stdout",
     "output_type": "stream",
     "text": [
      "  dur event id\n",
      "1  10     0  1\n",
      "2   4     1  2\n"
     ]
    }
   ],
   "source": [
    "print(promoption[1:2,c(\"dur\", \"event\", \"id\")])"
   ]
  },
  {
   "cell_type": "code",
   "execution_count": 9,
   "metadata": {
    "scrolled": true
   },
   "outputs": [
    {
     "data": {
      "text/html": [
       "<table>\n",
       "<thead><tr><th scope=col>id</th><th scope=col>tstart</th><th scope=col>dur</th><th scope=col>event</th></tr></thead>\n",
       "<tbody>\n",
       "\t<tr><td>1 </td><td>0 </td><td> 1</td><td>0 </td></tr>\n",
       "\t<tr><td>1 </td><td>1 </td><td> 2</td><td>0 </td></tr>\n",
       "\t<tr><td>1 </td><td>2 </td><td> 3</td><td>0 </td></tr>\n",
       "\t<tr><td>1 </td><td>3 </td><td> 4</td><td>0 </td></tr>\n",
       "\t<tr><td>1 </td><td>4 </td><td> 5</td><td>0 </td></tr>\n",
       "\t<tr><td>1 </td><td>5 </td><td> 6</td><td>0 </td></tr>\n",
       "\t<tr><td>1 </td><td>6 </td><td> 7</td><td>0 </td></tr>\n",
       "\t<tr><td>1 </td><td>7 </td><td> 8</td><td>0 </td></tr>\n",
       "\t<tr><td>1 </td><td>8 </td><td> 9</td><td>0 </td></tr>\n",
       "\t<tr><td>1 </td><td>9 </td><td>10</td><td>0 </td></tr>\n",
       "\t<tr><td>2 </td><td>0 </td><td> 1</td><td>0 </td></tr>\n",
       "\t<tr><td>2 </td><td>1 </td><td> 2</td><td>0 </td></tr>\n",
       "\t<tr><td>2 </td><td>2 </td><td> 3</td><td>0 </td></tr>\n",
       "\t<tr><td>2 </td><td>3 </td><td> 4</td><td>1 </td></tr>\n",
       "</tbody>\n",
       "</table>\n"
      ],
      "text/latex": [
       "\\begin{tabular}{r|llll}\n",
       " id & tstart & dur & event\\\\\n",
       "\\hline\n",
       "\t 1  & 0  &  1 & 0 \\\\\n",
       "\t 1  & 1  &  2 & 0 \\\\\n",
       "\t 1  & 2  &  3 & 0 \\\\\n",
       "\t 1  & 3  &  4 & 0 \\\\\n",
       "\t 1  & 4  &  5 & 0 \\\\\n",
       "\t 1  & 5  &  6 & 0 \\\\\n",
       "\t 1  & 6  &  7 & 0 \\\\\n",
       "\t 1  & 7  &  8 & 0 \\\\\n",
       "\t 1  & 8  &  9 & 0 \\\\\n",
       "\t 1  & 9  & 10 & 0 \\\\\n",
       "\t 2  & 0  &  1 & 0 \\\\\n",
       "\t 2  & 1  &  2 & 0 \\\\\n",
       "\t 2  & 2  &  3 & 0 \\\\\n",
       "\t 2  & 3  &  4 & 1 \\\\\n",
       "\\end{tabular}\n"
      ],
      "text/markdown": [
       "\n",
       "id | tstart | dur | event | \n",
       "|---|---|---|---|---|---|---|---|---|---|---|---|---|---|\n",
       "| 1  | 0  |  1 | 0  | \n",
       "| 1  | 1  |  2 | 0  | \n",
       "| 1  | 2  |  3 | 0  | \n",
       "| 1  | 3  |  4 | 0  | \n",
       "| 1  | 4  |  5 | 0  | \n",
       "| 1  | 5  |  6 | 0  | \n",
       "| 1  | 6  |  7 | 0  | \n",
       "| 1  | 7  |  8 | 0  | \n",
       "| 1  | 8  |  9 | 0  | \n",
       "| 1  | 9  | 10 | 0  | \n",
       "| 2  | 0  |  1 | 0  | \n",
       "| 2  | 1  |  2 | 0  | \n",
       "| 2  | 2  |  3 | 0  | \n",
       "| 2  | 3  |  4 | 1  | \n",
       "\n",
       "\n"
      ],
      "text/plain": [
       "   id tstart dur event\n",
       "1  1  0       1  0    \n",
       "2  1  1       2  0    \n",
       "3  1  2       3  0    \n",
       "4  1  3       4  0    \n",
       "5  1  4       5  0    \n",
       "6  1  5       6  0    \n",
       "7  1  6       7  0    \n",
       "8  1  7       8  0    \n",
       "9  1  8       9  0    \n",
       "10 1  9      10  0    \n",
       "11 2  0       1  0    \n",
       "12 2  1       2  0    \n",
       "13 2  2       3  0    \n",
       "14 2  3       4  1    "
      ]
     },
     "metadata": {},
     "output_type": "display_data"
    }
   ],
   "source": [
    "survSplit(Surv(time=dur, event=event)~id, cut=seq(0,10), \n",
    "          data=promoption[1:2,])"
   ]
  },
  {
   "cell_type": "code",
   "execution_count": 10,
   "metadata": {},
   "outputs": [
    {
     "data": {
      "text/html": [
       "<table>\n",
       "<thead><tr><th scope=col>id</th><th scope=col>tstart</th><th scope=col>dur</th><th scope=col>event</th></tr></thead>\n",
       "<tbody>\n",
       "\t<tr><td>1 </td><td>0 </td><td> 2</td><td>0 </td></tr>\n",
       "\t<tr><td>1 </td><td>2 </td><td> 4</td><td>0 </td></tr>\n",
       "\t<tr><td>1 </td><td>4 </td><td> 6</td><td>0 </td></tr>\n",
       "\t<tr><td>1 </td><td>6 </td><td> 8</td><td>0 </td></tr>\n",
       "\t<tr><td>1 </td><td>8 </td><td>10</td><td>0 </td></tr>\n",
       "\t<tr><td>2 </td><td>0 </td><td> 2</td><td>0 </td></tr>\n",
       "\t<tr><td>2 </td><td>2 </td><td> 4</td><td>1 </td></tr>\n",
       "</tbody>\n",
       "</table>\n"
      ],
      "text/latex": [
       "\\begin{tabular}{r|llll}\n",
       " id & tstart & dur & event\\\\\n",
       "\\hline\n",
       "\t 1  & 0  &  2 & 0 \\\\\n",
       "\t 1  & 2  &  4 & 0 \\\\\n",
       "\t 1  & 4  &  6 & 0 \\\\\n",
       "\t 1  & 6  &  8 & 0 \\\\\n",
       "\t 1  & 8  & 10 & 0 \\\\\n",
       "\t 2  & 0  &  2 & 0 \\\\\n",
       "\t 2  & 2  &  4 & 1 \\\\\n",
       "\\end{tabular}\n"
      ],
      "text/markdown": [
       "\n",
       "id | tstart | dur | event | \n",
       "|---|---|---|---|---|---|---|\n",
       "| 1  | 0  |  2 | 0  | \n",
       "| 1  | 2  |  4 | 0  | \n",
       "| 1  | 4  |  6 | 0  | \n",
       "| 1  | 6  |  8 | 0  | \n",
       "| 1  | 8  | 10 | 0  | \n",
       "| 2  | 0  |  2 | 0  | \n",
       "| 2  | 2  |  4 | 1  | \n",
       "\n",
       "\n"
      ],
      "text/plain": [
       "  id tstart dur event\n",
       "1 1  0       2  0    \n",
       "2 1  2       4  0    \n",
       "3 1  4       6  0    \n",
       "4 1  6       8  0    \n",
       "5 1  8      10  0    \n",
       "6 2  0       2  0    \n",
       "7 2  2       4  1    "
      ]
     },
     "metadata": {},
     "output_type": "display_data"
    }
   ],
   "source": [
    "survSplit(Surv(time=dur, event=event)~id, cut=seq(0,10,2), \n",
    "          data=promoption[1:2,])"
   ]
  },
  {
   "cell_type": "code",
   "execution_count": 11,
   "metadata": {},
   "outputs": [
    {
     "data": {
      "text/html": [
       "<table>\n",
       "<thead><tr><th scope=col>id</th><th scope=col>undgrad</th><th scope=col>phdmed</th><th scope=col>phdprest</th><th scope=col>tstart</th><th scope=col>dur</th><th scope=col>event</th><th scope=col>year</th></tr></thead>\n",
       "<tbody>\n",
       "\t<tr><td>1   </td><td>7   </td><td>0   </td><td>2.21</td><td>0   </td><td> 1  </td><td>0   </td><td> 2  </td></tr>\n",
       "\t<tr><td>1   </td><td>7   </td><td>0   </td><td>2.21</td><td>1   </td><td> 2  </td><td>0   </td><td> 3  </td></tr>\n",
       "\t<tr><td>1   </td><td>7   </td><td>0   </td><td>2.21</td><td>2   </td><td> 3  </td><td>0   </td><td> 4  </td></tr>\n",
       "\t<tr><td>1   </td><td>7   </td><td>0   </td><td>2.21</td><td>3   </td><td> 4  </td><td>0   </td><td> 5  </td></tr>\n",
       "\t<tr><td>1   </td><td>7   </td><td>0   </td><td>2.21</td><td>4   </td><td> 5  </td><td>0   </td><td> 6  </td></tr>\n",
       "\t<tr><td>1   </td><td>7   </td><td>0   </td><td>2.21</td><td>5   </td><td> 6  </td><td>0   </td><td> 7  </td></tr>\n",
       "\t<tr><td>1   </td><td>7   </td><td>0   </td><td>2.21</td><td>6   </td><td> 7  </td><td>0   </td><td> 8  </td></tr>\n",
       "\t<tr><td>1   </td><td>7   </td><td>0   </td><td>2.21</td><td>7   </td><td> 8  </td><td>0   </td><td> 9  </td></tr>\n",
       "\t<tr><td>1   </td><td>7   </td><td>0   </td><td>2.21</td><td>8   </td><td> 9  </td><td>0   </td><td>10  </td></tr>\n",
       "\t<tr><td>1   </td><td>7   </td><td>0   </td><td>2.21</td><td>9   </td><td>10  </td><td>0   </td><td>11  </td></tr>\n",
       "\t<tr><td>2   </td><td>6   </td><td>0   </td><td>2.21</td><td>0   </td><td> 1  </td><td>0   </td><td> 2  </td></tr>\n",
       "\t<tr><td>2   </td><td>6   </td><td>0   </td><td>2.21</td><td>1   </td><td> 2  </td><td>0   </td><td> 3  </td></tr>\n",
       "\t<tr><td>2   </td><td>6   </td><td>0   </td><td>2.21</td><td>2   </td><td> 3  </td><td>0   </td><td> 4  </td></tr>\n",
       "\t<tr><td>2   </td><td>6   </td><td>0   </td><td>2.21</td><td>3   </td><td> 4  </td><td>1   </td><td> 5  </td></tr>\n",
       "</tbody>\n",
       "</table>\n"
      ],
      "text/latex": [
       "\\begin{tabular}{r|llllllll}\n",
       " id & undgrad & phdmed & phdprest & tstart & dur & event & year\\\\\n",
       "\\hline\n",
       "\t 1    & 7    & 0    & 2.21 & 0    &  1   & 0    &  2  \\\\\n",
       "\t 1    & 7    & 0    & 2.21 & 1    &  2   & 0    &  3  \\\\\n",
       "\t 1    & 7    & 0    & 2.21 & 2    &  3   & 0    &  4  \\\\\n",
       "\t 1    & 7    & 0    & 2.21 & 3    &  4   & 0    &  5  \\\\\n",
       "\t 1    & 7    & 0    & 2.21 & 4    &  5   & 0    &  6  \\\\\n",
       "\t 1    & 7    & 0    & 2.21 & 5    &  6   & 0    &  7  \\\\\n",
       "\t 1    & 7    & 0    & 2.21 & 6    &  7   & 0    &  8  \\\\\n",
       "\t 1    & 7    & 0    & 2.21 & 7    &  8   & 0    &  9  \\\\\n",
       "\t 1    & 7    & 0    & 2.21 & 8    &  9   & 0    & 10  \\\\\n",
       "\t 1    & 7    & 0    & 2.21 & 9    & 10   & 0    & 11  \\\\\n",
       "\t 2    & 6    & 0    & 2.21 & 0    &  1   & 0    &  2  \\\\\n",
       "\t 2    & 6    & 0    & 2.21 & 1    &  2   & 0    &  3  \\\\\n",
       "\t 2    & 6    & 0    & 2.21 & 2    &  3   & 0    &  4  \\\\\n",
       "\t 2    & 6    & 0    & 2.21 & 3    &  4   & 1    &  5  \\\\\n",
       "\\end{tabular}\n"
      ],
      "text/markdown": [
       "\n",
       "id | undgrad | phdmed | phdprest | tstart | dur | event | year | \n",
       "|---|---|---|---|---|---|---|---|---|---|---|---|---|---|\n",
       "| 1    | 7    | 0    | 2.21 | 0    |  1   | 0    |  2   | \n",
       "| 1    | 7    | 0    | 2.21 | 1    |  2   | 0    |  3   | \n",
       "| 1    | 7    | 0    | 2.21 | 2    |  3   | 0    |  4   | \n",
       "| 1    | 7    | 0    | 2.21 | 3    |  4   | 0    |  5   | \n",
       "| 1    | 7    | 0    | 2.21 | 4    |  5   | 0    |  6   | \n",
       "| 1    | 7    | 0    | 2.21 | 5    |  6   | 0    |  7   | \n",
       "| 1    | 7    | 0    | 2.21 | 6    |  7   | 0    |  8   | \n",
       "| 1    | 7    | 0    | 2.21 | 7    |  8   | 0    |  9   | \n",
       "| 1    | 7    | 0    | 2.21 | 8    |  9   | 0    | 10   | \n",
       "| 1    | 7    | 0    | 2.21 | 9    | 10   | 0    | 11   | \n",
       "| 2    | 6    | 0    | 2.21 | 0    |  1   | 0    |  2   | \n",
       "| 2    | 6    | 0    | 2.21 | 1    |  2   | 0    |  3   | \n",
       "| 2    | 6    | 0    | 2.21 | 2    |  3   | 0    |  4   | \n",
       "| 2    | 6    | 0    | 2.21 | 3    |  4   | 1    |  5   | \n",
       "\n",
       "\n"
      ],
      "text/plain": [
       "   id undgrad phdmed phdprest tstart dur event year\n",
       "1  1  7       0      2.21     0       1  0      2  \n",
       "2  1  7       0      2.21     1       2  0      3  \n",
       "3  1  7       0      2.21     2       3  0      4  \n",
       "4  1  7       0      2.21     3       4  0      5  \n",
       "5  1  7       0      2.21     4       5  0      6  \n",
       "6  1  7       0      2.21     5       6  0      7  \n",
       "7  1  7       0      2.21     6       7  0      8  \n",
       "8  1  7       0      2.21     7       8  0      9  \n",
       "9  1  7       0      2.21     8       9  0     10  \n",
       "10 1  7       0      2.21     9      10  0     11  \n",
       "11 2  6       0      2.21     0       1  0      2  \n",
       "12 2  6       0      2.21     1       2  0      3  \n",
       "13 2  6       0      2.21     2       3  0      4  \n",
       "14 2  6       0      2.21     3       4  1      5  "
      ]
     },
     "metadata": {},
     "output_type": "display_data"
    }
   ],
   "source": [
    "survSplit(Surv(time=dur, event=event)~id+undgrad+phdmed+phdprest, \n",
    "          cut=seq(0,10), data=promoption[1:2,], episode=\"year\")"
   ]
  },
  {
   "cell_type": "code",
   "execution_count": 12,
   "metadata": {},
   "outputs": [
    {
     "data": {
      "text/html": [
       "<table>\n",
       "<thead><tr><th scope=col>id</th><th scope=col>undgrad</th><th scope=col>phdmed</th><th scope=col>phdprest</th><th scope=col>tstart</th><th scope=col>dur</th><th scope=col>event</th><th scope=col>year</th></tr></thead>\n",
       "<tbody>\n",
       "\t<tr><td>1   </td><td>7   </td><td>0   </td><td>2.21</td><td>0   </td><td>1   </td><td>0   </td><td>2   </td></tr>\n",
       "\t<tr><td>1   </td><td>7   </td><td>0   </td><td>2.21</td><td>1   </td><td>2   </td><td>0   </td><td>3   </td></tr>\n",
       "\t<tr><td>1   </td><td>7   </td><td>0   </td><td>2.21</td><td>2   </td><td>3   </td><td>0   </td><td>4   </td></tr>\n",
       "\t<tr><td>1   </td><td>7   </td><td>0   </td><td>2.21</td><td>3   </td><td>4   </td><td>0   </td><td>5   </td></tr>\n",
       "\t<tr><td>1   </td><td>7   </td><td>0   </td><td>2.21</td><td>4   </td><td>5   </td><td>0   </td><td>6   </td></tr>\n",
       "\t<tr><td>1   </td><td>7   </td><td>0   </td><td>2.21</td><td>5   </td><td>6   </td><td>0   </td><td>7   </td></tr>\n",
       "</tbody>\n",
       "</table>\n"
      ],
      "text/latex": [
       "\\begin{tabular}{r|llllllll}\n",
       " id & undgrad & phdmed & phdprest & tstart & dur & event & year\\\\\n",
       "\\hline\n",
       "\t 1    & 7    & 0    & 2.21 & 0    & 1    & 0    & 2   \\\\\n",
       "\t 1    & 7    & 0    & 2.21 & 1    & 2    & 0    & 3   \\\\\n",
       "\t 1    & 7    & 0    & 2.21 & 2    & 3    & 0    & 4   \\\\\n",
       "\t 1    & 7    & 0    & 2.21 & 3    & 4    & 0    & 5   \\\\\n",
       "\t 1    & 7    & 0    & 2.21 & 4    & 5    & 0    & 6   \\\\\n",
       "\t 1    & 7    & 0    & 2.21 & 5    & 6    & 0    & 7   \\\\\n",
       "\\end{tabular}\n"
      ],
      "text/markdown": [
       "\n",
       "id | undgrad | phdmed | phdprest | tstart | dur | event | year | \n",
       "|---|---|---|---|---|---|\n",
       "| 1    | 7    | 0    | 2.21 | 0    | 1    | 0    | 2    | \n",
       "| 1    | 7    | 0    | 2.21 | 1    | 2    | 0    | 3    | \n",
       "| 1    | 7    | 0    | 2.21 | 2    | 3    | 0    | 4    | \n",
       "| 1    | 7    | 0    | 2.21 | 3    | 4    | 0    | 5    | \n",
       "| 1    | 7    | 0    | 2.21 | 4    | 5    | 0    | 6    | \n",
       "| 1    | 7    | 0    | 2.21 | 5    | 6    | 0    | 7    | \n",
       "\n",
       "\n"
      ],
      "text/plain": [
       "  id undgrad phdmed phdprest tstart dur event year\n",
       "1 1  7       0      2.21     0      1   0     2   \n",
       "2 1  7       0      2.21     1      2   0     3   \n",
       "3 1  7       0      2.21     2      3   0     4   \n",
       "4 1  7       0      2.21     3      4   0     5   \n",
       "5 1  7       0      2.21     4      5   0     6   \n",
       "6 1  7       0      2.21     5      6   0     7   "
      ]
     },
     "metadata": {},
     "output_type": "display_data"
    }
   ],
   "source": [
    "promLong = survSplit(Surv(time=dur, event=event)~id+undgrad+phdmed+phdprest, \n",
    "          cut=seq(0,10), data=promoption, episode=\"year\")\n",
    "\n",
    "head(promLong)"
   ]
  },
  {
   "cell_type": "markdown",
   "metadata": {},
   "source": [
    "## 离散时间模型"
   ]
  },
  {
   "cell_type": "code",
   "execution_count": 13,
   "metadata": {},
   "outputs": [
    {
     "data": {
      "text/plain": [
       "\n",
       "Call:\n",
       "glm(formula = event ~ undgrad + phdmed + phdprest + factor(year), \n",
       "    family = binomial, data = promLong)\n",
       "\n",
       "Deviance Residuals: \n",
       "    Min       1Q   Median       3Q      Max  \n",
       "-1.0628  -0.6196  -0.3136  -0.0774   3.4056  \n",
       "\n",
       "Coefficients:\n",
       "                Estimate Std. Error z value Pr(>|z|)    \n",
       "(Intercept)    -6.671891   1.081530  -6.169 6.88e-10 ***\n",
       "undgrad         0.157661   0.060070   2.625 0.008675 ** \n",
       "phdmed         -0.095003   0.166518  -0.571 0.568319    \n",
       "phdprest        0.065037   0.085449   0.761 0.446583    \n",
       "factor(year)3   0.006304   1.416672   0.004 0.996449    \n",
       "factor(year)4   2.923037   1.032530   2.831 0.004641 ** \n",
       "factor(year)5   4.051510   1.015902   3.988 6.66e-05 ***\n",
       "factor(year)6   4.619307   1.014388   4.554 5.27e-06 ***\n",
       "factor(year)7   4.924626   1.017591   4.839 1.30e-06 ***\n",
       "factor(year)8   4.992069   1.025680   4.867 1.13e-06 ***\n",
       "factor(year)9   4.690531   1.046301   4.483 7.36e-06 ***\n",
       "factor(year)10  4.167770   1.085171   3.841 0.000123 ***\n",
       "factor(year)11  3.964635   1.139075   3.481 0.000500 ***\n",
       "---\n",
       "Signif. codes:  0 ‘***’ 0.001 ‘**’ 0.01 ‘*’ 0.05 ‘.’ 0.1 ‘ ’ 1\n",
       "\n",
       "(Dispersion parameter for binomial family taken to be 1)\n",
       "\n",
       "    Null deviance: 1309.5  on 1740  degrees of freedom\n",
       "Residual deviance: 1048.7  on 1728  degrees of freedom\n",
       "AIC: 1074.7\n",
       "\n",
       "Number of Fisher Scoring iterations: 8\n"
      ]
     },
     "metadata": {},
     "output_type": "display_data"
    }
   ],
   "source": [
    "fit = glm(event~undgrad+phdmed+phdprest+factor(year), \n",
    "          data=promLong, family = binomial)\n",
    "\n",
    "summary(fit)"
   ]
  },
  {
   "cell_type": "code",
   "execution_count": 14,
   "metadata": {},
   "outputs": [
    {
     "data": {
      "text/html": [
       "<dl class=dl-horizontal>\n",
       "\t<dt>(Intercept)</dt>\n",
       "\t\t<dd>0.00126600303961124</dd>\n",
       "\t<dt>undgrad</dt>\n",
       "\t\t<dd>1.17076912218735</dd>\n",
       "\t<dt>phdmed</dt>\n",
       "\t\t<dd>0.909369887132755</dd>\n",
       "\t<dt>phdprest</dt>\n",
       "\t\t<dd>1.06719871702436</dd>\n",
       "\t<dt>factor(year)3</dt>\n",
       "\t\t<dd>1.00632422830346</dd>\n",
       "\t<dt>factor(year)4</dt>\n",
       "\t\t<dd>18.5976804918368</dd>\n",
       "\t<dt>factor(year)5</dt>\n",
       "\t\t<dd>57.4841720392566</dd>\n",
       "\t<dt>factor(year)6</dt>\n",
       "\t\t<dd>101.423713552828</dd>\n",
       "\t<dt>factor(year)7</dt>\n",
       "\t\t<dd>137.637799574065</dd>\n",
       "\t<dt>factor(year)8</dt>\n",
       "\t\t<dd>147.24070386786</dd>\n",
       "\t<dt>factor(year)9</dt>\n",
       "\t\t<dd>108.910965147361</dd>\n",
       "\t<dt>factor(year)10</dt>\n",
       "\t\t<dd>64.5712763350529</dd>\n",
       "\t<dt>factor(year)11</dt>\n",
       "\t\t<dd>52.7010236990887</dd>\n",
       "</dl>\n"
      ],
      "text/latex": [
       "\\begin{description*}\n",
       "\\item[(Intercept)] 0.00126600303961124\n",
       "\\item[undgrad] 1.17076912218735\n",
       "\\item[phdmed] 0.909369887132755\n",
       "\\item[phdprest] 1.06719871702436\n",
       "\\item[factor(year)3] 1.00632422830346\n",
       "\\item[factor(year)4] 18.5976804918368\n",
       "\\item[factor(year)5] 57.4841720392566\n",
       "\\item[factor(year)6] 101.423713552828\n",
       "\\item[factor(year)7] 137.637799574065\n",
       "\\item[factor(year)8] 147.24070386786\n",
       "\\item[factor(year)9] 108.910965147361\n",
       "\\item[factor(year)10] 64.5712763350529\n",
       "\\item[factor(year)11] 52.7010236990887\n",
       "\\end{description*}\n"
      ],
      "text/markdown": [
       "(Intercept)\n",
       ":   0.00126600303961124undgrad\n",
       ":   1.17076912218735phdmed\n",
       ":   0.909369887132755phdprest\n",
       ":   1.06719871702436factor(year)3\n",
       ":   1.00632422830346factor(year)4\n",
       ":   18.5976804918368factor(year)5\n",
       ":   57.4841720392566factor(year)6\n",
       ":   101.423713552828factor(year)7\n",
       ":   137.637799574065factor(year)8\n",
       ":   147.24070386786factor(year)9\n",
       ":   108.910965147361factor(year)10\n",
       ":   64.5712763350529factor(year)11\n",
       ":   52.7010236990887\n",
       "\n"
      ],
      "text/plain": [
       "   (Intercept)        undgrad         phdmed       phdprest  factor(year)3 \n",
       "  1.266003e-03   1.170769e+00   9.093699e-01   1.067199e+00   1.006324e+00 \n",
       " factor(year)4  factor(year)5  factor(year)6  factor(year)7  factor(year)8 \n",
       "  1.859768e+01   5.748417e+01   1.014237e+02   1.376378e+02   1.472407e+02 \n",
       " factor(year)9 factor(year)10 factor(year)11 \n",
       "  1.089110e+02   6.457128e+01   5.270102e+01 "
      ]
     },
     "metadata": {},
     "output_type": "display_data"
    }
   ],
   "source": [
    "exp(coef(fit))"
   ]
  },
  {
   "cell_type": "markdown",
   "metadata": {},
   "source": [
    "## 时变变量的处理\n",
    "\n",
    "使用reshape函数对数据进行变化，然后将时变数据与上述数据合并。"
   ]
  },
  {
   "cell_type": "code",
   "execution_count": 15,
   "metadata": {},
   "outputs": [
    {
     "name": "stdout",
     "output_type": "stream",
     "text": [
      "  art1 art2 art3 art4 art5 art6 art7 art8 art9 art10\n",
      "1    0    0    2    2    2    2    2    2    2     2\n",
      "2    8   10   14   18   NA   NA   NA   NA   NA    NA\n",
      "3    0    0    0    2   NA   NA   NA   NA   NA    NA\n",
      "  cit1 cit2 cit3 cit4 cit5 cit6 cit7 cit8 cit9 cit10\n",
      "1    0    0    1    1    1    1    1    1    1     1\n",
      "2   27   44   57   63   NA   NA   NA   NA   NA    NA\n",
      "3    0    0    0    2   NA   NA   NA   NA   NA    NA\n"
     ]
    }
   ],
   "source": [
    "p2 = promoption[, c(6:25, 29),]\n",
    "\n",
    "# names(p2)[1:10] = paste(\"art\", 1:10, sep=\".\")\n",
    "# names(p2)[11:20] = paste(\"cit\", 1:10, sep=\".\")\n",
    "\n",
    "print(p2[1:3, 1:10])\n",
    "\n",
    "print(p2[1:3, 11:20])"
   ]
  },
  {
   "cell_type": "code",
   "execution_count": 16,
   "metadata": {},
   "outputs": [
    {
     "data": {
      "text/html": [
       "<table>\n",
       "<thead><tr><th></th><th scope=col>id</th><th scope=col>time</th><th scope=col>art</th><th scope=col>cit</th></tr></thead>\n",
       "<tbody>\n",
       "\t<tr><th scope=row>1.1</th><td> 1</td><td>1 </td><td>0 </td><td> 0</td></tr>\n",
       "\t<tr><th scope=row>2.1</th><td> 2</td><td>1 </td><td>8 </td><td>27</td></tr>\n",
       "\t<tr><th scope=row>3.1</th><td> 3</td><td>1 </td><td>0 </td><td> 0</td></tr>\n",
       "\t<tr><th scope=row>4.1</th><td> 4</td><td>1 </td><td>2 </td><td>11</td></tr>\n",
       "\t<tr><th scope=row>5.1</th><td> 5</td><td>1 </td><td>1 </td><td>14</td></tr>\n",
       "\t<tr><th scope=row>6.1</th><td> 6</td><td>1 </td><td>0 </td><td> 0</td></tr>\n",
       "\t<tr><th scope=row>7.1</th><td> 7</td><td>1 </td><td>5 </td><td>29</td></tr>\n",
       "\t<tr><th scope=row>8.1</th><td> 8</td><td>1 </td><td>3 </td><td>19</td></tr>\n",
       "\t<tr><th scope=row>9.1</th><td> 9</td><td>1 </td><td>8 </td><td>41</td></tr>\n",
       "\t<tr><th scope=row>10.1</th><td>10</td><td>1 </td><td>0 </td><td> 0</td></tr>\n",
       "</tbody>\n",
       "</table>\n"
      ],
      "text/latex": [
       "\\begin{tabular}{r|llll}\n",
       "  & id & time & art & cit\\\\\n",
       "\\hline\n",
       "\t1.1 &  1 & 1  & 0  &  0\\\\\n",
       "\t2.1 &  2 & 1  & 8  & 27\\\\\n",
       "\t3.1 &  3 & 1  & 0  &  0\\\\\n",
       "\t4.1 &  4 & 1  & 2  & 11\\\\\n",
       "\t5.1 &  5 & 1  & 1  & 14\\\\\n",
       "\t6.1 &  6 & 1  & 0  &  0\\\\\n",
       "\t7.1 &  7 & 1  & 5  & 29\\\\\n",
       "\t8.1 &  8 & 1  & 3  & 19\\\\\n",
       "\t9.1 &  9 & 1  & 8  & 41\\\\\n",
       "\t10.1 & 10 & 1  & 0  &  0\\\\\n",
       "\\end{tabular}\n"
      ],
      "text/markdown": [
       "\n",
       "| <!--/--> | id | time | art | cit | \n",
       "|---|---|---|---|---|---|---|---|---|---|\n",
       "| 1.1 |  1 | 1  | 0  |  0 | \n",
       "| 2.1 |  2 | 1  | 8  | 27 | \n",
       "| 3.1 |  3 | 1  | 0  |  0 | \n",
       "| 4.1 |  4 | 1  | 2  | 11 | \n",
       "| 5.1 |  5 | 1  | 1  | 14 | \n",
       "| 6.1 |  6 | 1  | 0  |  0 | \n",
       "| 7.1 |  7 | 1  | 5  | 29 | \n",
       "| 8.1 |  8 | 1  | 3  | 19 | \n",
       "| 9.1 |  9 | 1  | 8  | 41 | \n",
       "| 10.1 | 10 | 1  | 0  |  0 | \n",
       "\n",
       "\n"
      ],
      "text/plain": [
       "     id time art cit\n",
       "1.1   1 1    0    0 \n",
       "2.1   2 1    8   27 \n",
       "3.1   3 1    0    0 \n",
       "4.1   4 1    2   11 \n",
       "5.1   5 1    1   14 \n",
       "6.1   6 1    0    0 \n",
       "7.1   7 1    5   29 \n",
       "8.1   8 1    3   19 \n",
       "9.1   9 1    8   41 \n",
       "10.1 10 1    0    0 "
      ]
     },
     "metadata": {},
     "output_type": "display_data"
    }
   ],
   "source": [
    "tvvs = reshape(p2, varying =list(1:10, 11:20), direction = \"long\", \n",
    "               v.names=c(\"art\", \"cit\"), idvar = \"id\")\n",
    "\n",
    "\n",
    "head(tvvs, 10)"
   ]
  },
  {
   "cell_type": "code",
   "execution_count": 17,
   "metadata": {},
   "outputs": [
    {
     "data": {
      "text/html": [
       "<table>\n",
       "<thead><tr><th></th><th scope=col>id</th><th scope=col>time</th><th scope=col>art</th><th scope=col>cit</th></tr></thead>\n",
       "<tbody>\n",
       "\t<tr><th scope=row>1.1</th><td>1 </td><td> 1</td><td> 0</td><td> 0</td></tr>\n",
       "\t<tr><th scope=row>1.2</th><td>1 </td><td> 2</td><td> 0</td><td> 0</td></tr>\n",
       "\t<tr><th scope=row>1.3</th><td>1 </td><td> 3</td><td> 2</td><td> 1</td></tr>\n",
       "\t<tr><th scope=row>1.4</th><td>1 </td><td> 4</td><td> 2</td><td> 1</td></tr>\n",
       "\t<tr><th scope=row>1.5</th><td>1 </td><td> 5</td><td> 2</td><td> 1</td></tr>\n",
       "\t<tr><th scope=row>1.6</th><td>1 </td><td> 6</td><td> 2</td><td> 1</td></tr>\n",
       "\t<tr><th scope=row>1.7</th><td>1 </td><td> 7</td><td> 2</td><td> 1</td></tr>\n",
       "\t<tr><th scope=row>1.8</th><td>1 </td><td> 8</td><td> 2</td><td> 1</td></tr>\n",
       "\t<tr><th scope=row>1.9</th><td>1 </td><td> 9</td><td> 2</td><td> 1</td></tr>\n",
       "\t<tr><th scope=row>1.10</th><td>1 </td><td>10</td><td> 2</td><td> 1</td></tr>\n",
       "\t<tr><th scope=row>2.1</th><td>2 </td><td> 1</td><td> 8</td><td>27</td></tr>\n",
       "\t<tr><th scope=row>2.2</th><td>2 </td><td> 2</td><td>10</td><td>44</td></tr>\n",
       "\t<tr><th scope=row>2.3</th><td>2 </td><td> 3</td><td>14</td><td>57</td></tr>\n",
       "\t<tr><th scope=row>2.4</th><td>2 </td><td> 4</td><td>18</td><td>63</td></tr>\n",
       "\t<tr><th scope=row>2.5</th><td>2 </td><td> 5</td><td>NA</td><td>NA</td></tr>\n",
       "\t<tr><th scope=row>2.6</th><td>2 </td><td> 6</td><td>NA</td><td>NA</td></tr>\n",
       "\t<tr><th scope=row>2.7</th><td>2 </td><td> 7</td><td>NA</td><td>NA</td></tr>\n",
       "\t<tr><th scope=row>2.8</th><td>2 </td><td> 8</td><td>NA</td><td>NA</td></tr>\n",
       "\t<tr><th scope=row>2.9</th><td>2 </td><td> 9</td><td>NA</td><td>NA</td></tr>\n",
       "\t<tr><th scope=row>2.10</th><td>2 </td><td>10</td><td>NA</td><td>NA</td></tr>\n",
       "\t<tr><th scope=row>3.1</th><td>3 </td><td> 1</td><td> 0</td><td> 0</td></tr>\n",
       "\t<tr><th scope=row>3.2</th><td>3 </td><td> 2</td><td> 0</td><td> 0</td></tr>\n",
       "\t<tr><th scope=row>3.3</th><td>3 </td><td> 3</td><td> 0</td><td> 0</td></tr>\n",
       "\t<tr><th scope=row>3.4</th><td>3 </td><td> 4</td><td> 2</td><td> 2</td></tr>\n",
       "\t<tr><th scope=row>3.5</th><td>3 </td><td> 5</td><td>NA</td><td>NA</td></tr>\n",
       "</tbody>\n",
       "</table>\n"
      ],
      "text/latex": [
       "\\begin{tabular}{r|llll}\n",
       "  & id & time & art & cit\\\\\n",
       "\\hline\n",
       "\t1.1 & 1  &  1 &  0 &  0\\\\\n",
       "\t1.2 & 1  &  2 &  0 &  0\\\\\n",
       "\t1.3 & 1  &  3 &  2 &  1\\\\\n",
       "\t1.4 & 1  &  4 &  2 &  1\\\\\n",
       "\t1.5 & 1  &  5 &  2 &  1\\\\\n",
       "\t1.6 & 1  &  6 &  2 &  1\\\\\n",
       "\t1.7 & 1  &  7 &  2 &  1\\\\\n",
       "\t1.8 & 1  &  8 &  2 &  1\\\\\n",
       "\t1.9 & 1  &  9 &  2 &  1\\\\\n",
       "\t1.10 & 1  & 10 &  2 &  1\\\\\n",
       "\t2.1 & 2  &  1 &  8 & 27\\\\\n",
       "\t2.2 & 2  &  2 & 10 & 44\\\\\n",
       "\t2.3 & 2  &  3 & 14 & 57\\\\\n",
       "\t2.4 & 2  &  4 & 18 & 63\\\\\n",
       "\t2.5 & 2  &  5 & NA & NA\\\\\n",
       "\t2.6 & 2  &  6 & NA & NA\\\\\n",
       "\t2.7 & 2  &  7 & NA & NA\\\\\n",
       "\t2.8 & 2  &  8 & NA & NA\\\\\n",
       "\t2.9 & 2  &  9 & NA & NA\\\\\n",
       "\t2.10 & 2  & 10 & NA & NA\\\\\n",
       "\t3.1 & 3  &  1 &  0 &  0\\\\\n",
       "\t3.2 & 3  &  2 &  0 &  0\\\\\n",
       "\t3.3 & 3  &  3 &  0 &  0\\\\\n",
       "\t3.4 & 3  &  4 &  2 &  2\\\\\n",
       "\t3.5 & 3  &  5 & NA & NA\\\\\n",
       "\\end{tabular}\n"
      ],
      "text/markdown": [
       "\n",
       "| <!--/--> | id | time | art | cit | \n",
       "|---|---|---|---|---|---|---|---|---|---|---|---|---|---|---|---|---|---|---|---|---|---|---|---|---|\n",
       "| 1.1 | 1  |  1 |  0 |  0 | \n",
       "| 1.2 | 1  |  2 |  0 |  0 | \n",
       "| 1.3 | 1  |  3 |  2 |  1 | \n",
       "| 1.4 | 1  |  4 |  2 |  1 | \n",
       "| 1.5 | 1  |  5 |  2 |  1 | \n",
       "| 1.6 | 1  |  6 |  2 |  1 | \n",
       "| 1.7 | 1  |  7 |  2 |  1 | \n",
       "| 1.8 | 1  |  8 |  2 |  1 | \n",
       "| 1.9 | 1  |  9 |  2 |  1 | \n",
       "| 1.10 | 1  | 10 |  2 |  1 | \n",
       "| 2.1 | 2  |  1 |  8 | 27 | \n",
       "| 2.2 | 2  |  2 | 10 | 44 | \n",
       "| 2.3 | 2  |  3 | 14 | 57 | \n",
       "| 2.4 | 2  |  4 | 18 | 63 | \n",
       "| 2.5 | 2  |  5 | NA | NA | \n",
       "| 2.6 | 2  |  6 | NA | NA | \n",
       "| 2.7 | 2  |  7 | NA | NA | \n",
       "| 2.8 | 2  |  8 | NA | NA | \n",
       "| 2.9 | 2  |  9 | NA | NA | \n",
       "| 2.10 | 2  | 10 | NA | NA | \n",
       "| 3.1 | 3  |  1 |  0 |  0 | \n",
       "| 3.2 | 3  |  2 |  0 |  0 | \n",
       "| 3.3 | 3  |  3 |  0 |  0 | \n",
       "| 3.4 | 3  |  4 |  2 |  2 | \n",
       "| 3.5 | 3  |  5 | NA | NA | \n",
       "\n",
       "\n"
      ],
      "text/plain": [
       "     id time art cit\n",
       "1.1  1   1    0   0 \n",
       "1.2  1   2    0   0 \n",
       "1.3  1   3    2   1 \n",
       "1.4  1   4    2   1 \n",
       "1.5  1   5    2   1 \n",
       "1.6  1   6    2   1 \n",
       "1.7  1   7    2   1 \n",
       "1.8  1   8    2   1 \n",
       "1.9  1   9    2   1 \n",
       "1.10 1  10    2   1 \n",
       "2.1  2   1    8  27 \n",
       "2.2  2   2   10  44 \n",
       "2.3  2   3   14  57 \n",
       "2.4  2   4   18  63 \n",
       "2.5  2   5   NA  NA \n",
       "2.6  2   6   NA  NA \n",
       "2.7  2   7   NA  NA \n",
       "2.8  2   8   NA  NA \n",
       "2.9  2   9   NA  NA \n",
       "2.10 2  10   NA  NA \n",
       "3.1  3   1    0   0 \n",
       "3.2  3   2    0   0 \n",
       "3.3  3   3    0   0 \n",
       "3.4  3   4    2   2 \n",
       "3.5  3   5   NA  NA "
      ]
     },
     "metadata": {},
     "output_type": "display_data"
    }
   ],
   "source": [
    "tvvs2 = tvvs[order(tvvs$id, tvvs$time), ]\n",
    "\n",
    "head(tvvs2, 25)"
   ]
  },
  {
   "cell_type": "code",
   "execution_count": 18,
   "metadata": {},
   "outputs": [
    {
     "data": {
      "text/html": [
       "<table>\n",
       "<thead><tr><th></th><th scope=col>id</th><th scope=col>dur</th><th scope=col>undgrad</th><th scope=col>phdmed</th><th scope=col>phdprest</th><th scope=col>tstart</th><th scope=col>event</th><th scope=col>year</th><th scope=col>art</th><th scope=col>cit</th></tr></thead>\n",
       "<tbody>\n",
       "\t<tr><th scope=row>1</th><td>1   </td><td> 1  </td><td>7.00</td><td>0   </td><td>2.21</td><td>0   </td><td>0   </td><td> 2  </td><td> 0  </td><td> 0  </td></tr>\n",
       "\t<tr><th scope=row>3</th><td>1   </td><td> 2  </td><td>7.00</td><td>0   </td><td>2.21</td><td>1   </td><td>0   </td><td> 3  </td><td> 0  </td><td> 0  </td></tr>\n",
       "\t<tr><th scope=row>4</th><td>1   </td><td> 3  </td><td>7.00</td><td>0   </td><td>2.21</td><td>2   </td><td>0   </td><td> 4  </td><td> 2  </td><td> 1  </td></tr>\n",
       "\t<tr><th scope=row>5</th><td>1   </td><td> 4  </td><td>7.00</td><td>0   </td><td>2.21</td><td>3   </td><td>0   </td><td> 5  </td><td> 2  </td><td> 1  </td></tr>\n",
       "\t<tr><th scope=row>6</th><td>1   </td><td> 5  </td><td>7.00</td><td>0   </td><td>2.21</td><td>4   </td><td>0   </td><td> 6  </td><td> 2  </td><td> 1  </td></tr>\n",
       "\t<tr><th scope=row>7</th><td>1   </td><td> 6  </td><td>7.00</td><td>0   </td><td>2.21</td><td>5   </td><td>0   </td><td> 7  </td><td> 2  </td><td> 1  </td></tr>\n",
       "\t<tr><th scope=row>8</th><td>1   </td><td> 7  </td><td>7.00</td><td>0   </td><td>2.21</td><td>6   </td><td>0   </td><td> 8  </td><td> 2  </td><td> 1  </td></tr>\n",
       "\t<tr><th scope=row>9</th><td>1   </td><td> 8  </td><td>7.00</td><td>0   </td><td>2.21</td><td>7   </td><td>0   </td><td> 9  </td><td> 2  </td><td> 1  </td></tr>\n",
       "\t<tr><th scope=row>10</th><td>1   </td><td> 9  </td><td>7.00</td><td>0   </td><td>2.21</td><td>8   </td><td>0   </td><td>10  </td><td> 2  </td><td> 1  </td></tr>\n",
       "\t<tr><th scope=row>2</th><td>1   </td><td>10  </td><td>7.00</td><td>0   </td><td>2.21</td><td>9   </td><td>0   </td><td>11  </td><td> 2  </td><td> 1  </td></tr>\n",
       "\t<tr><th scope=row>632</th><td>2   </td><td> 1  </td><td>6.00</td><td>0   </td><td>2.21</td><td>0   </td><td>0   </td><td> 2  </td><td> 8  </td><td>27  </td></tr>\n",
       "\t<tr><th scope=row>633</th><td>2   </td><td> 2  </td><td>6.00</td><td>0   </td><td>2.21</td><td>1   </td><td>0   </td><td> 3  </td><td>10  </td><td>44  </td></tr>\n",
       "\t<tr><th scope=row>634</th><td>2   </td><td> 3  </td><td>6.00</td><td>0   </td><td>2.21</td><td>2   </td><td>0   </td><td> 4  </td><td>14  </td><td>57  </td></tr>\n",
       "\t<tr><th scope=row>635</th><td>2   </td><td> 4  </td><td>6.00</td><td>0   </td><td>2.21</td><td>3   </td><td>1   </td><td> 5  </td><td>18  </td><td>63  </td></tr>\n",
       "\t<tr><th scope=row>1279</th><td>3   </td><td> 1  </td><td>4.95</td><td>0   </td><td>2.21</td><td>0   </td><td>0   </td><td> 2  </td><td> 0  </td><td> 0  </td></tr>\n",
       "\t<tr><th scope=row>1280</th><td>3   </td><td> 2  </td><td>4.95</td><td>0   </td><td>2.21</td><td>1   </td><td>0   </td><td> 3  </td><td> 0  </td><td> 0  </td></tr>\n",
       "\t<tr><th scope=row>1281</th><td>3   </td><td> 3  </td><td>4.95</td><td>0   </td><td>2.21</td><td>2   </td><td>0   </td><td> 4  </td><td> 0  </td><td> 0  </td></tr>\n",
       "\t<tr><th scope=row>1282</th><td>3   </td><td> 4  </td><td>4.95</td><td>0   </td><td>2.21</td><td>3   </td><td>0   </td><td> 5  </td><td> 2  </td><td> 2  </td></tr>\n",
       "\t<tr><th scope=row>1350</th><td>4   </td><td> 1  </td><td>2.00</td><td>1   </td><td>4.54</td><td>0   </td><td>0   </td><td> 2  </td><td> 2  </td><td>11  </td></tr>\n",
       "\t<tr><th scope=row>1352</th><td>4   </td><td> 2  </td><td>2.00</td><td>1   </td><td>4.54</td><td>1   </td><td>0   </td><td> 3  </td><td> 3  </td><td>17  </td></tr>\n",
       "\t<tr><th scope=row>1353</th><td>4   </td><td> 3  </td><td>2.00</td><td>1   </td><td>4.54</td><td>2   </td><td>0   </td><td> 4  </td><td> 3  </td><td>17  </td></tr>\n",
       "\t<tr><th scope=row>1354</th><td>4   </td><td> 4  </td><td>2.00</td><td>1   </td><td>4.54</td><td>3   </td><td>0   </td><td> 5  </td><td> 3  </td><td>17  </td></tr>\n",
       "\t<tr><th scope=row>1355</th><td>4   </td><td> 5  </td><td>2.00</td><td>1   </td><td>4.54</td><td>4   </td><td>0   </td><td> 6  </td><td> 3  </td><td>17  </td></tr>\n",
       "\t<tr><th scope=row>1356</th><td>4   </td><td> 6  </td><td>2.00</td><td>1   </td><td>4.54</td><td>5   </td><td>0   </td><td> 7  </td><td> 4  </td><td>20  </td></tr>\n",
       "\t<tr><th scope=row>1357</th><td>4   </td><td> 7  </td><td>2.00</td><td>1   </td><td>4.54</td><td>6   </td><td>0   </td><td> 8  </td><td> 6  </td><td>24  </td></tr>\n",
       "</tbody>\n",
       "</table>\n"
      ],
      "text/latex": [
       "\\begin{tabular}{r|llllllllll}\n",
       "  & id & dur & undgrad & phdmed & phdprest & tstart & event & year & art & cit\\\\\n",
       "\\hline\n",
       "\t1 & 1    &  1   & 7.00 & 0    & 2.21 & 0    & 0    &  2   &  0   &  0  \\\\\n",
       "\t3 & 1    &  2   & 7.00 & 0    & 2.21 & 1    & 0    &  3   &  0   &  0  \\\\\n",
       "\t4 & 1    &  3   & 7.00 & 0    & 2.21 & 2    & 0    &  4   &  2   &  1  \\\\\n",
       "\t5 & 1    &  4   & 7.00 & 0    & 2.21 & 3    & 0    &  5   &  2   &  1  \\\\\n",
       "\t6 & 1    &  5   & 7.00 & 0    & 2.21 & 4    & 0    &  6   &  2   &  1  \\\\\n",
       "\t7 & 1    &  6   & 7.00 & 0    & 2.21 & 5    & 0    &  7   &  2   &  1  \\\\\n",
       "\t8 & 1    &  7   & 7.00 & 0    & 2.21 & 6    & 0    &  8   &  2   &  1  \\\\\n",
       "\t9 & 1    &  8   & 7.00 & 0    & 2.21 & 7    & 0    &  9   &  2   &  1  \\\\\n",
       "\t10 & 1    &  9   & 7.00 & 0    & 2.21 & 8    & 0    & 10   &  2   &  1  \\\\\n",
       "\t2 & 1    & 10   & 7.00 & 0    & 2.21 & 9    & 0    & 11   &  2   &  1  \\\\\n",
       "\t632 & 2    &  1   & 6.00 & 0    & 2.21 & 0    & 0    &  2   &  8   & 27  \\\\\n",
       "\t633 & 2    &  2   & 6.00 & 0    & 2.21 & 1    & 0    &  3   & 10   & 44  \\\\\n",
       "\t634 & 2    &  3   & 6.00 & 0    & 2.21 & 2    & 0    &  4   & 14   & 57  \\\\\n",
       "\t635 & 2    &  4   & 6.00 & 0    & 2.21 & 3    & 1    &  5   & 18   & 63  \\\\\n",
       "\t1279 & 3    &  1   & 4.95 & 0    & 2.21 & 0    & 0    &  2   &  0   &  0  \\\\\n",
       "\t1280 & 3    &  2   & 4.95 & 0    & 2.21 & 1    & 0    &  3   &  0   &  0  \\\\\n",
       "\t1281 & 3    &  3   & 4.95 & 0    & 2.21 & 2    & 0    &  4   &  0   &  0  \\\\\n",
       "\t1282 & 3    &  4   & 4.95 & 0    & 2.21 & 3    & 0    &  5   &  2   &  2  \\\\\n",
       "\t1350 & 4    &  1   & 2.00 & 1    & 4.54 & 0    & 0    &  2   &  2   & 11  \\\\\n",
       "\t1352 & 4    &  2   & 2.00 & 1    & 4.54 & 1    & 0    &  3   &  3   & 17  \\\\\n",
       "\t1353 & 4    &  3   & 2.00 & 1    & 4.54 & 2    & 0    &  4   &  3   & 17  \\\\\n",
       "\t1354 & 4    &  4   & 2.00 & 1    & 4.54 & 3    & 0    &  5   &  3   & 17  \\\\\n",
       "\t1355 & 4    &  5   & 2.00 & 1    & 4.54 & 4    & 0    &  6   &  3   & 17  \\\\\n",
       "\t1356 & 4    &  6   & 2.00 & 1    & 4.54 & 5    & 0    &  7   &  4   & 20  \\\\\n",
       "\t1357 & 4    &  7   & 2.00 & 1    & 4.54 & 6    & 0    &  8   &  6   & 24  \\\\\n",
       "\\end{tabular}\n"
      ],
      "text/markdown": [
       "\n",
       "| <!--/--> | id | dur | undgrad | phdmed | phdprest | tstart | event | year | art | cit | \n",
       "|---|---|---|---|---|---|---|---|---|---|---|---|---|---|---|---|---|---|---|---|---|---|---|---|---|\n",
       "| 1 | 1    |  1   | 7.00 | 0    | 2.21 | 0    | 0    |  2   |  0   |  0   | \n",
       "| 3 | 1    |  2   | 7.00 | 0    | 2.21 | 1    | 0    |  3   |  0   |  0   | \n",
       "| 4 | 1    |  3   | 7.00 | 0    | 2.21 | 2    | 0    |  4   |  2   |  1   | \n",
       "| 5 | 1    |  4   | 7.00 | 0    | 2.21 | 3    | 0    |  5   |  2   |  1   | \n",
       "| 6 | 1    |  5   | 7.00 | 0    | 2.21 | 4    | 0    |  6   |  2   |  1   | \n",
       "| 7 | 1    |  6   | 7.00 | 0    | 2.21 | 5    | 0    |  7   |  2   |  1   | \n",
       "| 8 | 1    |  7   | 7.00 | 0    | 2.21 | 6    | 0    |  8   |  2   |  1   | \n",
       "| 9 | 1    |  8   | 7.00 | 0    | 2.21 | 7    | 0    |  9   |  2   |  1   | \n",
       "| 10 | 1    |  9   | 7.00 | 0    | 2.21 | 8    | 0    | 10   |  2   |  1   | \n",
       "| 2 | 1    | 10   | 7.00 | 0    | 2.21 | 9    | 0    | 11   |  2   |  1   | \n",
       "| 632 | 2    |  1   | 6.00 | 0    | 2.21 | 0    | 0    |  2   |  8   | 27   | \n",
       "| 633 | 2    |  2   | 6.00 | 0    | 2.21 | 1    | 0    |  3   | 10   | 44   | \n",
       "| 634 | 2    |  3   | 6.00 | 0    | 2.21 | 2    | 0    |  4   | 14   | 57   | \n",
       "| 635 | 2    |  4   | 6.00 | 0    | 2.21 | 3    | 1    |  5   | 18   | 63   | \n",
       "| 1279 | 3    |  1   | 4.95 | 0    | 2.21 | 0    | 0    |  2   |  0   |  0   | \n",
       "| 1280 | 3    |  2   | 4.95 | 0    | 2.21 | 1    | 0    |  3   |  0   |  0   | \n",
       "| 1281 | 3    |  3   | 4.95 | 0    | 2.21 | 2    | 0    |  4   |  0   |  0   | \n",
       "| 1282 | 3    |  4   | 4.95 | 0    | 2.21 | 3    | 0    |  5   |  2   |  2   | \n",
       "| 1350 | 4    |  1   | 2.00 | 1    | 4.54 | 0    | 0    |  2   |  2   | 11   | \n",
       "| 1352 | 4    |  2   | 2.00 | 1    | 4.54 | 1    | 0    |  3   |  3   | 17   | \n",
       "| 1353 | 4    |  3   | 2.00 | 1    | 4.54 | 2    | 0    |  4   |  3   | 17   | \n",
       "| 1354 | 4    |  4   | 2.00 | 1    | 4.54 | 3    | 0    |  5   |  3   | 17   | \n",
       "| 1355 | 4    |  5   | 2.00 | 1    | 4.54 | 4    | 0    |  6   |  3   | 17   | \n",
       "| 1356 | 4    |  6   | 2.00 | 1    | 4.54 | 5    | 0    |  7   |  4   | 20   | \n",
       "| 1357 | 4    |  7   | 2.00 | 1    | 4.54 | 6    | 0    |  8   |  6   | 24   | \n",
       "\n",
       "\n"
      ],
      "text/plain": [
       "     id dur undgrad phdmed phdprest tstart event year art cit\n",
       "1    1   1  7.00    0      2.21     0      0      2    0   0 \n",
       "3    1   2  7.00    0      2.21     1      0      3    0   0 \n",
       "4    1   3  7.00    0      2.21     2      0      4    2   1 \n",
       "5    1   4  7.00    0      2.21     3      0      5    2   1 \n",
       "6    1   5  7.00    0      2.21     4      0      6    2   1 \n",
       "7    1   6  7.00    0      2.21     5      0      7    2   1 \n",
       "8    1   7  7.00    0      2.21     6      0      8    2   1 \n",
       "9    1   8  7.00    0      2.21     7      0      9    2   1 \n",
       "10   1   9  7.00    0      2.21     8      0     10    2   1 \n",
       "2    1  10  7.00    0      2.21     9      0     11    2   1 \n",
       "632  2   1  6.00    0      2.21     0      0      2    8  27 \n",
       "633  2   2  6.00    0      2.21     1      0      3   10  44 \n",
       "634  2   3  6.00    0      2.21     2      0      4   14  57 \n",
       "635  2   4  6.00    0      2.21     3      1      5   18  63 \n",
       "1279 3   1  4.95    0      2.21     0      0      2    0   0 \n",
       "1280 3   2  4.95    0      2.21     1      0      3    0   0 \n",
       "1281 3   3  4.95    0      2.21     2      0      4    0   0 \n",
       "1282 3   4  4.95    0      2.21     3      0      5    2   2 \n",
       "1350 4   1  2.00    1      4.54     0      0      2    2  11 \n",
       "1352 4   2  2.00    1      4.54     1      0      3    3  17 \n",
       "1353 4   3  2.00    1      4.54     2      0      4    3  17 \n",
       "1354 4   4  2.00    1      4.54     3      0      5    3  17 \n",
       "1355 4   5  2.00    1      4.54     4      0      6    3  17 \n",
       "1356 4   6  2.00    1      4.54     5      0      7    4  20 \n",
       "1357 4   7  2.00    1      4.54     6      0      8    6  24 "
      ]
     },
     "metadata": {},
     "output_type": "display_data"
    }
   ],
   "source": [
    "dat = merge(promLong, tvvs2, by.x = c(\"id\", \"dur\"), by.y=c(\"id\", \"time\"), all.x=TRUE, all.y=FALSE)\n",
    "\n",
    "dat = dat[order(dat$id, dat$dur), ]\n",
    "\n",
    "head(dat, 25)"
   ]
  },
  {
   "cell_type": "markdown",
   "metadata": {},
   "source": [
    "### 含时变自变量的离散时间模型"
   ]
  },
  {
   "cell_type": "code",
   "execution_count": 19,
   "metadata": {},
   "outputs": [
    {
     "data": {
      "text/plain": [
       "\n",
       "Call:\n",
       "glm(formula = event ~ undgrad + phdmed + phdprest + factor(dur) + \n",
       "    art + cit, family = binomial, data = dat)\n",
       "\n",
       "Deviance Residuals: \n",
       "    Min       1Q   Median       3Q      Max  \n",
       "-1.6026  -0.5860  -0.2756  -0.0731   3.4148  \n",
       "\n",
       "Coefficients:\n",
       "                Estimate Std. Error z value Pr(>|z|)    \n",
       "(Intercept)   -6.6729292  1.0858717  -6.145 7.98e-10 ***\n",
       "undgrad        0.1688646  0.0617052   2.737 0.006207 ** \n",
       "phdmed        -0.2231532  0.1712024  -1.303 0.192422    \n",
       "phdprest      -0.0289910  0.0901804  -0.321 0.747849    \n",
       "factor(dur)2  -0.0839946  1.4171381  -0.059 0.952737    \n",
       "factor(dur)3   2.7339232  1.0338563   2.644 0.008184 ** \n",
       "factor(dur)4   3.8041992  1.0174254   3.739 0.000185 ***\n",
       "factor(dur)5   4.3082021  1.0164198   4.239 2.25e-05 ***\n",
       "factor(dur)6   4.5450881  1.0207418   4.453 8.48e-06 ***\n",
       "factor(dur)7   4.5984339  1.0297020   4.466 7.98e-06 ***\n",
       "factor(dur)8   4.2437209  1.0519406   4.034 5.48e-05 ***\n",
       "factor(dur)9   3.6798375  1.0959955   3.358 0.000786 ***\n",
       "factor(dur)10  3.5474576  1.1480723   3.090 0.002002 ** \n",
       "art            0.0729480  0.0179184   4.071 4.68e-05 ***\n",
       "cit           -0.0001918  0.0012800  -0.150 0.880856    \n",
       "---\n",
       "Signif. codes:  0 ‘***’ 0.001 ‘**’ 0.01 ‘*’ 0.05 ‘.’ 0.1 ‘ ’ 1\n",
       "\n",
       "(Dispersion parameter for binomial family taken to be 1)\n",
       "\n",
       "    Null deviance: 1309.5  on 1740  degrees of freedom\n",
       "Residual deviance: 1010.4  on 1726  degrees of freedom\n",
       "AIC: 1040.4\n",
       "\n",
       "Number of Fisher Scoring iterations: 8\n"
      ]
     },
     "metadata": {},
     "output_type": "display_data"
    }
   ],
   "source": [
    "fit2 = glm(event~undgrad+phdmed+phdprest+factor(dur) + art + cit, \n",
    "          data=dat, family = binomial)\n",
    "\n",
    "summary(fit2)"
   ]
  },
  {
   "cell_type": "markdown",
   "metadata": {},
   "source": [
    "## 进一步阅读材料\n",
    "* https://rpubs.com/corey_sparks/63970\n",
    "\n",
    "* [discSurv程序包](https://cran.r-project.org/web/packages/discSurv/index.html)\n",
    "\n",
    "* https://cran.r-project.org/web/views/Survival.html"
   ]
  }
 ],
 "metadata": {
  "kernelspec": {
   "display_name": "R",
   "language": "R",
   "name": "ir"
  },
  "language_info": {
   "codemirror_mode": "r",
   "file_extension": ".r",
   "mimetype": "text/x-r-source",
   "name": "R",
   "pygments_lexer": "r",
   "version": "3.4.3"
  }
 },
 "nbformat": 4,
 "nbformat_minor": 2
}
