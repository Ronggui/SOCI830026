{
 "cells": [
  {
   "cell_type": "code",
   "execution_count": 1,
   "metadata": {},
   "outputs": [
    {
     "data": {
      "text/html": [
       "<table>\n",
       "<thead><tr><th scope=col>pairid</th><th scope=col>low</th><th scope=col>age</th><th scope=col>lwt</th><th scope=col>smoke</th><th scope=col>ptd</th><th scope=col>ht</th><th scope=col>ui</th><th scope=col>race</th></tr></thead>\n",
       "<tbody>\n",
       "\t<tr><td>1  </td><td>0  </td><td>14 </td><td>135</td><td>0  </td><td>0  </td><td>0  </td><td>0  </td><td>1  </td></tr>\n",
       "\t<tr><td>1  </td><td>1  </td><td>14 </td><td>101</td><td>1  </td><td>1  </td><td>0  </td><td>0  </td><td>3  </td></tr>\n",
       "\t<tr><td>2  </td><td>0  </td><td>15 </td><td> 98</td><td>0  </td><td>0  </td><td>0  </td><td>0  </td><td>2  </td></tr>\n",
       "\t<tr><td>2  </td><td>1  </td><td>15 </td><td>115</td><td>0  </td><td>0  </td><td>0  </td><td>1  </td><td>3  </td></tr>\n",
       "\t<tr><td>3  </td><td>0  </td><td>16 </td><td> 95</td><td>0  </td><td>0  </td><td>0  </td><td>0  </td><td>3  </td></tr>\n",
       "\t<tr><td>3  </td><td>1  </td><td>16 </td><td>130</td><td>0  </td><td>0  </td><td>0  </td><td>0  </td><td>3  </td></tr>\n",
       "</tbody>\n",
       "</table>\n"
      ],
      "text/latex": [
       "\\begin{tabular}{r|lllllllll}\n",
       " pairid & low & age & lwt & smoke & ptd & ht & ui & race\\\\\n",
       "\\hline\n",
       "\t 1   & 0   & 14  & 135 & 0   & 0   & 0   & 0   & 1  \\\\\n",
       "\t 1   & 1   & 14  & 101 & 1   & 1   & 0   & 0   & 3  \\\\\n",
       "\t 2   & 0   & 15  &  98 & 0   & 0   & 0   & 0   & 2  \\\\\n",
       "\t 2   & 1   & 15  & 115 & 0   & 0   & 0   & 1   & 3  \\\\\n",
       "\t 3   & 0   & 16  &  95 & 0   & 0   & 0   & 0   & 3  \\\\\n",
       "\t 3   & 1   & 16  & 130 & 0   & 0   & 0   & 0   & 3  \\\\\n",
       "\\end{tabular}\n"
      ],
      "text/markdown": [
       "\n",
       "pairid | low | age | lwt | smoke | ptd | ht | ui | race | \n",
       "|---|---|---|---|---|---|\n",
       "| 1   | 0   | 14  | 135 | 0   | 0   | 0   | 0   | 1   | \n",
       "| 1   | 1   | 14  | 101 | 1   | 1   | 0   | 0   | 3   | \n",
       "| 2   | 0   | 15  |  98 | 0   | 0   | 0   | 0   | 2   | \n",
       "| 2   | 1   | 15  | 115 | 0   | 0   | 0   | 1   | 3   | \n",
       "| 3   | 0   | 16  |  95 | 0   | 0   | 0   | 0   | 3   | \n",
       "| 3   | 1   | 16  | 130 | 0   | 0   | 0   | 0   | 3   | \n",
       "\n",
       "\n"
      ],
      "text/plain": [
       "  pairid low age lwt smoke ptd ht ui race\n",
       "1 1      0   14  135 0     0   0  0  1   \n",
       "2 1      1   14  101 1     1   0  0  3   \n",
       "3 2      0   15   98 0     0   0  0  2   \n",
       "4 2      1   15  115 0     0   0  1  3   \n",
       "5 3      0   16   95 0     0   0  0  3   \n",
       "6 3      1   16  130 0     0   0  0  3   "
      ]
     },
     "metadata": {},
     "output_type": "display_data"
    }
   ],
   "source": [
    "library(foreign)\n",
    "\n",
    "lowbirth = read.dta(\"datasets//lowbirth2.dta\")\n",
    "head(lowbirth)"
   ]
  },
  {
   "cell_type": "code",
   "execution_count": 2,
   "metadata": {},
   "outputs": [
    {
     "name": "stderr",
     "output_type": "stream",
     "text": [
      "Loading required package: maxLik\n",
      "Loading required package: miscTools\n",
      "\n",
      "Please cite the 'maxLik' package as:\n",
      "Henningsen, Arne and Toomet, Ott (2011). maxLik: A package for maximum likelihood estimation in R. Computational Statistics 26(3), 443-458. DOI 10.1007/s00180-010-0217-1.\n",
      "\n",
      "If you have questions, suggestions, or comments regarding the 'maxLik' package, please use a forum or 'tracker' at maxLik's R-Forge site:\n",
      "https://r-forge.r-project.org/projects/maxlik/\n",
      "Loading required package: plm\n",
      "Loading required package: Formula\n"
     ]
    }
   ],
   "source": [
    "library(pglm)"
   ]
  },
  {
   "cell_type": "markdown",
   "metadata": {},
   "source": [
    "## Random effect model"
   ]
  },
  {
   "cell_type": "code",
   "execution_count": 13,
   "metadata": {},
   "outputs": [
    {
     "data": {
      "text/plain": [
       "--------------------------------------------\n",
       "Maximum Likelihood estimation\n",
       "Newton-Raphson maximisation, 4 iterations\n",
       "Return code 2: successive function values within tolerance limit\n",
       "Log-Likelihood: -65.97336 \n",
       "8  free parameters\n",
       "Estimates:\n",
       "              Estimate Std. error t value Pr(> t)  \n",
       "(Intercept)  4.485e-01  1.360e+00   0.330  0.7415  \n",
       "lwt         -1.479e-02  7.838e-03  -1.887  0.0592 .\n",
       "smoke        1.234e+00  5.225e-01   2.362  0.0182 *\n",
       "ptd          9.539e-01  5.369e-01   1.777  0.0756 .\n",
       "ht           1.754e+00  8.522e-01   2.058  0.0396 *\n",
       "ui           1.065e+00  5.877e-01   1.811  0.0701 .\n",
       "race         1.955e-01  2.928e-01   0.668  0.5044  \n",
       "sigma        2.045e-09  3.360e-01   0.000  1.0000  \n",
       "---\n",
       "Signif. codes:  0 ‘***’ 0.001 ‘**’ 0.01 ‘*’ 0.05 ‘.’ 0.1 ‘ ’ 1\n",
       "--------------------------------------------"
      ]
     },
     "metadata": {},
     "output_type": "display_data"
    }
   ],
   "source": [
    "randmod = pglm(low ~ lwt + smoke + ptd + ht + ui + race, data=lowbirth, \n",
    "              index=\"pairid\", model=\"random\", family=binomial)\n",
    "\n",
    "summary(randmod)"
   ]
  },
  {
   "cell_type": "markdown",
   "metadata": {},
   "source": [
    "Note taht fixed effect model (model=\"within\") is not supprted by pglm."
   ]
  }
 ],
 "metadata": {
  "kernelspec": {
   "display_name": "R",
   "language": "R",
   "name": "ir"
  },
  "language_info": {
   "codemirror_mode": "r",
   "file_extension": ".r",
   "mimetype": "text/x-r-source",
   "name": "R",
   "pygments_lexer": "r",
   "version": "3.4.0"
  }
 },
 "nbformat": 4,
 "nbformat_minor": 2
}
