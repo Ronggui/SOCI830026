{
 "cells": [
  {
   "cell_type": "code",
   "execution_count": 1,
   "metadata": {
    "collapsed": false,
    "scrolled": true
   },
   "outputs": [
    {
     "data": {
      "text/html": [
       "<table>\n",
       "<thead><tr><th></th><th scope=col>pairid</th><th scope=col>low</th><th scope=col>age</th><th scope=col>lwt</th><th scope=col>smoke</th><th scope=col>ptd</th><th scope=col>ht</th><th scope=col>ui</th><th scope=col>race</th></tr></thead>\n",
       "<tbody>\n",
       "\t<tr><th scope=row>1</th><td>1</td><td>0</td><td>14</td><td>135</td><td>0</td><td>0</td><td>0</td><td>0</td><td>1</td></tr>\n",
       "\t<tr><th scope=row>2</th><td>1</td><td>1</td><td>14</td><td>101</td><td>1</td><td>1</td><td>0</td><td>0</td><td>3</td></tr>\n",
       "\t<tr><th scope=row>3</th><td>2</td><td>0</td><td>15</td><td>98</td><td>0</td><td>0</td><td>0</td><td>0</td><td>2</td></tr>\n",
       "\t<tr><th scope=row>4</th><td>2</td><td>1</td><td>15</td><td>115</td><td>0</td><td>0</td><td>0</td><td>1</td><td>3</td></tr>\n",
       "\t<tr><th scope=row>5</th><td>3</td><td>0</td><td>16</td><td>95</td><td>0</td><td>0</td><td>0</td><td>0</td><td>3</td></tr>\n",
       "\t<tr><th scope=row>6</th><td>3</td><td>1</td><td>16</td><td>130</td><td>0</td><td>0</td><td>0</td><td>0</td><td>3</td></tr>\n",
       "</tbody>\n",
       "</table>\n"
      ],
      "text/latex": [
       "\\begin{tabular}{r|lllllllll}\n",
       "  & pairid & low & age & lwt & smoke & ptd & ht & ui & race\\\\\n",
       "\\hline\n",
       "\t1 & 1 & 0 & 14 & 135 & 0 & 0 & 0 & 0 & 1\\\\\n",
       "\t2 & 1 & 1 & 14 & 101 & 1 & 1 & 0 & 0 & 3\\\\\n",
       "\t3 & 2 & 0 & 15 & 98 & 0 & 0 & 0 & 0 & 2\\\\\n",
       "\t4 & 2 & 1 & 15 & 115 & 0 & 0 & 0 & 1 & 3\\\\\n",
       "\t5 & 3 & 0 & 16 & 95 & 0 & 0 & 0 & 0 & 3\\\\\n",
       "\t6 & 3 & 1 & 16 & 130 & 0 & 0 & 0 & 0 & 3\\\\\n",
       "\\end{tabular}\n"
      ],
      "text/plain": [
       "  pairid low age lwt smoke ptd ht ui race\n",
       "1      1   0  14 135     0   0  0  0    1\n",
       "2      1   1  14 101     1   1  0  0    3\n",
       "3      2   0  15  98     0   0  0  0    2\n",
       "4      2   1  15 115     0   0  0  1    3\n",
       "5      3   0  16  95     0   0  0  0    3\n",
       "6      3   1  16 130     0   0  0  0    3"
      ]
     },
     "execution_count": 1,
     "metadata": {},
     "output_type": "execute_result"
    }
   ],
   "source": [
    "library(foreign)\n",
    "\n",
    "lowbirth = read.dta(\"datasets//lowbirth2.dta\")\n",
    "head(lowbirth)"
   ]
  },
  {
   "cell_type": "markdown",
   "metadata": {},
   "source": [
    "### 随机截距logit模型（使用lme4进行估计）"
   ]
  },
  {
   "cell_type": "code",
   "execution_count": 2,
   "metadata": {
    "collapsed": false
   },
   "outputs": [
    {
     "name": "stderr",
     "output_type": "stream",
     "text": [
      "Loading required package: Matrix\n",
      "\n",
      "Attaching package: 'lme4'\n",
      "\n",
      "The following object is masked from 'package:stats':\n",
      "\n",
      "    sigma\n",
      "\n"
     ]
    }
   ],
   "source": [
    "library(lme4)"
   ]
  },
  {
   "cell_type": "markdown",
   "metadata": {},
   "source": [
    "在模型设定的公式中，(1|pairid)表示随机截距。"
   ]
  },
  {
   "cell_type": "code",
   "execution_count": 3,
   "metadata": {
    "collapsed": false
   },
   "outputs": [
    {
     "data": {
      "text/plain": [
       "Generalized linear mixed model fit by maximum likelihood (Laplace\n",
       "  Approximation) [glmerMod]\n",
       " Family: binomial  ( logit )\n",
       "Formula: low ~ lwt + smoke + ptd + ht + ui + race + (1 | pairid)\n",
       "   Data: lowbirth\n",
       "\n",
       "     AIC      BIC   logLik deviance df.resid \n",
       "   147.9    169.7    -66.0    131.9      104 \n",
       "\n",
       "Scaled residuals: \n",
       "     Min       1Q   Median       3Q      Max \n",
       "-2.23843 -0.71686 -0.02964  0.78348  2.01057 \n",
       "\n",
       "Random effects:\n",
       " Groups Name        Variance Std.Dev.\n",
       " pairid (Intercept) 0        0       \n",
       "Number of obs: 112, groups:  pairid, 56\n",
       "\n",
       "Fixed effects:\n",
       "             Estimate Std. Error z value Pr(>|z|)  \n",
       "(Intercept)  0.448496   1.359466   0.330   0.7415  \n",
       "lwt         -0.014788   0.007837  -1.887   0.0592 .\n",
       "smoke        1.233953   0.522467   2.362   0.0182 *\n",
       "ptd          0.953933   0.536909   1.777   0.0756 .\n",
       "ht           1.753537   0.852165   2.058   0.0396 *\n",
       "ui           1.064580   0.587705   1.811   0.0701 .\n",
       "race         0.195477   0.292795   0.668   0.5044  \n",
       "---\n",
       "Signif. codes:  0 '***' 0.001 '**' 0.01 '*' 0.05 '.' 0.1 ' ' 1\n",
       "\n",
       "Correlation of Fixed Effects:\n",
       "      (Intr) lwt    smoke  ptd    ht     ui    \n",
       "lwt   -0.827                                   \n",
       "smoke -0.453  0.076                            \n",
       "ptd   -0.060  0.003 -0.067                     \n",
       "ht     0.271 -0.391 -0.031  0.031              \n",
       "ui    -0.069 -0.013  0.086 -0.064  0.119       \n",
       "race  -0.694  0.237  0.555 -0.011 -0.093 -0.009"
      ]
     },
     "execution_count": 3,
     "metadata": {},
     "output_type": "execute_result"
    }
   ],
   "source": [
    "m_random = glmer(low ~ lwt + smoke + ptd + ht + ui + race + (1|pairid), data=lowbirth, family=binomial)\n",
    "summary(m_random)"
   ]
  },
  {
   "cell_type": "markdown",
   "metadata": {},
   "source": [
    "### 随机截距logit模型（使用pglm进行估计）"
   ]
  },
  {
   "cell_type": "code",
   "execution_count": 4,
   "metadata": {
    "collapsed": false
   },
   "outputs": [
    {
     "name": "stderr",
     "output_type": "stream",
     "text": [
      "Loading required package: maxLik\n",
      "Loading required package: miscTools\n",
      "\n",
      "Please cite the 'maxLik' package as:\n",
      "Henningsen, Arne and Toomet, Ott (2011). maxLik: A package for maximum likelihood estimation in R. Computational Statistics 26(3), 443-458. DOI 10.1007/s00180-010-0217-1.\n",
      "\n",
      "If you have questions, suggestions, or comments regarding the 'maxLik' package, please use a forum or 'tracker' at maxLik's R-Forge site:\n",
      "https://r-forge.r-project.org/projects/maxlik/\n",
      "Loading required package: plm\n",
      "Loading required package: Formula\n"
     ]
    }
   ],
   "source": [
    "library(pglm)"
   ]
  },
  {
   "cell_type": "markdown",
   "metadata": {},
   "source": [
    "首先，将数据转换为面板数据格式。这里不关心时间维度，因此仅甚至“个人”层次的索引。"
   ]
  },
  {
   "cell_type": "code",
   "execution_count": 5,
   "metadata": {
    "collapsed": true
   },
   "outputs": [],
   "source": [
    "lowbirth2 = pdata.frame(lowbirth, index=\"pairid\")"
   ]
  },
  {
   "cell_type": "code",
   "execution_count": 6,
   "metadata": {
    "collapsed": false
   },
   "outputs": [
    {
     "data": {
      "text/plain": [
       "--------------------------------------------\n",
       "Maximum Likelihood estimation\n",
       "Newton-Raphson maximisation, 4 iterations\n",
       "Return code 2: successive function values within tolerance limit\n",
       "Log-Likelihood: -65.97336 \n",
       "8  free parameters\n",
       "Estimates:\n",
       "              Estimate Std. error t value Pr(> t)  \n",
       "(Intercept)  4.485e-01  1.360e+00   0.330  0.7415  \n",
       "lwt         -1.479e-02  7.838e-03  -1.887  0.0592 .\n",
       "smoke        1.234e+00  5.225e-01   2.362  0.0182 *\n",
       "ptd          9.539e-01  5.369e-01   1.777  0.0756 .\n",
       "ht           1.754e+00  8.522e-01   2.058  0.0396 *\n",
       "ui           1.065e+00  5.877e-01   1.811  0.0701 .\n",
       "race         1.955e-01  2.928e-01   0.668  0.5044  \n",
       "sigma        2.045e-09  3.360e-01   0.000  1.0000  \n",
       "---\n",
       "Signif. codes:  0 '***' 0.001 '**' 0.01 '*' 0.05 '.' 0.1 ' ' 1\n",
       "--------------------------------------------"
      ]
     },
     "execution_count": 6,
     "metadata": {},
     "output_type": "execute_result"
    }
   ],
   "source": [
    "m2_random = pglm(low ~ lwt + smoke + ptd + ht + ui + race, data=lowbirth2, family=binomial)\n",
    "summary(m2_random)"
   ]
  },
  {
   "cell_type": "markdown",
   "metadata": {},
   "source": [
    "如果不将数据转换为pdata.frame类，则需要设定index参数。"
   ]
  },
  {
   "cell_type": "code",
   "execution_count": 7,
   "metadata": {
    "collapsed": false
   },
   "outputs": [
    {
     "data": {
      "text/plain": [
       "--------------------------------------------\n",
       "Maximum Likelihood estimation\n",
       "Newton-Raphson maximisation, 4 iterations\n",
       "Return code 2: successive function values within tolerance limit\n",
       "Log-Likelihood: -65.97336 \n",
       "8  free parameters\n",
       "Estimates:\n",
       "              Estimate Std. error t value Pr(> t)  \n",
       "(Intercept)  4.485e-01  1.360e+00   0.330  0.7415  \n",
       "lwt         -1.479e-02  7.838e-03  -1.887  0.0592 .\n",
       "smoke        1.234e+00  5.225e-01   2.362  0.0182 *\n",
       "ptd          9.539e-01  5.369e-01   1.777  0.0756 .\n",
       "ht           1.754e+00  8.522e-01   2.058  0.0396 *\n",
       "ui           1.065e+00  5.877e-01   1.811  0.0701 .\n",
       "race         1.955e-01  2.928e-01   0.668  0.5044  \n",
       "sigma        2.045e-09  3.360e-01   0.000  1.0000  \n",
       "---\n",
       "Signif. codes:  0 '***' 0.001 '**' 0.01 '*' 0.05 '.' 0.1 ' ' 1\n",
       "--------------------------------------------"
      ]
     },
     "execution_count": 7,
     "metadata": {},
     "output_type": "execute_result"
    }
   ],
   "source": [
    "m3_random = pglm(low ~ lwt + smoke + ptd + ht + ui + race, data=lowbirth, index=\"pairid\", family=binomial)\n",
    "summary(m3_random)"
   ]
  }
 ],
 "metadata": {
  "kernelspec": {
   "display_name": "R",
   "language": "R",
   "name": "ir"
  },
  "language_info": {
   "codemirror_mode": "r",
   "file_extension": ".r",
   "mimetype": "text/x-r-source",
   "name": "R",
   "pygments_lexer": "r",
   "version": "3.3.0"
  }
 },
 "nbformat": 4,
 "nbformat_minor": 0
}
