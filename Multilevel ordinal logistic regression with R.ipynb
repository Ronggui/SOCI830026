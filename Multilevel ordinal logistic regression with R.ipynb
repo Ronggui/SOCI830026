{
 "cells": [
  {
   "cell_type": "markdown",
   "metadata": {},
   "source": [
    "# 多层次/多水平定序逻辑斯蒂回归\n",
    "\n",
    "##### 黄荣贵（复旦大学社会学系）"
   ]
  },
  {
   "cell_type": "markdown",
   "metadata": {},
   "source": [
    "## 模型设定\n",
    "\n",
    "随机截距定序逻辑斯蒂回归：\n",
    "\n",
    "$logit(P_{ij} \\le k) = {\\theta}_k - (\\beta_1 x_{1ij} + \\beta_2 x_{2ij} + ... + \\beta_p x_{pij}+ \\mu_i)$\n",
    "\n",
    "其中，k表示不同累计logit对应的截距，i表示第二层次单位，j表示第一层次单位，{\\mu_i}表示随机截距。\n",
    "\n",
    "上面的公式也可以写为：\n",
    "\n",
    "$logit(P_{ij} \\ge k) =  -{\\theta}_k + (\\beta_1 x_{1ij} + \\beta_2 x_{2ij} + ... + \\beta_p x_{pij}+ \\mu_i)$\n",
    "\n",
    "从上述公式可知，当系数$\\beta_p$为正数时，随着$x_p$增加，$Y$更有可能取较大的值。"
   ]
  },
  {
   "cell_type": "markdown",
   "metadata": {},
   "source": [
    "## 示例"
   ]
  },
  {
   "cell_type": "code",
   "execution_count": 1,
   "metadata": {},
   "outputs": [
    {
     "name": "stderr",
     "output_type": "stream",
     "text": [
      "Warning message:\n",
      "“package ‘ordinal’ was built under R version 3.4.4”"
     ]
    },
    {
     "data": {
      "text/html": [
       "<table>\n",
       "<thead><tr><th scope=col>response</th><th scope=col>rating</th><th scope=col>temp</th><th scope=col>contact</th><th scope=col>bottle</th><th scope=col>judge</th></tr></thead>\n",
       "<tbody>\n",
       "\t<tr><td>36  </td><td>2   </td><td>cold</td><td>no  </td><td>1   </td><td>1   </td></tr>\n",
       "\t<tr><td>48  </td><td>3   </td><td>cold</td><td>no  </td><td>2   </td><td>1   </td></tr>\n",
       "\t<tr><td>47  </td><td>3   </td><td>cold</td><td>yes </td><td>3   </td><td>1   </td></tr>\n",
       "\t<tr><td>67  </td><td>4   </td><td>cold</td><td>yes </td><td>4   </td><td>1   </td></tr>\n",
       "\t<tr><td>77  </td><td>4   </td><td>warm</td><td>no  </td><td>5   </td><td>1   </td></tr>\n",
       "\t<tr><td>60  </td><td>4   </td><td>warm</td><td>no  </td><td>6   </td><td>1   </td></tr>\n",
       "\t<tr><td>83  </td><td>5   </td><td>warm</td><td>yes </td><td>7   </td><td>1   </td></tr>\n",
       "\t<tr><td>90  </td><td>5   </td><td>warm</td><td>yes </td><td>8   </td><td>1   </td></tr>\n",
       "\t<tr><td>17  </td><td>1   </td><td>cold</td><td>no  </td><td>1   </td><td>2   </td></tr>\n",
       "\t<tr><td>22  </td><td>2   </td><td>cold</td><td>no  </td><td>2   </td><td>2   </td></tr>\n",
       "\t<tr><td>14  </td><td>1   </td><td>cold</td><td>yes </td><td>3   </td><td>2   </td></tr>\n",
       "\t<tr><td>50  </td><td>3   </td><td>cold</td><td>yes </td><td>4   </td><td>2   </td></tr>\n",
       "\t<tr><td>30  </td><td>2   </td><td>warm</td><td>no  </td><td>5   </td><td>2   </td></tr>\n",
       "\t<tr><td>51  </td><td>3   </td><td>warm</td><td>no  </td><td>6   </td><td>2   </td></tr>\n",
       "\t<tr><td>90  </td><td>5   </td><td>warm</td><td>yes </td><td>7   </td><td>2   </td></tr>\n",
       "</tbody>\n",
       "</table>\n"
      ],
      "text/latex": [
       "\\begin{tabular}{r|llllll}\n",
       " response & rating & temp & contact & bottle & judge\\\\\n",
       "\\hline\n",
       "\t 36   & 2    & cold & no   & 1    & 1   \\\\\n",
       "\t 48   & 3    & cold & no   & 2    & 1   \\\\\n",
       "\t 47   & 3    & cold & yes  & 3    & 1   \\\\\n",
       "\t 67   & 4    & cold & yes  & 4    & 1   \\\\\n",
       "\t 77   & 4    & warm & no   & 5    & 1   \\\\\n",
       "\t 60   & 4    & warm & no   & 6    & 1   \\\\\n",
       "\t 83   & 5    & warm & yes  & 7    & 1   \\\\\n",
       "\t 90   & 5    & warm & yes  & 8    & 1   \\\\\n",
       "\t 17   & 1    & cold & no   & 1    & 2   \\\\\n",
       "\t 22   & 2    & cold & no   & 2    & 2   \\\\\n",
       "\t 14   & 1    & cold & yes  & 3    & 2   \\\\\n",
       "\t 50   & 3    & cold & yes  & 4    & 2   \\\\\n",
       "\t 30   & 2    & warm & no   & 5    & 2   \\\\\n",
       "\t 51   & 3    & warm & no   & 6    & 2   \\\\\n",
       "\t 90   & 5    & warm & yes  & 7    & 2   \\\\\n",
       "\\end{tabular}\n"
      ],
      "text/markdown": [
       "\n",
       "response | rating | temp | contact | bottle | judge | \n",
       "|---|---|---|---|---|---|---|---|---|---|---|---|---|---|---|\n",
       "| 36   | 2    | cold | no   | 1    | 1    | \n",
       "| 48   | 3    | cold | no   | 2    | 1    | \n",
       "| 47   | 3    | cold | yes  | 3    | 1    | \n",
       "| 67   | 4    | cold | yes  | 4    | 1    | \n",
       "| 77   | 4    | warm | no   | 5    | 1    | \n",
       "| 60   | 4    | warm | no   | 6    | 1    | \n",
       "| 83   | 5    | warm | yes  | 7    | 1    | \n",
       "| 90   | 5    | warm | yes  | 8    | 1    | \n",
       "| 17   | 1    | cold | no   | 1    | 2    | \n",
       "| 22   | 2    | cold | no   | 2    | 2    | \n",
       "| 14   | 1    | cold | yes  | 3    | 2    | \n",
       "| 50   | 3    | cold | yes  | 4    | 2    | \n",
       "| 30   | 2    | warm | no   | 5    | 2    | \n",
       "| 51   | 3    | warm | no   | 6    | 2    | \n",
       "| 90   | 5    | warm | yes  | 7    | 2    | \n",
       "\n",
       "\n"
      ],
      "text/plain": [
       "   response rating temp contact bottle judge\n",
       "1  36       2      cold no      1      1    \n",
       "2  48       3      cold no      2      1    \n",
       "3  47       3      cold yes     3      1    \n",
       "4  67       4      cold yes     4      1    \n",
       "5  77       4      warm no      5      1    \n",
       "6  60       4      warm no      6      1    \n",
       "7  83       5      warm yes     7      1    \n",
       "8  90       5      warm yes     8      1    \n",
       "9  17       1      cold no      1      2    \n",
       "10 22       2      cold no      2      2    \n",
       "11 14       1      cold yes     3      2    \n",
       "12 50       3      cold yes     4      2    \n",
       "13 30       2      warm no      5      2    \n",
       "14 51       3      warm no      6      2    \n",
       "15 90       5      warm yes     7      2    "
      ]
     },
     "metadata": {},
     "output_type": "display_data"
    }
   ],
   "source": [
    "library(ordinal)\n",
    "\n",
    "head(wine, 15)"
   ]
  },
  {
   "cell_type": "markdown",
   "metadata": {},
   "source": [
    "每瓶红酒的评价嵌套于评委之中，前者是第一水平，后者为第二水平。考虑到每位评委的评价具有相似性，因此每个样本点不是独立的。"
   ]
  },
  {
   "cell_type": "code",
   "execution_count": 2,
   "metadata": {},
   "outputs": [
    {
     "data": {
      "text/plain": [
       "Cumulative Link Mixed Model fitted with the Laplace approximation\n",
       "\n",
       "formula: rating ~ temp + contact + (1 | judge)\n",
       "data:    wine\n",
       "\n",
       " link  threshold nobs logLik AIC    niter    max.grad cond.H \n",
       " logit flexible  72   -81.57 177.13 332(999) 1.03e-05 2.8e+01\n",
       "\n",
       "Random effects:\n",
       " Groups Name        Variance Std.Dev.\n",
       " judge  (Intercept) 1.279    1.131   \n",
       "Number of groups:  judge 9 \n",
       "\n",
       "Coefficients:\n",
       "           Estimate Std. Error z value Pr(>|z|)    \n",
       "tempwarm     3.0630     0.5954   5.145 2.68e-07 ***\n",
       "contactyes   1.8349     0.5125   3.580 0.000344 ***\n",
       "---\n",
       "Signif. codes:  0 ‘***’ 0.001 ‘**’ 0.01 ‘*’ 0.05 ‘.’ 0.1 ‘ ’ 1\n",
       "\n",
       "Threshold coefficients:\n",
       "    Estimate Std. Error z value\n",
       "1|2  -1.6237     0.6824  -2.379\n",
       "2|3   1.5134     0.6038   2.507\n",
       "3|4   4.2285     0.8090   5.227\n",
       "4|5   6.0888     0.9725   6.261"
      ]
     },
     "metadata": {},
     "output_type": "display_data"
    }
   ],
   "source": [
    "mod <- clmm(rating ~ temp + contact + (1|judge), data = wine)\n",
    "\n",
    "summary(mod)"
   ]
  },
  {
   "cell_type": "markdown",
   "metadata": {},
   "source": [
    "方差协方差成分"
   ]
  },
  {
   "cell_type": "code",
   "execution_count": 3,
   "metadata": {
    "scrolled": true
   },
   "outputs": [
    {
     "data": {
      "text/html": [
       "<strong>$judge</strong> = <table>\n",
       "<thead><tr><th></th><th scope=col>(Intercept)</th></tr></thead>\n",
       "<tbody>\n",
       "\t<tr><th scope=row>(Intercept)</th><td>1.279461</td></tr>\n",
       "</tbody>\n",
       "</table>\n"
      ],
      "text/latex": [
       "\\textbf{\\$judge} = \\begin{tabular}{r|l}\n",
       "  & (Intercept)\\\\\n",
       "\\hline\n",
       "\t(Intercept) & 1.279461\\\\\n",
       "\\end{tabular}\n"
      ],
      "text/markdown": [
       "**$judge** = \n",
       "| <!--/--> | (Intercept) | \n",
       "|---|\n",
       "| (Intercept) | 1.279461 | \n",
       "\n",
       "\n"
      ],
      "text/plain": [
       "$judge\n",
       "            (Intercept)\n",
       "(Intercept)    1.279461\n",
       "attr(,\"stddev\")\n",
       "(Intercept) \n",
       "   1.131133 \n"
      ]
     },
     "metadata": {},
     "output_type": "display_data"
    }
   ],
   "source": [
    "VarCorr(mod)"
   ]
  },
  {
   "cell_type": "markdown",
   "metadata": {},
   "source": [
    "随机效应"
   ]
  },
  {
   "cell_type": "code",
   "execution_count": 4,
   "metadata": {},
   "outputs": [
    {
     "data": {
      "text/html": [
       "<strong>$judge</strong> = <table>\n",
       "<thead><tr><th scope=col>(Intercept)</th></tr></thead>\n",
       "<tbody>\n",
       "\t<tr><td> 1.69617816</td></tr>\n",
       "\t<tr><td>-0.56578307</td></tr>\n",
       "\t<tr><td> 0.96880827</td></tr>\n",
       "\t<tr><td>-0.05954988</td></tr>\n",
       "\t<tr><td> 0.23051011</td></tr>\n",
       "\t<tr><td> 0.47703863</td></tr>\n",
       "\t<tr><td>-1.91097337</td></tr>\n",
       "\t<tr><td>-0.27294384</td></tr>\n",
       "\t<tr><td>-0.55467575</td></tr>\n",
       "</tbody>\n",
       "</table>\n"
      ],
      "text/latex": [
       "\\textbf{\\$judge} = \\begin{tabular}{r|l}\n",
       " (Intercept)\\\\\n",
       "\\hline\n",
       "\t  1.69617816\\\\\n",
       "\t -0.56578307\\\\\n",
       "\t  0.96880827\\\\\n",
       "\t -0.05954988\\\\\n",
       "\t  0.23051011\\\\\n",
       "\t  0.47703863\\\\\n",
       "\t -1.91097337\\\\\n",
       "\t -0.27294384\\\\\n",
       "\t -0.55467575\\\\\n",
       "\\end{tabular}\n"
      ],
      "text/markdown": [
       "**$judge** = \n",
       "(Intercept) | \n",
       "|---|---|---|---|---|---|---|---|---|\n",
       "|  1.69617816 | \n",
       "| -0.56578307 | \n",
       "|  0.96880827 | \n",
       "| -0.05954988 | \n",
       "|  0.23051011 | \n",
       "|  0.47703863 | \n",
       "| -1.91097337 | \n",
       "| -0.27294384 | \n",
       "| -0.55467575 | \n",
       "\n",
       "\n"
      ],
      "text/plain": [
       "$judge\n",
       "  (Intercept)\n",
       "1  1.69617816\n",
       "2 -0.56578307\n",
       "3  0.96880827\n",
       "4 -0.05954988\n",
       "5  0.23051011\n",
       "6  0.47703863\n",
       "7 -1.91097337\n",
       "8 -0.27294384\n",
       "9 -0.55467575\n"
      ]
     },
     "metadata": {},
     "output_type": "display_data"
    }
   ],
   "source": [
    "ranef(mod)"
   ]
  },
  {
   "cell_type": "markdown",
   "metadata": {},
   "source": [
    "固定效应的置信区间"
   ]
  },
  {
   "cell_type": "code",
   "execution_count": 5,
   "metadata": {},
   "outputs": [
    {
     "data": {
      "text/html": [
       "<table>\n",
       "<thead><tr><th></th><th scope=col>2.5 %</th><th scope=col>97.5 %</th></tr></thead>\n",
       "<tbody>\n",
       "\t<tr><th scope=row>1|2</th><td>-2.9612290</td><td>-0.2861048</td></tr>\n",
       "\t<tr><th scope=row>2|3</th><td> 0.3300261</td><td> 2.6967042</td></tr>\n",
       "\t<tr><th scope=row>3|4</th><td> 2.6429772</td><td> 5.8140762</td></tr>\n",
       "\t<tr><th scope=row>4|5</th><td> 4.1827933</td><td> 7.9947518</td></tr>\n",
       "\t<tr><th scope=row>tempwarm</th><td> 1.8960783</td><td> 4.2299149</td></tr>\n",
       "\t<tr><th scope=row>contactyes</th><td> 0.8303444</td><td> 2.8394254</td></tr>\n",
       "</tbody>\n",
       "</table>\n"
      ],
      "text/latex": [
       "\\begin{tabular}{r|ll}\n",
       "  & 2.5 \\% & 97.5 \\%\\\\\n",
       "\\hline\n",
       "\t1\\textbar{}2 & -2.9612290 & -0.2861048\\\\\n",
       "\t2\\textbar{}3 &  0.3300261 &  2.6967042\\\\\n",
       "\t3\\textbar{}4 &  2.6429772 &  5.8140762\\\\\n",
       "\t4\\textbar{}5 &  4.1827933 &  7.9947518\\\\\n",
       "\ttempwarm &  1.8960783 &  4.2299149\\\\\n",
       "\tcontactyes &  0.8303444 &  2.8394254\\\\\n",
       "\\end{tabular}\n"
      ],
      "text/markdown": [
       "\n",
       "| <!--/--> | 2.5 % | 97.5 % | \n",
       "|---|---|---|---|---|---|\n",
       "| 1|2 | -2.9612290 | -0.2861048 | \n",
       "| 2|3 |  0.3300261 |  2.6967042 | \n",
       "| 3|4 |  2.6429772 |  5.8140762 | \n",
       "| 4|5 |  4.1827933 |  7.9947518 | \n",
       "| tempwarm |  1.8960783 |  4.2299149 | \n",
       "| contactyes |  0.8303444 |  2.8394254 | \n",
       "\n",
       "\n"
      ],
      "text/plain": [
       "           2.5 %      97.5 %    \n",
       "1|2        -2.9612290 -0.2861048\n",
       "2|3         0.3300261  2.6967042\n",
       "3|4         2.6429772  5.8140762\n",
       "4|5         4.1827933  7.9947518\n",
       "tempwarm    1.8960783  4.2299149\n",
       "contactyes  0.8303444  2.8394254"
      ]
     },
     "metadata": {},
     "output_type": "display_data"
    }
   ],
   "source": [
    "confint(mod)"
   ]
  }
 ],
 "metadata": {
  "kernelspec": {
   "display_name": "R",
   "language": "R",
   "name": "ir"
  },
  "language_info": {
   "codemirror_mode": "r",
   "file_extension": ".r",
   "mimetype": "text/x-r-source",
   "name": "R",
   "pygments_lexer": "r",
   "version": "3.4.3"
  }
 },
 "nbformat": 4,
 "nbformat_minor": 2
}
