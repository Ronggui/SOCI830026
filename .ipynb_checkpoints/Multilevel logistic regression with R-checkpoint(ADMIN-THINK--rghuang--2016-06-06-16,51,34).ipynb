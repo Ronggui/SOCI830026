{
 "cells": [
  {
   "cell_type": "code",
   "execution_count": 35,
   "metadata": {
    "collapsed": false
   },
   "outputs": [
    {
     "data": {
      "text/html": [
       "<table>\n",
       "<thead><tr><th></th><th scope=col>woman</th><th scope=col>district</th><th scope=col>use</th><th scope=col>livch</th><th scope=col>age</th><th scope=col>urban</th></tr></thead>\n",
       "<tbody>\n",
       "\t<tr><th scope=row>1</th><td>1</td><td>1</td><td>N</td><td>3+</td><td>18.44</td><td>Y</td></tr>\n",
       "\t<tr><th scope=row>2</th><td>2</td><td>1</td><td>N</td><td>0</td><td>-5.5599</td><td>Y</td></tr>\n",
       "\t<tr><th scope=row>3</th><td>3</td><td>1</td><td>N</td><td>2</td><td>1.44</td><td>Y</td></tr>\n",
       "\t<tr><th scope=row>4</th><td>4</td><td>1</td><td>N</td><td>3+</td><td>8.44</td><td>Y</td></tr>\n",
       "\t<tr><th scope=row>5</th><td>5</td><td>1</td><td>N</td><td>0</td><td>-13.559</td><td>Y</td></tr>\n",
       "\t<tr><th scope=row>6</th><td>6</td><td>1</td><td>N</td><td>0</td><td>-11.56</td><td>Y</td></tr>\n",
       "</tbody>\n",
       "</table>\n"
      ],
      "text/latex": [
       "\\begin{tabular}{r|llllll}\n",
       "  & woman & district & use & livch & age & urban\\\\\n",
       "\\hline\n",
       "\t1 & 1 & 1 & N & 3+ & 18.44 & Y\\\\\n",
       "\t2 & 2 & 1 & N & 0 & -5.5599 & Y\\\\\n",
       "\t3 & 3 & 1 & N & 2 & 1.44 & Y\\\\\n",
       "\t4 & 4 & 1 & N & 3+ & 8.44 & Y\\\\\n",
       "\t5 & 5 & 1 & N & 0 & -13.559 & Y\\\\\n",
       "\t6 & 6 & 1 & N & 0 & -11.56 & Y\\\\\n",
       "\\end{tabular}\n"
      ],
      "text/plain": [
       "  woman district use livch      age urban\n",
       "1     1        1   N    3+  18.4400     Y\n",
       "2     2        1   N     0  -5.5599     Y\n",
       "3     3        1   N     2   1.4400     Y\n",
       "4     4        1   N    3+   8.4400     Y\n",
       "5     5        1   N     0 -13.5590     Y\n",
       "6     6        1   N     0 -11.5600     Y"
      ]
     },
     "execution_count": 35,
     "metadata": {},
     "output_type": "execute_result"
    }
   ],
   "source": [
    "library(foreign)\n",
    "\n",
    "contraception = read.dta(\"datasets//Contraception.dta\")\n",
    "\n",
    "head(contraception)"
   ]
  },
  {
   "cell_type": "markdown",
   "metadata": {},
   "source": [
    "检查因变量的分布"
   ]
  },
  {
   "cell_type": "code",
   "execution_count": 36,
   "metadata": {
    "collapsed": false
   },
   "outputs": [
    {
     "data": {
      "text/plain": [
       "\n",
       "   N    Y \n",
       "1175  759 "
      ]
     },
     "execution_count": 36,
     "metadata": {},
     "output_type": "execute_result"
    }
   ],
   "source": [
    "table(contraception$use)"
   ]
  },
  {
   "cell_type": "code",
   "execution_count": 47,
   "metadata": {
    "collapsed": true
   },
   "outputs": [],
   "source": [
    "contraception$urbanBin = car::recode(contraception$urban, \"'Y'=1; 'N'=0\")"
   ]
  },
  {
   "cell_type": "code",
   "execution_count": 37,
   "metadata": {
    "collapsed": false
   },
   "outputs": [],
   "source": [
    "library(lme4)"
   ]
  },
  {
   "cell_type": "markdown",
   "metadata": {},
   "source": [
    "## 随机截距模型"
   ]
  },
  {
   "cell_type": "code",
   "execution_count": 38,
   "metadata": {
    "collapsed": false
   },
   "outputs": [
    {
     "data": {
      "text/plain": [
       "Generalized linear mixed model fit by maximum likelihood (Laplace\n",
       "  Approximation) [glmerMod]\n",
       " Family: binomial  ( logit )\n",
       "Formula: use ~ urban + age + livch + (1 | district)\n",
       "   Data: contraception\n",
       "\n",
       "     AIC      BIC   logLik deviance df.resid \n",
       "  2427.6   2466.6  -1206.8   2413.6     1927 \n",
       "\n",
       "Scaled residuals: \n",
       "    Min      1Q  Median      3Q     Max \n",
       "-1.8225 -0.7659 -0.5085  0.9983  2.7200 \n",
       "\n",
       "Random effects:\n",
       " Groups   Name        Variance Std.Dev.\n",
       " district (Intercept) 0.2124   0.4608  \n",
       "Number of obs: 1934, groups:  district, 60\n",
       "\n",
       "Fixed effects:\n",
       "             Estimate Std. Error z value Pr(>|z|)    \n",
       "(Intercept) -1.689648   0.147332 -11.468  < 2e-16 ***\n",
       "urbanY       0.732979   0.119386   6.140 8.28e-10 ***\n",
       "age         -0.026594   0.007879  -3.375 0.000738 ***\n",
       "livch1       1.109125   0.157851   7.026 2.12e-12 ***\n",
       "livch2       1.376341   0.174640   7.881 3.25e-15 ***\n",
       "livch3+      1.345184   0.179409   7.498 6.49e-14 ***\n",
       "---\n",
       "Signif. codes:  0 '***' 0.001 '**' 0.01 '*' 0.05 '.' 0.1 ' ' 1\n",
       "\n",
       "Correlation of Fixed Effects:\n",
       "        (Intr) urbanY age    livch1 livch2\n",
       "urbanY  -0.289                            \n",
       "age      0.449 -0.044                     \n",
       "livch1  -0.590  0.055 -0.213              \n",
       "livch2  -0.633  0.089 -0.380  0.489       \n",
       "livch3+ -0.752  0.092 -0.675  0.540  0.620"
      ]
     },
     "execution_count": 38,
     "metadata": {},
     "output_type": "execute_result"
    }
   ],
   "source": [
    "m_random = glmer(use ~ urban + age + livch + (1|district), data=contraception, family=binomial)\n",
    "summary(m_random)"
   ]
  },
  {
   "cell_type": "markdown",
   "metadata": {},
   "source": [
    "### 对固定效应的解释"
   ]
  },
  {
   "cell_type": "code",
   "execution_count": 39,
   "metadata": {
    "collapsed": false
   },
   "outputs": [
    {
     "data": {
      "text/html": [
       "<dl class=dl-horizontal>\n",
       "\t<dt>(Intercept)</dt>\n",
       "\t\t<dd>0.184584396297695</dd>\n",
       "\t<dt>urbanY</dt>\n",
       "\t\t<dd>2.08127048583313</dd>\n",
       "\t<dt>age</dt>\n",
       "\t\t<dd>0.97375652762423</dd>\n",
       "\t<dt>livch1</dt>\n",
       "\t\t<dd>3.03170559048752</dd>\n",
       "\t<dt>livch2</dt>\n",
       "\t\t<dd>3.96038218905777</dd>\n",
       "\t<dt>livch3+</dt>\n",
       "\t\t<dd>3.83889426740473</dd>\n",
       "</dl>\n"
      ],
      "text/latex": [
       "\\begin{description*}\n",
       "\\item[(Intercept)] 0.184584396297695\n",
       "\\item[urbanY] 2.08127048583313\n",
       "\\item[age] 0.97375652762423\n",
       "\\item[livch1] 3.03170559048752\n",
       "\\item[livch2] 3.96038218905777\n",
       "\\item[livch3+] 3.83889426740473\n",
       "\\end{description*}\n"
      ],
      "text/markdown": [
       "(Intercept)\n",
       ":   0.184584396297695urbanY\n",
       ":   2.08127048583313age\n",
       ":   0.97375652762423livch1\n",
       ":   3.03170559048752livch2\n",
       ":   3.96038218905777livch3+\n",
       ":   3.83889426740473\n",
       "\n"
      ],
      "text/plain": [
       "(Intercept)      urbanY         age      livch1      livch2     livch3+ \n",
       "  0.1845844   2.0812705   0.9737565   3.0317056   3.9603822   3.8388943 "
      ]
     },
     "execution_count": 39,
     "metadata": {},
     "output_type": "execute_result"
    }
   ],
   "source": [
    "exp(fixef(m_random))"
   ]
  },
  {
   "cell_type": "markdown",
   "metadata": {},
   "source": [
    "Odds Ratio的80%置信区间：以urban变量为例"
   ]
  },
  {
   "cell_type": "code",
   "execution_count": 40,
   "metadata": {
    "collapsed": false
   },
   "outputs": [
    {
     "data": {
      "text/html": [
       "18.477306187491"
      ],
      "text/latex": [
       "18.477306187491"
      ],
      "text/markdown": [
       "18.477306187491"
      ],
      "text/plain": [
       "[1] 18.47731"
      ]
     },
     "execution_count": 40,
     "metadata": {},
     "output_type": "execute_result"
    }
   ],
   "source": [
    "exp(2.08127048583313 + sqrt(2 * 0.2124) * qnorm(0.9))"
   ]
  },
  {
   "cell_type": "code",
   "execution_count": 41,
   "metadata": {
    "collapsed": false
   },
   "outputs": [
    {
     "data": {
      "text/html": [
       "3.47640142383661"
      ],
      "text/latex": [
       "3.47640142383661"
      ],
      "text/markdown": [
       "3.47640142383661"
      ],
      "text/plain": [
       "[1] 3.476401"
      ]
     },
     "execution_count": 41,
     "metadata": {},
     "output_type": "execute_result"
    }
   ],
   "source": [
    "exp(2.08127048583313 + sqrt(2 * 0.2124) * qnorm(0.1))"
   ]
  },
  {
   "cell_type": "markdown",
   "metadata": {},
   "source": [
    "在上述计算中，2.08127048583313是urban的系数，.2154977是随机截距的方差，0.9和0.1对应80%置信水平的两个端点。"
   ]
  },
  {
   "cell_type": "markdown",
   "metadata": {},
   "source": [
    "### 对随机效应的中位比数（median odds ratio）解读\n",
    "\n",
    "下面的计算中，0.2124是随机截距的方差"
   ]
  },
  {
   "cell_type": "code",
   "execution_count": 42,
   "metadata": {
    "collapsed": false
   },
   "outputs": [
    {
     "data": {
      "text/html": [
       "1.55210185215567"
      ],
      "text/latex": [
       "1.55210185215567"
      ],
      "text/markdown": [
       "1.55210185215567"
      ],
      "text/plain": [
       "[1] 1.552102"
      ]
     },
     "execution_count": 42,
     "metadata": {},
     "output_type": "execute_result"
    }
   ],
   "source": [
    "exp(abs(sqrt(2 * 0.2124) * qnorm(0.75)))"
   ]
  },
  {
   "cell_type": "markdown",
   "metadata": {},
   "source": [
    "详细的解释和计算公式可参见： Larsen, Petersen, & Budtz-Joergensen et al. (2000), Interpreting Parameters in the Logistic Regression Model with Random Effects."
   ]
  },
  {
   "cell_type": "markdown",
   "metadata": {},
   "source": [
    "## 随机系数模型\n",
    "\n",
    "在下面的模型中，截距和年龄变量的系数均设为随机，并且截距随机效应与年龄随机效应之间的协方差不等于零（由软件所估计）。"
   ]
  },
  {
   "cell_type": "code",
   "execution_count": 43,
   "metadata": {
    "collapsed": false
   },
   "outputs": [
    {
     "data": {
      "text/plain": [
       "Generalized linear mixed model fit by maximum likelihood (Laplace\n",
       "  Approximation) [glmerMod]\n",
       " Family: binomial  ( logit )\n",
       "Formula: use ~ urban + age + livch + (1 + age | district)\n",
       "   Data: contraception\n",
       "\n",
       "     AIC      BIC   logLik deviance df.resid \n",
       "  2430.3   2480.4  -1206.1   2412.3     1925 \n",
       "\n",
       "Scaled residuals: \n",
       "    Min      1Q  Median      3Q     Max \n",
       "-1.7852 -0.7662 -0.5023  0.9968  2.6328 \n",
       "\n",
       "Random effects:\n",
       " Groups   Name        Variance  Std.Dev. Corr\n",
       " district (Intercept) 0.2107544 0.45908      \n",
       "          age         0.0002152 0.01467  0.47\n",
       "Number of obs: 1934, groups:  district, 60\n",
       "\n",
       "Fixed effects:\n",
       "             Estimate Std. Error z value Pr(>|z|)    \n",
       "(Intercept) -1.685861   0.148171 -11.378  < 2e-16 ***\n",
       "urbanY       0.737316   0.119706   6.159 7.30e-10 ***\n",
       "age         -0.027910   0.008341  -3.346 0.000819 ***\n",
       "livch1       1.100265   0.159022   6.919 4.55e-12 ***\n",
       "livch2       1.368708   0.175135   7.815 5.49e-15 ***\n",
       "livch3+      1.340669   0.180045   7.446 9.60e-14 ***\n",
       "---\n",
       "Signif. codes:  0 '***' 0.001 '**' 0.01 '*' 0.05 '.' 0.1 ' ' 1\n",
       "\n",
       "Correlation of Fixed Effects:\n",
       "        (Intr) urbanY age    livch1 livch2\n",
       "urbanY  -0.293                            \n",
       "age      0.466 -0.038                     \n",
       "livch1  -0.596  0.060 -0.182              \n",
       "livch2  -0.635  0.093 -0.347  0.493       \n",
       "livch3+ -0.753  0.096 -0.631  0.541  0.619"
      ]
     },
     "execution_count": 43,
     "metadata": {},
     "output_type": "execute_result"
    }
   ],
   "source": [
    "m_random_coef = glmer(use ~ urban + age + livch + (1 + age|district), data=contraception, family=binomial)\n",
    "summary(m_random_coef)"
   ]
  },
  {
   "cell_type": "markdown",
   "metadata": {},
   "source": [
    "下面的模型中，截距和年龄变量的系数均设为随机，但是截距随机效应与年龄随机效应之间的协方差等于零。"
   ]
  },
  {
   "cell_type": "code",
   "execution_count": 44,
   "metadata": {
    "collapsed": false
   },
   "outputs": [
    {
     "data": {
      "text/plain": [
       "Generalized linear mixed model fit by maximum likelihood (Laplace\n",
       "  Approximation) [glmerMod]\n",
       " Family: binomial  ( logit )\n",
       "Formula: use ~ urban + age + livch + (age - 1 | district) + (1 | district)\n",
       "   Data: contraception\n",
       "\n",
       "     AIC      BIC   logLik deviance df.resid \n",
       "  2429.1   2473.6  -1206.5   2413.1     1926 \n",
       "\n",
       "Scaled residuals: \n",
       "    Min      1Q  Median      3Q     Max \n",
       "-1.8223 -0.7649 -0.5027  1.0000  2.6978 \n",
       "\n",
       "Random effects:\n",
       " Groups     Name        Variance  Std.Dev.\n",
       " district   age         0.0002211 0.01487 \n",
       " district.1 (Intercept) 0.2144080 0.46304 \n",
       "Number of obs: 1934, groups:  district, 60\n",
       "\n",
       "Fixed effects:\n",
       "             Estimate Std. Error z value Pr(>|z|)    \n",
       "(Intercept) -1.697489   0.148347 -11.443  < 2e-16 ***\n",
       "urbanY       0.737985   0.120063   6.147 7.91e-10 ***\n",
       "age         -0.026734   0.008227  -3.250  0.00116 ** \n",
       "livch1       1.117638   0.158763   7.040 1.93e-12 ***\n",
       "livch2       1.381581   0.175261   7.883 3.20e-15 ***\n",
       "livch3+      1.350814   0.180036   7.503 6.24e-14 ***\n",
       "---\n",
       "Signif. codes:  0 '***' 0.001 '**' 0.01 '*' 0.05 '.' 0.1 ' ' 1\n",
       "\n",
       "Correlation of Fixed Effects:\n",
       "        (Intr) urbanY age    livch1 livch2\n",
       "urbanY  -0.292                            \n",
       "age      0.431 -0.045                     \n",
       "livch1  -0.593  0.060 -0.205              \n",
       "livch2  -0.634  0.092 -0.364  0.491       \n",
       "livch3+ -0.752  0.095 -0.646  0.542  0.621"
      ]
     },
     "execution_count": 44,
     "metadata": {},
     "output_type": "execute_result"
    }
   ],
   "source": [
    "m_random_coef_ind = glmer(use ~ urban + age + livch + (age-1|district) + (1|district), data=contraception, family=binomial)\n",
    "summary(m_random_coef_ind)"
   ]
  },
  {
   "cell_type": "code",
   "execution_count": 46,
   "metadata": {
    "collapsed": false
   },
   "outputs": [
    {
     "data": {
      "text/plain": [
       "Generalized linear mixed model fit by maximum likelihood (Laplace\n",
       "  Approximation) [glmerMod]\n",
       " Family: binomial  ( logit )\n",
       "Formula: use ~ urban + age + livch + (urban - 1 | district)\n",
       "   Data: contraception\n",
       "\n",
       "     AIC      BIC   logLik deviance df.resid \n",
       "  2417.0   2467.1  -1199.5   2399.0     1925 \n",
       "\n",
       "Scaled residuals: \n",
       "    Min      1Q  Median      3Q     Max \n",
       "-1.9127 -0.7456 -0.4933  0.9335  2.9271 \n",
       "\n",
       "Random effects:\n",
       " Groups   Name   Variance Std.Dev. Corr \n",
       " district urbanN 0.3812   0.6174        \n",
       "          urbanY 0.2334   0.4831   -0.05\n",
       "Number of obs: 1934, groups:  district, 60\n",
       "\n",
       "Fixed effects:\n",
       "             Estimate Std. Error z value Pr(>|z|)    \n",
       "(Intercept) -1.711643   0.159621 -10.723  < 2e-16 ***\n",
       "urbanY       0.815171   0.169718   4.803 1.56e-06 ***\n",
       "age         -0.026518   0.008001  -3.315 0.000918 ***\n",
       "livch1       1.125550   0.159897   7.039 1.93e-12 ***\n",
       "livch2       1.368145   0.176846   7.736 1.02e-14 ***\n",
       "livch3+      1.354634   0.182406   7.426 1.12e-13 ***\n",
       "---\n",
       "Signif. codes:  0 '***' 0.001 '**' 0.01 '*' 0.05 '.' 0.1 ' ' 1\n",
       "\n",
       "Correlation of Fixed Effects:\n",
       "        (Intr) urbanY age    livch1 livch2\n",
       "urbanY  -0.473                            \n",
       "age      0.422 -0.035                     \n",
       "livch1  -0.550  0.042 -0.212              \n",
       "livch2  -0.590  0.066 -0.380  0.487       \n",
       "livch3+ -0.701  0.062 -0.675  0.538  0.617"
      ]
     },
     "execution_count": 46,
     "metadata": {},
     "output_type": "execute_result"
    }
   ],
   "source": [
    "m_random_coef_3 = glmer(use ~ urban + age + livch + (urban-1|district), data=contraception, family=binomial)\n",
    "summary(m_random_coef_3)"
   ]
  }
 ],
 "metadata": {
  "kernelspec": {
   "display_name": "R",
   "language": "R",
   "name": "ir"
  },
  "language_info": {
   "codemirror_mode": "r",
   "file_extension": ".r",
   "mimetype": "text/x-r-source",
   "name": "R",
   "pygments_lexer": "r",
   "version": "3.3.0"
  }
 },
 "nbformat": 4,
 "nbformat_minor": 0
}
