{
 "cells": [
  {
   "cell_type": "markdown",
   "metadata": {},
   "source": [
    "## 计数变量回归\n",
    "\n",
    "####  黄荣贵（复旦大学社会学系）"
   ]
  },
  {
   "cell_type": "code",
   "execution_count": 1,
   "metadata": {},
   "outputs": [
    {
     "data": {
      "text/html": [
       "<table>\n",
       "<thead><tr><th></th><th scope=col>art</th><th scope=col>fem</th><th scope=col>mar</th><th scope=col>kid5</th><th scope=col>phd</th><th scope=col>ment</th></tr></thead>\n",
       "<tbody>\n",
       "\t<tr><th scope=row>1</th><td>0</td><td>Men</td><td>Married</td><td>0</td><td>2.52</td><td>7</td></tr>\n",
       "\t<tr><th scope=row>2</th><td>0</td><td>Women</td><td>Single</td><td>0</td><td>2.05</td><td>6</td></tr>\n",
       "\t<tr><th scope=row>3</th><td>0</td><td>Women</td><td>Single</td><td>0</td><td>3.75</td><td>6</td></tr>\n",
       "\t<tr><th scope=row>4</th><td>0</td><td>Men</td><td>Married</td><td>1</td><td>1.18</td><td>3</td></tr>\n",
       "\t<tr><th scope=row>5</th><td>0</td><td>Women</td><td>Single</td><td>0</td><td>3.75</td><td>26</td></tr>\n",
       "\t<tr><th scope=row>6</th><td>0</td><td>Women</td><td>Married</td><td>2</td><td>3.59</td><td>2</td></tr>\n",
       "</tbody>\n",
       "</table>\n"
      ],
      "text/latex": [
       "\\begin{tabular}{r|llllll}\n",
       "  & art & fem & mar & kid5 & phd & ment\\\\\n",
       "\\hline\n",
       "\t1 & 0 & Men & Married & 0 & 2.52 & 7\\\\\n",
       "\t2 & 0 & Women & Single & 0 & 2.05 & 6\\\\\n",
       "\t3 & 0 & Women & Single & 0 & 3.75 & 6\\\\\n",
       "\t4 & 0 & Men & Married & 1 & 1.18 & 3\\\\\n",
       "\t5 & 0 & Women & Single & 0 & 3.75 & 26\\\\\n",
       "\t6 & 0 & Women & Married & 2 & 3.59 & 2\\\\\n",
       "\\end{tabular}\n"
      ],
      "text/plain": [
       "  art   fem     mar kid5  phd ment\n",
       "1   0   Men Married    0 2.52    7\n",
       "2   0 Women  Single    0 2.05    6\n",
       "3   0 Women  Single    0 3.75    6\n",
       "4   0   Men Married    1 1.18    3\n",
       "5   0 Women  Single    0 3.75   26\n",
       "6   0 Women Married    2 3.59    2"
      ]
     },
     "execution_count": 1,
     "metadata": {},
     "output_type": "execute_result"
    }
   ],
   "source": [
    "library(foreign)\n",
    "couart <- read.dta(\"datasets/couart2.dta\")\n",
    "head(couart)"
   ]
  },
  {
   "cell_type": "code",
   "execution_count": 2,
   "metadata": {},
   "outputs": [
    {
     "data": {
      "text/plain": [
       "\n",
       "Call:\n",
       "glm(formula = art ~ fem + ment, family = poisson, data = couart)\n",
       "\n",
       "Deviance Residuals: \n",
       "    Min       1Q   Median       3Q      Max  \n",
       "-3.6094  -1.5746  -0.3891   0.5651   5.7868  \n",
       "\n",
       "Coefficients:\n",
       "            Estimate Std. Error z value Pr(>|z|)    \n",
       "(Intercept)  0.34909    0.04191   8.329  < 2e-16 ***\n",
       "femWomen    -0.18445    0.05235  -3.523 0.000426 ***\n",
       "ment         0.02510    0.00193  13.005  < 2e-16 ***\n",
       "---\n",
       "Signif. codes:  0 '***' 0.001 '**' 0.01 '*' 0.05 '.' 0.1 ' ' 1\n",
       "\n",
       "(Dispersion parameter for poisson family taken to be 1)\n",
       "\n",
       "    Null deviance: 1817.4  on 914  degrees of freedom\n",
       "Residual deviance: 1657.0  on 912  degrees of freedom\n",
       "AIC: 3330.7\n",
       "\n",
       "Number of Fisher Scoring iterations: 5\n"
      ]
     },
     "execution_count": 2,
     "metadata": {},
     "output_type": "execute_result"
    }
   ],
   "source": [
    "m1 <- glm(art ~ fem + ment, data=couart, family=poisson)\n",
    "summary(m1)"
   ]
  },
  {
   "cell_type": "code",
   "execution_count": 3,
   "metadata": {},
   "outputs": [
    {
     "data": {
      "text/html": [
       "<dl class=dl-horizontal>\n",
       "\t<dt>(Intercept)</dt>\n",
       "\t\t<dd>1.41778152777492</dd>\n",
       "\t<dt>femWomen</dt>\n",
       "\t\t<dd>0.831560397157389</dd>\n",
       "\t<dt>ment</dt>\n",
       "\t\t<dd>1.02542007272774</dd>\n",
       "</dl>\n"
      ],
      "text/latex": [
       "\\begin{description*}\n",
       "\\item[(Intercept)] 1.41778152777492\n",
       "\\item[femWomen] 0.831560397157389\n",
       "\\item[ment] 1.02542007272774\n",
       "\\end{description*}\n"
      ],
      "text/markdown": [
       "(Intercept)\n",
       ":   1.41778152777492femWomen\n",
       ":   0.831560397157389ment\n",
       ":   1.02542007272774\n",
       "\n"
      ],
      "text/plain": [
       "(Intercept)    femWomen        ment \n",
       "  1.4177815   0.8315604   1.0254201 "
      ]
     },
     "execution_count": 3,
     "metadata": {},
     "output_type": "execute_result"
    }
   ],
   "source": [
    "exp(coef(m1))"
   ]
  },
  {
   "cell_type": "code",
   "execution_count": 4,
   "metadata": {},
   "outputs": [
    {
     "data": {
      "text/html": [
       "<table>\n",
       "<thead><tr><th></th><th scope=col>art</th><th scope=col>fem</th><th scope=col>mar</th><th scope=col>kid5</th><th scope=col>phd</th><th scope=col>ment</th><th scope=col>predArt</th></tr></thead>\n",
       "<tbody>\n",
       "\t<tr><th scope=row>1</th><td>0</td><td>Men</td><td>Married</td><td>0</td><td>2.52</td><td>7</td><td>1.690137</td></tr>\n",
       "\t<tr><th scope=row>2</th><td>0</td><td>Women</td><td>Single</td><td>0</td><td>2.05</td><td>6</td><td>1.37061</td></tr>\n",
       "\t<tr><th scope=row>3</th><td>0</td><td>Women</td><td>Single</td><td>0</td><td>3.75</td><td>6</td><td>1.37061</td></tr>\n",
       "\t<tr><th scope=row>4</th><td>0</td><td>Men</td><td>Married</td><td>1</td><td>1.18</td><td>3</td><td>1.528674</td></tr>\n",
       "\t<tr><th scope=row>5</th><td>0</td><td>Women</td><td>Single</td><td>0</td><td>3.75</td><td>26</td><td>2.264385</td></tr>\n",
       "\t<tr><th scope=row>6</th><td>0</td><td>Women</td><td>Married</td><td>2</td><td>3.59</td><td>2</td><td>1.239672</td></tr>\n",
       "</tbody>\n",
       "</table>\n"
      ],
      "text/latex": [
       "\\begin{tabular}{r|lllllll}\n",
       "  & art & fem & mar & kid5 & phd & ment & predArt\\\\\n",
       "\\hline\n",
       "\t1 & 0 & Men & Married & 0 & 2.52 & 7 & 1.690137\\\\\n",
       "\t2 & 0 & Women & Single & 0 & 2.05 & 6 & 1.37061\\\\\n",
       "\t3 & 0 & Women & Single & 0 & 3.75 & 6 & 1.37061\\\\\n",
       "\t4 & 0 & Men & Married & 1 & 1.18 & 3 & 1.528674\\\\\n",
       "\t5 & 0 & Women & Single & 0 & 3.75 & 26 & 2.264385\\\\\n",
       "\t6 & 0 & Women & Married & 2 & 3.59 & 2 & 1.239672\\\\\n",
       "\\end{tabular}\n"
      ],
      "text/plain": [
       "  art   fem     mar kid5  phd ment  predArt\n",
       "1   0   Men Married    0 2.52    7 1.690137\n",
       "2   0 Women  Single    0 2.05    6 1.370610\n",
       "3   0 Women  Single    0 3.75    6 1.370610\n",
       "4   0   Men Married    1 1.18    3 1.528674\n",
       "5   0 Women  Single    0 3.75   26 2.264385\n",
       "6   0 Women Married    2 3.59    2 1.239672"
      ]
     },
     "execution_count": 4,
     "metadata": {},
     "output_type": "execute_result"
    }
   ],
   "source": [
    "couart$predArt = predict(m1, type=\"response\")\n",
    "head(couart)"
   ]
  },
  {
   "cell_type": "markdown",
   "metadata": {},
   "source": [
    "### 评估模型拟合度"
   ]
  },
  {
   "cell_type": "code",
   "execution_count": 5,
   "metadata": {},
   "outputs": [
    {
     "data": {
      "text/html": [
       "<ol class=list-inline>\n",
       "\t<li>0.20520277355963</li>\n",
       "\t<li>0.311420490611188</li>\n",
       "\t<li>0.24562017765537</li>\n",
       "\t<li>0.135946961391982</li>\n",
       "\t<li>0.060664340240945</li>\n",
       "\t<li>0.0240924496610454</li>\n",
       "\t<li>0.00932383289036393</li>\n",
       "\t<li>0.00381904067291771</li>\n",
       "\t<li>0.00174422222329556</li>\n",
       "\t<li>0.000894333112689448</li>\n",
       "</ol>\n"
      ],
      "text/latex": [
       "\\begin{enumerate*}\n",
       "\\item 0.20520277355963\n",
       "\\item 0.311420490611188\n",
       "\\item 0.24562017765537\n",
       "\\item 0.135946961391982\n",
       "\\item 0.060664340240945\n",
       "\\item 0.0240924496610454\n",
       "\\item 0.00932383289036393\n",
       "\\item 0.00381904067291771\n",
       "\\item 0.00174422222329556\n",
       "\\item 0.000894333112689448\n",
       "\\end{enumerate*}\n"
      ],
      "text/markdown": [
       "1. 0.20520277355963\n",
       "2. 0.311420490611188\n",
       "3. 0.24562017765537\n",
       "4. 0.135946961391982\n",
       "5. 0.060664340240945\n",
       "6. 0.0240924496610454\n",
       "7. 0.00932383289036393\n",
       "8. 0.00381904067291771\n",
       "9. 0.00174422222329556\n",
       "10. 0.000894333112689448\n",
       "\n",
       "\n"
      ],
      "text/plain": [
       " [1] 0.2052027736 0.3114204906 0.2456201777 0.1359469614 0.0606643402\n",
       " [6] 0.0240924497 0.0093238329 0.0038190407 0.0017442222 0.0008943331"
      ]
     },
     "execution_count": 5,
     "metadata": {},
     "output_type": "execute_result"
    }
   ],
   "source": [
    "(meanPred = sapply(0:9, function(m) mean(dpois(m, couart$predArt))))"
   ]
  },
  {
   "cell_type": "code",
   "execution_count": 6,
   "metadata": {},
   "outputs": [
    {
     "data": {
      "text/plain": [
       "\n",
       "          0           1           2           3           4           5 \n",
       "0.300546448 0.268852459 0.194535519 0.091803279 0.073224044 0.029508197 \n",
       "          6           7           8           9          10          11 \n",
       "0.018579235 0.013114754 0.001092896 0.002185792 0.001092896 0.001092896 \n",
       "         12          16          19 \n",
       "0.002185792 0.001092896 0.001092896 "
      ]
     },
     "execution_count": 6,
     "metadata": {},
     "output_type": "execute_result"
    }
   ],
   "source": [
    "(obsPred = prop.table(table(couart$art)))"
   ]
  },
  {
   "cell_type": "code",
   "execution_count": 7,
   "metadata": {},
   "outputs": [
    {
     "data": {
      "image/png": "[encoded data removed]",
      "image/svg+xml": [
       "<?xml version=\"1.0\" encoding=\"UTF-8\"?>\n",
       "<svg xmlns=\"http://www.w3.org/2000/svg\" xmlns:xlink=\"http://www.w3.org/1999/xlink\" width=\"504pt\" height=\"504pt\" viewBox=\"0 0 504 504\" version=\"1.1\">\n",
       "<defs>\n",
       "<g>\n",
       "<symbol overflow=\"visible\" id=\"glyph0-0\">\n",
       "<path style=\"stroke:none;\" d=\"M 0.5 -4.234375 C 0.496094 -5.246094 0.601563 -6.0625 0.8125 -6.6875 C 1.019531 -7.304688 1.328125 -7.785156 1.742188 -8.121094 C 2.148438 -8.457031 2.667969 -8.625 3.296875 -8.625 C 3.757813 -8.625 4.164063 -8.53125 4.511719 -8.347656 C 4.855469 -8.160156 5.140625 -7.890625 5.371094 -7.542969 C 5.59375 -7.191406 5.773438 -6.765625 5.90625 -6.265625 C 6.035156 -5.761719 6.097656 -5.085938 6.101563 -4.234375 C 6.097656 -3.226563 5.996094 -2.414063 5.789063 -1.796875 C 5.578125 -1.175781 5.265625 -0.695313 4.859375 -0.359375 C 4.445313 -0.0195313 3.925781 0.144531 3.296875 0.148438 C 2.464844 0.144531 1.816406 -0.148438 1.347656 -0.742188 C 0.78125 -1.457031 0.496094 -2.621094 0.5 -4.234375 Z M 1.582031 -4.234375 C 1.582031 -2.824219 1.746094 -1.886719 2.074219 -1.417969 C 2.402344 -0.949219 2.808594 -0.714844 3.296875 -0.71875 C 3.777344 -0.714844 4.183594 -0.949219 4.519531 -1.421875 C 4.847656 -1.886719 5.015625 -2.824219 5.015625 -4.234375 C 5.015625 -5.648438 4.847656 -6.589844 4.519531 -7.054688 C 4.183594 -7.515625 3.773438 -7.746094 3.289063 -7.75 C 2.800781 -7.746094 2.414063 -7.542969 2.125 -7.136719 C 1.761719 -6.613281 1.582031 -5.644531 1.582031 -4.234375 Z M 1.582031 -4.234375 \"/>\n",
       "</symbol>\n",
       "<symbol overflow=\"visible\" id=\"glyph0-1\">\n",
       "<path style=\"stroke:none;\" d=\"M 6.039063 -1.015625 L 6.039063 0 L 0.363281 0 C 0.355469 -0.253906 0.394531 -0.496094 0.484375 -0.734375 C 0.628906 -1.117188 0.859375 -1.5 1.179688 -1.875 C 1.492188 -2.25 1.953125 -2.683594 2.5625 -3.175781 C 3.492188 -3.941406 4.125 -4.546875 4.453125 -4.992188 C 4.78125 -5.4375 4.945313 -5.859375 4.945313 -6.265625 C 4.945313 -6.679688 4.792969 -7.03125 4.496094 -7.320313 C 4.191406 -7.601563 3.804688 -7.746094 3.328125 -7.75 C 2.820313 -7.746094 2.414063 -7.59375 2.109375 -7.292969 C 1.804688 -6.984375 1.648438 -6.5625 1.648438 -6.03125 L 0.5625 -6.140625 C 0.632813 -6.945313 0.910156 -7.558594 1.398438 -7.988281 C 1.878906 -8.410156 2.53125 -8.625 3.351563 -8.625 C 4.171875 -8.625 4.824219 -8.394531 5.308594 -7.9375 C 5.789063 -7.480469 6.027344 -6.914063 6.03125 -6.242188 C 6.027344 -5.894531 5.957031 -5.558594 5.820313 -5.226563 C 5.675781 -4.890625 5.441406 -4.539063 5.117188 -4.175781 C 4.789063 -3.804688 4.25 -3.300781 3.492188 -2.664063 C 2.859375 -2.128906 2.453125 -1.769531 2.273438 -1.582031 C 2.09375 -1.394531 1.945313 -1.203125 1.828125 -1.015625 Z M 6.039063 -1.015625 \"/>\n",
       "</symbol>\n",
       "<symbol overflow=\"visible\" id=\"glyph0-2\">\n",
       "<path style=\"stroke:none;\" d=\"M 3.878906 0 L 3.878906 -2.054688 L 0.152344 -2.054688 L 0.152344 -3.023438 L 4.070313 -8.589844 L 4.933594 -8.589844 L 4.933594 -3.023438 L 6.09375 -3.023438 L 6.09375 -2.054688 L 4.933594 -2.054688 L 4.933594 0 Z M 3.878906 -3.023438 L 3.878906 -6.898438 L 1.1875 -3.023438 Z M 3.878906 -3.023438 \"/>\n",
       "</symbol>\n",
       "<symbol overflow=\"visible\" id=\"glyph0-3\">\n",
       "<path style=\"stroke:none;\" d=\"M 5.96875 -6.484375 L 4.921875 -6.40625 C 4.828125 -6.8125 4.695313 -7.113281 4.523438 -7.304688 C 4.234375 -7.605469 3.882813 -7.757813 3.46875 -7.757813 C 3.132813 -7.757813 2.835938 -7.664063 2.585938 -7.476563 C 2.25 -7.234375 1.988281 -6.878906 1.796875 -6.414063 C 1.605469 -5.949219 1.507813 -5.289063 1.5 -4.429688 C 1.753906 -4.8125 2.0625 -5.097656 2.433594 -5.289063 C 2.796875 -5.472656 3.183594 -5.566406 3.585938 -5.570313 C 4.289063 -5.566406 4.886719 -5.308594 5.382813 -4.792969 C 5.875 -4.277344 6.121094 -3.609375 6.125 -2.789063 C 6.121094 -2.25 6.003906 -1.746094 5.773438 -1.285156 C 5.539063 -0.820313 5.222656 -0.46875 4.816406 -0.222656 C 4.410156 0.0234375 3.949219 0.144531 3.433594 0.148438 C 2.554688 0.144531 1.835938 -0.175781 1.285156 -0.820313 C 0.726563 -1.46875 0.449219 -2.535156 0.453125 -4.019531 C 0.449219 -5.675781 0.757813 -6.882813 1.371094 -7.640625 C 1.902344 -8.296875 2.621094 -8.625 3.53125 -8.625 C 4.207031 -8.625 4.761719 -8.433594 5.195313 -8.054688 C 5.625 -7.675781 5.882813 -7.152344 5.96875 -6.484375 Z M 1.664063 -2.78125 C 1.664063 -2.417969 1.738281 -2.070313 1.894531 -1.738281 C 2.042969 -1.40625 2.261719 -1.152344 2.542969 -0.980469 C 2.820313 -0.800781 3.109375 -0.714844 3.414063 -0.71875 C 3.859375 -0.714844 4.242188 -0.894531 4.566406 -1.257813 C 4.882813 -1.613281 5.042969 -2.101563 5.046875 -2.726563 C 5.042969 -3.316406 4.886719 -3.785156 4.570313 -4.128906 C 4.25 -4.46875 3.851563 -4.640625 3.375 -4.640625 C 2.898438 -4.640625 2.492188 -4.46875 2.160156 -4.128906 C 1.828125 -3.785156 1.664063 -3.335938 1.664063 -2.78125 Z M 1.664063 -2.78125 \"/>\n",
       "</symbol>\n",
       "<symbol overflow=\"visible\" id=\"glyph0-4\">\n",
       "<path style=\"stroke:none;\" d=\"M 2.121094 -4.65625 C 1.683594 -4.816406 1.359375 -5.046875 1.148438 -5.34375 C 0.9375 -5.640625 0.832031 -5.996094 0.832031 -6.410156 C 0.832031 -7.035156 1.054688 -7.558594 1.503906 -7.984375 C 1.953125 -8.410156 2.550781 -8.625 3.296875 -8.625 C 4.042969 -8.625 4.648438 -8.40625 5.109375 -7.972656 C 5.566406 -7.535156 5.792969 -7.003906 5.796875 -6.382813 C 5.792969 -5.976563 5.6875 -5.628906 5.480469 -5.339844 C 5.269531 -5.042969 4.953125 -4.816406 4.53125 -4.65625 C 5.054688 -4.480469 5.457031 -4.203125 5.734375 -3.824219 C 6.007813 -3.4375 6.144531 -2.980469 6.148438 -2.453125 C 6.144531 -1.714844 5.886719 -1.097656 5.367188 -0.601563 C 4.84375 -0.101563 4.160156 0.144531 3.316406 0.148438 C 2.46875 0.144531 1.785156 -0.101563 1.265625 -0.605469 C 0.742188 -1.105469 0.480469 -1.734375 0.484375 -2.484375 C 0.480469 -3.039063 0.621094 -3.503906 0.910156 -3.886719 C 1.191406 -4.261719 1.597656 -4.519531 2.121094 -4.65625 Z M 1.910156 -6.445313 C 1.910156 -6.039063 2.039063 -5.707031 2.300781 -5.449219 C 2.5625 -5.191406 2.902344 -5.0625 3.320313 -5.0625 C 3.722656 -5.0625 4.054688 -5.1875 4.320313 -5.445313 C 4.578125 -5.695313 4.710938 -6.011719 4.710938 -6.386719 C 4.710938 -6.773438 4.574219 -7.097656 4.308594 -7.363281 C 4.035156 -7.625 3.703125 -7.757813 3.3125 -7.757813 C 2.90625 -7.757813 2.574219 -7.628906 2.308594 -7.371094 C 2.042969 -7.113281 1.910156 -6.804688 1.910156 -6.445313 Z M 1.570313 -2.476563 C 1.570313 -2.175781 1.640625 -1.886719 1.785156 -1.605469 C 1.925781 -1.324219 2.136719 -1.105469 2.421875 -0.949219 C 2.699219 -0.792969 3.003906 -0.714844 3.328125 -0.71875 C 3.832031 -0.714844 4.246094 -0.878906 4.578125 -1.207031 C 4.902344 -1.53125 5.066406 -1.941406 5.070313 -2.445313 C 5.066406 -2.945313 4.898438 -3.367188 4.5625 -3.703125 C 4.222656 -4.035156 3.800781 -4.199219 3.292969 -4.203125 C 2.792969 -4.199219 2.378906 -4.035156 2.058594 -3.710938 C 1.730469 -3.378906 1.570313 -2.96875 1.570313 -2.476563 Z M 1.570313 -2.476563 \"/>\n",
       "</symbol>\n",
       "<symbol overflow=\"visible\" id=\"glyph0-5\">\n",
       "<path style=\"stroke:none;\" d=\"M 4.851563 -2.28125 L 5.890625 -2.144531 C 5.773438 -1.425781 5.484375 -0.863281 5.019531 -0.464844 C 4.550781 -0.0585938 3.976563 0.140625 3.296875 0.140625 C 2.445313 0.140625 1.761719 -0.136719 1.246094 -0.695313 C 0.726563 -1.25 0.46875 -2.046875 0.46875 -3.085938 C 0.46875 -3.753906 0.578125 -4.34375 0.800781 -4.851563 C 1.023438 -5.355469 1.363281 -5.730469 1.816406 -5.984375 C 2.269531 -6.234375 2.765625 -6.363281 3.304688 -6.363281 C 3.980469 -6.363281 4.53125 -6.191406 4.964844 -5.847656 C 5.390625 -5.503906 5.667969 -5.019531 5.789063 -4.394531 L 4.765625 -4.234375 C 4.664063 -4.652344 4.492188 -4.96875 4.246094 -5.179688 C 3.996094 -5.390625 3.695313 -5.496094 3.34375 -5.496094 C 2.808594 -5.496094 2.378906 -5.304688 2.050781 -4.921875 C 1.71875 -4.539063 1.550781 -3.9375 1.554688 -3.117188 C 1.550781 -2.28125 1.710938 -1.671875 2.035156 -1.292969 C 2.351563 -0.914063 2.769531 -0.726563 3.289063 -0.726563 C 3.695313 -0.726563 4.042969 -0.851563 4.324219 -1.105469 C 4.601563 -1.359375 4.777344 -1.75 4.851563 -2.28125 Z M 4.851563 -2.28125 \"/>\n",
       "</symbol>\n",
       "<symbol overflow=\"visible\" id=\"glyph0-6\">\n",
       "<path style=\"stroke:none;\" d=\"M 0.398438 -3.109375 C 0.398438 -4.261719 0.71875 -5.117188 1.359375 -5.671875 C 1.894531 -6.132813 2.546875 -6.363281 3.316406 -6.363281 C 4.171875 -6.363281 4.871094 -6.082031 5.414063 -5.519531 C 5.953125 -4.957031 6.222656 -4.183594 6.226563 -3.199219 C 6.222656 -2.398438 6.101563 -1.765625 5.867188 -1.308594 C 5.625 -0.847656 5.277344 -0.492188 4.820313 -0.238281 C 4.359375 0.015625 3.859375 0.140625 3.316406 0.140625 C 2.441406 0.140625 1.734375 -0.136719 1.203125 -0.695313 C 0.664063 -1.253906 0.398438 -2.058594 0.398438 -3.109375 Z M 1.484375 -3.109375 C 1.480469 -2.308594 1.65625 -1.710938 2.003906 -1.320313 C 2.347656 -0.921875 2.785156 -0.726563 3.316406 -0.726563 C 3.839844 -0.726563 4.273438 -0.925781 4.621094 -1.324219 C 4.96875 -1.722656 5.144531 -2.328125 5.144531 -3.148438 C 5.144531 -3.914063 4.96875 -4.496094 4.617188 -4.894531 C 4.265625 -5.289063 3.832031 -5.488281 3.316406 -5.492188 C 2.785156 -5.488281 2.347656 -5.292969 2.003906 -4.898438 C 1.65625 -4.5 1.480469 -3.902344 1.484375 -3.109375 Z M 1.484375 -3.109375 \"/>\n",
       "</symbol>\n",
       "<symbol overflow=\"visible\" id=\"glyph0-7\">\n",
       "<path style=\"stroke:none;\" d=\"M 4.867188 0 L 4.867188 -0.914063 C 4.378906 -0.210938 3.722656 0.140625 2.894531 0.140625 C 2.527344 0.140625 2.183594 0.0703125 1.867188 -0.0703125 C 1.546875 -0.210938 1.308594 -0.386719 1.15625 -0.601563 C 1 -0.8125 0.894531 -1.074219 0.832031 -1.382813 C 0.785156 -1.589844 0.761719 -1.917969 0.765625 -2.367188 L 0.765625 -6.222656 L 1.820313 -6.222656 L 1.820313 -2.773438 C 1.816406 -2.21875 1.839844 -1.847656 1.886719 -1.65625 C 1.949219 -1.378906 2.089844 -1.160156 2.308594 -1.003906 C 2.523438 -0.839844 2.789063 -0.761719 3.105469 -0.765625 C 3.417969 -0.761719 3.714844 -0.84375 3.996094 -1.007813 C 4.273438 -1.171875 4.46875 -1.390625 4.585938 -1.671875 C 4.699219 -1.949219 4.757813 -2.355469 4.757813 -2.890625 L 4.757813 -6.222656 L 5.8125 -6.222656 L 5.8125 0 Z M 4.867188 0 \"/>\n",
       "</symbol>\n",
       "<symbol overflow=\"visible\" id=\"glyph0-8\">\n",
       "<path style=\"stroke:none;\" d=\"M 0.789063 0 L 0.789063 -6.222656 L 1.742188 -6.222656 L 1.742188 -5.335938 C 2.195313 -6.019531 2.855469 -6.363281 3.71875 -6.363281 C 4.089844 -6.363281 4.433594 -6.292969 4.753906 -6.160156 C 5.066406 -6.023438 5.304688 -5.847656 5.460938 -5.632813 C 5.617188 -5.410156 5.726563 -5.152344 5.789063 -4.851563 C 5.828125 -4.65625 5.847656 -4.3125 5.847656 -3.828125 L 5.847656 0 L 4.792969 0 L 4.792969 -3.785156 C 4.792969 -4.214844 4.75 -4.535156 4.667969 -4.75 C 4.585938 -4.960938 4.441406 -5.128906 4.234375 -5.257813 C 4.023438 -5.382813 3.777344 -5.449219 3.5 -5.449219 C 3.046875 -5.449219 2.660156 -5.304688 2.332031 -5.019531 C 2.003906 -4.734375 1.839844 -4.195313 1.84375 -3.398438 L 1.84375 0 Z M 0.789063 0 \"/>\n",
       "</symbol>\n",
       "<symbol overflow=\"visible\" id=\"glyph0-9\">\n",
       "<path style=\"stroke:none;\" d=\"M 3.09375 -0.945313 L 3.246094 -0.0117188 C 2.949219 0.0507813 2.683594 0.0820313 2.449219 0.0820313 C 2.066406 0.0820313 1.769531 0.0234375 1.558594 -0.0976563 C 1.347656 -0.21875 1.199219 -0.378906 1.113281 -0.578125 C 1.027344 -0.773438 0.984375 -1.1875 0.984375 -1.820313 L 0.984375 -5.402344 L 0.210938 -5.402344 L 0.210938 -6.222656 L 0.984375 -6.222656 L 0.984375 -7.765625 L 2.03125 -8.398438 L 2.03125 -6.222656 L 3.09375 -6.222656 L 3.09375 -5.402344 L 2.03125 -5.402344 L 2.03125 -1.765625 C 2.027344 -1.460938 2.046875 -1.269531 2.085938 -1.183594 C 2.125 -1.097656 2.183594 -1.027344 2.269531 -0.976563 C 2.351563 -0.925781 2.472656 -0.902344 2.632813 -0.902344 C 2.742188 -0.902344 2.898438 -0.914063 3.09375 -0.945313 Z M 3.09375 -0.945313 \"/>\n",
       "</symbol>\n",
       "<symbol overflow=\"visible\" id=\"glyph1-0\">\n",
       "<path style=\"stroke:none;\" d=\"M -4.234375 -0.5 C -5.246094 -0.496094 -6.0625 -0.601563 -6.6875 -0.8125 C -7.304688 -1.019531 -7.785156 -1.328125 -8.121094 -1.742188 C -8.457031 -2.148438 -8.625 -2.667969 -8.625 -3.296875 C -8.625 -3.757813 -8.53125 -4.164063 -8.347656 -4.511719 C -8.160156 -4.855469 -7.890625 -5.140625 -7.542969 -5.371094 C -7.191406 -5.59375 -6.765625 -5.773438 -6.265625 -5.90625 C -5.761719 -6.035156 -5.085938 -6.097656 -4.234375 -6.101563 C -3.226563 -6.097656 -2.414063 -5.996094 -1.796875 -5.789063 C -1.175781 -5.578125 -0.695313 -5.265625 -0.359375 -4.859375 C -0.0195313 -4.445313 0.144531 -3.925781 0.148438 -3.296875 C 0.144531 -2.464844 -0.148438 -1.816406 -0.742188 -1.347656 C -1.457031 -0.78125 -2.621094 -0.496094 -4.234375 -0.5 Z M -4.234375 -1.582031 C -2.824219 -1.582031 -1.886719 -1.746094 -1.417969 -2.074219 C -0.949219 -2.402344 -0.714844 -2.808594 -0.71875 -3.296875 C -0.714844 -3.777344 -0.949219 -4.183594 -1.421875 -4.519531 C -1.886719 -4.847656 -2.824219 -5.015625 -4.234375 -5.015625 C -5.648438 -5.015625 -6.589844 -4.847656 -7.054688 -4.519531 C -7.515625 -4.183594 -7.746094 -3.773438 -7.75 -3.289063 C -7.746094 -2.800781 -7.542969 -2.414063 -7.136719 -2.125 C -6.613281 -1.761719 -5.644531 -1.582031 -4.234375 -1.582031 Z M -4.234375 -1.582031 \"/>\n",
       "</symbol>\n",
       "<symbol overflow=\"visible\" id=\"glyph1-1\">\n",
       "<path style=\"stroke:none;\" d=\"M 0 -1.089844 L -1.203125 -1.089844 L -1.203125 -2.289063 L 0 -2.289063 Z M 0 -1.089844 \"/>\n",
       "</symbol>\n",
       "<symbol overflow=\"visible\" id=\"glyph1-2\">\n",
       "<path style=\"stroke:none;\" d=\"M -2.25 -0.5 L -2.34375 -1.605469 C -1.804688 -1.683594 -1.398438 -1.871094 -1.125 -2.175781 C -0.851563 -2.472656 -0.714844 -2.835938 -0.71875 -3.257813 C -0.714844 -3.765625 -0.90625 -4.195313 -1.292969 -4.546875 C -1.671875 -4.898438 -2.179688 -5.074219 -2.820313 -5.074219 C -3.414063 -5.074219 -3.890625 -4.902344 -4.242188 -4.566406 C -4.589844 -4.226563 -4.761719 -3.785156 -4.765625 -3.242188 C -4.761719 -2.898438 -4.683594 -2.59375 -4.53125 -2.320313 C -4.375 -2.046875 -4.175781 -1.832031 -3.929688 -1.675781 L -4.0625 -0.6875 L -8.472656 -1.515625 L -8.472656 -5.789063 L -7.464844 -5.789063 L -7.464844 -2.359375 L -5.15625 -1.898438 C -5.515625 -2.414063 -5.695313 -2.953125 -5.695313 -3.523438 C -5.695313 -4.269531 -5.433594 -4.902344 -4.914063 -5.421875 C -4.394531 -5.933594 -3.726563 -6.191406 -2.914063 -6.195313 C -2.132813 -6.191406 -1.460938 -5.964844 -0.898438 -5.515625 C -0.199219 -4.960938 0.144531 -4.210938 0.148438 -3.257813 C 0.144531 -2.476563 -0.0703125 -1.835938 -0.507813 -1.34375 C -0.941406 -0.84375 -1.523438 -0.5625 -2.25 -0.5 Z M -2.25 -0.5 \"/>\n",
       "</symbol>\n",
       "<symbol overflow=\"visible\" id=\"glyph1-3\">\n",
       "<path style=\"stroke:none;\" d=\"M 0 -4.46875 L 0 -3.414063 L -6.71875 -3.414063 C -6.476563 -3.160156 -6.234375 -2.828125 -5.996094 -2.414063 C -5.75 -2 -5.570313 -1.628906 -5.449219 -1.304688 L -6.46875 -1.304688 C -6.742188 -1.894531 -7.078125 -2.410156 -7.476563 -2.851563 C -7.871094 -3.292969 -8.253906 -3.605469 -8.625 -3.789063 L -8.625 -4.46875 Z M 0 -4.46875 \"/>\n",
       "</symbol>\n",
       "<symbol overflow=\"visible\" id=\"glyph1-4\">\n",
       "<path style=\"stroke:none;\" d=\"M -1.015625 -6.039063 L 0 -6.039063 L 0 -0.363281 C -0.253906 -0.355469 -0.496094 -0.394531 -0.734375 -0.484375 C -1.117188 -0.628906 -1.5 -0.859375 -1.875 -1.179688 C -2.25 -1.492188 -2.683594 -1.953125 -3.175781 -2.5625 C -3.941406 -3.492188 -4.546875 -4.125 -4.992188 -4.453125 C -5.4375 -4.78125 -5.859375 -4.945313 -6.265625 -4.945313 C -6.679688 -4.945313 -7.03125 -4.792969 -7.320313 -4.496094 C -7.601563 -4.191406 -7.746094 -3.804688 -7.75 -3.328125 C -7.746094 -2.820313 -7.59375 -2.414063 -7.292969 -2.109375 C -6.984375 -1.804688 -6.5625 -1.648438 -6.03125 -1.648438 L -6.140625 -0.5625 C -6.945313 -0.632813 -7.558594 -0.910156 -7.988281 -1.398438 C -8.410156 -1.878906 -8.625 -2.53125 -8.625 -3.351563 C -8.625 -4.171875 -8.394531 -4.824219 -7.9375 -5.308594 C -7.480469 -5.789063 -6.914063 -6.027344 -6.242188 -6.03125 C -5.894531 -6.027344 -5.558594 -5.957031 -5.226563 -5.820313 C -4.890625 -5.675781 -4.539063 -5.441406 -4.175781 -5.117188 C -3.804688 -4.789063 -3.300781 -4.25 -2.664063 -3.492188 C -2.128906 -2.859375 -1.769531 -2.453125 -1.582031 -2.273438 C -1.394531 -2.09375 -1.203125 -1.945313 -1.015625 -1.828125 Z M -1.015625 -6.039063 \"/>\n",
       "</symbol>\n",
       "<symbol overflow=\"visible\" id=\"glyph1-5\">\n",
       "<path style=\"stroke:none;\" d=\"M -2.265625 -0.503906 L -2.40625 -1.558594 C -1.808594 -1.679688 -1.378906 -1.882813 -1.113281 -2.175781 C -0.847656 -2.464844 -0.714844 -2.820313 -0.71875 -3.242188 C -0.714844 -3.734375 -0.886719 -4.152344 -1.234375 -4.496094 C -1.574219 -4.832031 -2 -5.003906 -2.515625 -5.007813 C -2.996094 -5.003906 -3.394531 -4.847656 -3.710938 -4.535156 C -4.023438 -4.21875 -4.183594 -3.816406 -4.183594 -3.328125 C -4.183594 -3.128906 -4.144531 -2.878906 -4.066406 -2.585938 L -4.992188 -2.703125 C -4.984375 -2.765625 -4.980469 -2.824219 -4.980469 -2.871094 C -4.980469 -3.320313 -5.097656 -3.722656 -5.332031 -4.085938 C -5.566406 -4.441406 -5.925781 -4.621094 -6.414063 -4.625 C -6.800781 -4.621094 -7.121094 -4.492188 -7.375 -4.230469 C -7.628906 -3.964844 -7.757813 -3.625 -7.757813 -3.21875 C -7.757813 -2.804688 -7.628906 -2.464844 -7.371094 -2.191406 C -7.113281 -1.917969 -6.726563 -1.742188 -6.210938 -1.664063 L -6.398438 -0.609375 C -7.105469 -0.738281 -7.652344 -1.03125 -8.042969 -1.488281 C -8.429688 -1.941406 -8.625 -2.507813 -8.625 -3.195313 C -8.625 -3.660156 -8.523438 -4.09375 -8.324219 -4.488281 C -8.121094 -4.878906 -7.847656 -5.179688 -7.5 -5.390625 C -7.148438 -5.601563 -6.777344 -5.707031 -6.390625 -5.707031 C -6.019531 -5.707031 -5.683594 -5.605469 -5.378906 -5.40625 C -5.074219 -5.207031 -4.832031 -4.914063 -4.652344 -4.523438 C -4.535156 -5.03125 -4.289063 -5.425781 -3.921875 -5.707031 C -3.546875 -5.988281 -3.085938 -6.128906 -2.539063 -6.128906 C -1.785156 -6.128906 -1.148438 -5.855469 -0.628906 -5.308594 C -0.105469 -4.761719 0.152344 -4.070313 0.152344 -3.234375 C 0.152344 -2.476563 -0.0703125 -1.847656 -0.519531 -1.355469 C -0.96875 -0.855469 -1.550781 -0.574219 -2.265625 -0.503906 Z M -2.265625 -0.503906 \"/>\n",
       "</symbol>\n",
       "<symbol overflow=\"visible\" id=\"glyph1-6\">\n",
       "<path style=\"stroke:none;\" d=\"M 2.382813 -0.789063 L -6.222656 -0.789063 L -6.222656 -1.75 L -5.414063 -1.75 C -5.730469 -1.976563 -5.964844 -2.234375 -6.125 -2.519531 C -6.28125 -2.800781 -6.363281 -3.144531 -6.363281 -3.554688 C -6.363281 -4.082031 -6.226563 -4.550781 -5.953125 -4.960938 C -5.679688 -5.363281 -5.292969 -5.671875 -4.792969 -5.882813 C -4.292969 -6.089844 -3.746094 -6.191406 -3.15625 -6.195313 C -2.519531 -6.191406 -1.945313 -6.078125 -1.4375 -5.851563 C -0.921875 -5.621094 -0.53125 -5.289063 -0.265625 -4.855469 C 0.0078125 -4.417969 0.140625 -3.960938 0.140625 -3.480469 C 0.140625 -3.128906 0.0664063 -2.8125 -0.0820313 -2.535156 C -0.230469 -2.253906 -0.417969 -2.023438 -0.644531 -1.84375 L 2.382813 -1.84375 Z M -3.078125 -1.746094 C -2.273438 -1.746094 -1.683594 -1.90625 -1.300781 -2.230469 C -0.917969 -2.554688 -0.726563 -2.949219 -0.726563 -3.410156 C -0.726563 -3.878906 -0.921875 -4.277344 -1.320313 -4.613281 C -1.710938 -4.945313 -2.328125 -5.113281 -3.164063 -5.117188 C -3.953125 -5.113281 -4.546875 -4.949219 -4.945313 -4.625 C -5.339844 -4.296875 -5.535156 -3.910156 -5.539063 -3.457031 C -5.535156 -3.003906 -5.324219 -2.605469 -4.90625 -2.261719 C -4.484375 -1.917969 -3.875 -1.746094 -3.078125 -1.746094 Z M -3.078125 -1.746094 \"/>\n",
       "</symbol>\n",
       "<symbol overflow=\"visible\" id=\"glyph1-7\">\n",
       "<path style=\"stroke:none;\" d=\"M 0 -0.78125 L -6.222656 -0.78125 L -6.222656 -1.726563 L -5.28125 -1.726563 C -5.71875 -1.96875 -6.011719 -2.191406 -6.152344 -2.398438 C -6.292969 -2.601563 -6.363281 -2.828125 -6.363281 -3.078125 C -6.363281 -3.429688 -6.25 -3.792969 -6.023438 -4.160156 L -5.046875 -3.796875 C -5.195313 -3.539063 -5.273438 -3.28125 -5.273438 -3.023438 C -5.273438 -2.792969 -5.203125 -2.585938 -5.066406 -2.402344 C -4.925781 -2.214844 -4.734375 -2.082031 -4.488281 -2.007813 C -4.113281 -1.890625 -3.703125 -1.832031 -3.257813 -1.835938 L 0 -1.835938 Z M 0 -0.78125 \"/>\n",
       "</symbol>\n",
       "<symbol overflow=\"visible\" id=\"glyph1-8\">\n",
       "<path style=\"stroke:none;\" d=\"M -2.003906 -5.050781 L -1.867188 -6.140625 C -1.230469 -5.96875 -0.738281 -5.648438 -0.386719 -5.183594 C -0.0351563 -4.71875 0.140625 -4.125 0.140625 -3.40625 C 0.140625 -2.492188 -0.136719 -1.769531 -0.699219 -1.238281 C -1.253906 -0.699219 -2.042969 -0.433594 -3.058594 -0.4375 C -4.105469 -0.433594 -4.917969 -0.703125 -5.496094 -1.246094 C -6.074219 -1.78125 -6.363281 -2.480469 -6.363281 -3.34375 C -6.363281 -4.175781 -6.078125 -4.855469 -5.511719 -5.382813 C -4.945313 -5.910156 -4.148438 -6.175781 -3.125 -6.175781 C -3.058594 -6.175781 -2.964844 -6.171875 -2.84375 -6.171875 L -2.84375 -1.53125 C -2.15625 -1.5625 -1.632813 -1.757813 -1.269531 -2.109375 C -0.90625 -2.457031 -0.726563 -2.890625 -0.726563 -3.410156 C -0.726563 -3.796875 -0.828125 -4.125 -1.03125 -4.402344 C -1.234375 -4.671875 -1.558594 -4.890625 -2.003906 -5.050781 Z M -3.710938 -1.585938 L -3.710938 -5.0625 C -4.226563 -5.015625 -4.621094 -4.882813 -4.886719 -4.664063 C -5.292969 -4.328125 -5.496094 -3.890625 -5.496094 -3.359375 C -5.496094 -2.871094 -5.332031 -2.464844 -5.007813 -2.136719 C -4.683594 -1.804688 -4.25 -1.621094 -3.710938 -1.585938 Z M -3.710938 -1.585938 \"/>\n",
       "</symbol>\n",
       "<symbol overflow=\"visible\" id=\"glyph1-9\">\n",
       "<path style=\"stroke:none;\" d=\"M 0 -4.828125 L -0.785156 -4.828125 C -0.167969 -4.429688 0.140625 -3.847656 0.140625 -3.085938 C 0.140625 -2.589844 0.00390625 -2.132813 -0.269531 -1.71875 C -0.542969 -1.296875 -0.921875 -0.976563 -1.414063 -0.75 C -1.898438 -0.523438 -2.464844 -0.410156 -3.105469 -0.410156 C -3.726563 -0.410156 -4.289063 -0.511719 -4.796875 -0.71875 C -5.300781 -0.925781 -5.6875 -1.238281 -5.957031 -1.652344 C -6.226563 -2.066406 -6.363281 -2.527344 -6.363281 -3.039063 C -6.363281 -3.410156 -6.28125 -3.746094 -6.125 -4.042969 C -5.964844 -4.335938 -5.761719 -4.574219 -5.507813 -4.757813 L -8.589844 -4.757813 L -8.589844 -5.804688 L 0 -5.804688 Z M -3.105469 -1.492188 C -2.308594 -1.488281 -1.710938 -1.65625 -1.316406 -1.996094 C -0.921875 -2.328125 -0.726563 -2.726563 -0.726563 -3.1875 C -0.726563 -3.648438 -0.914063 -4.039063 -1.292969 -4.359375 C -1.667969 -4.679688 -2.242188 -4.839844 -3.015625 -4.84375 C -3.867188 -4.839844 -4.492188 -4.675781 -4.894531 -4.351563 C -5.289063 -4.019531 -5.488281 -3.617188 -5.492188 -3.140625 C -5.488281 -2.671875 -5.296875 -2.277344 -4.917969 -1.964844 C -4.53125 -1.644531 -3.929688 -1.488281 -3.105469 -1.492188 Z M -3.105469 -1.492188 \"/>\n",
       "</symbol>\n",
       "<symbol overflow=\"visible\" id=\"glyph1-10\">\n",
       "<path style=\"stroke:none;\" d=\"M -7.375 -0.796875 L -8.589844 -0.796875 L -8.589844 -1.851563 L -7.375 -1.851563 Z M 0 -0.796875 L -6.222656 -0.796875 L -6.222656 -1.851563 L 0 -1.851563 Z M 0 -0.796875 \"/>\n",
       "</symbol>\n",
       "<symbol overflow=\"visible\" id=\"glyph1-11\">\n",
       "<path style=\"stroke:none;\" d=\"M -2.28125 -4.851563 L -2.144531 -5.890625 C -1.425781 -5.773438 -0.863281 -5.484375 -0.464844 -5.019531 C -0.0585938 -4.550781 0.140625 -3.976563 0.140625 -3.296875 C 0.140625 -2.445313 -0.136719 -1.761719 -0.695313 -1.246094 C -1.25 -0.726563 -2.046875 -0.46875 -3.085938 -0.46875 C -3.753906 -0.46875 -4.34375 -0.578125 -4.851563 -0.800781 C -5.355469 -1.023438 -5.730469 -1.363281 -5.984375 -1.816406 C -6.234375 -2.269531 -6.363281 -2.765625 -6.363281 -3.304688 C -6.363281 -3.980469 -6.191406 -4.53125 -5.847656 -4.964844 C -5.503906 -5.390625 -5.019531 -5.667969 -4.394531 -5.789063 L -4.234375 -4.765625 C -4.652344 -4.664063 -4.96875 -4.492188 -5.179688 -4.246094 C -5.390625 -3.996094 -5.496094 -3.695313 -5.496094 -3.34375 C -5.496094 -2.808594 -5.304688 -2.378906 -4.921875 -2.050781 C -4.539063 -1.71875 -3.9375 -1.550781 -3.117188 -1.554688 C -2.28125 -1.550781 -1.671875 -1.710938 -1.292969 -2.035156 C -0.914063 -2.351563 -0.726563 -2.769531 -0.726563 -3.289063 C -0.726563 -3.695313 -0.851563 -4.042969 -1.105469 -4.324219 C -1.359375 -4.601563 -1.75 -4.777344 -2.28125 -4.851563 Z M -2.28125 -4.851563 \"/>\n",
       "</symbol>\n",
       "<symbol overflow=\"visible\" id=\"glyph1-12\">\n",
       "<path style=\"stroke:none;\" d=\"M -0.945313 -3.09375 L -0.0117188 -3.246094 C 0.0507813 -2.949219 0.0820313 -2.683594 0.0820313 -2.449219 C 0.0820313 -2.066406 0.0234375 -1.769531 -0.0976563 -1.558594 C -0.21875 -1.347656 -0.378906 -1.199219 -0.578125 -1.113281 C -0.773438 -1.027344 -1.1875 -0.984375 -1.820313 -0.984375 L -5.402344 -0.984375 L -5.402344 -0.210938 L -6.222656 -0.210938 L -6.222656 -0.984375 L -7.765625 -0.984375 L -8.398438 -2.03125 L -6.222656 -2.03125 L -6.222656 -3.09375 L -5.402344 -3.09375 L -5.402344 -2.03125 L -1.765625 -2.03125 C -1.460938 -2.027344 -1.269531 -2.046875 -1.183594 -2.085938 C -1.097656 -2.125 -1.027344 -2.183594 -0.976563 -2.269531 C -0.925781 -2.351563 -0.902344 -2.472656 -0.902344 -2.632813 C -0.902344 -2.742188 -0.914063 -2.898438 -0.945313 -3.09375 Z M -0.945313 -3.09375 \"/>\n",
       "</symbol>\n",
       "<symbol overflow=\"visible\" id=\"glyph1-13\">\n",
       "<path style=\"stroke:none;\" d=\"\"/>\n",
       "</symbol>\n",
       "<symbol overflow=\"visible\" id=\"glyph1-14\">\n",
       "<path style=\"stroke:none;\" d=\"M -0.765625 -4.851563 C -0.433594 -4.460938 -0.199219 -4.082031 -0.0625 -3.722656 C 0.0742188 -3.355469 0.140625 -2.96875 0.140625 -2.5625 C 0.140625 -1.875 -0.0234375 -1.351563 -0.359375 -0.984375 C -0.6875 -0.617188 -1.117188 -0.433594 -1.640625 -0.433594 C -1.945313 -0.433594 -2.222656 -0.5 -2.472656 -0.640625 C -2.722656 -0.777344 -2.925781 -0.960938 -3.082031 -1.1875 C -3.234375 -1.410156 -3.347656 -1.664063 -3.429688 -1.945313 C -3.476563 -2.152344 -3.53125 -2.464844 -3.585938 -2.882813 C -3.6875 -3.734375 -3.808594 -4.359375 -3.949219 -4.765625 C -4.089844 -4.765625 -4.179688 -4.769531 -4.226563 -4.769531 C -4.648438 -4.769531 -4.953125 -4.667969 -5.132813 -4.46875 C -5.371094 -4.199219 -5.488281 -3.800781 -5.492188 -3.269531 C -5.488281 -2.769531 -5.402344 -2.402344 -5.230469 -2.167969 C -5.054688 -1.933594 -4.746094 -1.757813 -4.304688 -1.648438 L -4.445313 -0.617188 C -4.886719 -0.707031 -5.242188 -0.863281 -5.515625 -1.078125 C -5.78125 -1.289063 -5.992188 -1.597656 -6.140625 -2.007813 C -6.289063 -2.410156 -6.363281 -2.882813 -6.363281 -3.421875 C -6.363281 -3.953125 -6.300781 -4.382813 -6.175781 -4.714844 C -6.050781 -5.046875 -5.890625 -5.292969 -5.703125 -5.449219 C -5.511719 -5.605469 -5.273438 -5.714844 -4.984375 -5.777344 C -4.804688 -5.808594 -4.480469 -5.824219 -4.015625 -5.828125 L -2.609375 -5.828125 C -1.625 -5.824219 -1.003906 -5.847656 -0.746094 -5.894531 C -0.484375 -5.941406 -0.238281 -6.03125 0 -6.164063 L 0 -5.0625 C -0.21875 -4.953125 -0.472656 -4.882813 -0.765625 -4.851563 Z M -3.125 -4.765625 C -2.964844 -4.375 -2.832031 -3.800781 -2.726563 -3.039063 C -2.660156 -2.605469 -2.589844 -2.300781 -2.515625 -2.121094 C -2.433594 -1.941406 -2.320313 -1.800781 -2.171875 -1.703125 C -2.019531 -1.605469 -1.851563 -1.558594 -1.671875 -1.558594 C -1.386719 -1.558594 -1.152344 -1.664063 -0.96875 -1.875 C -0.777344 -2.085938 -0.683594 -2.398438 -0.6875 -2.8125 C -0.683594 -3.21875 -0.773438 -3.578125 -0.953125 -3.894531 C -1.128906 -4.210938 -1.371094 -4.445313 -1.679688 -4.59375 C -1.917969 -4.707031 -2.269531 -4.761719 -2.734375 -4.765625 Z M -3.125 -4.765625 \"/>\n",
       "</symbol>\n",
       "<symbol overflow=\"visible\" id=\"glyph1-15\">\n",
       "<path style=\"stroke:none;\" d=\"M 0 -0.789063 L -6.222656 -0.789063 L -6.222656 -1.742188 L -5.335938 -1.742188 C -6.019531 -2.195313 -6.363281 -2.855469 -6.363281 -3.71875 C -6.363281 -4.089844 -6.292969 -4.433594 -6.160156 -4.753906 C -6.023438 -5.066406 -5.847656 -5.304688 -5.632813 -5.460938 C -5.410156 -5.617188 -5.152344 -5.726563 -4.851563 -5.789063 C -4.65625 -5.828125 -4.3125 -5.847656 -3.828125 -5.847656 L 0 -5.847656 L 0 -4.792969 L -3.785156 -4.792969 C -4.214844 -4.792969 -4.535156 -4.75 -4.75 -4.667969 C -4.960938 -4.585938 -5.128906 -4.441406 -5.257813 -4.234375 C -5.382813 -4.023438 -5.449219 -3.777344 -5.449219 -3.5 C -5.449219 -3.046875 -5.304688 -2.660156 -5.019531 -2.332031 C -4.734375 -2.003906 -4.195313 -1.839844 -3.398438 -1.84375 L 0 -1.84375 Z M 0 -0.789063 \"/>\n",
       "</symbol>\n",
       "<symbol overflow=\"visible\" id=\"glyph1-16\">\n",
       "<path style=\"stroke:none;\" d=\"M -3.109375 -0.398438 C -4.261719 -0.398438 -5.117188 -0.71875 -5.671875 -1.359375 C -6.132813 -1.894531 -6.363281 -2.546875 -6.363281 -3.316406 C -6.363281 -4.171875 -6.082031 -4.871094 -5.519531 -5.414063 C -4.957031 -5.953125 -4.183594 -6.222656 -3.199219 -6.226563 C -2.398438 -6.222656 -1.765625 -6.101563 -1.308594 -5.867188 C -0.847656 -5.625 -0.492188 -5.277344 -0.238281 -4.820313 C 0.015625 -4.359375 0.140625 -3.859375 0.140625 -3.316406 C 0.140625 -2.441406 -0.136719 -1.734375 -0.695313 -1.203125 C -1.253906 -0.664063 -2.058594 -0.398438 -3.109375 -0.398438 Z M -3.109375 -1.484375 C -2.308594 -1.480469 -1.710938 -1.65625 -1.320313 -2.003906 C -0.921875 -2.347656 -0.726563 -2.785156 -0.726563 -3.316406 C -0.726563 -3.839844 -0.925781 -4.273438 -1.324219 -4.621094 C -1.722656 -4.96875 -2.328125 -5.144531 -3.148438 -5.144531 C -3.914063 -5.144531 -4.496094 -4.96875 -4.894531 -4.617188 C -5.289063 -4.265625 -5.488281 -3.832031 -5.492188 -3.316406 C -5.488281 -2.785156 -5.292969 -2.347656 -4.898438 -2.003906 C -4.5 -1.65625 -3.902344 -1.480469 -3.109375 -1.484375 Z M -3.109375 -1.484375 \"/>\n",
       "</symbol>\n",
       "<symbol overflow=\"visible\" id=\"glyph1-17\">\n",
       "<path style=\"stroke:none;\" d=\"M 0 -1.765625 L 0 -0.785156 L -8.589844 -0.785156 L -8.589844 -1.839844 L -5.523438 -1.839844 C -6.082031 -2.285156 -6.363281 -2.851563 -6.363281 -3.546875 C -6.363281 -3.921875 -6.285156 -4.285156 -6.128906 -4.628906 C -5.972656 -4.972656 -5.753906 -5.253906 -5.480469 -5.472656 C -5.199219 -5.691406 -4.863281 -5.863281 -4.46875 -5.992188 C -4.074219 -6.113281 -3.652344 -6.175781 -3.203125 -6.179688 C -2.136719 -6.175781 -1.3125 -5.914063 -0.730469 -5.390625 C -0.148438 -4.863281 0.140625 -4.230469 0.140625 -3.492188 C 0.140625 -2.757813 -0.164063 -2.179688 -0.78125 -1.765625 Z M -3.15625 -1.75 C -2.410156 -1.746094 -1.871094 -1.847656 -1.539063 -2.054688 C -0.996094 -2.386719 -0.726563 -2.835938 -0.726563 -3.40625 C -0.726563 -3.859375 -0.925781 -4.257813 -1.328125 -4.597656 C -1.726563 -4.929688 -2.324219 -5.097656 -3.117188 -5.101563 C -3.929688 -5.097656 -4.527344 -4.9375 -4.914063 -4.617188 C -5.300781 -4.296875 -5.496094 -3.90625 -5.496094 -3.453125 C -5.496094 -2.984375 -5.292969 -2.585938 -4.894531 -2.253906 C -4.492188 -1.914063 -3.914063 -1.746094 -3.15625 -1.75 Z M -3.15625 -1.75 \"/>\n",
       "</symbol>\n",
       "<symbol overflow=\"visible\" id=\"glyph1-18\">\n",
       "<path style=\"stroke:none;\" d=\"M -1.859375 -0.367188 L -2.023438 -1.414063 C -1.601563 -1.46875 -1.28125 -1.632813 -1.058594 -1.902344 C -0.835938 -2.167969 -0.726563 -2.542969 -0.726563 -3.023438 C -0.726563 -3.507813 -0.824219 -3.867188 -1.023438 -4.101563 C -1.21875 -4.335938 -1.449219 -4.453125 -1.71875 -4.453125 C -1.953125 -4.453125 -2.140625 -4.347656 -2.28125 -4.140625 C -2.371094 -3.996094 -2.492188 -3.636719 -2.636719 -3.0625 C -2.832031 -2.289063 -3 -1.753906 -3.144531 -1.457031 C -3.285156 -1.15625 -3.480469 -0.929688 -3.734375 -0.777344 C -3.984375 -0.621094 -4.265625 -0.542969 -4.570313 -0.546875 C -4.84375 -0.542969 -5.097656 -0.605469 -5.339844 -0.734375 C -5.574219 -0.859375 -5.773438 -1.035156 -5.929688 -1.253906 C -6.046875 -1.417969 -6.148438 -1.640625 -6.234375 -1.925781 C -6.320313 -2.207031 -6.363281 -2.511719 -6.363281 -2.835938 C -6.363281 -3.324219 -6.292969 -3.75 -6.152344 -4.121094 C -6.011719 -4.488281 -5.820313 -4.761719 -5.578125 -4.9375 C -5.335938 -5.113281 -5.015625 -5.234375 -4.617188 -5.304688 L -4.476563 -4.273438 C -4.796875 -4.222656 -5.046875 -4.085938 -5.226563 -3.863281 C -5.40625 -3.636719 -5.496094 -3.320313 -5.496094 -2.914063 C -5.496094 -2.425781 -5.414063 -2.082031 -5.253906 -1.875 C -5.09375 -1.664063 -4.90625 -1.558594 -4.695313 -1.5625 C -4.554688 -1.558594 -4.433594 -1.601563 -4.324219 -1.695313 C -4.210938 -1.773438 -4.117188 -1.910156 -4.042969 -2.097656 C -4.003906 -2.203125 -3.914063 -2.511719 -3.773438 -3.03125 C -3.574219 -3.773438 -3.410156 -4.292969 -3.285156 -4.589844 C -3.15625 -4.878906 -2.972656 -5.113281 -2.730469 -5.285156 C -2.488281 -5.453125 -2.1875 -5.535156 -1.828125 -5.539063 C -1.476563 -5.535156 -1.144531 -5.433594 -0.832031 -5.230469 C -0.519531 -5.023438 -0.277344 -4.726563 -0.113281 -4.339844 C 0.0585938 -3.953125 0.140625 -3.515625 0.140625 -3.03125 C 0.140625 -2.21875 -0.0273438 -1.601563 -0.363281 -1.179688 C -0.699219 -0.753906 -1.195313 -0.484375 -1.859375 -0.367188 Z M -1.859375 -0.367188 \"/>\n",
       "</symbol>\n",
       "<symbol overflow=\"visible\" id=\"glyph1-19\">\n",
       "<path style=\"stroke:none;\" d=\"M 0 -2.519531 L -6.222656 -0.152344 L -6.222656 -1.265625 L -2.496094 -2.601563 C -2.089844 -2.746094 -1.671875 -2.878906 -1.242188 -3 C -1.570313 -3.09375 -1.964844 -3.222656 -2.425781 -3.390625 L -6.222656 -4.773438 L -6.222656 -5.859375 L 0 -3.503906 Z M 0 -2.519531 \"/>\n",
       "</symbol>\n",
       "</g>\n",
       "<clipPath id=\"clip1\">\n",
       "  <path d=\"M 59.039063 59.039063 L 474.757813 59.039063 L 474.757813 431.558594 L 59.039063 431.558594 Z M 59.039063 59.039063 \"/>\n",
       "</clipPath>\n",
       "<clipPath id=\"clip2\">\n",
       "  <path d=\"M 59.039063 59.039063 L 474.757813 59.039063 L 474.757813 431.558594 L 59.039063 431.558594 Z M 59.039063 59.039063 \"/>\n",
       "</clipPath>\n",
       "</defs>\n",
       "<g id=\"surface1\">\n",
       "<rect x=\"0\" y=\"0\" width=\"504\" height=\"504\" style=\"fill:rgb(100%,100%,100%);fill-opacity:1;stroke:none;\"/>\n",
       "<g clip-path=\"url(#clip1)\" clip-rule=\"nonzero\">\n",
       "<path style=\"fill:none;stroke-width:0.75;stroke-linecap:round;stroke-linejoin:round;stroke:rgb(0%,0%,0%);stroke-opacity:1;stroke-miterlimit:10;\" d=\"M 76.855469 183.699219 L 114.613281 79.570313 \"/>\n",
       "<path style=\"fill:none;stroke-width:0.75;stroke-linecap:round;stroke-linejoin:round;stroke:rgb(0%,0%,0%);stroke-opacity:1;stroke-miterlimit:10;\" d=\"M 120.703125 79.015625 L 156.097656 139.480469 \"/>\n",
       "<path style=\"fill:none;stroke-width:0.75;stroke-linecap:round;stroke-linejoin:round;stroke:rgb(0%,0%,0%);stroke-opacity:1;stroke-miterlimit:10;\" d=\"M 162.117188 152.488281 L 200.015625 260.394531 \"/>\n",
       "<path style=\"fill:none;stroke-width:0.75;stroke-linecap:round;stroke-linejoin:round;stroke:rgb(0%,0%,0%);stroke-opacity:1;stroke-miterlimit:10;\" d=\"M 205.679688 273.597656 L 241.789063 344.175781 \"/>\n",
       "<path style=\"fill:none;stroke-width:0.75;stroke-linecap:round;stroke-linejoin:round;stroke:rgb(0%,0%,0%);stroke-opacity:1;stroke-miterlimit:10;\" d=\"M 250.289063 355.542969 L 282.511719 386.144531 \"/>\n",
       "<path style=\"fill:none;stroke-width:0.75;stroke-linecap:round;stroke-linejoin:round;stroke:rgb(0%,0%,0%);stroke-opacity:1;stroke-miterlimit:10;\" d=\"M 294.457031 393.679688 L 323.675781 404.882813 \"/>\n",
       "<path style=\"fill:none;stroke-width:0.75;stroke-linecap:round;stroke-linejoin:round;stroke:rgb(0%,0%,0%);stroke-opacity:1;stroke-miterlimit:10;\" d=\"M 337.527344 408.480469 L 365.9375 412.542969 \"/>\n",
       "<path style=\"fill:none;stroke-width:0.75;stroke-linecap:round;stroke-linejoin:round;stroke:rgb(0%,0%,0%);stroke-opacity:1;stroke-miterlimit:10;\" d=\"M 380.257813 413.949219 L 408.542969 415.472656 \"/>\n",
       "<path style=\"fill:none;stroke-width:0.75;stroke-linecap:round;stroke-linejoin:round;stroke:rgb(0%,0%,0%);stroke-opacity:1;stroke-miterlimit:10;\" d=\"M 422.929688 416.015625 L 451.203125 416.640625 \"/>\n",
       "<path style=\"fill:none;stroke-width:0.75;stroke-linecap:round;stroke-linejoin:round;stroke:rgb(0%,0%,0%);stroke-opacity:1;stroke-miterlimit:10;\" d=\"M 77.101563 190.46875 C 77.101563 194.066406 71.699219 194.066406 71.699219 190.46875 C 71.699219 186.867188 77.101563 186.867188 77.101563 190.46875 \"/>\n",
       "<path style=\"fill:none;stroke-width:0.75;stroke-linecap:round;stroke-linejoin:round;stroke:rgb(0%,0%,0%);stroke-opacity:1;stroke-miterlimit:10;\" d=\"M 119.765625 72.800781 C 119.765625 76.398438 114.367188 76.398438 114.367188 72.800781 C 114.367188 69.199219 119.765625 69.199219 119.765625 72.800781 \"/>\n",
       "<path style=\"fill:none;stroke-width:0.75;stroke-linecap:round;stroke-linejoin:round;stroke:rgb(0%,0%,0%);stroke-opacity:1;stroke-miterlimit:10;\" d=\"M 162.433594 145.695313 C 162.433594 149.292969 157.035156 149.292969 157.035156 145.695313 C 157.035156 142.09375 162.433594 142.09375 162.433594 145.695313 \"/>\n",
       "<path style=\"fill:none;stroke-width:0.75;stroke-linecap:round;stroke-linejoin:round;stroke:rgb(0%,0%,0%);stroke-opacity:1;stroke-miterlimit:10;\" d=\"M 205.101563 267.1875 C 205.101563 270.789063 199.699219 270.789063 199.699219 267.1875 C 199.699219 263.589844 205.101563 263.589844 205.101563 267.1875 \"/>\n",
       "<path style=\"fill:none;stroke-width:0.75;stroke-linecap:round;stroke-linejoin:round;stroke:rgb(0%,0%,0%);stroke-opacity:1;stroke-miterlimit:10;\" d=\"M 247.765625 350.585938 C 247.765625 354.1875 242.367188 354.1875 242.367188 350.585938 C 242.367188 346.988281 247.765625 346.988281 247.765625 350.585938 \"/>\n",
       "<path style=\"fill:none;stroke-width:0.75;stroke-linecap:round;stroke-linejoin:round;stroke:rgb(0%,0%,0%);stroke-opacity:1;stroke-miterlimit:10;\" d=\"M 290.433594 391.101563 C 290.433594 394.703125 285.035156 394.703125 285.035156 391.101563 C 285.035156 387.5 290.433594 387.5 290.433594 391.101563 \"/>\n",
       "<path style=\"fill:none;stroke-width:0.75;stroke-linecap:round;stroke-linejoin:round;stroke:rgb(0%,0%,0%);stroke-opacity:1;stroke-miterlimit:10;\" d=\"M 333.101563 407.460938 C 333.101563 411.0625 327.699219 411.0625 327.699219 407.460938 C 327.699219 403.863281 333.101563 403.863281 333.101563 407.460938 \"/>\n",
       "<path style=\"fill:none;stroke-width:0.75;stroke-linecap:round;stroke-linejoin:round;stroke:rgb(0%,0%,0%);stroke-opacity:1;stroke-miterlimit:10;\" d=\"M 375.765625 413.558594 C 375.765625 417.160156 370.367188 417.160156 370.367188 413.558594 C 370.367188 409.960938 375.765625 409.960938 375.765625 413.558594 \"/>\n",
       "<path style=\"fill:none;stroke-width:0.75;stroke-linecap:round;stroke-linejoin:round;stroke:rgb(0%,0%,0%);stroke-opacity:1;stroke-miterlimit:10;\" d=\"M 418.433594 415.859375 C 418.433594 419.457031 413.035156 419.457031 413.035156 415.859375 C 413.035156 412.257813 418.433594 412.257813 418.433594 415.859375 \"/>\n",
       "<path style=\"fill:none;stroke-width:0.75;stroke-linecap:round;stroke-linejoin:round;stroke:rgb(0%,0%,0%);stroke-opacity:1;stroke-miterlimit:10;\" d=\"M 461.101563 416.800781 C 461.101563 420.398438 455.699219 420.398438 455.699219 416.800781 C 455.699219 413.199219 461.101563 413.199219 461.101563 416.800781 \"/>\n",
       "</g>\n",
       "<path style=\"fill:none;stroke-width:0.75;stroke-linecap:round;stroke-linejoin:round;stroke:rgb(0%,0%,0%);stroke-opacity:1;stroke-miterlimit:10;\" d=\"M 74.398438 430.558594 L 415.734375 430.558594 \"/>\n",
       "<path style=\"fill:none;stroke-width:0.75;stroke-linecap:round;stroke-linejoin:round;stroke:rgb(0%,0%,0%);stroke-opacity:1;stroke-miterlimit:10;\" d=\"M 74.398438 430.558594 L 74.398438 437.761719 \"/>\n",
       "<path style=\"fill:none;stroke-width:0.75;stroke-linecap:round;stroke-linejoin:round;stroke:rgb(0%,0%,0%);stroke-opacity:1;stroke-miterlimit:10;\" d=\"M 159.734375 430.558594 L 159.734375 437.761719 \"/>\n",
       "<path style=\"fill:none;stroke-width:0.75;stroke-linecap:round;stroke-linejoin:round;stroke:rgb(0%,0%,0%);stroke-opacity:1;stroke-miterlimit:10;\" d=\"M 245.066406 430.558594 L 245.066406 437.761719 \"/>\n",
       "<path style=\"fill:none;stroke-width:0.75;stroke-linecap:round;stroke-linejoin:round;stroke:rgb(0%,0%,0%);stroke-opacity:1;stroke-miterlimit:10;\" d=\"M 330.398438 430.558594 L 330.398438 437.761719 \"/>\n",
       "<path style=\"fill:none;stroke-width:0.75;stroke-linecap:round;stroke-linejoin:round;stroke:rgb(0%,0%,0%);stroke-opacity:1;stroke-miterlimit:10;\" d=\"M 415.734375 430.558594 L 415.734375 437.761719 \"/>\n",
       "<g style=\"fill:rgb(0%,0%,0%);fill-opacity:1;\">\n",
       "  <use xlink:href=\"#glyph0-0\" x=\"71.0625\" y=\"456.480469\"/>\n",
       "</g>\n",
       "<g style=\"fill:rgb(0%,0%,0%);fill-opacity:1;\">\n",
       "  <use xlink:href=\"#glyph0-1\" x=\"156.398438\" y=\"456.480469\"/>\n",
       "</g>\n",
       "<g style=\"fill:rgb(0%,0%,0%);fill-opacity:1;\">\n",
       "  <use xlink:href=\"#glyph0-2\" x=\"241.730469\" y=\"456.480469\"/>\n",
       "</g>\n",
       "<g style=\"fill:rgb(0%,0%,0%);fill-opacity:1;\">\n",
       "  <use xlink:href=\"#glyph0-3\" x=\"327.0625\" y=\"456.480469\"/>\n",
       "</g>\n",
       "<g style=\"fill:rgb(0%,0%,0%);fill-opacity:1;\">\n",
       "  <use xlink:href=\"#glyph0-4\" x=\"412.398438\" y=\"456.480469\"/>\n",
       "</g>\n",
       "<path style=\"fill:none;stroke-width:0.75;stroke-linecap:round;stroke-linejoin:round;stroke:rgb(0%,0%,0%);stroke-opacity:1;stroke-miterlimit:10;\" d=\"M 59.039063 417.789063 L 59.039063 85.453125 \"/>\n",
       "<path style=\"fill:none;stroke-width:0.75;stroke-linecap:round;stroke-linejoin:round;stroke:rgb(0%,0%,0%);stroke-opacity:1;stroke-miterlimit:10;\" d=\"M 59.039063 417.789063 L 51.839844 417.789063 \"/>\n",
       "<path style=\"fill:none;stroke-width:0.75;stroke-linecap:round;stroke-linejoin:round;stroke:rgb(0%,0%,0%);stroke-opacity:1;stroke-miterlimit:10;\" d=\"M 59.039063 362.402344 L 51.839844 362.402344 \"/>\n",
       "<path style=\"fill:none;stroke-width:0.75;stroke-linecap:round;stroke-linejoin:round;stroke:rgb(0%,0%,0%);stroke-opacity:1;stroke-miterlimit:10;\" d=\"M 59.039063 307.011719 L 51.839844 307.011719 \"/>\n",
       "<path style=\"fill:none;stroke-width:0.75;stroke-linecap:round;stroke-linejoin:round;stroke:rgb(0%,0%,0%);stroke-opacity:1;stroke-miterlimit:10;\" d=\"M 59.039063 251.621094 L 51.839844 251.621094 \"/>\n",
       "<path style=\"fill:none;stroke-width:0.75;stroke-linecap:round;stroke-linejoin:round;stroke:rgb(0%,0%,0%);stroke-opacity:1;stroke-miterlimit:10;\" d=\"M 59.039063 196.230469 L 51.839844 196.230469 \"/>\n",
       "<path style=\"fill:none;stroke-width:0.75;stroke-linecap:round;stroke-linejoin:round;stroke:rgb(0%,0%,0%);stroke-opacity:1;stroke-miterlimit:10;\" d=\"M 59.039063 140.839844 L 51.839844 140.839844 \"/>\n",
       "<path style=\"fill:none;stroke-width:0.75;stroke-linecap:round;stroke-linejoin:round;stroke:rgb(0%,0%,0%);stroke-opacity:1;stroke-miterlimit:10;\" d=\"M 59.039063 85.453125 L 51.839844 85.453125 \"/>\n",
       "<g style=\"fill:rgb(0%,0%,0%);fill-opacity:1;\">\n",
       "  <use xlink:href=\"#glyph1-0\" x=\"41.761719\" y=\"429.46875\"/>\n",
       "  <use xlink:href=\"#glyph1-1\" x=\"41.761719\" y=\"422.794922\"/>\n",
       "  <use xlink:href=\"#glyph1-0\" x=\"41.761719\" y=\"419.460938\"/>\n",
       "  <use xlink:href=\"#glyph1-0\" x=\"41.761719\" y=\"412.787109\"/>\n",
       "</g>\n",
       "<g style=\"fill:rgb(0%,0%,0%);fill-opacity:1;\">\n",
       "  <use xlink:href=\"#glyph1-0\" x=\"41.761719\" y=\"374.082031\"/>\n",
       "  <use xlink:href=\"#glyph1-1\" x=\"41.761719\" y=\"367.408203\"/>\n",
       "  <use xlink:href=\"#glyph1-0\" x=\"41.761719\" y=\"364.074219\"/>\n",
       "  <use xlink:href=\"#glyph1-2\" x=\"41.761719\" y=\"357.400391\"/>\n",
       "</g>\n",
       "<g style=\"fill:rgb(0%,0%,0%);fill-opacity:1;\">\n",
       "  <use xlink:href=\"#glyph1-0\" x=\"41.761719\" y=\"318.691406\"/>\n",
       "  <use xlink:href=\"#glyph1-1\" x=\"41.761719\" y=\"312.017578\"/>\n",
       "  <use xlink:href=\"#glyph1-3\" x=\"41.761719\" y=\"308.683594\"/>\n",
       "  <use xlink:href=\"#glyph1-0\" x=\"41.761719\" y=\"302.009766\"/>\n",
       "</g>\n",
       "<g style=\"fill:rgb(0%,0%,0%);fill-opacity:1;\">\n",
       "  <use xlink:href=\"#glyph1-0\" x=\"41.761719\" y=\"263.300781\"/>\n",
       "  <use xlink:href=\"#glyph1-1\" x=\"41.761719\" y=\"256.626953\"/>\n",
       "  <use xlink:href=\"#glyph1-3\" x=\"41.761719\" y=\"253.292969\"/>\n",
       "  <use xlink:href=\"#glyph1-2\" x=\"41.761719\" y=\"246.619141\"/>\n",
       "</g>\n",
       "<g style=\"fill:rgb(0%,0%,0%);fill-opacity:1;\">\n",
       "  <use xlink:href=\"#glyph1-0\" x=\"41.761719\" y=\"207.910156\"/>\n",
       "  <use xlink:href=\"#glyph1-1\" x=\"41.761719\" y=\"201.236328\"/>\n",
       "  <use xlink:href=\"#glyph1-4\" x=\"41.761719\" y=\"197.902344\"/>\n",
       "  <use xlink:href=\"#glyph1-0\" x=\"41.761719\" y=\"191.228516\"/>\n",
       "</g>\n",
       "<g style=\"fill:rgb(0%,0%,0%);fill-opacity:1;\">\n",
       "  <use xlink:href=\"#glyph1-0\" x=\"41.761719\" y=\"152.519531\"/>\n",
       "  <use xlink:href=\"#glyph1-1\" x=\"41.761719\" y=\"145.845703\"/>\n",
       "  <use xlink:href=\"#glyph1-4\" x=\"41.761719\" y=\"142.511719\"/>\n",
       "  <use xlink:href=\"#glyph1-2\" x=\"41.761719\" y=\"135.837891\"/>\n",
       "</g>\n",
       "<g style=\"fill:rgb(0%,0%,0%);fill-opacity:1;\">\n",
       "  <use xlink:href=\"#glyph1-0\" x=\"41.761719\" y=\"97.132813\"/>\n",
       "  <use xlink:href=\"#glyph1-1\" x=\"41.761719\" y=\"90.458984\"/>\n",
       "  <use xlink:href=\"#glyph1-5\" x=\"41.761719\" y=\"87.125\"/>\n",
       "  <use xlink:href=\"#glyph1-0\" x=\"41.761719\" y=\"80.451172\"/>\n",
       "</g>\n",
       "<path style=\"fill:none;stroke-width:0.75;stroke-linecap:round;stroke-linejoin:round;stroke:rgb(0%,0%,0%);stroke-opacity:1;stroke-miterlimit:10;\" d=\"M 59.039063 430.558594 L 473.761719 430.558594 L 473.761719 59.039063 L 59.039063 59.039063 L 59.039063 430.558594 \"/>\n",
       "<g style=\"fill:rgb(0%,0%,0%);fill-opacity:1;\">\n",
       "  <use xlink:href=\"#glyph0-5\" x=\"251.71875\" y=\"485.28125\"/>\n",
       "  <use xlink:href=\"#glyph0-6\" x=\"257.71875\" y=\"485.28125\"/>\n",
       "  <use xlink:href=\"#glyph0-7\" x=\"264.392578\" y=\"485.28125\"/>\n",
       "  <use xlink:href=\"#glyph0-8\" x=\"271.066406\" y=\"485.28125\"/>\n",
       "  <use xlink:href=\"#glyph0-9\" x=\"277.740234\" y=\"485.28125\"/>\n",
       "</g>\n",
       "<g style=\"fill:rgb(0%,0%,0%);fill-opacity:1;\">\n",
       "  <use xlink:href=\"#glyph1-6\" x=\"12.960938\" y=\"321.1875\"/>\n",
       "  <use xlink:href=\"#glyph1-7\" x=\"12.960938\" y=\"314.513672\"/>\n",
       "  <use xlink:href=\"#glyph1-8\" x=\"12.960938\" y=\"310.517578\"/>\n",
       "  <use xlink:href=\"#glyph1-9\" x=\"12.960938\" y=\"303.84375\"/>\n",
       "  <use xlink:href=\"#glyph1-10\" x=\"12.960938\" y=\"297.169922\"/>\n",
       "  <use xlink:href=\"#glyph1-11\" x=\"12.960938\" y=\"294.503906\"/>\n",
       "  <use xlink:href=\"#glyph1-12\" x=\"12.960938\" y=\"288.503906\"/>\n",
       "  <use xlink:href=\"#glyph1-8\" x=\"12.960938\" y=\"285.169922\"/>\n",
       "  <use xlink:href=\"#glyph1-9\" x=\"12.960938\" y=\"278.496094\"/>\n",
       "  <use xlink:href=\"#glyph1-13\" x=\"12.960938\" y=\"271.822266\"/>\n",
       "  <use xlink:href=\"#glyph1-14\" x=\"12.960938\" y=\"268.488281\"/>\n",
       "  <use xlink:href=\"#glyph1-15\" x=\"12.960938\" y=\"261.814453\"/>\n",
       "  <use xlink:href=\"#glyph1-9\" x=\"12.960938\" y=\"255.140625\"/>\n",
       "  <use xlink:href=\"#glyph1-13\" x=\"12.960938\" y=\"248.466797\"/>\n",
       "  <use xlink:href=\"#glyph1-16\" x=\"12.960938\" y=\"245.132813\"/>\n",
       "  <use xlink:href=\"#glyph1-17\" x=\"12.960938\" y=\"238.458984\"/>\n",
       "  <use xlink:href=\"#glyph1-18\" x=\"12.960938\" y=\"231.785156\"/>\n",
       "  <use xlink:href=\"#glyph1-8\" x=\"12.960938\" y=\"225.785156\"/>\n",
       "  <use xlink:href=\"#glyph1-7\" x=\"12.960938\" y=\"219.111328\"/>\n",
       "  <use xlink:href=\"#glyph1-19\" x=\"12.960938\" y=\"215.115234\"/>\n",
       "  <use xlink:href=\"#glyph1-8\" x=\"12.960938\" y=\"209.115234\"/>\n",
       "  <use xlink:href=\"#glyph1-9\" x=\"12.960938\" y=\"202.441406\"/>\n",
       "  <use xlink:href=\"#glyph1-13\" x=\"12.960938\" y=\"195.767578\"/>\n",
       "  <use xlink:href=\"#glyph1-6\" x=\"12.960938\" y=\"192.433594\"/>\n",
       "  <use xlink:href=\"#glyph1-7\" x=\"12.960938\" y=\"185.759766\"/>\n",
       "  <use xlink:href=\"#glyph1-16\" x=\"12.960938\" y=\"181.763672\"/>\n",
       "  <use xlink:href=\"#glyph1-17\" x=\"12.960938\" y=\"175.089844\"/>\n",
       "</g>\n",
       "<g clip-path=\"url(#clip2)\" clip-rule=\"nonzero\">\n",
       "<path style=\"fill:none;stroke-width:0.75;stroke-linecap:round;stroke-linejoin:round;stroke:rgb(100%,0%,0%);stroke-opacity:1;stroke-miterlimit:10;\" d=\"M 79.960938 89.421875 L 111.507813 115.382813 \"/>\n",
       "<path style=\"fill:none;stroke-width:0.75;stroke-linecap:round;stroke-linejoin:round;stroke:rgb(100%,0%,0%);stroke-opacity:1;stroke-miterlimit:10;\" d=\"M 120.378906 126.347656 L 156.421875 195.890625 \"/>\n",
       "<path style=\"fill:none;stroke-width:0.75;stroke-linecap:round;stroke-linejoin:round;stroke:rgb(100%,0%,0%);stroke-opacity:1;stroke-miterlimit:10;\" d=\"M 162.261719 209.027344 L 199.871094 309.347656 \"/>\n",
       "<path style=\"fill:none;stroke-width:0.75;stroke-linecap:round;stroke-linejoin:round;stroke:rgb(100%,0%,0%);stroke-opacity:1;stroke-miterlimit:10;\" d=\"M 208.886719 319.21875 L 238.582031 333.546875 \"/>\n",
       "<path style=\"fill:none;stroke-width:0.75;stroke-linecap:round;stroke-linejoin:round;stroke:rgb(100%,0%,0%);stroke-opacity:1;stroke-miterlimit:10;\" d=\"M 249.828125 342.074219 L 282.972656 379.699219 \"/>\n",
       "<path style=\"fill:none;stroke-width:0.75;stroke-linecap:round;stroke-linejoin:round;stroke:rgb(100%,0%,0%);stroke-opacity:1;stroke-miterlimit:10;\" d=\"M 294.660156 387.066406 L 323.472656 395.242188 \"/>\n",
       "<path style=\"fill:none;stroke-width:0.75;stroke-linecap:round;stroke-linejoin:round;stroke:rgb(100%,0%,0%);stroke-opacity:1;stroke-miterlimit:10;\" d=\"M 337.527344 398.21875 L 365.9375 402.25 \"/>\n",
       "<path style=\"fill:none;stroke-width:0.75;stroke-linecap:round;stroke-linejoin:round;stroke:rgb(100%,0%,0%);stroke-opacity:1;stroke-miterlimit:10;\" d=\"M 379.941406 405.40625 L 408.859375 414.433594 \"/>\n",
       "<path style=\"fill:none;stroke-width:0.75;stroke-linecap:round;stroke-linejoin:round;stroke:rgb(100%,0%,0%);stroke-opacity:1;stroke-miterlimit:10;\" d=\"M 422.929688 416.375 L 451.203125 415.574219 \"/>\n",
       "<path style=\"fill:none;stroke-width:0.75;stroke-linecap:round;stroke-linejoin:round;stroke:rgb(100%,0%,0%);stroke-opacity:1;stroke-miterlimit:10;\" d=\"M 77.101563 84.847656 C 77.101563 88.445313 71.699219 88.445313 71.699219 84.847656 C 71.699219 81.246094 77.101563 81.246094 77.101563 84.847656 \"/>\n",
       "<path style=\"fill:none;stroke-width:0.75;stroke-linecap:round;stroke-linejoin:round;stroke:rgb(100%,0%,0%);stroke-opacity:1;stroke-miterlimit:10;\" d=\"M 119.765625 119.957031 C 119.765625 123.558594 114.367188 123.558594 114.367188 119.957031 C 114.367188 116.355469 119.765625 116.355469 119.765625 119.957031 \"/>\n",
       "<path style=\"fill:none;stroke-width:0.75;stroke-linecap:round;stroke-linejoin:round;stroke:rgb(100%,0%,0%);stroke-opacity:1;stroke-miterlimit:10;\" d=\"M 162.433594 202.285156 C 162.433594 205.886719 157.035156 205.886719 157.035156 202.285156 C 157.035156 198.683594 162.433594 198.683594 162.433594 202.285156 \"/>\n",
       "<path style=\"fill:none;stroke-width:0.75;stroke-linecap:round;stroke-linejoin:round;stroke:rgb(100%,0%,0%);stroke-opacity:1;stroke-miterlimit:10;\" d=\"M 205.101563 316.089844 C 205.101563 319.691406 199.699219 319.691406 199.699219 316.089844 C 199.699219 312.492188 205.101563 312.492188 205.101563 316.089844 \"/>\n",
       "<path style=\"fill:none;stroke-width:0.75;stroke-linecap:round;stroke-linejoin:round;stroke:rgb(100%,0%,0%);stroke-opacity:1;stroke-miterlimit:10;\" d=\"M 247.765625 336.671875 C 247.765625 340.273438 242.367188 340.273438 242.367188 336.671875 C 242.367188 333.074219 247.765625 333.074219 247.765625 336.671875 \"/>\n",
       "<path style=\"fill:none;stroke-width:0.75;stroke-linecap:round;stroke-linejoin:round;stroke:rgb(100%,0%,0%);stroke-opacity:1;stroke-miterlimit:10;\" d=\"M 290.433594 385.101563 C 290.433594 388.703125 285.035156 388.703125 285.035156 385.101563 C 285.035156 381.5 290.433594 381.5 290.433594 385.101563 \"/>\n",
       "<path style=\"fill:none;stroke-width:0.75;stroke-linecap:round;stroke-linejoin:round;stroke:rgb(100%,0%,0%);stroke-opacity:1;stroke-miterlimit:10;\" d=\"M 333.101563 397.207031 C 333.101563 400.808594 327.699219 400.808594 327.699219 397.207031 C 327.699219 393.609375 333.101563 393.609375 333.101563 397.207031 \"/>\n",
       "<path style=\"fill:none;stroke-width:0.75;stroke-linecap:round;stroke-linejoin:round;stroke:rgb(100%,0%,0%);stroke-opacity:1;stroke-miterlimit:10;\" d=\"M 375.765625 403.261719 C 375.765625 406.863281 370.367188 406.863281 370.367188 403.261719 C 370.367188 399.664063 375.765625 399.664063 375.765625 403.261719 \"/>\n",
       "<path style=\"fill:none;stroke-width:0.75;stroke-linecap:round;stroke-linejoin:round;stroke:rgb(100%,0%,0%);stroke-opacity:1;stroke-miterlimit:10;\" d=\"M 418.433594 416.578125 C 418.433594 420.179688 413.035156 420.179688 413.035156 416.578125 C 413.035156 412.980469 418.433594 412.980469 418.433594 416.578125 \"/>\n",
       "<path style=\"fill:none;stroke-width:0.75;stroke-linecap:round;stroke-linejoin:round;stroke:rgb(100%,0%,0%);stroke-opacity:1;stroke-miterlimit:10;\" d=\"M 461.101563 415.371094 C 461.101563 418.96875 455.699219 418.96875 455.699219 415.371094 C 455.699219 411.769531 461.101563 411.769531 461.101563 415.371094 \"/>\n",
       "</g>\n",
       "</g>\n",
       "</svg>\n"
      ],
      "text/plain": [
       "plot without title"
      ]
     },
     "metadata": {
      "image/svg+xml": {
       "isolated": true
      }
     },
     "output_type": "display_data"
    }
   ],
   "source": [
    "plot(0:9, meanPred, type=\"b\", xlab=\"count\", \n",
    "     ylab=\"predicted and observed prob\")\n",
    "lines(0:9, obsPred[1:10], col=\"red\", type=\"b\")"
   ]
  },
  {
   "cell_type": "markdown",
   "metadata": {},
   "source": [
    "### 负二项回归"
   ]
  },
  {
   "cell_type": "code",
   "execution_count": 17,
   "metadata": {},
   "outputs": [
    {
     "data": {
      "text/plain": [
       "\n",
       "Call:\n",
       "glm.nb(formula = art ~ fem + mar + kid5 + phd + ment, data = couart, \n",
       "    init.theta = 2.264387695, link = log)\n",
       "\n",
       "Deviance Residuals: \n",
       "    Min       1Q   Median       3Q      Max  \n",
       "-2.1678  -1.3617  -0.2806   0.4476   3.4524  \n",
       "\n",
       "Coefficients:\n",
       "             Estimate Std. Error z value Pr(>|z|)    \n",
       "(Intercept)  0.256144   0.137348   1.865 0.062191 .  \n",
       "femWomen    -0.216418   0.072636  -2.979 0.002887 ** \n",
       "marMarried   0.150489   0.082097   1.833 0.066791 .  \n",
       "kid5        -0.176415   0.052813  -3.340 0.000837 ***\n",
       "phd          0.015271   0.035873   0.426 0.670326    \n",
       "ment         0.029082   0.003214   9.048  < 2e-16 ***\n",
       "---\n",
       "Signif. codes:  0 '***' 0.001 '**' 0.01 '*' 0.05 '.' 0.1 ' ' 1\n",
       "\n",
       "(Dispersion parameter for Negative Binomial(2.2644) family taken to be 1)\n",
       "\n",
       "    Null deviance: 1109.0  on 914  degrees of freedom\n",
       "Residual deviance: 1004.3  on 909  degrees of freedom\n",
       "AIC: 3135.9\n",
       "\n",
       "Number of Fisher Scoring iterations: 1\n",
       "\n",
       "\n",
       "              Theta:  2.264 \n",
       "          Std. Err.:  0.271 \n",
       "\n",
       " 2 x log-likelihood:  -3121.917 "
      ]
     },
     "execution_count": 17,
     "metadata": {},
     "output_type": "execute_result"
    }
   ],
   "source": [
    "library(MASS)\n",
    "mod_nb <- glm.nb(art ~  fem + mar + kid5 + phd + ment, data=couart)\n",
    "summary(mod_nb)"
   ]
  },
  {
   "cell_type": "markdown",
   "metadata": {},
   "source": [
    "### 零膨胀回归\n",
    "\n",
    "默认情况下是零膨胀泊松回归。具体而言，零膨胀部分使用logit回归，而计数部分使用泊松回归。"
   ]
  },
  {
   "cell_type": "code",
   "execution_count": 9,
   "metadata": {
    "scrolled": true
   },
   "outputs": [
    {
     "name": "stderr",
     "output_type": "stream",
     "text": [
      "Loading required package: lattice\n",
      "Classes and Methods for R developed in the\n",
      "\n",
      "Political Science Computational Laboratory\n",
      "\n",
      "Department of Political Science\n",
      "\n",
      "Stanford University\n",
      "\n",
      "Simon Jackman\n",
      "\n",
      "hurdle and zeroinfl functions by Achim Zeileis\n",
      "\n"
     ]
    }
   ],
   "source": [
    "library(pscl)\n",
    "#vignette(\"countreg\", package=\"pscl\")"
   ]
  },
  {
   "cell_type": "code",
   "execution_count": 10,
   "metadata": {},
   "outputs": [
    {
     "data": {
      "text/plain": [
       "\n",
       "Call:\n",
       "zeroinfl(formula = art ~ . | ., data = couart)\n",
       "\n",
       "Pearson residuals:\n",
       "    Min      1Q  Median      3Q     Max \n",
       "-1.8173 -0.8819 -0.2591  0.5284  6.9125 \n",
       "\n",
       "Count model coefficients (poisson with log link):\n",
       "             Estimate Std. Error z value Pr(>|z|)    \n",
       "(Intercept)  1.203359   0.208196   5.780 7.47e-09 ***\n",
       "femWomen    -0.363094   0.078583  -4.621 3.83e-06 ***\n",
       "marMarried   0.104411   0.071829   1.454  0.14606    \n",
       "kid5        -0.134737   0.047646  -2.828  0.00469 ** \n",
       "phd         -0.035897   0.032710  -1.097  0.27246    \n",
       "ment         0.046883   0.008761   5.351 8.72e-08 ***\n",
       "predArt     -0.397228   0.121841  -3.260  0.00111 ** \n",
       "\n",
       "Zero-inflation model coefficients (binomial with logit link):\n",
       "            Estimate Std. Error z value Pr(>|z|)  \n",
       "(Intercept) -1.96169    1.23583  -1.587   0.1124  \n",
       "femWomen     0.26712    0.37290   0.716   0.4738  \n",
       "marMarried  -0.35573    0.32878  -1.082   0.2793  \n",
       "kid5         0.22545    0.19718   1.143   0.2529  \n",
       "phd         -0.07593    0.14889  -0.510   0.6101  \n",
       "ment        -0.13106    0.05670  -2.311   0.0208 *\n",
       "predArt      0.99879    0.79151   1.262   0.2070  \n",
       "---\n",
       "Signif. codes:  0 '***' 0.001 '**' 0.01 '*' 0.05 '.' 0.1 ' ' 1 \n",
       "\n",
       "Number of iterations in BFGS optimization: 22 \n",
       "Log-likelihood: -1598 on 14 Df"
      ]
     },
     "execution_count": 10,
     "metadata": {},
     "output_type": "execute_result"
    }
   ],
   "source": [
    "zip = zeroinfl(art ~ fem + mar + kid5 + phd + ment | fem + mar + kid5 + phd + ment, data = couart)\n",
    "summary(zip)"
   ]
  },
  {
   "cell_type": "markdown",
   "metadata": {},
   "source": [
    "模型预测值："
   ]
  },
  {
   "cell_type": "code",
   "execution_count": 11,
   "metadata": {
    "collapsed": true,
    "scrolled": true
   },
   "outputs": [],
   "source": [
    "couart$predY = predict(zip)"
   ]
  },
  {
   "cell_type": "markdown",
   "metadata": {},
   "source": [
    "预测计数成分的均值（已剔除0成分）"
   ]
  },
  {
   "cell_type": "code",
   "execution_count": 12,
   "metadata": {
    "collapsed": true
   },
   "outputs": [],
   "source": [
    "couart$predCount = predict(zip, type=\"count\")"
   ]
  },
  {
   "cell_type": "markdown",
   "metadata": {},
   "source": [
    "预测观察到零成分的概率。"
   ]
  },
  {
   "cell_type": "code",
   "execution_count": 13,
   "metadata": {
    "collapsed": true
   },
   "outputs": [],
   "source": [
    "couart$predZ = predict(zip, type=\"zero\")"
   ]
  },
  {
   "cell_type": "code",
   "execution_count": 14,
   "metadata": {
    "scrolled": true
   },
   "outputs": [
    {
     "data": {
      "text/html": [
       "<table>\n",
       "<thead><tr><th></th><th scope=col>art</th><th scope=col>fem</th><th scope=col>mar</th><th scope=col>kid5</th><th scope=col>phd</th><th scope=col>ment</th><th scope=col>predArt</th><th scope=col>predY</th><th scope=col>predCount</th><th scope=col>predZ</th></tr></thead>\n",
       "<tbody>\n",
       "\t<tr><th scope=row>1</th><td>0</td><td>Men</td><td>Married</td><td>0</td><td>2.52</td><td>7</td><td>1.690137</td><td>2.038315</td><td>2.396763</td><td>0.1495548</td></tr>\n",
       "\t<tr><th scope=row>2</th><td>0</td><td>Women</td><td>Single</td><td>0</td><td>2.05</td><td>6</td><td>1.37061</td><td>1.291108</td><td>1.654548</td><td>0.2196614</td></tr>\n",
       "\t<tr><th scope=row>3</th><td>0</td><td>Women</td><td>Single</td><td>0</td><td>3.75</td><td>6</td><td>1.37061</td><td>1.247867</td><td>1.5566</td><td>0.1983379</td></tr>\n",
       "\t<tr><th scope=row>4</th><td>0</td><td>Men</td><td>Married</td><td>1</td><td>1.18</td><td>3</td><td>1.528674</td><td>1.438347</td><td>1.942724</td><td>0.2596237</td></tr>\n",
       "\t<tr><th scope=row>5</th><td>0</td><td>Women</td><td>Single</td><td>0</td><td>3.75</td><td>26</td><td>2.264385</td><td>2.670146</td><td>2.787435</td><td>0.04207769</td></tr>\n",
       "\t<tr><th scope=row>6</th><td>0</td><td>Women</td><td>Married</td><td>2</td><td>3.59</td><td>2</td><td>1.239672</td><td>0.8231087</td><td>1.159126</td><td>0.2898886</td></tr>\n",
       "</tbody>\n",
       "</table>\n"
      ],
      "text/latex": [
       "\\begin{tabular}{r|llllllllll}\n",
       "  & art & fem & mar & kid5 & phd & ment & predArt & predY & predCount & predZ\\\\\n",
       "\\hline\n",
       "\t1 & 0 & Men & Married & 0 & 2.52 & 7 & 1.690137 & 2.038315 & 2.396763 & 0.1495548\\\\\n",
       "\t2 & 0 & Women & Single & 0 & 2.05 & 6 & 1.37061 & 1.291108 & 1.654548 & 0.2196614\\\\\n",
       "\t3 & 0 & Women & Single & 0 & 3.75 & 6 & 1.37061 & 1.247867 & 1.5566 & 0.1983379\\\\\n",
       "\t4 & 0 & Men & Married & 1 & 1.18 & 3 & 1.528674 & 1.438347 & 1.942724 & 0.2596237\\\\\n",
       "\t5 & 0 & Women & Single & 0 & 3.75 & 26 & 2.264385 & 2.670146 & 2.787435 & 0.04207769\\\\\n",
       "\t6 & 0 & Women & Married & 2 & 3.59 & 2 & 1.239672 & 0.8231087 & 1.159126 & 0.2898886\\\\\n",
       "\\end{tabular}\n"
      ],
      "text/plain": [
       "  art   fem     mar kid5  phd ment  predArt     predY predCount      predZ\n",
       "1   0   Men Married    0 2.52    7 1.690137 2.0383154  2.396763 0.14955476\n",
       "2   0 Women  Single    0 2.05    6 1.370610 1.2911076  1.654548 0.21966140\n",
       "3   0 Women  Single    0 3.75    6 1.370610 1.2478669  1.556600 0.19833787\n",
       "4   0   Men Married    1 1.18    3 1.528674 1.4383470  1.942724 0.25962372\n",
       "5   0 Women  Single    0 3.75   26 2.264385 2.6701459  2.787435 0.04207769\n",
       "6   0 Women Married    2 3.59    2 1.239672 0.8231087  1.159126 0.28988862"
      ]
     },
     "execution_count": 14,
     "metadata": {},
     "output_type": "execute_result"
    }
   ],
   "source": [
    "head(couart)"
   ]
  },
  {
   "cell_type": "markdown",
   "metadata": {},
   "source": [
    "观察到该取值的概率"
   ]
  },
  {
   "cell_type": "code",
   "execution_count": 15,
   "metadata": {},
   "outputs": [
    {
     "data": {
      "text/html": [
       "<table>\n",
       "<thead><tr><th></th><th scope=col>0</th><th scope=col>1</th><th scope=col>2</th><th scope=col>3</th><th scope=col>4</th><th scope=col>5</th><th scope=col>6</th><th scope=col>7</th><th scope=col>8</th><th scope=col>9</th><th scope=col>10</th><th scope=col>11</th><th scope=col>12</th><th scope=col>13</th><th scope=col>14</th><th scope=col>15</th><th scope=col>16</th><th scope=col>17</th><th scope=col>18</th><th scope=col>19</th></tr></thead>\n",
       "<tbody>\n",
       "\t<tr><th scope=row>1</th><td>2.269556e-01</td><td>1.855114e-01</td><td>2.223134e-01</td><td>1.776108e-01</td><td>1.064227e-01</td><td>5.101401e-02</td><td>2.037808e-02</td><td>6.977346e-03</td><td>2.090380e-03</td><td>5.566828e-04</td><td>1.334237e-04</td><td>2.907135e-05</td><td>5.806427e-06</td><td>1.070510e-06</td><td>1.832684e-07</td><td>2.928340e-08</td><td>4.386584e-09</td><td>6.184472e-10</td><td>8.234840e-11</td><td>1.038787e-11</td></tr>\n",
       "\t<tr><th scope=row>2</th><td>3.688453e-01</td><td>2.468320e-01</td><td>2.041977e-01</td><td>1.126183e-01</td><td>4.658308e-02</td><td>1.541479e-02</td><td>4.250750e-03</td><td>1.004724e-03</td><td>2.077955e-04</td><td>3.820085e-05</td><td>6.320514e-06</td><td>9.506903e-07</td><td>1.310802e-07</td><td>1.668296e-08</td><td>1.971625e-09</td><td>2.174766e-10</td><td>2.248909e-11</td><td>2.188781e-12</td><td>2.011912e-13</td><td>1.752003e-14</td></tr>\n",
       "\t<tr><th scope=row>3</th><td>3.673698e-01</td><td>2.631150e-01</td><td>2.047824e-01</td><td>1.062547e-01</td><td>4.134901e-02</td><td>1.287277e-02</td><td>3.339625e-03</td><td>7.426370e-04</td><td>1.444986e-04</td><td>2.499182e-05</td><td>3.890226e-06</td><td>5.505022e-07</td><td>7.140929e-08</td><td>8.550436e-09</td><td>9.506861e-10</td><td>9.865584e-11</td><td>9.597977e-12</td><td>8.788357e-13</td><td>7.599974e-14</td><td>6.226377e-15</td></tr>\n",
       "\t<tr><th scope=row>4</th><td>3.657293e-01</td><td>2.061338e-01</td><td>2.002306e-01</td><td>1.296643e-01</td><td>6.297548e-02</td><td>2.446880e-02</td><td>7.922688e-03</td><td>2.198800e-03</td><td>5.339577e-04</td><td>1.152592e-04</td><td>2.239168e-05</td><td>3.954624e-06</td><td>6.402287e-07</td><td>9.567598e-08</td><td>1.327657e-08</td><td>1.719515e-09</td><td>2.087840e-10</td><td>2.385939e-11</td><td>2.575123e-12</td><td>2.633029e-13</td></tr>\n",
       "\t<tr><th scope=row>5</th><td>1.010656e-01</td><td>1.644249e-01</td><td>2.291618e-01</td><td>2.129245e-01</td><td>1.483783e-01</td><td>8.271896e-02</td><td>3.842895e-02</td><td>1.530260e-02</td><td>5.331874e-03</td><td>1.651361e-03</td><td>4.603062e-04</td><td>1.166430e-04</td><td>2.709457e-05</td><td>5.809565e-06</td><td>1.156699e-06</td><td>2.149482e-07</td><td>3.744713e-08</td><td>6.140083e-09</td><td>9.508379e-10</td><td>1.394947e-10</td></tr>\n",
       "\t<tr><th scope=row>6</th><td>5.126933e-01</td><td>2.582588e-01</td><td>1.496773e-01</td><td>5.783161e-02</td><td>1.675854e-02</td><td>3.885052e-03</td><td>7.505442e-04</td><td>1.242822e-04</td><td>1.800735e-05</td><td>2.319199e-06</td><td>2.688244e-07</td><td>2.832740e-08</td><td>2.736253e-09</td><td>2.439741e-10</td><td>2.019977e-11</td><td>1.560939e-12</td><td>1.130828e-13</td><td>7.710427e-15</td><td>4.965199e-16</td><td>3.029101e-17</td></tr>\n",
       "</tbody>\n",
       "</table>\n"
      ],
      "text/latex": [
       "\\begin{tabular}{r|llllllllllllllllllll}\n",
       "  & 0 & 1 & 2 & 3 & 4 & 5 & 6 & 7 & 8 & 9 & 10 & 11 & 12 & 13 & 14 & 15 & 16 & 17 & 18 & 19\\\\\n",
       "\\hline\n",
       "\t1 & 2.269556e-01 & 1.855114e-01 & 2.223134e-01 & 1.776108e-01 & 1.064227e-01 & 5.101401e-02 & 2.037808e-02 & 6.977346e-03 & 2.090380e-03 & 5.566828e-04 & 1.334237e-04 & 2.907135e-05 & 5.806427e-06 & 1.070510e-06 & 1.832684e-07 & 2.928340e-08 & 4.386584e-09 & 6.184472e-10 & 8.234840e-11 & 1.038787e-11\\\\\n",
       "\t2 & 3.688453e-01 & 2.468320e-01 & 2.041977e-01 & 1.126183e-01 & 4.658308e-02 & 1.541479e-02 & 4.250750e-03 & 1.004724e-03 & 2.077955e-04 & 3.820085e-05 & 6.320514e-06 & 9.506903e-07 & 1.310802e-07 & 1.668296e-08 & 1.971625e-09 & 2.174766e-10 & 2.248909e-11 & 2.188781e-12 & 2.011912e-13 & 1.752003e-14\\\\\n",
       "\t3 & 3.673698e-01 & 2.631150e-01 & 2.047824e-01 & 1.062547e-01 & 4.134901e-02 & 1.287277e-02 & 3.339625e-03 & 7.426370e-04 & 1.444986e-04 & 2.499182e-05 & 3.890226e-06 & 5.505022e-07 & 7.140929e-08 & 8.550436e-09 & 9.506861e-10 & 9.865584e-11 & 9.597977e-12 & 8.788357e-13 & 7.599974e-14 & 6.226377e-15\\\\\n",
       "\t4 & 3.657293e-01 & 2.061338e-01 & 2.002306e-01 & 1.296643e-01 & 6.297548e-02 & 2.446880e-02 & 7.922688e-03 & 2.198800e-03 & 5.339577e-04 & 1.152592e-04 & 2.239168e-05 & 3.954624e-06 & 6.402287e-07 & 9.567598e-08 & 1.327657e-08 & 1.719515e-09 & 2.087840e-10 & 2.385939e-11 & 2.575123e-12 & 2.633029e-13\\\\\n",
       "\t5 & 1.010656e-01 & 1.644249e-01 & 2.291618e-01 & 2.129245e-01 & 1.483783e-01 & 8.271896e-02 & 3.842895e-02 & 1.530260e-02 & 5.331874e-03 & 1.651361e-03 & 4.603062e-04 & 1.166430e-04 & 2.709457e-05 & 5.809565e-06 & 1.156699e-06 & 2.149482e-07 & 3.744713e-08 & 6.140083e-09 & 9.508379e-10 & 1.394947e-10\\\\\n",
       "\t6 & 5.126933e-01 & 2.582588e-01 & 1.496773e-01 & 5.783161e-02 & 1.675854e-02 & 3.885052e-03 & 7.505442e-04 & 1.242822e-04 & 1.800735e-05 & 2.319199e-06 & 2.688244e-07 & 2.832740e-08 & 2.736253e-09 & 2.439741e-10 & 2.019977e-11 & 1.560939e-12 & 1.130828e-13 & 7.710427e-15 & 4.965199e-16 & 3.029101e-17\\\\\n",
       "\\end{tabular}\n"
      ],
      "text/markdown": [
       "1. 0.226955575282018\n",
       "2. 0.368845341233879\n",
       "3. 0.367369805108207\n",
       "4. 0.365729258680056\n",
       "5. 0.10106556360173\n",
       "6. 0.512693312580248\n",
       "7. 0.185511391401596\n",
       "8. 0.246831976452525\n",
       "9. 0.263115036361127\n",
       "10. 0.206133810877493\n",
       "11. 0.164424857421226\n",
       "12. 0.258258771456491\n",
       "13. 0.222313389983655\n",
       "14. 0.204197659150428\n",
       "15. 0.204782377840803\n",
       "16. 0.200230579190505\n",
       "17. 0.229161779220044\n",
       "18. 0.149677261136217\n",
       "19. 0.177610812261957\n",
       "20. 0.112618266622178\n",
       "21. 0.106254721265914\n",
       "22. 0.129664268959714\n",
       "23. 0.212924500909503\n",
       "24. 0.0578316143272176\n",
       "25. 0.106422741680128\n",
       "26. 0.0465830779956715\n",
       "27. 0.0413490136834695\n",
       "28. 0.0629754807413591\n",
       "29. 0.148378287301657\n",
       "30. 0.016758535616751\n",
       "31. 0.0510140111515771\n",
       "32. 0.0154147863975273\n",
       "33. 0.0128727714851705\n",
       "34. 0.0244687990387697\n",
       "35. 0.0827189583106942\n",
       "36. 0.00388505172176367\n",
       "37. 0.0203780796965003\n",
       "38. 0.00425075030650031\n",
       "39. 0.00333962511935453\n",
       "40. 0.00792268831392032\n",
       "41. 0.0384289495700468\n",
       "42. 0.000750544241352251\n",
       "43. 0.00697734584915799\n",
       "44. 0.00100472426013974\n",
       "45. 0.000742637009376544\n",
       "46. 0.00219879984488731\n",
       "47. 0.0153025983942645\n",
       "48. 0.000124282219256964\n",
       "49. 0.00209038026869297\n",
       "50. 0.000207795546752875\n",
       "51. 0.000144498557319224\n",
       "52. 0.000533957729437497\n",
       "53. 0.00533187428245068\n",
       "54. 1.80073479028447e-05\n",
       "55. 0.000556682824317243\n",
       "56. 3.82008530108844e-05\n",
       "57. 2.49918215508703e-05\n",
       "58. 0.000115259182559772\n",
       "59. 0.00165136128483408\n",
       "60. 2.31919885730139e-06\n",
       "61. 0.000133423661894412\n",
       "62. 6.32051395810339e-06\n",
       "63. 3.89022589855787e-06\n",
       "64. 2.23916811926434e-05\n",
       "65. 0.000460306180102939\n",
       "66. 2.68824428330866e-07\n",
       "67. 2.90713503366168e-05\n",
       "68. 9.50690258222942e-07\n",
       "69. 5.50502182593313e-07\n",
       "70. 3.9546238746272e-06\n",
       "71. 0.000116643039449199\n",
       "72. 2.83274047767535e-08\n",
       "73. 5.80642729978842e-06\n",
       "74. 1.31080210984184e-07\n",
       "75. 7.1409288954055e-08\n",
       "76. 6.40228650123291e-07\n",
       "77. 2.70945716207764e-05\n",
       "78. 2.73625321492438e-09\n",
       "79. 1.07050986668786e-06\n",
       "80. 1.66829601930338e-08\n",
       "81. 8.55043610416602e-09\n",
       "82. 9.56759800329059e-08\n",
       "83. 5.80956538417715e-06\n",
       "84. 2.4397407219201e-10\n",
       "85. 1.8326843564411e-07\n",
       "86. 1.97162543413269e-09\n",
       "87. 9.5068609055294e-10\n",
       "88. 1.32765749276143e-08\n",
       "89. 1.15669888084291e-06\n",
       "90. 2.01997680233691e-11\n",
       "91. 2.92833964873836e-08\n",
       "92. 2.17476576121422e-10\n",
       "93. 9.86558380932681e-11\n",
       "94. 1.71951496043978e-09\n",
       "95. 2.1494817568995e-07\n",
       "96. 1.56093876245318e-12\n",
       "97. 4.38658449365289e-09\n",
       "98. 2.24890877198531e-11\n",
       "99. 9.59797727261395e-12\n",
       "100. 2.08783965976969e-10\n",
       "101. 3.74471256610412e-08\n",
       "102. 1.13082818759511e-13\n",
       "103. 6.18447177359963e-10\n",
       "104. 2.18878070290954e-12\n",
       "105. 8.78835730172326e-13\n",
       "106. 2.38593928839086e-11\n",
       "107. 6.14008345263662e-09\n",
       "108. 7.71042729877678e-15\n",
       "109. 8.23483952991565e-11\n",
       "110. 2.01191245942211e-13\n",
       "111. 7.59997405803639e-14\n",
       "112. 2.575123430715e-12\n",
       "113. 9.50837881972162e-10\n",
       "114. 4.96519928340021e-16\n",
       "115. 1.03878716190693e-11\n",
       "116. 1.7520028701476e-14\n",
       "117. 6.22637707568308e-15\n",
       "118. 2.63302884268879e-13\n",
       "119. 1.39494659845135e-10\n",
       "120. 3.02910149726177e-17\n",
       "\n",
       "\n"
      ],
      "text/plain": [
       "          0         1         2          3          4           5            6\n",
       "1 0.2269556 0.1855114 0.2223134 0.17761081 0.10642274 0.051014011 0.0203780797\n",
       "2 0.3688453 0.2468320 0.2041977 0.11261827 0.04658308 0.015414786 0.0042507503\n",
       "3 0.3673698 0.2631150 0.2047824 0.10625472 0.04134901 0.012872771 0.0033396251\n",
       "4 0.3657293 0.2061338 0.2002306 0.12966427 0.06297548 0.024468799 0.0079226883\n",
       "5 0.1010656 0.1644249 0.2291618 0.21292450 0.14837829 0.082718958 0.0384289496\n",
       "6 0.5126933 0.2582588 0.1496773 0.05783161 0.01675854 0.003885052 0.0007505442\n",
       "             7            8            9           10           11           12\n",
       "1 0.0069773458 2.090380e-03 5.566828e-04 1.334237e-04 2.907135e-05 5.806427e-06\n",
       "2 0.0010047243 2.077955e-04 3.820085e-05 6.320514e-06 9.506903e-07 1.310802e-07\n",
       "3 0.0007426370 1.444986e-04 2.499182e-05 3.890226e-06 5.505022e-07 7.140929e-08\n",
       "4 0.0021987998 5.339577e-04 1.152592e-04 2.239168e-05 3.954624e-06 6.402287e-07\n",
       "5 0.0153025984 5.331874e-03 1.651361e-03 4.603062e-04 1.166430e-04 2.709457e-05\n",
       "6 0.0001242822 1.800735e-05 2.319199e-06 2.688244e-07 2.832740e-08 2.736253e-09\n",
       "            13           14           15           16           17           18\n",
       "1 1.070510e-06 1.832684e-07 2.928340e-08 4.386584e-09 6.184472e-10 8.234840e-11\n",
       "2 1.668296e-08 1.971625e-09 2.174766e-10 2.248909e-11 2.188781e-12 2.011912e-13\n",
       "3 8.550436e-09 9.506861e-10 9.865584e-11 9.597977e-12 8.788357e-13 7.599974e-14\n",
       "4 9.567598e-08 1.327657e-08 1.719515e-09 2.087840e-10 2.385939e-11 2.575123e-12\n",
       "5 5.809565e-06 1.156699e-06 2.149482e-07 3.744713e-08 6.140083e-09 9.508379e-10\n",
       "6 2.439741e-10 2.019977e-11 1.560939e-12 1.130828e-13 7.710427e-15 4.965199e-16\n",
       "            19\n",
       "1 1.038787e-11\n",
       "2 1.752003e-14\n",
       "3 6.226377e-15\n",
       "4 2.633029e-13\n",
       "5 1.394947e-10\n",
       "6 3.029101e-17"
      ]
     },
     "execution_count": 15,
     "metadata": {},
     "output_type": "execute_result"
    }
   ],
   "source": [
    "predP = predict(zip, type=\"prob\")\n",
    "head(predP)"
   ]
  },
  {
   "cell_type": "markdown",
   "metadata": {},
   "source": [
    "#### 将dist参数设置为\"negbin\"则可以得到零膨胀负二项回归。"
   ]
  },
  {
   "cell_type": "code",
   "execution_count": 16,
   "metadata": {},
   "outputs": [
    {
     "data": {
      "text/plain": [
       "\n",
       "Call:\n",
       "zeroinfl(formula = art ~ fem + mar + kid5 + phd + ment | fem + mar + \n",
       "    kid5 + phd + ment, data = couart, dist = \"negbin\")\n",
       "\n",
       "Pearson residuals:\n",
       "    Min      1Q  Median      3Q     Max \n",
       "-1.2942 -0.7601 -0.2909  0.4448  6.4155 \n",
       "\n",
       "Count model coefficients (negbin with log link):\n",
       "              Estimate Std. Error z value Pr(>|z|)    \n",
       "(Intercept)  0.4167465  0.1435966   2.902  0.00371 ** \n",
       "femWomen    -0.1955068  0.0755926  -2.586  0.00970 ** \n",
       "marMarried   0.0975826  0.0844520   1.155  0.24789    \n",
       "kid5        -0.1517325  0.0542061  -2.799  0.00512 ** \n",
       "phd         -0.0007001  0.0362697  -0.019  0.98460    \n",
       "ment         0.0247862  0.0034927   7.097 1.28e-12 ***\n",
       "Log(theta)   0.9763565  0.1354695   7.207 5.71e-13 ***\n",
       "\n",
       "Zero-inflation model coefficients (binomial with logit link):\n",
       "            Estimate Std. Error z value Pr(>|z|)   \n",
       "(Intercept) -0.19169    1.32282  -0.145  0.88478   \n",
       "femWomen     0.63593    0.84892   0.749  0.45379   \n",
       "marMarried  -1.49947    0.93867  -1.597  0.11017   \n",
       "kid5         0.62843    0.44278   1.419  0.15582   \n",
       "phd         -0.03771    0.30801  -0.122  0.90254   \n",
       "ment        -0.88229    0.31623  -2.790  0.00527 **\n",
       "---\n",
       "Signif. codes:  0 '***' 0.001 '**' 0.01 '*' 0.05 '.' 0.1 ' ' 1 \n",
       "\n",
       "Theta = 2.6548 \n",
       "Number of iterations in BFGS optimization: 43 \n",
       "Log-likelihood: -1550 on 13 Df"
      ]
     },
     "execution_count": 16,
     "metadata": {},
     "output_type": "execute_result"
    }
   ],
   "source": [
    "zinb = zeroinfl(art ~ fem + mar + kid5 + phd + ment | fem + mar + kid5 + phd + ment, data = couart, dist=\"negbin\")\n",
    "summary(zinb)"
   ]
  }
 ],
 "metadata": {
  "kernelspec": {
   "display_name": "R",
   "language": "R",
   "name": "r"
  },
  "language_info": {
   "codemirror_mode": "r",
   "file_extension": ".r",
   "mimetype": "text/x-r-source",
   "name": "R",
   "pygments_lexer": "r",
   "version": "3.4.0"
  }
 },
 "nbformat": 4,
 "nbformat_minor": 1
}
