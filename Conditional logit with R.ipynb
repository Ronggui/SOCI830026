{
 "cells": [
  {
   "cell_type": "markdown",
   "metadata": {},
   "source": [
    "## 条件逻辑斯蒂回归\n",
    "\n",
    "#### 黄荣贵（复旦大学）"
   ]
  },
  {
   "cell_type": "code",
   "execution_count": 1,
   "metadata": {},
   "outputs": [
    {
     "data": {
      "text/html": [
       "<table>\n",
       "<thead><tr><th></th><th scope=col>pairid</th><th scope=col>low</th><th scope=col>age</th><th scope=col>lwt</th><th scope=col>smoke</th><th scope=col>ptd</th><th scope=col>ht</th><th scope=col>ui</th><th scope=col>race</th></tr></thead>\n",
       "<tbody>\n",
       "\t<tr><th scope=row>1</th><td>1</td><td>0</td><td>14</td><td>135</td><td>0</td><td>0</td><td>0</td><td>0</td><td>1</td></tr>\n",
       "\t<tr><th scope=row>2</th><td>1</td><td>1</td><td>14</td><td>101</td><td>1</td><td>1</td><td>0</td><td>0</td><td>3</td></tr>\n",
       "\t<tr><th scope=row>3</th><td>2</td><td>0</td><td>15</td><td>98</td><td>0</td><td>0</td><td>0</td><td>0</td><td>2</td></tr>\n",
       "\t<tr><th scope=row>4</th><td>2</td><td>1</td><td>15</td><td>115</td><td>0</td><td>0</td><td>0</td><td>1</td><td>3</td></tr>\n",
       "\t<tr><th scope=row>5</th><td>3</td><td>0</td><td>16</td><td>95</td><td>0</td><td>0</td><td>0</td><td>0</td><td>3</td></tr>\n",
       "\t<tr><th scope=row>6</th><td>3</td><td>1</td><td>16</td><td>130</td><td>0</td><td>0</td><td>0</td><td>0</td><td>3</td></tr>\n",
       "</tbody>\n",
       "</table>\n"
      ],
      "text/latex": [
       "\\begin{tabular}{r|lllllllll}\n",
       "  & pairid & low & age & lwt & smoke & ptd & ht & ui & race\\\\\n",
       "\\hline\n",
       "\t1 & 1 & 0 & 14 & 135 & 0 & 0 & 0 & 0 & 1\\\\\n",
       "\t2 & 1 & 1 & 14 & 101 & 1 & 1 & 0 & 0 & 3\\\\\n",
       "\t3 & 2 & 0 & 15 & 98 & 0 & 0 & 0 & 0 & 2\\\\\n",
       "\t4 & 2 & 1 & 15 & 115 & 0 & 0 & 0 & 1 & 3\\\\\n",
       "\t5 & 3 & 0 & 16 & 95 & 0 & 0 & 0 & 0 & 3\\\\\n",
       "\t6 & 3 & 1 & 16 & 130 & 0 & 0 & 0 & 0 & 3\\\\\n",
       "\\end{tabular}\n"
      ],
      "text/plain": [
       "  pairid low age lwt smoke ptd ht ui race\n",
       "1      1   0  14 135     0   0  0  0    1\n",
       "2      1   1  14 101     1   1  0  0    3\n",
       "3      2   0  15  98     0   0  0  0    2\n",
       "4      2   1  15 115     0   0  0  1    3\n",
       "5      3   0  16  95     0   0  0  0    3\n",
       "6      3   1  16 130     0   0  0  0    3"
      ]
     },
     "execution_count": 1,
     "metadata": {},
     "output_type": "execute_result"
    }
   ],
   "source": [
    "library(foreign)\n",
    "\n",
    "lowbirth = read.dta(\"datasets//lowbirth2.dta\")\n",
    "head(lowbirth)"
   ]
  },
  {
   "cell_type": "code",
   "execution_count": 2,
   "metadata": {
    "collapsed": true
   },
   "outputs": [],
   "source": [
    "library(survival)"
   ]
  },
  {
   "cell_type": "code",
   "execution_count": 3,
   "metadata": {},
   "outputs": [
    {
     "data": {
      "text/plain": [
       "Call:\n",
       "coxph(formula = Surv(rep(1, 112L), low) ~ lwt + smoke + ptd + \n",
       "    ht + ui + race + strata(pairid), data = lowbirth, method = \"exact\")\n",
       "\n",
       "  n= 112, number of events= 56 \n",
       "\n",
       "          coef exp(coef) se(coef)      z Pr(>|z|)  \n",
       "lwt   -0.01495   0.98516  0.00903 -1.655   0.0979 .\n",
       "smoke  1.48873   4.43147  0.61964  2.403   0.0163 *\n",
       "ptd    1.67047   5.31466  0.74717  2.236   0.0254 *\n",
       "ht     2.32026  10.17829  1.03506  2.242   0.0250 *\n",
       "ui     1.34321   3.83131  0.69567  1.931   0.0535 .\n",
       "race   0.01201   1.01209  0.34107  0.035   0.9719  \n",
       "---\n",
       "Signif. codes:  0 '***' 0.001 '**' 0.01 '*' 0.05 '.' 0.1 ' ' 1\n",
       "\n",
       "      exp(coef) exp(-coef) lower .95 upper .95\n",
       "lwt      0.9852    1.01506    0.9679     1.003\n",
       "smoke    4.4315    0.22566    1.3156    14.927\n",
       "ptd      5.3147    0.18816    1.2288    22.986\n",
       "ht      10.1783    0.09825    1.3385    77.397\n",
       "ui       3.8313    0.26101    0.9799    14.980\n",
       "race     1.0121    0.98806    0.5187     1.975\n",
       "\n",
       "Rsquare= 0.201   (max possible= 0.5 )\n",
       "Likelihood ratio test= 25.16  on 6 df,   p=0.0003189\n",
       "Wald test            = 12.6  on 6 df,   p=0.04985\n",
       "Score (logrank) test = 19.8  on 6 df,   p=0.003004\n"
      ]
     },
     "execution_count": 3,
     "metadata": {},
     "output_type": "execute_result"
    }
   ],
   "source": [
    "m1 = clogit(low ~ lwt + smoke + ptd + ht + ui + race + strata(pairid), lowbirth)\n",
    "summary(m1)"
   ]
  }
 ],
 "metadata": {
  "kernelspec": {
   "display_name": "R",
   "language": "R",
   "name": "ir"
  },
  "language_info": {
   "codemirror_mode": "r",
   "file_extension": ".r",
   "mimetype": "text/x-r-source",
   "name": "R",
   "pygments_lexer": "r",
   "version": "3.4.3"
  }
 },
 "nbformat": 4,
 "nbformat_minor": 1
}
